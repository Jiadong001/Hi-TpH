{
 "cells": [
  {
   "cell_type": "code",
   "execution_count": 41,
   "metadata": {},
   "outputs": [
    {
     "data": {
      "text/plain": [
       "['Hi-TpH-hla_allele2seq.json',\n",
       " 'Hi-TpH-tcr_gene2seq.json',\n",
       " 'README.md',\n",
       " 'Hi-TpH-level-IIB.csv',\n",
       " 'Hi-TpH-level-IV.csv',\n",
       " 'Hi-TpH-level-I.csv',\n",
       " 'Hi-TpH-level-IIA.csv',\n",
       " 'Hi-TpH-level-III.csv']"
      ]
     },
     "execution_count": 41,
     "metadata": {},
     "output_type": "execute_result"
    }
   ],
   "source": [
    "import pandas as pd\n",
    "import os\n",
    "import numpy as np\n",
    "dataset_dir = \"/home/lujd/Hi-TpH/data\"\n",
    "os.listdir(dataset_dir)"
   ]
  },
  {
   "cell_type": "markdown",
   "metadata": {},
   "source": [
    "---\n",
    "\n",
    "### level-IV"
   ]
  },
  {
   "cell_type": "code",
   "execution_count": 42,
   "metadata": {},
   "outputs": [
    {
     "name": "stdout",
     "output_type": "stream",
     "text": [
      "(26704, 13)\n"
     ]
    },
    {
     "data": {
      "text/html": [
       "<div>\n",
       "<style scoped>\n",
       "    .dataframe tbody tr th:only-of-type {\n",
       "        vertical-align: middle;\n",
       "    }\n",
       "\n",
       "    .dataframe tbody tr th {\n",
       "        vertical-align: top;\n",
       "    }\n",
       "\n",
       "    .dataframe thead th {\n",
       "        text-align: right;\n",
       "    }\n",
       "</style>\n",
       "<table border=\"1\" class=\"dataframe\">\n",
       "  <thead>\n",
       "    <tr style=\"text-align: right;\">\n",
       "      <th></th>\n",
       "      <th>antigen.epitope</th>\n",
       "      <th>hla.allele</th>\n",
       "      <th>alpha.v</th>\n",
       "      <th>alpha.j</th>\n",
       "      <th>alpha.cdr3</th>\n",
       "      <th>beta.v</th>\n",
       "      <th>beta.j</th>\n",
       "      <th>beta.cdr3</th>\n",
       "      <th>alpha.vseq.reconstructed</th>\n",
       "      <th>beta.vseq.reconstructed</th>\n",
       "      <th>hla.full.seq</th>\n",
       "      <th>hla.clip.seq</th>\n",
       "      <th>hla.short.seq</th>\n",
       "    </tr>\n",
       "  </thead>\n",
       "  <tbody>\n",
       "    <tr>\n",
       "      <th>0</th>\n",
       "      <td>VMAPRTLIL</td>\n",
       "      <td>HLA-E*01:01</td>\n",
       "      <td>TRAV26-1*01</td>\n",
       "      <td>TRAJ37*01</td>\n",
       "      <td>IVVRSSNTGKLI</td>\n",
       "      <td>TRBV14*01</td>\n",
       "      <td>TRBJ2-3*01</td>\n",
       "      <td>ASSQDRDTQY</td>\n",
       "      <td>DAKTTQPPSMDCAEGRAANLPCNHSTISGNEYVYWYRQIHSQGPQY...</td>\n",
       "      <td>EAGVTQFPSHSVIEKGQTVTLRCDPISGHDNLYWYRRVMGKEIKFL...</td>\n",
       "      <td>MVDGTLLLLLSEALALTQTWAGSHSLKYFHTSVSRPGRGEPRFISV...</td>\n",
       "      <td>GSHSLKYFHTSVSRPGRGEPRFISVGYVDDTQFVRFDNDAASPRMV...</td>\n",
       "      <td>YHSMYRESADTIFVNTLYLWHEFYSSAEQAYTWY</td>\n",
       "    </tr>\n",
       "    <tr>\n",
       "      <th>1</th>\n",
       "      <td>VMAPRTLIL</td>\n",
       "      <td>HLA-E*01:03</td>\n",
       "      <td>TRAV26-1*01</td>\n",
       "      <td>TRAJ37*01</td>\n",
       "      <td>IVVRSSNTGKLI</td>\n",
       "      <td>TRBV14*01</td>\n",
       "      <td>TRBJ2-3*01</td>\n",
       "      <td>ASSQDRDTQY</td>\n",
       "      <td>DAKTTQPPSMDCAEGRAANLPCNHSTISGNEYVYWYRQIHSQGPQY...</td>\n",
       "      <td>EAGVTQFPSHSVIEKGQTVTLRCDPISGHDNLYWYRRVMGKEIKFL...</td>\n",
       "      <td>MVDGTLLLLLSEALALTQTWAGSHSLKYFHTSVSRPGRGEPRFISV...</td>\n",
       "      <td>GSHSLKYFHTSVSRPGRGEPRFISVGYVDDTQFVRFDNDAASPRMV...</td>\n",
       "      <td>YHSMYRESADTIFVNTLYLWHEFYSSAEQAYTWY</td>\n",
       "    </tr>\n",
       "    <tr>\n",
       "      <th>2</th>\n",
       "      <td>SLLMWITQC</td>\n",
       "      <td>HLA-A*02:01</td>\n",
       "      <td>TRAV21*01</td>\n",
       "      <td>TRAJ6*01</td>\n",
       "      <td>AVRPLLDGTYIPT</td>\n",
       "      <td>TRBV6-5*01</td>\n",
       "      <td>TRBJ2-2*01</td>\n",
       "      <td>ASSYLGNTGELF</td>\n",
       "      <td>KQEVTQIPAALSVPEGENLVLNCSFTDSAIYNLQWFRQDPGKGLTS...</td>\n",
       "      <td>NAGVTQTPKFQVLKTGQSMTLQCAQDMNHEYMSWYRQDPGMGLRLI...</td>\n",
       "      <td>MAVMAPRTLVLLLSGALALTQTWAGSHSMRYFFTSVSRPGRGEPRF...</td>\n",
       "      <td>GSHSMRYFFTSVSRPGRGEPRFIAVGYVDDTQFVRFDSDAASQRME...</td>\n",
       "      <td>YFAMYGEKVAHTHVDTLYVRYHYYTWAVLAYTWY</td>\n",
       "    </tr>\n",
       "    <tr>\n",
       "      <th>3</th>\n",
       "      <td>EENLLDFVRF</td>\n",
       "      <td>HLA-B*44:02</td>\n",
       "      <td>TRAV26-1*01</td>\n",
       "      <td>TRAJ13*01</td>\n",
       "      <td>IVWGGYQKVT</td>\n",
       "      <td>TRBV7-9*01</td>\n",
       "      <td>TRBJ2-1*01</td>\n",
       "      <td>ASRYRDDSYNEQF</td>\n",
       "      <td>DAKTTQPPSMDCAEGRAANLPCNHSTISGNEYVYWYRQIHSQGPQY...</td>\n",
       "      <td>DTGVSQNPRHKITKRGQNVTFRCDPISEHNRLYWYRQTLGQGPEFL...</td>\n",
       "      <td>MRVTAPRTLLLLLWGAVALTETWAGSHSMRYFYTAMSRPGRGEPRF...</td>\n",
       "      <td>GSHSMRYFYTAMSRPGRGEPRFITVGYVDDTLFVRFDSDATSPRKE...</td>\n",
       "      <td>YYTKYREISTNTYENTAYIRYDDYTWAVDAYLSY</td>\n",
       "    </tr>\n",
       "    <tr>\n",
       "      <th>4</th>\n",
       "      <td>EENLLDFVRF</td>\n",
       "      <td>HLA-B*44:03</td>\n",
       "      <td>TRAV26-1*01</td>\n",
       "      <td>TRAJ13*01</td>\n",
       "      <td>IVWGGYQKVT</td>\n",
       "      <td>TRBV7-9*01</td>\n",
       "      <td>TRBJ2-1*01</td>\n",
       "      <td>ASRYRDDSYNEQF</td>\n",
       "      <td>DAKTTQPPSMDCAEGRAANLPCNHSTISGNEYVYWYRQIHSQGPQY...</td>\n",
       "      <td>DTGVSQNPRHKITKRGQNVTFRCDPISEHNRLYWYRQTLGQGPEFL...</td>\n",
       "      <td>MRVTAPRTLLLLLWGAVALTETWAGSHSMRYFYTAMSRPGRGEPRF...</td>\n",
       "      <td>GSHSMRYFYTAMSRPGRGEPRFITVGYVDDTLFVRFDSDATSPRKE...</td>\n",
       "      <td>YYTKYREISTNTYENTAYIRYDDYTWAVLAYLSY</td>\n",
       "    </tr>\n",
       "  </tbody>\n",
       "</table>\n",
       "</div>"
      ],
      "text/plain": [
       "  antigen.epitope   hla.allele      alpha.v    alpha.j     alpha.cdr3  \\\n",
       "0       VMAPRTLIL  HLA-E*01:01  TRAV26-1*01  TRAJ37*01   IVVRSSNTGKLI   \n",
       "1       VMAPRTLIL  HLA-E*01:03  TRAV26-1*01  TRAJ37*01   IVVRSSNTGKLI   \n",
       "2       SLLMWITQC  HLA-A*02:01    TRAV21*01   TRAJ6*01  AVRPLLDGTYIPT   \n",
       "3      EENLLDFVRF  HLA-B*44:02  TRAV26-1*01  TRAJ13*01     IVWGGYQKVT   \n",
       "4      EENLLDFVRF  HLA-B*44:03  TRAV26-1*01  TRAJ13*01     IVWGGYQKVT   \n",
       "\n",
       "       beta.v      beta.j      beta.cdr3  \\\n",
       "0   TRBV14*01  TRBJ2-3*01     ASSQDRDTQY   \n",
       "1   TRBV14*01  TRBJ2-3*01     ASSQDRDTQY   \n",
       "2  TRBV6-5*01  TRBJ2-2*01   ASSYLGNTGELF   \n",
       "3  TRBV7-9*01  TRBJ2-1*01  ASRYRDDSYNEQF   \n",
       "4  TRBV7-9*01  TRBJ2-1*01  ASRYRDDSYNEQF   \n",
       "\n",
       "                            alpha.vseq.reconstructed  \\\n",
       "0  DAKTTQPPSMDCAEGRAANLPCNHSTISGNEYVYWYRQIHSQGPQY...   \n",
       "1  DAKTTQPPSMDCAEGRAANLPCNHSTISGNEYVYWYRQIHSQGPQY...   \n",
       "2  KQEVTQIPAALSVPEGENLVLNCSFTDSAIYNLQWFRQDPGKGLTS...   \n",
       "3  DAKTTQPPSMDCAEGRAANLPCNHSTISGNEYVYWYRQIHSQGPQY...   \n",
       "4  DAKTTQPPSMDCAEGRAANLPCNHSTISGNEYVYWYRQIHSQGPQY...   \n",
       "\n",
       "                             beta.vseq.reconstructed  \\\n",
       "0  EAGVTQFPSHSVIEKGQTVTLRCDPISGHDNLYWYRRVMGKEIKFL...   \n",
       "1  EAGVTQFPSHSVIEKGQTVTLRCDPISGHDNLYWYRRVMGKEIKFL...   \n",
       "2  NAGVTQTPKFQVLKTGQSMTLQCAQDMNHEYMSWYRQDPGMGLRLI...   \n",
       "3  DTGVSQNPRHKITKRGQNVTFRCDPISEHNRLYWYRQTLGQGPEFL...   \n",
       "4  DTGVSQNPRHKITKRGQNVTFRCDPISEHNRLYWYRQTLGQGPEFL...   \n",
       "\n",
       "                                        hla.full.seq  \\\n",
       "0  MVDGTLLLLLSEALALTQTWAGSHSLKYFHTSVSRPGRGEPRFISV...   \n",
       "1  MVDGTLLLLLSEALALTQTWAGSHSLKYFHTSVSRPGRGEPRFISV...   \n",
       "2  MAVMAPRTLVLLLSGALALTQTWAGSHSMRYFFTSVSRPGRGEPRF...   \n",
       "3  MRVTAPRTLLLLLWGAVALTETWAGSHSMRYFYTAMSRPGRGEPRF...   \n",
       "4  MRVTAPRTLLLLLWGAVALTETWAGSHSMRYFYTAMSRPGRGEPRF...   \n",
       "\n",
       "                                        hla.clip.seq  \\\n",
       "0  GSHSLKYFHTSVSRPGRGEPRFISVGYVDDTQFVRFDNDAASPRMV...   \n",
       "1  GSHSLKYFHTSVSRPGRGEPRFISVGYVDDTQFVRFDNDAASPRMV...   \n",
       "2  GSHSMRYFFTSVSRPGRGEPRFIAVGYVDDTQFVRFDSDAASQRME...   \n",
       "3  GSHSMRYFYTAMSRPGRGEPRFITVGYVDDTLFVRFDSDATSPRKE...   \n",
       "4  GSHSMRYFYTAMSRPGRGEPRFITVGYVDDTLFVRFDSDATSPRKE...   \n",
       "\n",
       "                        hla.short.seq  \n",
       "0  YHSMYRESADTIFVNTLYLWHEFYSSAEQAYTWY  \n",
       "1  YHSMYRESADTIFVNTLYLWHEFYSSAEQAYTWY  \n",
       "2  YFAMYGEKVAHTHVDTLYVRYHYYTWAVLAYTWY  \n",
       "3  YYTKYREISTNTYENTAYIRYDDYTWAVDAYLSY  \n",
       "4  YYTKYREISTNTYENTAYIRYDDYTWAVLAYLSY  "
      ]
     },
     "execution_count": 42,
     "metadata": {},
     "output_type": "execute_result"
    }
   ],
   "source": [
    "df_tcr = pd.read_csv(os.path.join(\n",
    "    dataset_dir,\n",
    "    \"Hi-TpH-level-IV.csv\"\n",
    "))\n",
    "print(df_tcr.shape)\n",
    "df_tcr.head()"
   ]
  },
  {
   "cell_type": "code",
   "execution_count": 43,
   "metadata": {},
   "outputs": [
    {
     "name": "stdout",
     "output_type": "stream",
     "text": [
      "(26704, 13)\n"
     ]
    }
   ],
   "source": [
    "df_tcr = df_tcr.dropna(subset=['antigen.epitope', 'beta.cdr3', \"alpha.cdr3\", \"hla.short.seq\",\n",
    "                               \"alpha.vseq.reconstructed\",  \"beta.vseq.reconstructed\"])\n",
    "df_tcr.rename(columns={\"antigen.epitope\":\"pep\", \"hla.short.seq\":\"hla\", \n",
    "                       \"beta.cdr3\":\"beta\", \"alpha.cdr3\":\"alpha\",\n",
    "                       \"beta.vseq.reconstructed\":\"beta_full\",\n",
    "                       \"alpha.vseq.reconstructed\":\"alpha_full\",}, inplace=True)\n",
    "df_tcr = df_tcr.drop_duplicates(ignore_index=True)\n",
    "print(df_tcr.shape)"
   ]
  },
  {
   "cell_type": "code",
   "execution_count": 44,
   "metadata": {},
   "outputs": [
    {
     "name": "stdout",
     "output_type": "stream",
     "text": [
      "pep 不同长度的个数统计：\n",
      "pep\n",
      "9     22391\n",
      "10     2822\n",
      "8      1238\n",
      "11      122\n",
      "12       92\n",
      "13       35\n",
      "7         3\n",
      "24        1\n",
      "Name: count, dtype: int64\n"
     ]
    }
   ],
   "source": [
    "tcr_length_counts = df_tcr['pep'].apply(len).value_counts()\n",
    "\n",
    "print(\"pep 不同长度的个数统计：\")\n",
    "print(tcr_length_counts)"
   ]
  },
  {
   "cell_type": "code",
   "execution_count": 45,
   "metadata": {},
   "outputs": [
    {
     "data": {
      "text/plain": [
       "(26451, 13)"
      ]
     },
     "execution_count": 45,
     "metadata": {},
     "output_type": "execute_result"
    }
   ],
   "source": [
    "df_tcr = df_tcr[df_tcr['pep'].str.len() <= 10]\n",
    "df_tcr = df_tcr[df_tcr['pep'].str.len() >= 8]\n",
    "df_tcr.shape"
   ]
  },
  {
   "cell_type": "code",
   "execution_count": 46,
   "metadata": {},
   "outputs": [
    {
     "name": "stdout",
     "output_type": "stream",
     "text": [
      "beta 不同长度的个数统计：\n",
      "beta\n",
      "15    6051\n",
      "14    5351\n",
      "13    5324\n",
      "16    3427\n",
      "12    1955\n",
      "17    1948\n",
      "18     854\n",
      "11     790\n",
      "19     375\n",
      "20     149\n",
      "10     129\n",
      "21      49\n",
      "22      17\n",
      "8       10\n",
      "9       10\n",
      "23       7\n",
      "26       2\n",
      "25       2\n",
      "24       1\n",
      "Name: count, dtype: int64\n"
     ]
    }
   ],
   "source": [
    "beta_length_counts = df_tcr['beta'].apply(len).value_counts()\n",
    "\n",
    "print(\"beta 不同长度的个数统计：\")\n",
    "print(beta_length_counts)"
   ]
  },
  {
   "cell_type": "code",
   "execution_count": 47,
   "metadata": {},
   "outputs": [
    {
     "name": "stdout",
     "output_type": "stream",
     "text": [
      "alpha 不同长度的个数统计：\n",
      "alpha\n",
      "13    5218\n",
      "14    4893\n",
      "15    4292\n",
      "12    4219\n",
      "11    2423\n",
      "16    2189\n",
      "17    1399\n",
      "10     878\n",
      "18     441\n",
      "19     170\n",
      "9      156\n",
      "8       74\n",
      "20      38\n",
      "7       19\n",
      "21      14\n",
      "22       8\n",
      "6        7\n",
      "24       4\n",
      "25       4\n",
      "5        3\n",
      "23       2\n",
      "Name: count, dtype: int64\n"
     ]
    }
   ],
   "source": [
    "alpha_length_counts = df_tcr['alpha'].apply(len).value_counts()\n",
    "\n",
    "print(\"alpha 不同长度的个数统计：\")\n",
    "print(alpha_length_counts)"
   ]
  },
  {
   "cell_type": "code",
   "execution_count": 48,
   "metadata": {},
   "outputs": [
    {
     "data": {
      "text/plain": [
       "(26278, 13)"
      ]
     },
     "execution_count": 48,
     "metadata": {},
     "output_type": "execute_result"
    }
   ],
   "source": [
    "df_tcr = df_tcr[df_tcr['alpha'].str.len() <= 19]\n",
    "df_tcr = df_tcr[df_tcr['alpha'].str.len() >= 9]\n",
    "df_tcr.shape"
   ]
  },
  {
   "cell_type": "code",
   "execution_count": 49,
   "metadata": {},
   "outputs": [
    {
     "data": {
      "text/plain": [
       "(26043, 13)"
      ]
     },
     "execution_count": 49,
     "metadata": {},
     "output_type": "execute_result"
    }
   ],
   "source": [
    "df_tcr = df_tcr[df_tcr['beta'].str.len() <= 19]\n",
    "df_tcr = df_tcr[df_tcr['beta'].str.len() >= 9]\n",
    "df_tcr.shape"
   ]
  },
  {
   "cell_type": "code",
   "execution_count": 50,
   "metadata": {},
   "outputs": [
    {
     "name": "stdout",
     "output_type": "stream",
     "text": [
      "alpha_full 不同长度的个数统计：\n",
      "alpha_full\n",
      "112    4199\n",
      "113    3673\n",
      "111    3619\n",
      "110    2772\n",
      "114    2635\n",
      "109    2320\n",
      "115    1903\n",
      "116    1512\n",
      "108    1114\n",
      "117     889\n",
      "118     704\n",
      "107     286\n",
      "119     159\n",
      "106     103\n",
      "120      61\n",
      "105      55\n",
      "104      30\n",
      "103       8\n",
      "102       1\n",
      "Name: count, dtype: int64\n"
     ]
    }
   ],
   "source": [
    "alpha_length_counts = df_tcr['alpha_full'].apply(len).value_counts()\n",
    "\n",
    "print(\"alpha_full 不同长度的个数统计：\")\n",
    "print(alpha_length_counts)"
   ]
  },
  {
   "cell_type": "code",
   "execution_count": 51,
   "metadata": {},
   "outputs": [
    {
     "name": "stdout",
     "output_type": "stream",
     "text": [
      "beta_full 不同长度的个数统计：\n",
      "beta_full\n",
      "114    5743\n",
      "113    4676\n",
      "115    4433\n",
      "112    4107\n",
      "116    2719\n",
      "117    1464\n",
      "111    1386\n",
      "118     769\n",
      "110     400\n",
      "119     220\n",
      "109      46\n",
      "120      45\n",
      "121      32\n",
      "108       2\n",
      "104       1\n",
      "Name: count, dtype: int64\n"
     ]
    }
   ],
   "source": [
    "beta_length_counts = df_tcr['beta_full'].apply(len).value_counts()\n",
    "\n",
    "print(\"beta_full 不同长度的个数统计：\")\n",
    "print(beta_length_counts)"
   ]
  },
  {
   "cell_type": "code",
   "execution_count": 52,
   "metadata": {},
   "outputs": [
    {
     "data": {
      "text/plain": [
       "(26004, 13)"
      ]
     },
     "execution_count": 52,
     "metadata": {},
     "output_type": "execute_result"
    }
   ],
   "source": [
    "df_tcr = df_tcr[df_tcr['alpha_full'].str.len() <= 121]\n",
    "df_tcr = df_tcr[df_tcr['alpha_full'].str.len() >= 105]\n",
    "df_tcr.shape"
   ]
  },
  {
   "cell_type": "code",
   "execution_count": 53,
   "metadata": {},
   "outputs": [
    {
     "data": {
      "text/plain": [
       "(26001, 13)"
      ]
     },
     "execution_count": 53,
     "metadata": {},
     "output_type": "execute_result"
    }
   ],
   "source": [
    "df_tcr = df_tcr[df_tcr['beta_full'].str.len() <= 121]\n",
    "df_tcr = df_tcr[df_tcr['beta_full'].str.len() >= 109]\n",
    "df_tcr.shape"
   ]
  },
  {
   "cell_type": "code",
   "execution_count": 54,
   "metadata": {},
   "outputs": [
    {
     "name": "stdout",
     "output_type": "stream",
     "text": [
      "pep 不同长度的个数统计：\n",
      "pep\n",
      "9     22003\n",
      "10     2779\n",
      "8      1219\n",
      "Name: count, dtype: int64\n"
     ]
    }
   ],
   "source": [
    "pep_length_counts = df_tcr['pep'].apply(len).value_counts()\n",
    "\n",
    "print(\"pep 不同长度的个数统计：\")\n",
    "print(pep_length_counts)"
   ]
  },
  {
   "cell_type": "markdown",
   "metadata": {},
   "source": [
    "---"
   ]
  },
  {
   "cell_type": "code",
   "execution_count": 55,
   "metadata": {},
   "outputs": [
    {
     "name": "stdout",
     "output_type": "stream",
     "text": [
      "25987\n"
     ]
    }
   ],
   "source": [
    "df_tcr = df_tcr[['pep', 'alpha', 'beta', 'alpha_full', 'beta_full', 'hla']]\n",
    "df_tcr = df_tcr.drop_duplicates(subset=['pep', 'hla', 'alpha_full', 'beta_full'], ignore_index=True)\n",
    "print(len(df_tcr))"
   ]
  },
  {
   "cell_type": "code",
   "execution_count": 56,
   "metadata": {},
   "outputs": [
    {
     "name": "stdout",
     "output_type": "stream",
     "text": [
      "22099\n"
     ]
    }
   ],
   "source": [
    "df_tcr = df_tcr.drop_duplicates(subset=['pep', 'beta'], ignore_index=True)\n",
    "print(len(df_tcr))"
   ]
  },
  {
   "cell_type": "markdown",
   "metadata": {},
   "source": [
    "- level1-component"
   ]
  },
  {
   "cell_type": "code",
   "execution_count": 57,
   "metadata": {},
   "outputs": [
    {
     "name": "stdout",
     "output_type": "stream",
     "text": [
      "20067\n"
     ]
    }
   ],
   "source": [
    "df_level1 = df_tcr[['pep', 'beta']]\n",
    "\n",
    "# 提取唯一的tcr值，转换为列表\n",
    "tcr_list = df_level1['beta'].unique().tolist()\n",
    "print(len(tcr_list))\n",
    "\n",
    "# 保存去重后的tcr列表为numpy数组\n",
    "data_path = \"/data/lujd/TCRdata/benchmarks/level4_one\"\n",
    "os.makedirs(data_path, exist_ok=True)\n",
    "np.save(os.path.join(data_path, \"tcr2candidates_pools.npy\"), tcr_list)"
   ]
  },
  {
   "cell_type": "code",
   "execution_count": 58,
   "metadata": {},
   "outputs": [
    {
     "name": "stderr",
     "output_type": "stream",
     "text": [
      "/tmp/ipykernel_1199492/3480573249.py:2: SettingWithCopyWarning: \n",
      "A value is trying to be set on a copy of a slice from a DataFrame.\n",
      "Try using .loc[row_indexer,col_indexer] = value instead\n",
      "\n",
      "See the caveats in the documentation: https://pandas.pydata.org/pandas-docs/stable/user_guide/indexing.html#returning-a-view-versus-a-copy\n",
      "  df_level1['label'] = 1\n"
     ]
    }
   ],
   "source": [
    "# 添加一列标签为1\n",
    "df_level1['label'] = 1\n",
    "\n",
    "# 将数据集按照8:1:1的比例分割成训练集、验证集和测试集\n",
    "# 先打乱数据集\n",
    "df_shuffled = df_level1.sample(frac=1, random_state=42).reset_index(drop=True)\n",
    "\n",
    "# 计算各个数据集的数量\n",
    "total_samples = len(df_shuffled)\n",
    "train_samples = int(0.8 * total_samples)\n",
    "val_samples = int(0.1 * total_samples)\n",
    "test_samples = total_samples - train_samples - val_samples\n",
    "\n",
    "# 分割数据集\n",
    "train_df = df_shuffled.iloc[:train_samples]\n",
    "val_df = df_shuffled.iloc[train_samples:train_samples + val_samples]\n",
    "test_df = df_shuffled.iloc[train_samples + val_samples:]\n",
    "\n",
    "# 保存分割后的数据集为CSV文件\n",
    "train_df.to_csv(os.path.join(data_path, \"train_data_fold0.csv\"), index=False)\n",
    "val_df.to_csv(os.path.join(data_path, \"valid_data_fold0.csv\"), index=False)\n",
    "test_df.to_csv(os.path.join(data_path, \"test_data_fold0.csv\"), index=False)"
   ]
  },
  {
   "cell_type": "code",
   "execution_count": 59,
   "metadata": {},
   "outputs": [
    {
     "data": {
      "text/html": [
       "<div>\n",
       "<style scoped>\n",
       "    .dataframe tbody tr th:only-of-type {\n",
       "        vertical-align: middle;\n",
       "    }\n",
       "\n",
       "    .dataframe tbody tr th {\n",
       "        vertical-align: top;\n",
       "    }\n",
       "\n",
       "    .dataframe thead th {\n",
       "        text-align: right;\n",
       "    }\n",
       "</style>\n",
       "<table border=\"1\" class=\"dataframe\">\n",
       "  <thead>\n",
       "    <tr style=\"text-align: right;\">\n",
       "      <th></th>\n",
       "      <th>pep</th>\n",
       "      <th>beta</th>\n",
       "      <th>label</th>\n",
       "    </tr>\n",
       "  </thead>\n",
       "  <tbody>\n",
       "    <tr>\n",
       "      <th>0</th>\n",
       "      <td>KLGGALQAK</td>\n",
       "      <td>CASSSTTSGRGWETQYF</td>\n",
       "      <td>1</td>\n",
       "    </tr>\n",
       "    <tr>\n",
       "      <th>1</th>\n",
       "      <td>KLGGALQAK</td>\n",
       "      <td>CASSLMMAGNSPLHF</td>\n",
       "      <td>1</td>\n",
       "    </tr>\n",
       "    <tr>\n",
       "      <th>2</th>\n",
       "      <td>KLGGALQAK</td>\n",
       "      <td>CASSESGFDSETQYF</td>\n",
       "      <td>1</td>\n",
       "    </tr>\n",
       "    <tr>\n",
       "      <th>3</th>\n",
       "      <td>IMNDMPIYM</td>\n",
       "      <td>CARRLAGEYNEQFF</td>\n",
       "      <td>1</td>\n",
       "    </tr>\n",
       "    <tr>\n",
       "      <th>4</th>\n",
       "      <td>KLGGALQAK</td>\n",
       "      <td>CASSLVPSSGTEAFF</td>\n",
       "      <td>1</td>\n",
       "    </tr>\n",
       "    <tr>\n",
       "      <th>...</th>\n",
       "      <td>...</td>\n",
       "      <td>...</td>\n",
       "      <td>...</td>\n",
       "    </tr>\n",
       "    <tr>\n",
       "      <th>17674</th>\n",
       "      <td>TPRVTGGGAM</td>\n",
       "      <td>CASSLIGVSGSNEQFF</td>\n",
       "      <td>1</td>\n",
       "    </tr>\n",
       "    <tr>\n",
       "      <th>17675</th>\n",
       "      <td>KLGGALQAK</td>\n",
       "      <td>CASSQDRVYEQYF</td>\n",
       "      <td>1</td>\n",
       "    </tr>\n",
       "    <tr>\n",
       "      <th>17676</th>\n",
       "      <td>CINGVCWTV</td>\n",
       "      <td>CASSQSAREHYGYTF</td>\n",
       "      <td>1</td>\n",
       "    </tr>\n",
       "    <tr>\n",
       "      <th>17677</th>\n",
       "      <td>KLGGALQAK</td>\n",
       "      <td>CASSPGVSYEQYF</td>\n",
       "      <td>1</td>\n",
       "    </tr>\n",
       "    <tr>\n",
       "      <th>17678</th>\n",
       "      <td>KLGGALQAK</td>\n",
       "      <td>CASSPPGGTGGADGYTF</td>\n",
       "      <td>1</td>\n",
       "    </tr>\n",
       "  </tbody>\n",
       "</table>\n",
       "<p>17679 rows × 3 columns</p>\n",
       "</div>"
      ],
      "text/plain": [
       "              pep               beta  label\n",
       "0       KLGGALQAK  CASSSTTSGRGWETQYF      1\n",
       "1       KLGGALQAK    CASSLMMAGNSPLHF      1\n",
       "2       KLGGALQAK    CASSESGFDSETQYF      1\n",
       "3       IMNDMPIYM     CARRLAGEYNEQFF      1\n",
       "4       KLGGALQAK    CASSLVPSSGTEAFF      1\n",
       "...           ...                ...    ...\n",
       "17674  TPRVTGGGAM   CASSLIGVSGSNEQFF      1\n",
       "17675   KLGGALQAK      CASSQDRVYEQYF      1\n",
       "17676   CINGVCWTV    CASSQSAREHYGYTF      1\n",
       "17677   KLGGALQAK      CASSPGVSYEQYF      1\n",
       "17678   KLGGALQAK  CASSPPGGTGGADGYTF      1\n",
       "\n",
       "[17679 rows x 3 columns]"
      ]
     },
     "execution_count": 59,
     "metadata": {},
     "output_type": "execute_result"
    }
   ],
   "source": [
    "train_df"
   ]
  },
  {
   "cell_type": "markdown",
   "metadata": {},
   "source": [
    "- level2a component"
   ]
  },
  {
   "cell_type": "code",
   "execution_count": 61,
   "metadata": {},
   "outputs": [
    {
     "name": "stdout",
     "output_type": "stream",
     "text": [
      "20067\n"
     ]
    },
    {
     "name": "stderr",
     "output_type": "stream",
     "text": [
      "/tmp/ipykernel_1199492/2149019097.py:13: SettingWithCopyWarning: \n",
      "A value is trying to be set on a copy of a slice from a DataFrame.\n",
      "Try using .loc[row_indexer,col_indexer] = value instead\n",
      "\n",
      "See the caveats in the documentation: https://pandas.pydata.org/pandas-docs/stable/user_guide/indexing.html#returning-a-view-versus-a-copy\n",
      "  df_level2a['label'] = 1\n"
     ]
    }
   ],
   "source": [
    "df_level2a = df_tcr[['pep', 'beta', 'hla']]\n",
    "\n",
    "# 提取唯一的tcr值，转换为列表\n",
    "tcr_list = df_level2a['beta'].unique().tolist()\n",
    "print(len(tcr_list))\n",
    "\n",
    "# 保存去重后的tcr列表为numpy数组\n",
    "data_path = \"/data/lujd/TCRdata/benchmarks/level4_twoa\"\n",
    "os.makedirs(data_path, exist_ok=True)\n",
    "np.save(os.path.join(data_path, \"tcr2candidates_pools.npy\"), tcr_list)\n",
    "\n",
    "# 添加一列标签为1\n",
    "df_level2a['label'] = 1\n",
    "\n",
    "# 将数据集按照8:1:1的比例分割成训练集、验证集和测试集\n",
    "# 先打乱数据集\n",
    "df_shuffled = df_level2a.sample(frac=1, random_state=42).reset_index(drop=True)\n",
    "\n",
    "# 计算各个数据集的数量\n",
    "total_samples = len(df_shuffled)\n",
    "train_samples = int(0.8 * total_samples)\n",
    "val_samples = int(0.1 * total_samples)\n",
    "test_samples = total_samples - train_samples - val_samples\n",
    "\n",
    "# 分割数据集\n",
    "train_df = df_shuffled.iloc[:train_samples]\n",
    "val_df = df_shuffled.iloc[train_samples:train_samples + val_samples]\n",
    "test_df = df_shuffled.iloc[train_samples + val_samples:]\n",
    "\n",
    "# 保存分割后的数据集为CSV文件\n",
    "train_df.to_csv(os.path.join(data_path, \"train_data_fold0.csv\"), index=False)\n",
    "val_df.to_csv(os.path.join(data_path, \"valid_data_fold0.csv\"), index=False)\n",
    "test_df.to_csv(os.path.join(data_path, \"test_data_fold0.csv\"), index=False)"
   ]
  },
  {
   "cell_type": "code",
   "execution_count": 62,
   "metadata": {},
   "outputs": [
    {
     "data": {
      "text/html": [
       "<div>\n",
       "<style scoped>\n",
       "    .dataframe tbody tr th:only-of-type {\n",
       "        vertical-align: middle;\n",
       "    }\n",
       "\n",
       "    .dataframe tbody tr th {\n",
       "        vertical-align: top;\n",
       "    }\n",
       "\n",
       "    .dataframe thead th {\n",
       "        text-align: right;\n",
       "    }\n",
       "</style>\n",
       "<table border=\"1\" class=\"dataframe\">\n",
       "  <thead>\n",
       "    <tr style=\"text-align: right;\">\n",
       "      <th></th>\n",
       "      <th>pep</th>\n",
       "      <th>beta</th>\n",
       "      <th>hla</th>\n",
       "      <th>label</th>\n",
       "    </tr>\n",
       "  </thead>\n",
       "  <tbody>\n",
       "    <tr>\n",
       "      <th>0</th>\n",
       "      <td>KLGGALQAK</td>\n",
       "      <td>CASSSTTSGRGWETQYF</td>\n",
       "      <td>YFAMYQENVAQTDVDTLYIIYRDYTWAELAYTWY</td>\n",
       "      <td>1</td>\n",
       "    </tr>\n",
       "    <tr>\n",
       "      <th>1</th>\n",
       "      <td>KLGGALQAK</td>\n",
       "      <td>CASSLMMAGNSPLHF</td>\n",
       "      <td>YFAMYQENVAQTDVDTLYIIYRDYTWAELAYTWY</td>\n",
       "      <td>1</td>\n",
       "    </tr>\n",
       "    <tr>\n",
       "      <th>2</th>\n",
       "      <td>KLGGALQAK</td>\n",
       "      <td>CASSESGFDSETQYF</td>\n",
       "      <td>YFAMYQENVAQTDVDTLYIIYRDYTWAELAYTWY</td>\n",
       "      <td>1</td>\n",
       "    </tr>\n",
       "    <tr>\n",
       "      <th>3</th>\n",
       "      <td>IMNDMPIYM</td>\n",
       "      <td>CARRLAGEYNEQFF</td>\n",
       "      <td>YFAMYGEKVAHTHVDTLYVRYHYYTWAVLAYTWY</td>\n",
       "      <td>1</td>\n",
       "    </tr>\n",
       "    <tr>\n",
       "      <th>4</th>\n",
       "      <td>KLGGALQAK</td>\n",
       "      <td>CASSLVPSSGTEAFF</td>\n",
       "      <td>YFAMYQENVAQTDVDTLYIIYRDYTWAELAYTWY</td>\n",
       "      <td>1</td>\n",
       "    </tr>\n",
       "    <tr>\n",
       "      <th>...</th>\n",
       "      <td>...</td>\n",
       "      <td>...</td>\n",
       "      <td>...</td>\n",
       "      <td>...</td>\n",
       "    </tr>\n",
       "    <tr>\n",
       "      <th>17674</th>\n",
       "      <td>TPRVTGGGAM</td>\n",
       "      <td>CASSLIGVSGSNEQFF</td>\n",
       "      <td>YYSEYRNIYAQTDESNLYLSYDYYTWAERAYEWY</td>\n",
       "      <td>1</td>\n",
       "    </tr>\n",
       "    <tr>\n",
       "      <th>17675</th>\n",
       "      <td>KLGGALQAK</td>\n",
       "      <td>CASSQDRVYEQYF</td>\n",
       "      <td>YFAMYQENVAQTDVDTLYIIYRDYTWAELAYTWY</td>\n",
       "      <td>1</td>\n",
       "    </tr>\n",
       "    <tr>\n",
       "      <th>17676</th>\n",
       "      <td>CINGVCWTV</td>\n",
       "      <td>CASSQSAREHYGYTF</td>\n",
       "      <td>YFAMYGEKVAHTHVDTLYVRYHYYTWAVLAYTWY</td>\n",
       "      <td>1</td>\n",
       "    </tr>\n",
       "    <tr>\n",
       "      <th>17677</th>\n",
       "      <td>KLGGALQAK</td>\n",
       "      <td>CASSPGVSYEQYF</td>\n",
       "      <td>YFAMYQENVAQTDVDTLYIIYRDYTWAELAYTWY</td>\n",
       "      <td>1</td>\n",
       "    </tr>\n",
       "    <tr>\n",
       "      <th>17678</th>\n",
       "      <td>KLGGALQAK</td>\n",
       "      <td>CASSPPGGTGGADGYTF</td>\n",
       "      <td>YFAMYQENVAQTDVDTLYIIYRDYTWAELAYTWY</td>\n",
       "      <td>1</td>\n",
       "    </tr>\n",
       "  </tbody>\n",
       "</table>\n",
       "<p>17679 rows × 4 columns</p>\n",
       "</div>"
      ],
      "text/plain": [
       "              pep               beta                                 hla  \\\n",
       "0       KLGGALQAK  CASSSTTSGRGWETQYF  YFAMYQENVAQTDVDTLYIIYRDYTWAELAYTWY   \n",
       "1       KLGGALQAK    CASSLMMAGNSPLHF  YFAMYQENVAQTDVDTLYIIYRDYTWAELAYTWY   \n",
       "2       KLGGALQAK    CASSESGFDSETQYF  YFAMYQENVAQTDVDTLYIIYRDYTWAELAYTWY   \n",
       "3       IMNDMPIYM     CARRLAGEYNEQFF  YFAMYGEKVAHTHVDTLYVRYHYYTWAVLAYTWY   \n",
       "4       KLGGALQAK    CASSLVPSSGTEAFF  YFAMYQENVAQTDVDTLYIIYRDYTWAELAYTWY   \n",
       "...           ...                ...                                 ...   \n",
       "17674  TPRVTGGGAM   CASSLIGVSGSNEQFF  YYSEYRNIYAQTDESNLYLSYDYYTWAERAYEWY   \n",
       "17675   KLGGALQAK      CASSQDRVYEQYF  YFAMYQENVAQTDVDTLYIIYRDYTWAELAYTWY   \n",
       "17676   CINGVCWTV    CASSQSAREHYGYTF  YFAMYGEKVAHTHVDTLYVRYHYYTWAVLAYTWY   \n",
       "17677   KLGGALQAK      CASSPGVSYEQYF  YFAMYQENVAQTDVDTLYIIYRDYTWAELAYTWY   \n",
       "17678   KLGGALQAK  CASSPPGGTGGADGYTF  YFAMYQENVAQTDVDTLYIIYRDYTWAELAYTWY   \n",
       "\n",
       "       label  \n",
       "0          1  \n",
       "1          1  \n",
       "2          1  \n",
       "3          1  \n",
       "4          1  \n",
       "...      ...  \n",
       "17674      1  \n",
       "17675      1  \n",
       "17676      1  \n",
       "17677      1  \n",
       "17678      1  \n",
       "\n",
       "[17679 rows x 4 columns]"
      ]
     },
     "execution_count": 62,
     "metadata": {},
     "output_type": "execute_result"
    }
   ],
   "source": [
    "train_df"
   ]
  },
  {
   "cell_type": "markdown",
   "metadata": {},
   "source": [
    "- level2b"
   ]
  },
  {
   "cell_type": "code",
   "execution_count": 66,
   "metadata": {},
   "outputs": [
    {
     "name": "stdout",
     "output_type": "stream",
     "text": [
      "20675\n"
     ]
    },
    {
     "name": "stderr",
     "output_type": "stream",
     "text": [
      "/tmp/ipykernel_1199492/2448117313.py:2: SettingWithCopyWarning: \n",
      "A value is trying to be set on a copy of a slice from a DataFrame.\n",
      "Try using .loc[row_indexer,col_indexer] = value instead\n",
      "\n",
      "See the caveats in the documentation: https://pandas.pydata.org/pandas-docs/stable/user_guide/indexing.html#returning-a-view-versus-a-copy\n",
      "  df_level2b[\"ab\"] = df_level2b['alpha'] + '/' + df_level2b['beta']\n"
     ]
    }
   ],
   "source": [
    "df_level2b = df_tcr[['pep', 'alpha', 'beta']]\n",
    "df_level2b[\"ab\"] = df_level2b['alpha'] + '/' + df_level2b['beta']\n",
    "df_level2b = df_level2b[['pep', 'ab']]\n",
    "\n",
    "# 提取唯一的tcr值，转换为列表\n",
    "tcr_list = df_level2b['ab'].unique().tolist()\n",
    "print(len(tcr_list))\n",
    "\n",
    "# 保存去重后的tcr列表为numpy数组\n",
    "data_path = \"/data/lujd/TCRdata/benchmarks/level4_twob\"\n",
    "os.makedirs(data_path, exist_ok=True)\n",
    "np.save(os.path.join(data_path, \"tcr2candidates_pools.npy\"), tcr_list)\n",
    "\n",
    "# 添加一列标签为1\n",
    "df_level2b['label'] = 1\n",
    "\n",
    "# 将数据集按照8:1:1的比例分割成训练集、验证集和测试集\n",
    "# 先打乱数据集\n",
    "df_shuffled = df_level2b.sample(frac=1, random_state=42).reset_index(drop=True)\n",
    "\n",
    "# 计算各个数据集的数量\n",
    "total_samples = len(df_shuffled)\n",
    "train_samples = int(0.8 * total_samples)\n",
    "val_samples = int(0.1 * total_samples)\n",
    "test_samples = total_samples - train_samples - val_samples\n",
    "\n",
    "# 分割数据集\n",
    "train_df = df_shuffled.iloc[:train_samples]\n",
    "val_df = df_shuffled.iloc[train_samples:train_samples + val_samples]\n",
    "test_df = df_shuffled.iloc[train_samples + val_samples:]\n",
    "\n",
    "# 保存分割后的数据集为CSV文件\n",
    "train_df.to_csv(os.path.join(data_path, \"train_data_fold0.csv\"), index=False)\n",
    "val_df.to_csv(os.path.join(data_path, \"valid_data_fold0.csv\"), index=False)\n",
    "test_df.to_csv(os.path.join(data_path, \"test_data_fold0.csv\"), index=False)"
   ]
  },
  {
   "cell_type": "code",
   "execution_count": 67,
   "metadata": {},
   "outputs": [
    {
     "data": {
      "text/html": [
       "<div>\n",
       "<style scoped>\n",
       "    .dataframe tbody tr th:only-of-type {\n",
       "        vertical-align: middle;\n",
       "    }\n",
       "\n",
       "    .dataframe tbody tr th {\n",
       "        vertical-align: top;\n",
       "    }\n",
       "\n",
       "    .dataframe thead th {\n",
       "        text-align: right;\n",
       "    }\n",
       "</style>\n",
       "<table border=\"1\" class=\"dataframe\">\n",
       "  <thead>\n",
       "    <tr style=\"text-align: right;\">\n",
       "      <th></th>\n",
       "      <th>pep</th>\n",
       "      <th>ab</th>\n",
       "      <th>label</th>\n",
       "    </tr>\n",
       "  </thead>\n",
       "  <tbody>\n",
       "    <tr>\n",
       "      <th>0</th>\n",
       "      <td>KLGGALQAK</td>\n",
       "      <td>CLLGDLGGGSQGNLIF/CASSSTTSGRGWETQYF</td>\n",
       "      <td>1</td>\n",
       "    </tr>\n",
       "    <tr>\n",
       "      <th>1</th>\n",
       "      <td>KLGGALQAK</td>\n",
       "      <td>CILFSGNTPLVF/CASSLMMAGNSPLHF</td>\n",
       "      <td>1</td>\n",
       "    </tr>\n",
       "    <tr>\n",
       "      <th>2</th>\n",
       "      <td>KLGGALQAK</td>\n",
       "      <td>CALAGGTSYGKLTF/CASSESGFDSETQYF</td>\n",
       "      <td>1</td>\n",
       "    </tr>\n",
       "    <tr>\n",
       "      <th>3</th>\n",
       "      <td>IMNDMPIYM</td>\n",
       "      <td>CALSDSWGKFQF/CARRLAGEYNEQFF</td>\n",
       "      <td>1</td>\n",
       "    </tr>\n",
       "    <tr>\n",
       "      <th>4</th>\n",
       "      <td>KLGGALQAK</td>\n",
       "      <td>CILRDRYDARLMF/CASSLVPSSGTEAFF</td>\n",
       "      <td>1</td>\n",
       "    </tr>\n",
       "    <tr>\n",
       "      <th>...</th>\n",
       "      <td>...</td>\n",
       "      <td>...</td>\n",
       "      <td>...</td>\n",
       "    </tr>\n",
       "    <tr>\n",
       "      <th>17674</th>\n",
       "      <td>TPRVTGGGAM</td>\n",
       "      <td>CATVSRMDSSYKLIF/CASSLIGVSGSNEQFF</td>\n",
       "      <td>1</td>\n",
       "    </tr>\n",
       "    <tr>\n",
       "      <th>17675</th>\n",
       "      <td>KLGGALQAK</td>\n",
       "      <td>CASLNSGGSNYKLTF/CASSQDRVYEQYF</td>\n",
       "      <td>1</td>\n",
       "    </tr>\n",
       "    <tr>\n",
       "      <th>17676</th>\n",
       "      <td>CINGVCWTV</td>\n",
       "      <td>CLVGDGPSGGYQKVTF/CASSQSAREHYGYTF</td>\n",
       "      <td>1</td>\n",
       "    </tr>\n",
       "    <tr>\n",
       "      <th>17677</th>\n",
       "      <td>KLGGALQAK</td>\n",
       "      <td>CATGRGGGADGLTF/CASSPGVSYEQYF</td>\n",
       "      <td>1</td>\n",
       "    </tr>\n",
       "    <tr>\n",
       "      <th>17678</th>\n",
       "      <td>KLGGALQAK</td>\n",
       "      <td>CAVYTGGFKTIF/CASSPPGGTGGADGYTF</td>\n",
       "      <td>1</td>\n",
       "    </tr>\n",
       "  </tbody>\n",
       "</table>\n",
       "<p>17679 rows × 3 columns</p>\n",
       "</div>"
      ],
      "text/plain": [
       "              pep                                  ab  label\n",
       "0       KLGGALQAK  CLLGDLGGGSQGNLIF/CASSSTTSGRGWETQYF      1\n",
       "1       KLGGALQAK        CILFSGNTPLVF/CASSLMMAGNSPLHF      1\n",
       "2       KLGGALQAK      CALAGGTSYGKLTF/CASSESGFDSETQYF      1\n",
       "3       IMNDMPIYM         CALSDSWGKFQF/CARRLAGEYNEQFF      1\n",
       "4       KLGGALQAK       CILRDRYDARLMF/CASSLVPSSGTEAFF      1\n",
       "...           ...                                 ...    ...\n",
       "17674  TPRVTGGGAM    CATVSRMDSSYKLIF/CASSLIGVSGSNEQFF      1\n",
       "17675   KLGGALQAK       CASLNSGGSNYKLTF/CASSQDRVYEQYF      1\n",
       "17676   CINGVCWTV    CLVGDGPSGGYQKVTF/CASSQSAREHYGYTF      1\n",
       "17677   KLGGALQAK        CATGRGGGADGLTF/CASSPGVSYEQYF      1\n",
       "17678   KLGGALQAK      CAVYTGGFKTIF/CASSPPGGTGGADGYTF      1\n",
       "\n",
       "[17679 rows x 3 columns]"
      ]
     },
     "execution_count": 67,
     "metadata": {},
     "output_type": "execute_result"
    }
   ],
   "source": [
    "train_df"
   ]
  },
  {
   "cell_type": "markdown",
   "metadata": {},
   "source": [
    "- level3 component"
   ]
  },
  {
   "cell_type": "code",
   "execution_count": 69,
   "metadata": {},
   "outputs": [
    {
     "name": "stdout",
     "output_type": "stream",
     "text": [
      "20675\n"
     ]
    },
    {
     "name": "stderr",
     "output_type": "stream",
     "text": [
      "/tmp/ipykernel_1199492/805095866.py:2: SettingWithCopyWarning: \n",
      "A value is trying to be set on a copy of a slice from a DataFrame.\n",
      "Try using .loc[row_indexer,col_indexer] = value instead\n",
      "\n",
      "See the caveats in the documentation: https://pandas.pydata.org/pandas-docs/stable/user_guide/indexing.html#returning-a-view-versus-a-copy\n",
      "  df_level3[\"ab\"] = df_level3['alpha'] + '/' + df_level3['beta']\n"
     ]
    }
   ],
   "source": [
    "df_level3 = df_tcr[['pep', 'hla', 'alpha', 'beta']]\n",
    "df_level3[\"ab\"] = df_level3['alpha'] + '/' + df_level3['beta']\n",
    "df_level3 = df_level3[['pep', 'hla', 'ab']]\n",
    "\n",
    "# 提取唯一的tcr值，转换为列表\n",
    "tcr_list = df_level3['ab'].unique().tolist()\n",
    "print(len(tcr_list))\n",
    "\n",
    "# 保存去重后的tcr列表为numpy数组\n",
    "data_path = \"/data/lujd/TCRdata/benchmarks/level4_three\"\n",
    "os.makedirs(data_path, exist_ok=True)\n",
    "np.save(os.path.join(data_path, \"tcr2candidates_pools.npy\"), tcr_list)\n",
    "\n",
    "# 添加一列标签为1\n",
    "df_level3['label'] = 1\n",
    "\n",
    "# 将数据集按照8:1:1的比例分割成训练集、验证集和测试集\n",
    "# 先打乱数据集\n",
    "df_shuffled = df_level3.sample(frac=1, random_state=42).reset_index(drop=True)\n",
    "\n",
    "# 计算各个数据集的数量\n",
    "total_samples = len(df_shuffled)\n",
    "train_samples = int(0.8 * total_samples)\n",
    "val_samples = int(0.1 * total_samples)\n",
    "test_samples = total_samples - train_samples - val_samples\n",
    "\n",
    "# 分割数据集\n",
    "train_df = df_shuffled.iloc[:train_samples]\n",
    "val_df = df_shuffled.iloc[train_samples:train_samples + val_samples]\n",
    "test_df = df_shuffled.iloc[train_samples + val_samples:]\n",
    "\n",
    "# 保存分割后的数据集为CSV文件\n",
    "train_df.to_csv(os.path.join(data_path, \"train_data_fold0.csv\"), index=False)\n",
    "val_df.to_csv(os.path.join(data_path, \"valid_data_fold0.csv\"), index=False)\n",
    "test_df.to_csv(os.path.join(data_path, \"test_data_fold0.csv\"), index=False)"
   ]
  },
  {
   "cell_type": "code",
   "execution_count": 70,
   "metadata": {},
   "outputs": [
    {
     "data": {
      "text/html": [
       "<div>\n",
       "<style scoped>\n",
       "    .dataframe tbody tr th:only-of-type {\n",
       "        vertical-align: middle;\n",
       "    }\n",
       "\n",
       "    .dataframe tbody tr th {\n",
       "        vertical-align: top;\n",
       "    }\n",
       "\n",
       "    .dataframe thead th {\n",
       "        text-align: right;\n",
       "    }\n",
       "</style>\n",
       "<table border=\"1\" class=\"dataframe\">\n",
       "  <thead>\n",
       "    <tr style=\"text-align: right;\">\n",
       "      <th></th>\n",
       "      <th>pep</th>\n",
       "      <th>hla</th>\n",
       "      <th>ab</th>\n",
       "      <th>label</th>\n",
       "    </tr>\n",
       "  </thead>\n",
       "  <tbody>\n",
       "    <tr>\n",
       "      <th>0</th>\n",
       "      <td>KLGGALQAK</td>\n",
       "      <td>YFAMYQENVAQTDVDTLYIIYRDYTWAELAYTWY</td>\n",
       "      <td>CLLGDLGGGSQGNLIF/CASSSTTSGRGWETQYF</td>\n",
       "      <td>1</td>\n",
       "    </tr>\n",
       "    <tr>\n",
       "      <th>1</th>\n",
       "      <td>KLGGALQAK</td>\n",
       "      <td>YFAMYQENVAQTDVDTLYIIYRDYTWAELAYTWY</td>\n",
       "      <td>CILFSGNTPLVF/CASSLMMAGNSPLHF</td>\n",
       "      <td>1</td>\n",
       "    </tr>\n",
       "    <tr>\n",
       "      <th>2</th>\n",
       "      <td>KLGGALQAK</td>\n",
       "      <td>YFAMYQENVAQTDVDTLYIIYRDYTWAELAYTWY</td>\n",
       "      <td>CALAGGTSYGKLTF/CASSESGFDSETQYF</td>\n",
       "      <td>1</td>\n",
       "    </tr>\n",
       "    <tr>\n",
       "      <th>3</th>\n",
       "      <td>IMNDMPIYM</td>\n",
       "      <td>YFAMYGEKVAHTHVDTLYVRYHYYTWAVLAYTWY</td>\n",
       "      <td>CALSDSWGKFQF/CARRLAGEYNEQFF</td>\n",
       "      <td>1</td>\n",
       "    </tr>\n",
       "    <tr>\n",
       "      <th>4</th>\n",
       "      <td>KLGGALQAK</td>\n",
       "      <td>YFAMYQENVAQTDVDTLYIIYRDYTWAELAYTWY</td>\n",
       "      <td>CILRDRYDARLMF/CASSLVPSSGTEAFF</td>\n",
       "      <td>1</td>\n",
       "    </tr>\n",
       "    <tr>\n",
       "      <th>...</th>\n",
       "      <td>...</td>\n",
       "      <td>...</td>\n",
       "      <td>...</td>\n",
       "      <td>...</td>\n",
       "    </tr>\n",
       "    <tr>\n",
       "      <th>17674</th>\n",
       "      <td>TPRVTGGGAM</td>\n",
       "      <td>YYSEYRNIYAQTDESNLYLSYDYYTWAERAYEWY</td>\n",
       "      <td>CATVSRMDSSYKLIF/CASSLIGVSGSNEQFF</td>\n",
       "      <td>1</td>\n",
       "    </tr>\n",
       "    <tr>\n",
       "      <th>17675</th>\n",
       "      <td>KLGGALQAK</td>\n",
       "      <td>YFAMYQENVAQTDVDTLYIIYRDYTWAELAYTWY</td>\n",
       "      <td>CASLNSGGSNYKLTF/CASSQDRVYEQYF</td>\n",
       "      <td>1</td>\n",
       "    </tr>\n",
       "    <tr>\n",
       "      <th>17676</th>\n",
       "      <td>CINGVCWTV</td>\n",
       "      <td>YFAMYGEKVAHTHVDTLYVRYHYYTWAVLAYTWY</td>\n",
       "      <td>CLVGDGPSGGYQKVTF/CASSQSAREHYGYTF</td>\n",
       "      <td>1</td>\n",
       "    </tr>\n",
       "    <tr>\n",
       "      <th>17677</th>\n",
       "      <td>KLGGALQAK</td>\n",
       "      <td>YFAMYQENVAQTDVDTLYIIYRDYTWAELAYTWY</td>\n",
       "      <td>CATGRGGGADGLTF/CASSPGVSYEQYF</td>\n",
       "      <td>1</td>\n",
       "    </tr>\n",
       "    <tr>\n",
       "      <th>17678</th>\n",
       "      <td>KLGGALQAK</td>\n",
       "      <td>YFAMYQENVAQTDVDTLYIIYRDYTWAELAYTWY</td>\n",
       "      <td>CAVYTGGFKTIF/CASSPPGGTGGADGYTF</td>\n",
       "      <td>1</td>\n",
       "    </tr>\n",
       "  </tbody>\n",
       "</table>\n",
       "<p>17679 rows × 4 columns</p>\n",
       "</div>"
      ],
      "text/plain": [
       "              pep                                 hla  \\\n",
       "0       KLGGALQAK  YFAMYQENVAQTDVDTLYIIYRDYTWAELAYTWY   \n",
       "1       KLGGALQAK  YFAMYQENVAQTDVDTLYIIYRDYTWAELAYTWY   \n",
       "2       KLGGALQAK  YFAMYQENVAQTDVDTLYIIYRDYTWAELAYTWY   \n",
       "3       IMNDMPIYM  YFAMYGEKVAHTHVDTLYVRYHYYTWAVLAYTWY   \n",
       "4       KLGGALQAK  YFAMYQENVAQTDVDTLYIIYRDYTWAELAYTWY   \n",
       "...           ...                                 ...   \n",
       "17674  TPRVTGGGAM  YYSEYRNIYAQTDESNLYLSYDYYTWAERAYEWY   \n",
       "17675   KLGGALQAK  YFAMYQENVAQTDVDTLYIIYRDYTWAELAYTWY   \n",
       "17676   CINGVCWTV  YFAMYGEKVAHTHVDTLYVRYHYYTWAVLAYTWY   \n",
       "17677   KLGGALQAK  YFAMYQENVAQTDVDTLYIIYRDYTWAELAYTWY   \n",
       "17678   KLGGALQAK  YFAMYQENVAQTDVDTLYIIYRDYTWAELAYTWY   \n",
       "\n",
       "                                       ab  label  \n",
       "0      CLLGDLGGGSQGNLIF/CASSSTTSGRGWETQYF      1  \n",
       "1            CILFSGNTPLVF/CASSLMMAGNSPLHF      1  \n",
       "2          CALAGGTSYGKLTF/CASSESGFDSETQYF      1  \n",
       "3             CALSDSWGKFQF/CARRLAGEYNEQFF      1  \n",
       "4           CILRDRYDARLMF/CASSLVPSSGTEAFF      1  \n",
       "...                                   ...    ...  \n",
       "17674    CATVSRMDSSYKLIF/CASSLIGVSGSNEQFF      1  \n",
       "17675       CASLNSGGSNYKLTF/CASSQDRVYEQYF      1  \n",
       "17676    CLVGDGPSGGYQKVTF/CASSQSAREHYGYTF      1  \n",
       "17677        CATGRGGGADGLTF/CASSPGVSYEQYF      1  \n",
       "17678      CAVYTGGFKTIF/CASSPPGGTGGADGYTF      1  \n",
       "\n",
       "[17679 rows x 4 columns]"
      ]
     },
     "execution_count": 70,
     "metadata": {},
     "output_type": "execute_result"
    }
   ],
   "source": [
    "train_df"
   ]
  },
  {
   "cell_type": "markdown",
   "metadata": {},
   "source": [
    "- level4 component"
   ]
  },
  {
   "cell_type": "code",
   "execution_count": 71,
   "metadata": {},
   "outputs": [
    {
     "name": "stdout",
     "output_type": "stream",
     "text": [
      "20672\n"
     ]
    },
    {
     "name": "stderr",
     "output_type": "stream",
     "text": [
      "/tmp/ipykernel_1199492/3582526668.py:2: SettingWithCopyWarning: \n",
      "A value is trying to be set on a copy of a slice from a DataFrame.\n",
      "Try using .loc[row_indexer,col_indexer] = value instead\n",
      "\n",
      "See the caveats in the documentation: https://pandas.pydata.org/pandas-docs/stable/user_guide/indexing.html#returning-a-view-versus-a-copy\n",
      "  df_level4[\"ab\"] = df_level4['alpha_full'] + '/' + df_level4['beta_full']\n"
     ]
    }
   ],
   "source": [
    "df_level4 = df_tcr[['pep', 'hla', 'alpha_full', 'beta_full']]\n",
    "df_level4[\"ab\"] = df_level4['alpha_full'] + '/' + df_level4['beta_full']\n",
    "df_level4 = df_level4[['pep', 'hla', 'ab']]\n",
    "\n",
    "# 提取唯一的tcr值，转换为列表\n",
    "tcr_list = df_level4['ab'].unique().tolist()\n",
    "print(len(tcr_list))\n",
    "\n",
    "# 保存去重后的tcr列表为numpy数组\n",
    "data_path = \"/data/lujd/TCRdata/benchmarks/level4_four\"\n",
    "os.makedirs(data_path, exist_ok=True)\n",
    "np.save(os.path.join(data_path, \"tcr2candidates_pools.npy\"), tcr_list)\n",
    "\n",
    "# 添加一列标签为1\n",
    "df_level4['label'] = 1\n",
    "\n",
    "# 将数据集按照8:1:1的比例分割成训练集、验证集和测试集\n",
    "# 先打乱数据集\n",
    "df_shuffled = df_level4.sample(frac=1, random_state=42).reset_index(drop=True)\n",
    "\n",
    "# 计算各个数据集的数量\n",
    "total_samples = len(df_shuffled)\n",
    "train_samples = int(0.8 * total_samples)\n",
    "val_samples = int(0.1 * total_samples)\n",
    "test_samples = total_samples - train_samples - val_samples\n",
    "\n",
    "# 分割数据集\n",
    "train_df = df_shuffled.iloc[:train_samples]\n",
    "val_df = df_shuffled.iloc[train_samples:train_samples + val_samples]\n",
    "test_df = df_shuffled.iloc[train_samples + val_samples:]\n",
    "\n",
    "# 保存分割后的数据集为CSV文件\n",
    "train_df.to_csv(os.path.join(data_path, \"train_data_fold0.csv\"), index=False)\n",
    "val_df.to_csv(os.path.join(data_path, \"valid_data_fold0.csv\"), index=False)\n",
    "test_df.to_csv(os.path.join(data_path, \"test_data_fold0.csv\"), index=False)"
   ]
  },
  {
   "cell_type": "code",
   "execution_count": 75,
   "metadata": {},
   "outputs": [
    {
     "data": {
      "text/html": [
       "<div>\n",
       "<style scoped>\n",
       "    .dataframe tbody tr th:only-of-type {\n",
       "        vertical-align: middle;\n",
       "    }\n",
       "\n",
       "    .dataframe tbody tr th {\n",
       "        vertical-align: top;\n",
       "    }\n",
       "\n",
       "    .dataframe thead th {\n",
       "        text-align: right;\n",
       "    }\n",
       "</style>\n",
       "<table border=\"1\" class=\"dataframe\">\n",
       "  <thead>\n",
       "    <tr style=\"text-align: right;\">\n",
       "      <th></th>\n",
       "      <th>pep</th>\n",
       "      <th>hla</th>\n",
       "      <th>ab</th>\n",
       "      <th>label</th>\n",
       "    </tr>\n",
       "  </thead>\n",
       "  <tbody>\n",
       "    <tr>\n",
       "      <th>0</th>\n",
       "      <td>KLGGALQAK</td>\n",
       "      <td>YFAMYQENVAQTDVDTLYIIYRDYTWAELAYTWY</td>\n",
       "      <td>SNSVKQTGQITVSEGASVTMNCTYTSTGYPTLFWYVEYPSKPLQLL...</td>\n",
       "      <td>1</td>\n",
       "    </tr>\n",
       "    <tr>\n",
       "      <th>1</th>\n",
       "      <td>KLGGALQAK</td>\n",
       "      <td>YFAMYQENVAQTDVDTLYIIYRDYTWAELAYTWY</td>\n",
       "      <td>DAKTTQPNSMESNEEEPVHLPCNHSTISGTDYIHWYRQLPSQGPEY...</td>\n",
       "      <td>1</td>\n",
       "    </tr>\n",
       "    <tr>\n",
       "      <th>2</th>\n",
       "      <td>KLGGALQAK</td>\n",
       "      <td>YFAMYQENVAQTDVDTLYIIYRDYTWAELAYTWY</td>\n",
       "      <td>GNSVTQMEGPVTLSEEAFLTINCTYTATGYPSLFWYVQYPGEGLQL...</td>\n",
       "      <td>1</td>\n",
       "    </tr>\n",
       "    <tr>\n",
       "      <th>3</th>\n",
       "      <td>IMNDMPIYM</td>\n",
       "      <td>YFAMYGEKVAHTHVDTLYVRYHYYTWAVLAYTWY</td>\n",
       "      <td>GNSVTQMEGPVTLSEEAFLTINCTYTATGYPSLFWYVQYPGEGLQL...</td>\n",
       "      <td>1</td>\n",
       "    </tr>\n",
       "    <tr>\n",
       "      <th>4</th>\n",
       "      <td>KLGGALQAK</td>\n",
       "      <td>YFAMYQENVAQTDVDTLYIIYRDYTWAELAYTWY</td>\n",
       "      <td>DAKTTQPNSMESNEEEPVHLPCNHSTISGTDYIHWYRQLPSQGPEY...</td>\n",
       "      <td>1</td>\n",
       "    </tr>\n",
       "    <tr>\n",
       "      <th>...</th>\n",
       "      <td>...</td>\n",
       "      <td>...</td>\n",
       "      <td>...</td>\n",
       "      <td>...</td>\n",
       "    </tr>\n",
       "    <tr>\n",
       "      <th>17674</th>\n",
       "      <td>TPRVTGGGAM</td>\n",
       "      <td>YYSEYRNIYAQTDESNLYLSYDYYTWAERAYEWY</td>\n",
       "      <td>SQQGEEDPQALSIQEGENATMNCSYKTSINNLQWYRQNSGRGLVHL...</td>\n",
       "      <td>1</td>\n",
       "    </tr>\n",
       "    <tr>\n",
       "      <th>17675</th>\n",
       "      <td>KLGGALQAK</td>\n",
       "      <td>YFAMYQENVAQTDVDTLYIIYRDYTWAELAYTWY</td>\n",
       "      <td>AQTVTQSQPEMSVQEAETVTLSCTYDTSENNYYLFWYKQPPSRQMI...</td>\n",
       "      <td>1</td>\n",
       "    </tr>\n",
       "    <tr>\n",
       "      <th>17676</th>\n",
       "      <td>CINGVCWTV</td>\n",
       "      <td>YFAMYGEKVAHTHVDTLYVRYHYYTWAVLAYTWY</td>\n",
       "      <td>LAKTTQPISMDSYEGQEVNITCSHNNIATNDYITWYQQFPSQGPRF...</td>\n",
       "      <td>1</td>\n",
       "    </tr>\n",
       "    <tr>\n",
       "      <th>17677</th>\n",
       "      <td>KLGGALQAK</td>\n",
       "      <td>YFAMYQENVAQTDVDTLYIIYRDYTWAELAYTWY</td>\n",
       "      <td>SQQGEEDPQALSIQEGENATMNCSYKTSINNLQWYRQNSGRGLVHL...</td>\n",
       "      <td>1</td>\n",
       "    </tr>\n",
       "    <tr>\n",
       "      <th>17678</th>\n",
       "      <td>KLGGALQAK</td>\n",
       "      <td>YFAMYQENVAQTDVDTLYIIYRDYTWAELAYTWY</td>\n",
       "      <td>EDQVTQSPEALRLQEGESSSLNCSYTVSGLRGLFWYRQDPGKGPEF...</td>\n",
       "      <td>1</td>\n",
       "    </tr>\n",
       "  </tbody>\n",
       "</table>\n",
       "<p>17679 rows × 4 columns</p>\n",
       "</div>"
      ],
      "text/plain": [
       "              pep                                 hla  \\\n",
       "0       KLGGALQAK  YFAMYQENVAQTDVDTLYIIYRDYTWAELAYTWY   \n",
       "1       KLGGALQAK  YFAMYQENVAQTDVDTLYIIYRDYTWAELAYTWY   \n",
       "2       KLGGALQAK  YFAMYQENVAQTDVDTLYIIYRDYTWAELAYTWY   \n",
       "3       IMNDMPIYM  YFAMYGEKVAHTHVDTLYVRYHYYTWAVLAYTWY   \n",
       "4       KLGGALQAK  YFAMYQENVAQTDVDTLYIIYRDYTWAELAYTWY   \n",
       "...           ...                                 ...   \n",
       "17674  TPRVTGGGAM  YYSEYRNIYAQTDESNLYLSYDYYTWAERAYEWY   \n",
       "17675   KLGGALQAK  YFAMYQENVAQTDVDTLYIIYRDYTWAELAYTWY   \n",
       "17676   CINGVCWTV  YFAMYGEKVAHTHVDTLYVRYHYYTWAVLAYTWY   \n",
       "17677   KLGGALQAK  YFAMYQENVAQTDVDTLYIIYRDYTWAELAYTWY   \n",
       "17678   KLGGALQAK  YFAMYQENVAQTDVDTLYIIYRDYTWAELAYTWY   \n",
       "\n",
       "                                                      ab  label  \n",
       "0      SNSVKQTGQITVSEGASVTMNCTYTSTGYPTLFWYVEYPSKPLQLL...      1  \n",
       "1      DAKTTQPNSMESNEEEPVHLPCNHSTISGTDYIHWYRQLPSQGPEY...      1  \n",
       "2      GNSVTQMEGPVTLSEEAFLTINCTYTATGYPSLFWYVQYPGEGLQL...      1  \n",
       "3      GNSVTQMEGPVTLSEEAFLTINCTYTATGYPSLFWYVQYPGEGLQL...      1  \n",
       "4      DAKTTQPNSMESNEEEPVHLPCNHSTISGTDYIHWYRQLPSQGPEY...      1  \n",
       "...                                                  ...    ...  \n",
       "17674  SQQGEEDPQALSIQEGENATMNCSYKTSINNLQWYRQNSGRGLVHL...      1  \n",
       "17675  AQTVTQSQPEMSVQEAETVTLSCTYDTSENNYYLFWYKQPPSRQMI...      1  \n",
       "17676  LAKTTQPISMDSYEGQEVNITCSHNNIATNDYITWYQQFPSQGPRF...      1  \n",
       "17677  SQQGEEDPQALSIQEGENATMNCSYKTSINNLQWYRQNSGRGLVHL...      1  \n",
       "17678  EDQVTQSPEALRLQEGESSSLNCSYTVSGLRGLFWYRQDPGKGPEF...      1  \n",
       "\n",
       "[17679 rows x 4 columns]"
      ]
     },
     "execution_count": 75,
     "metadata": {},
     "output_type": "execute_result"
    }
   ],
   "source": [
    "train_df"
   ]
  },
  {
   "cell_type": "code",
   "execution_count": 74,
   "metadata": {},
   "outputs": [
    {
     "name": "stdout",
     "output_type": "stream",
     "text": [
      "22099\n",
      "22099\n"
     ]
    }
   ],
   "source": [
    "print(len(df_level4))\n",
    "print(len(df_level4.drop_duplicates(subset=['pep', 'hla', 'ab'], ignore_index=True)))"
   ]
  }
 ],
 "metadata": {
  "kernelspec": {
   "display_name": "pytorch3.9",
   "language": "python",
   "name": "python3"
  },
  "language_info": {
   "codemirror_mode": {
    "name": "ipython",
    "version": 3
   },
   "file_extension": ".py",
   "mimetype": "text/x-python",
   "name": "python",
   "nbconvert_exporter": "python",
   "pygments_lexer": "ipython3",
   "version": "3.8.18"
  }
 },
 "nbformat": 4,
 "nbformat_minor": 2
}
