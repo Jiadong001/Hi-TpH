{
 "cells": [
  {
   "cell_type": "code",
   "execution_count": 1,
   "metadata": {},
   "outputs": [
    {
     "data": {
      "text/plain": [
       "['Hi-TpH-level-I.csv',\n",
       " 'Hi-TpH-level-IV.csv',\n",
       " 'Hi-TpH-level-IIA.csv',\n",
       " 'Hi-TpH-tcr_gene2seq.json',\n",
       " 'Hi-TpH-hla_allele2seq.json',\n",
       " 'Hi-TpH-level-IIB.csv',\n",
       " 'README.md',\n",
       " 'Hi-TpH-level-III.csv']"
      ]
     },
     "execution_count": 1,
     "metadata": {},
     "output_type": "execute_result"
    }
   ],
   "source": [
    "import pandas as pd\n",
    "import os\n",
    "import numpy as np\n",
    "dataset_dir = \"/home/lujd/Hi-TpH/data\"\n",
    "os.listdir(dataset_dir)"
   ]
  },
  {
   "cell_type": "markdown",
   "metadata": {},
   "source": [
    "--- \n",
    "\n",
    "### level-I"
   ]
  },
  {
   "cell_type": "code",
   "execution_count": 2,
   "metadata": {},
   "outputs": [
    {
     "name": "stdout",
     "output_type": "stream",
     "text": [
      "(720038, 2)\n"
     ]
    },
    {
     "data": {
      "text/html": [
       "<div>\n",
       "<style scoped>\n",
       "    .dataframe tbody tr th:only-of-type {\n",
       "        vertical-align: middle;\n",
       "    }\n",
       "\n",
       "    .dataframe tbody tr th {\n",
       "        vertical-align: top;\n",
       "    }\n",
       "\n",
       "    .dataframe thead th {\n",
       "        text-align: right;\n",
       "    }\n",
       "</style>\n",
       "<table border=\"1\" class=\"dataframe\">\n",
       "  <thead>\n",
       "    <tr style=\"text-align: right;\">\n",
       "      <th></th>\n",
       "      <th>antigen.epitope</th>\n",
       "      <th>beta.cdr3</th>\n",
       "    </tr>\n",
       "  </thead>\n",
       "  <tbody>\n",
       "    <tr>\n",
       "      <th>0</th>\n",
       "      <td>VMAPRTLIL</td>\n",
       "      <td>ASSQDRDTQY</td>\n",
       "    </tr>\n",
       "    <tr>\n",
       "      <th>1</th>\n",
       "      <td>FLRGRFYGL</td>\n",
       "      <td>ASSLGQAYEQY</td>\n",
       "    </tr>\n",
       "    <tr>\n",
       "      <th>2</th>\n",
       "      <td>FLRGRAYGL</td>\n",
       "      <td>ASSLGQAYEQY</td>\n",
       "    </tr>\n",
       "    <tr>\n",
       "      <th>3</th>\n",
       "      <td>EEYLKAWTF</td>\n",
       "      <td>ASSLGQAYEQY</td>\n",
       "    </tr>\n",
       "    <tr>\n",
       "      <th>4</th>\n",
       "      <td>EEYLQAFTY</td>\n",
       "      <td>ASSLGQAYEQY</td>\n",
       "    </tr>\n",
       "  </tbody>\n",
       "</table>\n",
       "</div>"
      ],
      "text/plain": [
       "  antigen.epitope    beta.cdr3\n",
       "0       VMAPRTLIL   ASSQDRDTQY\n",
       "1       FLRGRFYGL  ASSLGQAYEQY\n",
       "2       FLRGRAYGL  ASSLGQAYEQY\n",
       "3       EEYLKAWTF  ASSLGQAYEQY\n",
       "4       EEYLQAFTY  ASSLGQAYEQY"
      ]
     },
     "execution_count": 2,
     "metadata": {},
     "output_type": "execute_result"
    }
   ],
   "source": [
    "df1 = pd.read_csv(os.path.join(\n",
    "    dataset_dir,\n",
    "    \"Hi-TpH-level-I.csv\"\n",
    "))\n",
    "print(df1.shape)\n",
    "df1.head()"
   ]
  },
  {
   "cell_type": "code",
   "execution_count": 3,
   "metadata": {},
   "outputs": [
    {
     "name": "stdout",
     "output_type": "stream",
     "text": [
      "(720038, 2)\n"
     ]
    }
   ],
   "source": [
    "df1 = df1.dropna(subset=['antigen.epitope', 'beta.cdr3'])\n",
    "df1.rename(columns={\"antigen.epitope\":\"pep\", \"beta.cdr3\":\"tcr\"}, inplace=True)\n",
    "df1 = df1.drop_duplicates(ignore_index=True)\n",
    "print(df1.shape)"
   ]
  },
  {
   "cell_type": "code",
   "execution_count": 4,
   "metadata": {},
   "outputs": [
    {
     "data": {
      "text/plain": [
       "1949"
      ]
     },
     "execution_count": 4,
     "metadata": {},
     "output_type": "execute_result"
    }
   ],
   "source": [
    "df1.pep.nunique()"
   ]
  },
  {
   "cell_type": "code",
   "execution_count": 5,
   "metadata": {},
   "outputs": [
    {
     "name": "stdout",
     "output_type": "stream",
     "text": [
      "pep不同长度的个数统计：\n",
      "pep\n",
      "9     377424\n",
      "10    237861\n",
      "11     33931\n",
      "14     14264\n",
      "25     11578\n",
      "13     11504\n",
      "8       8065\n",
      "12      6028\n",
      "16      4709\n",
      "18      4245\n",
      "15      3462\n",
      "19      2415\n",
      "27      1712\n",
      "43      1080\n",
      "17       929\n",
      "20       510\n",
      "38       253\n",
      "37        42\n",
      "41        15\n",
      "35         6\n",
      "7          2\n",
      "31         1\n",
      "22         1\n",
      "24         1\n",
      "Name: count, dtype: int64\n"
     ]
    }
   ],
   "source": [
    "pep_length_counts = df1['pep'].apply(len).value_counts()\n",
    "\n",
    "print(\"pep不同长度的个数统计：\")\n",
    "print(pep_length_counts)"
   ]
  },
  {
   "cell_type": "code",
   "execution_count": 6,
   "metadata": {},
   "outputs": [
    {
     "name": "stdout",
     "output_type": "stream",
     "text": [
      "cdr3beta不同长度的个数统计：\n",
      "tcr\n",
      "15    145198\n",
      "14    135689\n",
      "13    123712\n",
      "16     85253\n",
      "12     81915\n",
      "17     47468\n",
      "11     42963\n",
      "18     21585\n",
      "10     14267\n",
      "19      9334\n",
      "9       4812\n",
      "20      3649\n",
      "21      1535\n",
      "8       1044\n",
      "22       575\n",
      "7        327\n",
      "23       224\n",
      "6        117\n",
      "24       108\n",
      "5        104\n",
      "4         56\n",
      "3         44\n",
      "25        40\n",
      "2          6\n",
      "1          3\n",
      "27         3\n",
      "26         3\n",
      "31         1\n",
      "34         1\n",
      "38         1\n",
      "33         1\n",
      "Name: count, dtype: int64\n"
     ]
    }
   ],
   "source": [
    "tcr_length_counts = df1['tcr'].apply(len).value_counts()\n",
    "\n",
    "print(\"cdr3beta不同长度的个数统计：\")\n",
    "print(tcr_length_counts)"
   ]
  },
  {
   "cell_type": "markdown",
   "metadata": {},
   "source": [
    "pep切成15肽，短于15的padding，max——len15\n",
    "tcr长于20的就扔掉，max——len20\n",
    "保证配对"
   ]
  },
  {
   "cell_type": "code",
   "execution_count": 7,
   "metadata": {},
   "outputs": [
    {
     "name": "stdout",
     "output_type": "stream",
     "text": [
      "692539\n"
     ]
    }
   ],
   "source": [
    "df1 = df1[df1['pep'].str.len() <= 15]\n",
    "df1 = df1[df1['pep'].str.len() >= 8]\n",
    "print(len(df1))"
   ]
  },
  {
   "cell_type": "code",
   "execution_count": 8,
   "metadata": {},
   "outputs": [
    {
     "name": "stdout",
     "output_type": "stream",
     "text": [
      "685033\n"
     ]
    }
   ],
   "source": [
    "df1 = df1[df1['tcr'].str.len() <= 19]\n",
    "df1 = df1[df1['tcr'].str.len() >= 9]\n",
    "print(len(df1))"
   ]
  },
  {
   "cell_type": "code",
   "execution_count": 9,
   "metadata": {},
   "outputs": [
    {
     "name": "stdout",
     "output_type": "stream",
     "text": [
      "pep 不同长度的个数统计：\n",
      "pep\n",
      "9     373243\n",
      "10    235249\n",
      "11     33618\n",
      "14     14184\n",
      "13     11368\n",
      "8       7966\n",
      "12      5988\n",
      "15      3417\n",
      "Name: count, dtype: int64\n"
     ]
    }
   ],
   "source": [
    "pep_length_counts = df1['pep'].apply(len).value_counts()\n",
    "\n",
    "print(\"pep 不同长度的个数统计：\")\n",
    "print(pep_length_counts)"
   ]
  },
  {
   "cell_type": "code",
   "execution_count": 10,
   "metadata": {},
   "outputs": [
    {
     "name": "stdout",
     "output_type": "stream",
     "text": [
      "beta 不同长度的个数统计：\n",
      "tcr\n",
      "15    143127\n",
      "14    132052\n",
      "13    118078\n",
      "16     84347\n",
      "12     76338\n",
      "17     47085\n",
      "11     38538\n",
      "18     21422\n",
      "10     11192\n",
      "19      9265\n",
      "9       3589\n",
      "Name: count, dtype: int64\n"
     ]
    }
   ],
   "source": [
    "tcr_length_counts = df1['tcr'].apply(len).value_counts()\n",
    "\n",
    "print(\"beta 不同长度的个数统计：\")\n",
    "print(tcr_length_counts)"
   ]
  },
  {
   "cell_type": "code",
   "execution_count": 11,
   "metadata": {},
   "outputs": [
    {
     "data": {
      "text/plain": [
       "685033"
      ]
     },
     "execution_count": 11,
     "metadata": {},
     "output_type": "execute_result"
    }
   ],
   "source": [
    "df1 = df1.drop_duplicates(ignore_index=True)\n",
    "len(df1)"
   ]
  },
  {
   "cell_type": "code",
   "execution_count": 12,
   "metadata": {},
   "outputs": [
    {
     "name": "stdout",
     "output_type": "stream",
     "text": [
      "261190\n"
     ]
    }
   ],
   "source": [
    "# 提取唯一的tcr值，转换为列表\n",
    "tcr_list = df1['tcr'].unique().tolist()\n",
    "print(len(tcr_list))\n",
    "\n",
    "# 保存去重后的tcr列表为numpy数组\n",
    "data_path = \"/data/lujd/TCRdata/benchmarks/level1\"\n",
    "os.makedirs(data_path, exist_ok=True)\n",
    "np.save(os.path.join(data_path, \"tcr2candidates_pools.npy\"), tcr_list)"
   ]
  },
  {
   "cell_type": "code",
   "execution_count": 13,
   "metadata": {},
   "outputs": [],
   "source": [
    "df1['label'] = 1\n",
    "\n",
    "# 将数据集按照8:1:1的比例分割成训练集、验证集和测试集\n",
    "# 先打乱数据集\n",
    "df_shuffled = df1.sample(frac=1, random_state=42).reset_index(drop=True)\n",
    "\n",
    "# 计算各个数据集的数量\n",
    "total_samples = len(df_shuffled)\n",
    "train_samples = int(0.8 * total_samples)\n",
    "val_samples = int(0.1 * total_samples)\n",
    "test_samples = total_samples - train_samples - val_samples\n",
    "\n",
    "# 分割数据集\n",
    "train_df = df_shuffled.iloc[:train_samples]\n",
    "val_df = df_shuffled.iloc[train_samples:train_samples + val_samples]\n",
    "test_df = df_shuffled.iloc[train_samples + val_samples:]\n",
    "\n",
    "# 保存分割后的数据集为CSV文件\n",
    "train_df.to_csv(os.path.join(data_path, \"train_data_fold0.csv\"), index=False)\n",
    "val_df.to_csv(os.path.join(data_path, \"valid_data_fold0.csv\"), index=False)\n",
    "test_df.to_csv(os.path.join(data_path, \"test_data_fold0.csv\"), index=False)"
   ]
  },
  {
   "cell_type": "markdown",
   "metadata": {},
   "source": [
    "--- \n",
    "\n",
    "### level-II A"
   ]
  },
  {
   "cell_type": "code",
   "execution_count": 14,
   "metadata": {},
   "outputs": [
    {
     "name": "stdout",
     "output_type": "stream",
     "text": [
      "(78679, 6)\n"
     ]
    },
    {
     "data": {
      "text/html": [
       "<div>\n",
       "<style scoped>\n",
       "    .dataframe tbody tr th:only-of-type {\n",
       "        vertical-align: middle;\n",
       "    }\n",
       "\n",
       "    .dataframe tbody tr th {\n",
       "        vertical-align: top;\n",
       "    }\n",
       "\n",
       "    .dataframe thead th {\n",
       "        text-align: right;\n",
       "    }\n",
       "</style>\n",
       "<table border=\"1\" class=\"dataframe\">\n",
       "  <thead>\n",
       "    <tr style=\"text-align: right;\">\n",
       "      <th></th>\n",
       "      <th>antigen.epitope</th>\n",
       "      <th>hla.allele</th>\n",
       "      <th>beta.cdr3</th>\n",
       "      <th>hla.full.seq</th>\n",
       "      <th>hla.clip.seq</th>\n",
       "      <th>hla.short.seq</th>\n",
       "    </tr>\n",
       "  </thead>\n",
       "  <tbody>\n",
       "    <tr>\n",
       "      <th>0</th>\n",
       "      <td>VMAPRTLIL</td>\n",
       "      <td>HLA-E*01:01</td>\n",
       "      <td>ASSQDRDTQY</td>\n",
       "      <td>MVDGTLLLLLSEALALTQTWAGSHSLKYFHTSVSRPGRGEPRFISV...</td>\n",
       "      <td>GSHSLKYFHTSVSRPGRGEPRFISVGYVDDTQFVRFDNDAASPRMV...</td>\n",
       "      <td>YHSMYRESADTIFVNTLYLWHEFYSSAEQAYTWY</td>\n",
       "    </tr>\n",
       "    <tr>\n",
       "      <th>1</th>\n",
       "      <td>VMAPRTLIL</td>\n",
       "      <td>HLA-E*01:03</td>\n",
       "      <td>ASSQDRDTQY</td>\n",
       "      <td>MVDGTLLLLLSEALALTQTWAGSHSLKYFHTSVSRPGRGEPRFISV...</td>\n",
       "      <td>GSHSLKYFHTSVSRPGRGEPRFISVGYVDDTQFVRFDNDAASPRMV...</td>\n",
       "      <td>YHSMYRESADTIFVNTLYLWHEFYSSAEQAYTWY</td>\n",
       "    </tr>\n",
       "    <tr>\n",
       "      <th>2</th>\n",
       "      <td>FLRGRFYGL</td>\n",
       "      <td>HLA-B*08</td>\n",
       "      <td>ASSLGQAYEQY</td>\n",
       "      <td>MLVMAPRTVLLLLSAALALTETWAGSHSMRYFDTAMSRPGRGEPRF...</td>\n",
       "      <td>GSHSMRYFDTAMSRPGRGEPRFISVGYVDDTQFVRFDSDAASPREE...</td>\n",
       "      <td>YDSEYRNIFTNTDESNLYLSYNYYTWAVDAYTWY</td>\n",
       "    </tr>\n",
       "    <tr>\n",
       "      <th>3</th>\n",
       "      <td>FLRGRAYGL</td>\n",
       "      <td>HLA-B*08</td>\n",
       "      <td>ASSLGQAYEQY</td>\n",
       "      <td>MLVMAPRTVLLLLSAALALTETWAGSHSMRYFDTAMSRPGRGEPRF...</td>\n",
       "      <td>GSHSMRYFDTAMSRPGRGEPRFISVGYVDDTQFVRFDSDAASPREE...</td>\n",
       "      <td>YDSEYRNIFTNTDESNLYLSYNYYTWAVDAYTWY</td>\n",
       "    </tr>\n",
       "    <tr>\n",
       "      <th>4</th>\n",
       "      <td>EEYLKAWTF</td>\n",
       "      <td>HLA-B*44:05</td>\n",
       "      <td>ASSLGQAYEQY</td>\n",
       "      <td>MRVTAPRTLLLLLWGAVALTETWAGSHSMRYFYTAMSRPGRGEPRF...</td>\n",
       "      <td>GSHSMRYFYTAMSRPGRGEPRFITVGYVDDTLFVRFDSDATSPRKE...</td>\n",
       "      <td>YYTKYREISTNTYENTAYIRYDYYTWAVDAYLSY</td>\n",
       "    </tr>\n",
       "  </tbody>\n",
       "</table>\n",
       "</div>"
      ],
      "text/plain": [
       "  antigen.epitope   hla.allele    beta.cdr3  \\\n",
       "0       VMAPRTLIL  HLA-E*01:01   ASSQDRDTQY   \n",
       "1       VMAPRTLIL  HLA-E*01:03   ASSQDRDTQY   \n",
       "2       FLRGRFYGL     HLA-B*08  ASSLGQAYEQY   \n",
       "3       FLRGRAYGL     HLA-B*08  ASSLGQAYEQY   \n",
       "4       EEYLKAWTF  HLA-B*44:05  ASSLGQAYEQY   \n",
       "\n",
       "                                        hla.full.seq  \\\n",
       "0  MVDGTLLLLLSEALALTQTWAGSHSLKYFHTSVSRPGRGEPRFISV...   \n",
       "1  MVDGTLLLLLSEALALTQTWAGSHSLKYFHTSVSRPGRGEPRFISV...   \n",
       "2  MLVMAPRTVLLLLSAALALTETWAGSHSMRYFDTAMSRPGRGEPRF...   \n",
       "3  MLVMAPRTVLLLLSAALALTETWAGSHSMRYFDTAMSRPGRGEPRF...   \n",
       "4  MRVTAPRTLLLLLWGAVALTETWAGSHSMRYFYTAMSRPGRGEPRF...   \n",
       "\n",
       "                                        hla.clip.seq  \\\n",
       "0  GSHSLKYFHTSVSRPGRGEPRFISVGYVDDTQFVRFDNDAASPRMV...   \n",
       "1  GSHSLKYFHTSVSRPGRGEPRFISVGYVDDTQFVRFDNDAASPRMV...   \n",
       "2  GSHSMRYFDTAMSRPGRGEPRFISVGYVDDTQFVRFDSDAASPREE...   \n",
       "3  GSHSMRYFDTAMSRPGRGEPRFISVGYVDDTQFVRFDSDAASPREE...   \n",
       "4  GSHSMRYFYTAMSRPGRGEPRFITVGYVDDTLFVRFDSDATSPRKE...   \n",
       "\n",
       "                        hla.short.seq  \n",
       "0  YHSMYRESADTIFVNTLYLWHEFYSSAEQAYTWY  \n",
       "1  YHSMYRESADTIFVNTLYLWHEFYSSAEQAYTWY  \n",
       "2  YDSEYRNIFTNTDESNLYLSYNYYTWAVDAYTWY  \n",
       "3  YDSEYRNIFTNTDESNLYLSYNYYTWAVDAYTWY  \n",
       "4  YYTKYREISTNTYENTAYIRYDYYTWAVDAYLSY  "
      ]
     },
     "execution_count": 14,
     "metadata": {},
     "output_type": "execute_result"
    }
   ],
   "source": [
    "df_2a = pd.read_csv(os.path.join(\n",
    "    dataset_dir,\n",
    "    \"Hi-TpH-level-IIA.csv\"\n",
    "))\n",
    "print(df_2a.shape)\n",
    "df_2a.head()"
   ]
  },
  {
   "cell_type": "code",
   "execution_count": 15,
   "metadata": {},
   "outputs": [
    {
     "name": "stdout",
     "output_type": "stream",
     "text": [
      "(78679, 6)\n"
     ]
    }
   ],
   "source": [
    "df_2a = df_2a.dropna(subset=['antigen.epitope', 'beta.cdr3',\"hla.short.seq\"])\n",
    "df_2a.rename(columns={\"antigen.epitope\":\"pep\", \"hla.short.seq\":\"hla\", \"beta.cdr3\":\"beta\"}, inplace=True)\n",
    "df_2a = df_2a.drop_duplicates(ignore_index=True)\n",
    "print(df_2a.shape)"
   ]
  },
  {
   "cell_type": "code",
   "execution_count": 16,
   "metadata": {},
   "outputs": [
    {
     "data": {
      "text/plain": [
       "1401"
      ]
     },
     "execution_count": 16,
     "metadata": {},
     "output_type": "execute_result"
    }
   ],
   "source": [
    "df_2a = df_2a[[\"beta\",\"hla\",\"pep\"]]\n",
    "df_2a.pep.nunique()"
   ]
  },
  {
   "cell_type": "code",
   "execution_count": 17,
   "metadata": {},
   "outputs": [
    {
     "name": "stdout",
     "output_type": "stream",
     "text": [
      "pep不同长度的个数统计：\n",
      "pep\n",
      "9     65364\n",
      "10    10213\n",
      "8      2040\n",
      "11      890\n",
      "12      106\n",
      "13       40\n",
      "20       17\n",
      "15        6\n",
      "7         2\n",
      "24        1\n",
      "Name: count, dtype: int64\n"
     ]
    }
   ],
   "source": [
    "pep_length_counts = df_2a['pep'].apply(len).value_counts()\n",
    "\n",
    "print(\"pep不同长度的个数统计：\")\n",
    "print(pep_length_counts)"
   ]
  },
  {
   "cell_type": "code",
   "execution_count": 18,
   "metadata": {},
   "outputs": [
    {
     "name": "stdout",
     "output_type": "stream",
     "text": [
      "cdr3beta不同长度的个数统计：\n",
      "beta\n",
      "13    16091\n",
      "14    13839\n",
      "15    12395\n",
      "12     9958\n",
      "11     8085\n",
      "16     7109\n",
      "17     3570\n",
      "10     2870\n",
      "18     1581\n",
      "9      1094\n",
      "19     1013\n",
      "20      262\n",
      "8       242\n",
      "7       117\n",
      "21       88\n",
      "5        87\n",
      "6        86\n",
      "4        55\n",
      "22       47\n",
      "3        44\n",
      "23       16\n",
      "24       10\n",
      "2         6\n",
      "1         3\n",
      "25        3\n",
      "26        3\n",
      "31        1\n",
      "34        1\n",
      "38        1\n",
      "27        1\n",
      "33        1\n",
      "Name: count, dtype: int64\n"
     ]
    }
   ],
   "source": [
    "tcr_length_counts = df_2a['beta'].apply(len).value_counts()\n",
    "\n",
    "print(\"cdr3beta不同长度的个数统计：\")\n",
    "print(tcr_length_counts)"
   ]
  },
  {
   "cell_type": "code",
   "execution_count": 19,
   "metadata": {},
   "outputs": [
    {
     "data": {
      "text/plain": [
       "(77605, 3)"
      ]
     },
     "execution_count": 19,
     "metadata": {},
     "output_type": "execute_result"
    }
   ],
   "source": [
    "df_2a = df_2a[df_2a['beta'].str.len() <= 19]\n",
    "df_2a = df_2a[df_2a['beta'].str.len() >= 9]\n",
    "df_2a.shape"
   ]
  },
  {
   "cell_type": "code",
   "execution_count": 20,
   "metadata": {},
   "outputs": [
    {
     "data": {
      "text/plain": [
       "(76555, 3)"
      ]
     },
     "execution_count": 20,
     "metadata": {},
     "output_type": "execute_result"
    }
   ],
   "source": [
    "df_2a = df_2a[df_2a['pep'].str.len() <= 10 ]\n",
    "df_2a = df_2a[df_2a['pep'].str.len() >= 8]\n",
    "df_2a.shape"
   ]
  },
  {
   "cell_type": "code",
   "execution_count": 22,
   "metadata": {},
   "outputs": [
    {
     "name": "stdout",
     "output_type": "stream",
     "text": [
      "pep 不同长度的个数统计：\n",
      "pep\n",
      "9     64409\n",
      "10    10132\n",
      "8      2014\n",
      "Name: count, dtype: int64\n"
     ]
    }
   ],
   "source": [
    "pep_length_counts = df_2a['pep'].apply(len).value_counts()\n",
    "\n",
    "print(\"pep 不同长度的个数统计：\")\n",
    "print(pep_length_counts)"
   ]
  },
  {
   "cell_type": "code",
   "execution_count": 23,
   "metadata": {},
   "outputs": [
    {
     "name": "stdout",
     "output_type": "stream",
     "text": [
      "beta 不同长度的个数统计：\n",
      "beta\n",
      "13    15929\n",
      "14    13633\n",
      "15    12216\n",
      "12     9772\n",
      "11     8014\n",
      "16     7008\n",
      "17     3520\n",
      "10     2851\n",
      "18     1563\n",
      "9      1051\n",
      "19      998\n",
      "Name: count, dtype: int64\n"
     ]
    }
   ],
   "source": [
    "tcr_length_counts = df_2a['beta'].apply(len).value_counts()\n",
    "\n",
    "print(\"beta 不同长度的个数统计：\")\n",
    "print(tcr_length_counts)"
   ]
  },
  {
   "cell_type": "code",
   "execution_count": 24,
   "metadata": {},
   "outputs": [
    {
     "name": "stdout",
     "output_type": "stream",
     "text": [
      "hla 不同长度的个数统计：\n",
      "hla\n",
      "34    76555\n",
      "Name: count, dtype: int64\n"
     ]
    }
   ],
   "source": [
    "hla_length_counts = df_2a['hla'].apply(len).value_counts()\n",
    "\n",
    "print(\"hla 不同长度的个数统计：\")\n",
    "print(hla_length_counts)"
   ]
  },
  {
   "cell_type": "code",
   "execution_count": 25,
   "metadata": {},
   "outputs": [
    {
     "data": {
      "text/plain": [
       "76545"
      ]
     },
     "execution_count": 25,
     "metadata": {},
     "output_type": "execute_result"
    }
   ],
   "source": [
    "df_2a = df_2a.drop_duplicates(subset=['pep', 'beta', 'hla'], ignore_index=True)\n",
    "len(df_2a)"
   ]
  },
  {
   "cell_type": "markdown",
   "metadata": {},
   "source": [
    "- all components"
   ]
  },
  {
   "cell_type": "code",
   "execution_count": 26,
   "metadata": {},
   "outputs": [
    {
     "name": "stdout",
     "output_type": "stream",
     "text": [
      "71699\n"
     ]
    }
   ],
   "source": [
    "# 提取唯一的tcr值，转换为列表\n",
    "tcr_list = df_2a['beta'].unique().tolist()\n",
    "print(len(tcr_list))\n",
    "\n",
    "# 保存去重后的tcr列表为numpy数组\n",
    "data_path = \"/data/lujd/TCRdata/benchmarks/level2a\"\n",
    "os.makedirs(data_path, exist_ok=True)\n",
    "np.save(os.path.join(data_path, \"tcr2candidates_pools.npy\"), tcr_list)"
   ]
  },
  {
   "cell_type": "code",
   "execution_count": 27,
   "metadata": {},
   "outputs": [],
   "source": [
    "df_2a['label'] = 1\n",
    "\n",
    "# 将数据集按照8:1:1的比例分割成训练集、验证集和测试集\n",
    "# 先打乱数据集\n",
    "df_shuffled = df_2a.sample(frac=1, random_state=42).reset_index(drop=True)\n",
    "\n",
    "# 计算各个数据集的数量\n",
    "total_samples = len(df_shuffled)\n",
    "train_samples = int(0.8 * total_samples)\n",
    "val_samples = int(0.1 * total_samples)\n",
    "test_samples = total_samples - train_samples - val_samples\n",
    "\n",
    "# 分割数据集\n",
    "train_df = df_shuffled.iloc[:train_samples]\n",
    "val_df = df_shuffled.iloc[train_samples:train_samples + val_samples]\n",
    "test_df = df_shuffled.iloc[train_samples + val_samples:]\n",
    "\n",
    "# 保存分割后的数据集为CSV文件\n",
    "train_df.to_csv(os.path.join(data_path, \"train_data_fold0.csv\"), index=False)\n",
    "val_df.to_csv(os.path.join(data_path, \"valid_data_fold0.csv\"), index=False)\n",
    "test_df.to_csv(os.path.join(data_path, \"test_data_fold0.csv\"), index=False)"
   ]
  },
  {
   "cell_type": "code",
   "execution_count": 30,
   "metadata": {},
   "outputs": [
    {
     "data": {
      "text/html": [
       "<div>\n",
       "<style scoped>\n",
       "    .dataframe tbody tr th:only-of-type {\n",
       "        vertical-align: middle;\n",
       "    }\n",
       "\n",
       "    .dataframe tbody tr th {\n",
       "        vertical-align: top;\n",
       "    }\n",
       "\n",
       "    .dataframe thead th {\n",
       "        text-align: right;\n",
       "    }\n",
       "</style>\n",
       "<table border=\"1\" class=\"dataframe\">\n",
       "  <thead>\n",
       "    <tr style=\"text-align: right;\">\n",
       "      <th></th>\n",
       "      <th>beta</th>\n",
       "      <th>hla</th>\n",
       "      <th>pep</th>\n",
       "      <th>label</th>\n",
       "    </tr>\n",
       "  </thead>\n",
       "  <tbody>\n",
       "    <tr>\n",
       "      <th>0</th>\n",
       "      <td>CAWTWGTLNTEAFF</td>\n",
       "      <td>YFAMYQENVAQTDVDTLYIIYRDYTWAELAYTWY</td>\n",
       "      <td>KLGGALQAK</td>\n",
       "      <td>1</td>\n",
       "    </tr>\n",
       "    <tr>\n",
       "      <th>1</th>\n",
       "      <td>CASSPPGTGYGYTF</td>\n",
       "      <td>YFAMYQENVAQTDVDTLYIIYRDYTWAELAYTWY</td>\n",
       "      <td>KLGGALQAK</td>\n",
       "      <td>1</td>\n",
       "    </tr>\n",
       "    <tr>\n",
       "      <th>2</th>\n",
       "      <td>CASSVGVSGSFYEQYF</td>\n",
       "      <td>YFAMYGEKVAHTHVDTLYVRYHYYTWAVLAYTWY</td>\n",
       "      <td>MLNIPSINV</td>\n",
       "      <td>1</td>\n",
       "    </tr>\n",
       "    <tr>\n",
       "      <th>3</th>\n",
       "      <td>ASSLASGRSTEAF</td>\n",
       "      <td>YSAMYEEKVAHTDENIAYLMFHYYTWAVQAYTGY</td>\n",
       "      <td>AYAQKIFKI</td>\n",
       "      <td>1</td>\n",
       "    </tr>\n",
       "    <tr>\n",
       "      <th>4</th>\n",
       "      <td>CASSSVPNNEAFF</td>\n",
       "      <td>YFAMYGEKVAHTHVDTLYVRYHYYTWAVLAYTWY</td>\n",
       "      <td>GILGFVFTL</td>\n",
       "      <td>1</td>\n",
       "    </tr>\n",
       "    <tr>\n",
       "      <th>...</th>\n",
       "      <td>...</td>\n",
       "      <td>...</td>\n",
       "      <td>...</td>\n",
       "      <td>...</td>\n",
       "    </tr>\n",
       "    <tr>\n",
       "      <th>61231</th>\n",
       "      <td>CASSTGLLTDTQYF</td>\n",
       "      <td>YFAMYQENVAQTDVDTLYIIYRDYTWAELAYTWY</td>\n",
       "      <td>KLGGALQAK</td>\n",
       "      <td>1</td>\n",
       "    </tr>\n",
       "    <tr>\n",
       "      <th>61232</th>\n",
       "      <td>CASSPPRQRDTQYF</td>\n",
       "      <td>YSAMYEEKVAHTDENIAYLMFHYYTWAVQAYTGY</td>\n",
       "      <td>SFHSLHLLF</td>\n",
       "      <td>1</td>\n",
       "    </tr>\n",
       "    <tr>\n",
       "      <th>61233</th>\n",
       "      <td>CSGFGDRGNTDTQYF</td>\n",
       "      <td>YFAMYGEKVAHTHVDTLYVRYHYYTWAVLAYTWY</td>\n",
       "      <td>CLGGLLTMV</td>\n",
       "      <td>1</td>\n",
       "    </tr>\n",
       "    <tr>\n",
       "      <th>61234</th>\n",
       "      <td>CASSEAGLGHEQFF</td>\n",
       "      <td>YFAMYGEKVAHTHVDTLYVRYHYYTWAVLAYTWY</td>\n",
       "      <td>NLVPMVATV</td>\n",
       "      <td>1</td>\n",
       "    </tr>\n",
       "    <tr>\n",
       "      <th>61235</th>\n",
       "      <td>CASSLDLRQGRDTQYF</td>\n",
       "      <td>YFAMYQENVAQTDVDTLYIIYRDYTWAELAYTWY</td>\n",
       "      <td>KLGGALQAK</td>\n",
       "      <td>1</td>\n",
       "    </tr>\n",
       "  </tbody>\n",
       "</table>\n",
       "<p>61236 rows × 4 columns</p>\n",
       "</div>"
      ],
      "text/plain": [
       "                   beta                                 hla        pep  label\n",
       "0        CAWTWGTLNTEAFF  YFAMYQENVAQTDVDTLYIIYRDYTWAELAYTWY  KLGGALQAK      1\n",
       "1        CASSPPGTGYGYTF  YFAMYQENVAQTDVDTLYIIYRDYTWAELAYTWY  KLGGALQAK      1\n",
       "2      CASSVGVSGSFYEQYF  YFAMYGEKVAHTHVDTLYVRYHYYTWAVLAYTWY  MLNIPSINV      1\n",
       "3         ASSLASGRSTEAF  YSAMYEEKVAHTDENIAYLMFHYYTWAVQAYTGY  AYAQKIFKI      1\n",
       "4         CASSSVPNNEAFF  YFAMYGEKVAHTHVDTLYVRYHYYTWAVLAYTWY  GILGFVFTL      1\n",
       "...                 ...                                 ...        ...    ...\n",
       "61231    CASSTGLLTDTQYF  YFAMYQENVAQTDVDTLYIIYRDYTWAELAYTWY  KLGGALQAK      1\n",
       "61232    CASSPPRQRDTQYF  YSAMYEEKVAHTDENIAYLMFHYYTWAVQAYTGY  SFHSLHLLF      1\n",
       "61233   CSGFGDRGNTDTQYF  YFAMYGEKVAHTHVDTLYVRYHYYTWAVLAYTWY  CLGGLLTMV      1\n",
       "61234    CASSEAGLGHEQFF  YFAMYGEKVAHTHVDTLYVRYHYYTWAVLAYTWY  NLVPMVATV      1\n",
       "61235  CASSLDLRQGRDTQYF  YFAMYQENVAQTDVDTLYIIYRDYTWAELAYTWY  KLGGALQAK      1\n",
       "\n",
       "[61236 rows x 4 columns]"
      ]
     },
     "execution_count": 30,
     "metadata": {},
     "output_type": "execute_result"
    }
   ],
   "source": [
    "train_df"
   ]
  },
  {
   "cell_type": "markdown",
   "metadata": {},
   "source": [
    "- 2 component"
   ]
  },
  {
   "cell_type": "code",
   "execution_count": 29,
   "metadata": {},
   "outputs": [
    {
     "name": "stdout",
     "output_type": "stream",
     "text": [
      "71699\n"
     ]
    }
   ],
   "source": [
    "# 提取唯一的tcr值，转换为列表\n",
    "tcr_list = df_2a['beta'].unique().tolist()\n",
    "print(len(tcr_list))\n",
    "\n",
    "# 保存去重后的tcr列表为numpy数组\n",
    "data_path = \"/data/lujd/TCRdata/benchmarks/level2a_basic\"\n",
    "os.makedirs(data_path, exist_ok=True)\n",
    "np.save(os.path.join(data_path, \"tcr2candidates_pools.npy\"), tcr_list)"
   ]
  },
  {
   "cell_type": "code",
   "execution_count": 31,
   "metadata": {},
   "outputs": [
    {
     "name": "stdout",
     "output_type": "stream",
     "text": [
      "61236\n",
      "61185\n",
      "7654\n",
      "7653\n",
      "7655\n",
      "7655\n",
      "76493\n",
      "76461\n",
      "61185\n",
      "7637\n",
      "7639\n"
     ]
    }
   ],
   "source": [
    "df_2a['label'] = 1\n",
    "\n",
    "# 将数据集按照8:1:1的比例分割成训练集、验证集和测试集\n",
    "# 先打乱数据集\n",
    "df_shuffled = df_2a.sample(frac=1, random_state=42).reset_index(drop=True)\n",
    "\n",
    "# 计算各个数据集的数量\n",
    "total_samples = len(df_shuffled)\n",
    "train_samples = int(0.8 * total_samples)\n",
    "val_samples = int(0.1 * total_samples)\n",
    "test_samples = total_samples - train_samples - val_samples\n",
    "\n",
    "# 分割数据集\n",
    "train_df = df_shuffled.iloc[:train_samples]\n",
    "val_df = df_shuffled.iloc[train_samples:train_samples + val_samples]\n",
    "test_df = df_shuffled.iloc[train_samples + val_samples:]\n",
    "\n",
    "# 去除掉每个数据集中重复的 ['pep', 'beta'] pair\n",
    "print(len(train_df))\n",
    "train_df = train_df[[\"beta\", \"pep\", 'label']]\n",
    "train_df = train_df.drop_duplicates(subset=['beta', 'pep'], ignore_index=True)\n",
    "print(len(train_df))\n",
    "\n",
    "print(len(val_df))\n",
    "val_df = val_df[[\"beta\", \"pep\", 'label']]\n",
    "val_df = val_df.drop_duplicates(subset=['beta', 'pep'], ignore_index=True)\n",
    "print(len(val_df))\n",
    "\n",
    "print(len(test_df))\n",
    "test_df = test_df[[\"beta\", \"pep\", 'label']]\n",
    "test_df = test_df.drop_duplicates(subset=['beta', 'pep'], ignore_index=True)\n",
    "print(len(test_df))\n",
    "\n",
    "# 去除数据集之间重复的 ['pep', 'beta'] pair\n",
    "train_df['tag'] = 'train'\n",
    "val_df['tag'] = 'val'\n",
    "test_df['tag'] = 'test'\n",
    "merge_df = pd.concat((train_df, val_df, test_df), axis=0).reset_index(drop=True)\n",
    "print(len(merge_df))\n",
    "merge_df = merge_df.drop_duplicates(subset=['beta', 'pep'], ignore_index=True, keep='first')\n",
    "print(len(merge_df))\n",
    "\n",
    "train_df = merge_df[merge_df['tag']=='train'].reset_index(drop=True)\n",
    "train_df = train_df[[\"beta\", \"pep\", 'label']]\n",
    "print(len(train_df))\n",
    "\n",
    "val_df = merge_df[merge_df['tag']=='val'].reset_index(drop=True)\n",
    "val_df = val_df[[\"beta\", \"pep\", 'label']]\n",
    "print(len(val_df))\n",
    "\n",
    "test_df = merge_df[merge_df['tag']=='test'].reset_index(drop=True)\n",
    "test_df = test_df[[\"beta\", \"pep\", 'label']]\n",
    "print(len(test_df))\n",
    "\n",
    "# 保存分割后的数据集为CSV文件\n",
    "train_df.to_csv(os.path.join(data_path, \"train_data_fold0.csv\"), index=False)\n",
    "val_df.to_csv(os.path.join(data_path, \"valid_data_fold0.csv\"), index=False)\n",
    "test_df.to_csv(os.path.join(data_path, \"test_data_fold0.csv\"), index=False)"
   ]
  },
  {
   "cell_type": "code",
   "execution_count": 32,
   "metadata": {},
   "outputs": [
    {
     "data": {
      "text/html": [
       "<div>\n",
       "<style scoped>\n",
       "    .dataframe tbody tr th:only-of-type {\n",
       "        vertical-align: middle;\n",
       "    }\n",
       "\n",
       "    .dataframe tbody tr th {\n",
       "        vertical-align: top;\n",
       "    }\n",
       "\n",
       "    .dataframe thead th {\n",
       "        text-align: right;\n",
       "    }\n",
       "</style>\n",
       "<table border=\"1\" class=\"dataframe\">\n",
       "  <thead>\n",
       "    <tr style=\"text-align: right;\">\n",
       "      <th></th>\n",
       "      <th>beta</th>\n",
       "      <th>pep</th>\n",
       "      <th>label</th>\n",
       "    </tr>\n",
       "  </thead>\n",
       "  <tbody>\n",
       "    <tr>\n",
       "      <th>0</th>\n",
       "      <td>CAWTWGTLNTEAFF</td>\n",
       "      <td>KLGGALQAK</td>\n",
       "      <td>1</td>\n",
       "    </tr>\n",
       "    <tr>\n",
       "      <th>1</th>\n",
       "      <td>CASSPPGTGYGYTF</td>\n",
       "      <td>KLGGALQAK</td>\n",
       "      <td>1</td>\n",
       "    </tr>\n",
       "    <tr>\n",
       "      <th>2</th>\n",
       "      <td>CASSVGVSGSFYEQYF</td>\n",
       "      <td>MLNIPSINV</td>\n",
       "      <td>1</td>\n",
       "    </tr>\n",
       "    <tr>\n",
       "      <th>3</th>\n",
       "      <td>ASSLASGRSTEAF</td>\n",
       "      <td>AYAQKIFKI</td>\n",
       "      <td>1</td>\n",
       "    </tr>\n",
       "    <tr>\n",
       "      <th>4</th>\n",
       "      <td>CASSSVPNNEAFF</td>\n",
       "      <td>GILGFVFTL</td>\n",
       "      <td>1</td>\n",
       "    </tr>\n",
       "    <tr>\n",
       "      <th>...</th>\n",
       "      <td>...</td>\n",
       "      <td>...</td>\n",
       "      <td>...</td>\n",
       "    </tr>\n",
       "    <tr>\n",
       "      <th>61180</th>\n",
       "      <td>CASSTGLLTDTQYF</td>\n",
       "      <td>KLGGALQAK</td>\n",
       "      <td>1</td>\n",
       "    </tr>\n",
       "    <tr>\n",
       "      <th>61181</th>\n",
       "      <td>CASSPPRQRDTQYF</td>\n",
       "      <td>SFHSLHLLF</td>\n",
       "      <td>1</td>\n",
       "    </tr>\n",
       "    <tr>\n",
       "      <th>61182</th>\n",
       "      <td>CSGFGDRGNTDTQYF</td>\n",
       "      <td>CLGGLLTMV</td>\n",
       "      <td>1</td>\n",
       "    </tr>\n",
       "    <tr>\n",
       "      <th>61183</th>\n",
       "      <td>CASSEAGLGHEQFF</td>\n",
       "      <td>NLVPMVATV</td>\n",
       "      <td>1</td>\n",
       "    </tr>\n",
       "    <tr>\n",
       "      <th>61184</th>\n",
       "      <td>CASSLDLRQGRDTQYF</td>\n",
       "      <td>KLGGALQAK</td>\n",
       "      <td>1</td>\n",
       "    </tr>\n",
       "  </tbody>\n",
       "</table>\n",
       "<p>61185 rows × 3 columns</p>\n",
       "</div>"
      ],
      "text/plain": [
       "                   beta        pep  label\n",
       "0        CAWTWGTLNTEAFF  KLGGALQAK      1\n",
       "1        CASSPPGTGYGYTF  KLGGALQAK      1\n",
       "2      CASSVGVSGSFYEQYF  MLNIPSINV      1\n",
       "3         ASSLASGRSTEAF  AYAQKIFKI      1\n",
       "4         CASSSVPNNEAFF  GILGFVFTL      1\n",
       "...                 ...        ...    ...\n",
       "61180    CASSTGLLTDTQYF  KLGGALQAK      1\n",
       "61181    CASSPPRQRDTQYF  SFHSLHLLF      1\n",
       "61182   CSGFGDRGNTDTQYF  CLGGLLTMV      1\n",
       "61183    CASSEAGLGHEQFF  NLVPMVATV      1\n",
       "61184  CASSLDLRQGRDTQYF  KLGGALQAK      1\n",
       "\n",
       "[61185 rows x 3 columns]"
      ]
     },
     "execution_count": 32,
     "metadata": {},
     "output_type": "execute_result"
    }
   ],
   "source": [
    "train_df"
   ]
  },
  {
   "cell_type": "markdown",
   "metadata": {},
   "source": [
    "---\n",
    "\n",
    "### level-II B"
   ]
  },
  {
   "cell_type": "code",
   "execution_count": 33,
   "metadata": {},
   "outputs": [
    {
     "name": "stdout",
     "output_type": "stream",
     "text": [
      "(28375, 3)\n"
     ]
    },
    {
     "data": {
      "text/html": [
       "<div>\n",
       "<style scoped>\n",
       "    .dataframe tbody tr th:only-of-type {\n",
       "        vertical-align: middle;\n",
       "    }\n",
       "\n",
       "    .dataframe tbody tr th {\n",
       "        vertical-align: top;\n",
       "    }\n",
       "\n",
       "    .dataframe thead th {\n",
       "        text-align: right;\n",
       "    }\n",
       "</style>\n",
       "<table border=\"1\" class=\"dataframe\">\n",
       "  <thead>\n",
       "    <tr style=\"text-align: right;\">\n",
       "      <th></th>\n",
       "      <th>antigen.epitope</th>\n",
       "      <th>alpha.cdr3</th>\n",
       "      <th>beta.cdr3</th>\n",
       "    </tr>\n",
       "  </thead>\n",
       "  <tbody>\n",
       "    <tr>\n",
       "      <th>0</th>\n",
       "      <td>VMAPRTLIL</td>\n",
       "      <td>IVVRSSNTGKLI</td>\n",
       "      <td>ASSQDRDTQY</td>\n",
       "    </tr>\n",
       "    <tr>\n",
       "      <th>1</th>\n",
       "      <td>SLLMWITQC</td>\n",
       "      <td>AVRPLLDGTYIPT</td>\n",
       "      <td>ASSYLGNTGELF</td>\n",
       "    </tr>\n",
       "    <tr>\n",
       "      <th>2</th>\n",
       "      <td>EENLLDFVRF</td>\n",
       "      <td>IVWGGYQKVT</td>\n",
       "      <td>ASRYRDDSYNEQF</td>\n",
       "    </tr>\n",
       "    <tr>\n",
       "      <th>3</th>\n",
       "      <td>LLFGYPVYV</td>\n",
       "      <td>AVTTDSWGKLQ</td>\n",
       "      <td>ASRPGLAGGRPEQY</td>\n",
       "    </tr>\n",
       "    <tr>\n",
       "      <th>4</th>\n",
       "      <td>LLFGYPVFV</td>\n",
       "      <td>AVTTDSWGKLQ</td>\n",
       "      <td>ASRPGLAGGRPEQY</td>\n",
       "    </tr>\n",
       "  </tbody>\n",
       "</table>\n",
       "</div>"
      ],
      "text/plain": [
       "  antigen.epitope     alpha.cdr3       beta.cdr3\n",
       "0       VMAPRTLIL   IVVRSSNTGKLI      ASSQDRDTQY\n",
       "1       SLLMWITQC  AVRPLLDGTYIPT    ASSYLGNTGELF\n",
       "2      EENLLDFVRF     IVWGGYQKVT   ASRYRDDSYNEQF\n",
       "3       LLFGYPVYV    AVTTDSWGKLQ  ASRPGLAGGRPEQY\n",
       "4       LLFGYPVFV    AVTTDSWGKLQ  ASRPGLAGGRPEQY"
      ]
     },
     "execution_count": 33,
     "metadata": {},
     "output_type": "execute_result"
    }
   ],
   "source": [
    "df_tcr = pd.read_csv(os.path.join(\n",
    "    dataset_dir,\n",
    "    \"Hi-TpH-level-IIB.csv\"\n",
    "))\n",
    "print(df_tcr.shape)\n",
    "df_tcr.head()"
   ]
  },
  {
   "cell_type": "code",
   "execution_count": 34,
   "metadata": {},
   "outputs": [
    {
     "name": "stdout",
     "output_type": "stream",
     "text": [
      "(28375, 3)\n"
     ]
    }
   ],
   "source": [
    "df_tcr = df_tcr.dropna(subset=['antigen.epitope', 'beta.cdr3', \"alpha.cdr3\"])\n",
    "df_tcr.rename(columns={\"antigen.epitope\":\"pep\", \"beta.cdr3\":\"beta\", \"alpha.cdr3\":\"alpha\"}, inplace=True)\n",
    "df_tcr = df_tcr.drop_duplicates(ignore_index=True)\n",
    "print(df_tcr.shape)"
   ]
  },
  {
   "cell_type": "code",
   "execution_count": 35,
   "metadata": {},
   "outputs": [
    {
     "data": {
      "text/plain": [
       "(1154, 22566, 20979)"
      ]
     },
     "execution_count": 35,
     "metadata": {},
     "output_type": "execute_result"
    }
   ],
   "source": [
    "df_tcr.pep.nunique(), df_tcr.beta.nunique(), df_tcr.alpha.nunique()"
   ]
  },
  {
   "cell_type": "code",
   "execution_count": 36,
   "metadata": {},
   "outputs": [
    {
     "name": "stdout",
     "output_type": "stream",
     "text": [
      "pep不同长度的个数统计：\n",
      "pep\n",
      "9     23484\n",
      "10     3221\n",
      "8      1336\n",
      "11      188\n",
      "12      102\n",
      "13       35\n",
      "25        5\n",
      "7         3\n",
      "24        1\n",
      "Name: count, dtype: int64\n"
     ]
    }
   ],
   "source": [
    "pep_length_counts = df_tcr['pep'].apply(len).value_counts()\n",
    "\n",
    "print(\"pep不同长度的个数统计：\")\n",
    "print(pep_length_counts)"
   ]
  },
  {
   "cell_type": "code",
   "execution_count": 37,
   "metadata": {},
   "outputs": [
    {
     "data": {
      "text/plain": [
       "(28041, 3)"
      ]
     },
     "execution_count": 37,
     "metadata": {},
     "output_type": "execute_result"
    }
   ],
   "source": [
    "df_tcr = df_tcr[df_tcr['pep'].str.len() <= 10 ]\n",
    "df_tcr = df_tcr[df_tcr['pep'].str.len() >= 8]\n",
    "df_tcr.shape"
   ]
  },
  {
   "cell_type": "code",
   "execution_count": 38,
   "metadata": {},
   "outputs": [
    {
     "name": "stdout",
     "output_type": "stream",
     "text": [
      "beta 不同长度的个数统计：\n",
      "beta\n",
      "15    6367\n",
      "14    5729\n",
      "13    5627\n",
      "16    3654\n",
      "12    2051\n",
      "17    2033\n",
      "18     898\n",
      "11     870\n",
      "19     390\n",
      "20     157\n",
      "10     149\n",
      "21      51\n",
      "9       23\n",
      "22      17\n",
      "8       11\n",
      "23       7\n",
      "26       3\n",
      "25       2\n",
      "24       1\n",
      "7        1\n",
      "Name: count, dtype: int64\n"
     ]
    }
   ],
   "source": [
    "beta_length_counts = df_tcr['beta'].apply(len).value_counts()\n",
    "\n",
    "print(\"beta 不同长度的个数统计：\")\n",
    "print(beta_length_counts)"
   ]
  },
  {
   "cell_type": "code",
   "execution_count": 39,
   "metadata": {},
   "outputs": [
    {
     "name": "stdout",
     "output_type": "stream",
     "text": [
      "alpha 不同长度的个数统计：\n",
      "alpha\n",
      "13    5574\n",
      "14    5223\n",
      "12    4519\n",
      "15    4518\n",
      "11    2540\n",
      "16    2307\n",
      "17    1424\n",
      "10     934\n",
      "18     444\n",
      "9      199\n",
      "19     177\n",
      "8       90\n",
      "20      40\n",
      "21      15\n",
      "7       13\n",
      "22       8\n",
      "6        4\n",
      "24       3\n",
      "26       3\n",
      "25       3\n",
      "23       2\n",
      "5        1\n",
      "Name: count, dtype: int64\n"
     ]
    }
   ],
   "source": [
    "alpha_length_counts = df_tcr['alpha'].apply(len).value_counts()\n",
    "\n",
    "print(\"alpha 不同长度的个数统计：\")\n",
    "print(alpha_length_counts)"
   ]
  },
  {
   "cell_type": "code",
   "execution_count": 40,
   "metadata": {},
   "outputs": [
    {
     "data": {
      "text/plain": [
       "(27859, 3)"
      ]
     },
     "execution_count": 40,
     "metadata": {},
     "output_type": "execute_result"
    }
   ],
   "source": [
    "df_tcr = df_tcr[df_tcr['alpha'].str.len() <= 19]\n",
    "df_tcr = df_tcr[df_tcr['alpha'].str.len() >= 9]\n",
    "df_tcr.shape"
   ]
  },
  {
   "cell_type": "code",
   "execution_count": 41,
   "metadata": {},
   "outputs": [
    {
     "data": {
      "text/plain": [
       "(27611, 3)"
      ]
     },
     "execution_count": 41,
     "metadata": {},
     "output_type": "execute_result"
    }
   ],
   "source": [
    "df_tcr = df_tcr[df_tcr['beta'].str.len() <= 19]\n",
    "df_tcr = df_tcr[df_tcr['beta'].str.len() >= 9]\n",
    "df_tcr.shape"
   ]
  },
  {
   "cell_type": "code",
   "execution_count": 43,
   "metadata": {},
   "outputs": [
    {
     "name": "stdout",
     "output_type": "stream",
     "text": [
      "pep 不同长度的个数统计：\n",
      "pep\n",
      "9     23124\n",
      "10     3172\n",
      "8      1315\n",
      "Name: count, dtype: int64\n"
     ]
    }
   ],
   "source": [
    "pep_length_counts = df_tcr['pep'].apply(len).value_counts()\n",
    "\n",
    "print(\"pep 不同长度的个数统计：\")\n",
    "print(pep_length_counts)"
   ]
  },
  {
   "cell_type": "code",
   "execution_count": 44,
   "metadata": {},
   "outputs": [
    {
     "name": "stdout",
     "output_type": "stream",
     "text": [
      "27611\n",
      "27611\n"
     ]
    }
   ],
   "source": [
    "df_tcr[\"ab\"] = df_tcr['alpha'] + '/' + df_tcr['beta']\n",
    "\n",
    "df_tcr = df_tcr.drop_duplicates(subset=['pep', 'ab'], ignore_index=True)\n",
    "print(len(df_tcr))\n",
    "df_tcr = df_tcr.drop_duplicates(subset=['pep', 'alpha', 'beta'], ignore_index=True)\n",
    "print(len(df_tcr))"
   ]
  },
  {
   "cell_type": "markdown",
   "metadata": {},
   "source": [
    "- all component"
   ]
  },
  {
   "cell_type": "code",
   "execution_count": 45,
   "metadata": {},
   "outputs": [
    {
     "name": "stdout",
     "output_type": "stream",
     "text": [
      "25812\n"
     ]
    }
   ],
   "source": [
    "df_tcr_all = df_tcr[['pep', 'ab']]\n",
    "\n",
    "# 提取唯一的tcr值，转换为列表\n",
    "tcr_list = df_tcr_all['ab'].unique().tolist()\n",
    "print(len(tcr_list))\n",
    "\n",
    "# 保存去重后的tcr列表为numpy数组\n",
    "data_path = \"/data/lujd/TCRdata/benchmarks/level2b\"\n",
    "os.makedirs(data_path, exist_ok=True)\n",
    "np.save(os.path.join(data_path, \"tcr2candidates_pools.npy\"), tcr_list)"
   ]
  },
  {
   "cell_type": "code",
   "execution_count": 46,
   "metadata": {},
   "outputs": [
    {
     "name": "stderr",
     "output_type": "stream",
     "text": [
      "/tmp/ipykernel_1801930/3760776720.py:2: SettingWithCopyWarning: \n",
      "A value is trying to be set on a copy of a slice from a DataFrame.\n",
      "Try using .loc[row_indexer,col_indexer] = value instead\n",
      "\n",
      "See the caveats in the documentation: https://pandas.pydata.org/pandas-docs/stable/user_guide/indexing.html#returning-a-view-versus-a-copy\n",
      "  df_tcr_all['label'] = 1\n"
     ]
    }
   ],
   "source": [
    "# 添加一列标签为1\n",
    "df_tcr_all['label'] = 1\n",
    "\n",
    "# 将数据集按照8:1:1的比例分割成训练集、验证集和测试集\n",
    "# 先打乱数据集\n",
    "df_shuffled = df_tcr_all.sample(frac=1, random_state=42).reset_index(drop=True)\n",
    "\n",
    "# 计算各个数据集的数量\n",
    "total_samples = len(df_shuffled)\n",
    "train_samples = int(0.8 * total_samples)\n",
    "val_samples = int(0.1 * total_samples)\n",
    "test_samples = total_samples - train_samples - val_samples\n",
    "\n",
    "# 分割数据集\n",
    "train_df = df_shuffled.iloc[:train_samples]\n",
    "val_df = df_shuffled.iloc[train_samples:train_samples + val_samples]\n",
    "test_df = df_shuffled.iloc[train_samples + val_samples:]\n",
    "\n",
    "# 保存分割后的数据集为CSV文件\n",
    "train_df.to_csv(os.path.join(data_path, \"train_data_fold0.csv\"), index=False)\n",
    "val_df.to_csv(os.path.join(data_path, \"valid_data_fold0.csv\"), index=False)\n",
    "test_df.to_csv(os.path.join(data_path, \"test_data_fold0.csv\"), index=False)"
   ]
  },
  {
   "cell_type": "code",
   "execution_count": 47,
   "metadata": {},
   "outputs": [
    {
     "data": {
      "text/html": [
       "<div>\n",
       "<style scoped>\n",
       "    .dataframe tbody tr th:only-of-type {\n",
       "        vertical-align: middle;\n",
       "    }\n",
       "\n",
       "    .dataframe tbody tr th {\n",
       "        vertical-align: top;\n",
       "    }\n",
       "\n",
       "    .dataframe thead th {\n",
       "        text-align: right;\n",
       "    }\n",
       "</style>\n",
       "<table border=\"1\" class=\"dataframe\">\n",
       "  <thead>\n",
       "    <tr style=\"text-align: right;\">\n",
       "      <th></th>\n",
       "      <th>pep</th>\n",
       "      <th>ab</th>\n",
       "      <th>label</th>\n",
       "    </tr>\n",
       "  </thead>\n",
       "  <tbody>\n",
       "    <tr>\n",
       "      <th>0</th>\n",
       "      <td>IQPGQTFSV</td>\n",
       "      <td>CAMREGENARLMF/CASSLADLLAEKLFF</td>\n",
       "      <td>1</td>\n",
       "    </tr>\n",
       "    <tr>\n",
       "      <th>1</th>\n",
       "      <td>AVFDRKSDAK</td>\n",
       "      <td>CIPADNTGNQFYF/CASRIASRGGDTQYF</td>\n",
       "      <td>1</td>\n",
       "    </tr>\n",
       "    <tr>\n",
       "      <th>2</th>\n",
       "      <td>AIFYLITPV</td>\n",
       "      <td>CAVVLNNNDMRF/CATTPAGKTADQETQYF</td>\n",
       "      <td>1</td>\n",
       "    </tr>\n",
       "    <tr>\n",
       "      <th>3</th>\n",
       "      <td>NLVPMVATV</td>\n",
       "      <td>CAGTNTGGFKTIF/CASRIELPGAGELFF</td>\n",
       "      <td>1</td>\n",
       "    </tr>\n",
       "    <tr>\n",
       "      <th>4</th>\n",
       "      <td>IVTDFSVIK</td>\n",
       "      <td>CAVNMYGDSSYKLIF/CASSWGGGSHYGYTF</td>\n",
       "      <td>1</td>\n",
       "    </tr>\n",
       "    <tr>\n",
       "      <th>...</th>\n",
       "      <td>...</td>\n",
       "      <td>...</td>\n",
       "      <td>...</td>\n",
       "    </tr>\n",
       "    <tr>\n",
       "      <th>22083</th>\n",
       "      <td>VLFHRAFLV</td>\n",
       "      <td>CASYSGGGADGLTF/CASSLGAGSYEQYF</td>\n",
       "      <td>1</td>\n",
       "    </tr>\n",
       "    <tr>\n",
       "      <th>22084</th>\n",
       "      <td>YLQPRTFLL</td>\n",
       "      <td>CAVRGTGRRALTF/CSAGGTGIYGSYEQYF</td>\n",
       "      <td>1</td>\n",
       "    </tr>\n",
       "    <tr>\n",
       "      <th>22085</th>\n",
       "      <td>IVTDFSVIK</td>\n",
       "      <td>CVVSAARGATNKLIF/CASRTGLASTDTQYF</td>\n",
       "      <td>1</td>\n",
       "    </tr>\n",
       "    <tr>\n",
       "      <th>22086</th>\n",
       "      <td>KLGGALQAK</td>\n",
       "      <td>CAGAAGGYQKVTF/CASSHVNQPQHF</td>\n",
       "      <td>1</td>\n",
       "    </tr>\n",
       "    <tr>\n",
       "      <th>22087</th>\n",
       "      <td>KLGGALQAK</td>\n",
       "      <td>CIVRVEGFHSGGGADGLTF/CASSPGSRREETQYF</td>\n",
       "      <td>1</td>\n",
       "    </tr>\n",
       "  </tbody>\n",
       "</table>\n",
       "<p>22088 rows × 3 columns</p>\n",
       "</div>"
      ],
      "text/plain": [
       "              pep                                   ab  label\n",
       "0       IQPGQTFSV        CAMREGENARLMF/CASSLADLLAEKLFF      1\n",
       "1      AVFDRKSDAK        CIPADNTGNQFYF/CASRIASRGGDTQYF      1\n",
       "2       AIFYLITPV       CAVVLNNNDMRF/CATTPAGKTADQETQYF      1\n",
       "3       NLVPMVATV        CAGTNTGGFKTIF/CASRIELPGAGELFF      1\n",
       "4       IVTDFSVIK      CAVNMYGDSSYKLIF/CASSWGGGSHYGYTF      1\n",
       "...           ...                                  ...    ...\n",
       "22083   VLFHRAFLV        CASYSGGGADGLTF/CASSLGAGSYEQYF      1\n",
       "22084   YLQPRTFLL       CAVRGTGRRALTF/CSAGGTGIYGSYEQYF      1\n",
       "22085   IVTDFSVIK      CVVSAARGATNKLIF/CASRTGLASTDTQYF      1\n",
       "22086   KLGGALQAK           CAGAAGGYQKVTF/CASSHVNQPQHF      1\n",
       "22087   KLGGALQAK  CIVRVEGFHSGGGADGLTF/CASSPGSRREETQYF      1\n",
       "\n",
       "[22088 rows x 3 columns]"
      ]
     },
     "execution_count": 47,
     "metadata": {},
     "output_type": "execute_result"
    }
   ],
   "source": [
    "train_df"
   ]
  },
  {
   "cell_type": "markdown",
   "metadata": {},
   "source": [
    "- 2 component"
   ]
  },
  {
   "cell_type": "code",
   "execution_count": 48,
   "metadata": {},
   "outputs": [
    {
     "name": "stdout",
     "output_type": "stream",
     "text": [
      "21956\n"
     ]
    }
   ],
   "source": [
    "df_tcr_basic = df_tcr[['pep', 'beta']]\n",
    "\n",
    "# 提取唯一的tcr值，转换为列表\n",
    "tcr_list = df_tcr_basic['beta'].unique().tolist()\n",
    "print(len(tcr_list))\n",
    "\n",
    "# 保存去重后的tcr列表为numpy数组\n",
    "data_path = \"/data/lujd/TCRdata/benchmarks/level2b_basic\"\n",
    "os.makedirs(data_path, exist_ok=True)\n",
    "np.save(os.path.join(data_path, \"tcr2candidates_pools.npy\"), tcr_list)"
   ]
  },
  {
   "cell_type": "code",
   "execution_count": 49,
   "metadata": {},
   "outputs": [
    {
     "name": "stdout",
     "output_type": "stream",
     "text": [
      "22088\n",
      "19505\n",
      "2761\n",
      "2628\n",
      "2762\n",
      "2603\n",
      "24736\n",
      "24074\n",
      "19505\n",
      "2313\n",
      "2256\n"
     ]
    },
    {
     "name": "stderr",
     "output_type": "stream",
     "text": [
      "/tmp/ipykernel_1801930/970082237.py:1: SettingWithCopyWarning: \n",
      "A value is trying to be set on a copy of a slice from a DataFrame.\n",
      "Try using .loc[row_indexer,col_indexer] = value instead\n",
      "\n",
      "See the caveats in the documentation: https://pandas.pydata.org/pandas-docs/stable/user_guide/indexing.html#returning-a-view-versus-a-copy\n",
      "  df_tcr_basic['label'] = 1\n"
     ]
    }
   ],
   "source": [
    "df_tcr_basic['label'] = 1\n",
    "\n",
    "# 将数据集按照8:1:1的比例分割成训练集、验证集和测试集\n",
    "# 先打乱数据集\n",
    "df_shuffled = df_tcr_basic.sample(frac=1, random_state=42).reset_index(drop=True)\n",
    "\n",
    "# 计算各个数据集的数量\n",
    "total_samples = len(df_shuffled)\n",
    "train_samples = int(0.8 * total_samples)\n",
    "val_samples = int(0.1 * total_samples)\n",
    "test_samples = total_samples - train_samples - val_samples\n",
    "\n",
    "# 分割数据集\n",
    "train_df = df_shuffled.iloc[:train_samples]\n",
    "val_df = df_shuffled.iloc[train_samples:train_samples + val_samples]\n",
    "test_df = df_shuffled.iloc[train_samples + val_samples:]\n",
    "\n",
    "# 去除掉每个数据集中重复的 ['pep', 'beta'] pair\n",
    "print(len(train_df))\n",
    "train_df = train_df[[\"beta\", \"pep\", 'label']]\n",
    "train_df = train_df.drop_duplicates(subset=['beta', 'pep'], ignore_index=True)\n",
    "print(len(train_df))\n",
    "\n",
    "print(len(val_df))\n",
    "val_df = val_df[[\"beta\", \"pep\", 'label']]\n",
    "val_df = val_df.drop_duplicates(subset=['beta', 'pep'], ignore_index=True)\n",
    "print(len(val_df))\n",
    "\n",
    "print(len(test_df))\n",
    "test_df = test_df[[\"beta\", \"pep\", 'label']]\n",
    "test_df = test_df.drop_duplicates(subset=['beta', 'pep'], ignore_index=True)\n",
    "print(len(test_df))\n",
    "\n",
    "# 去除数据集之间重复的 ['pep', 'beta'] pair\n",
    "train_df['tag'] = 'train'\n",
    "val_df['tag'] = 'val'\n",
    "test_df['tag'] = 'test'\n",
    "merge_df = pd.concat((train_df, val_df, test_df), axis=0).reset_index(drop=True)\n",
    "print(len(merge_df))\n",
    "merge_df = merge_df.drop_duplicates(subset=['beta', 'pep'], ignore_index=True, keep='first')\n",
    "print(len(merge_df))\n",
    "\n",
    "train_df = merge_df[merge_df['tag']=='train'].reset_index(drop=True)\n",
    "train_df = train_df[[\"beta\", \"pep\", 'label']]\n",
    "print(len(train_df))\n",
    "\n",
    "val_df = merge_df[merge_df['tag']=='val'].reset_index(drop=True)\n",
    "val_df = val_df[[\"beta\", \"pep\", 'label']]\n",
    "print(len(val_df))\n",
    "\n",
    "test_df = merge_df[merge_df['tag']=='test'].reset_index(drop=True)\n",
    "test_df = test_df[[\"beta\", \"pep\", 'label']]\n",
    "print(len(test_df))\n",
    "\n",
    "# 保存分割后的数据集为CSV文件\n",
    "train_df.to_csv(os.path.join(data_path, \"train_data_fold0.csv\"), index=False)\n",
    "val_df.to_csv(os.path.join(data_path, \"valid_data_fold0.csv\"), index=False)\n",
    "test_df.to_csv(os.path.join(data_path, \"test_data_fold0.csv\"), index=False)"
   ]
  },
  {
   "cell_type": "code",
   "execution_count": 50,
   "metadata": {},
   "outputs": [
    {
     "data": {
      "text/html": [
       "<div>\n",
       "<style scoped>\n",
       "    .dataframe tbody tr th:only-of-type {\n",
       "        vertical-align: middle;\n",
       "    }\n",
       "\n",
       "    .dataframe tbody tr th {\n",
       "        vertical-align: top;\n",
       "    }\n",
       "\n",
       "    .dataframe thead th {\n",
       "        text-align: right;\n",
       "    }\n",
       "</style>\n",
       "<table border=\"1\" class=\"dataframe\">\n",
       "  <thead>\n",
       "    <tr style=\"text-align: right;\">\n",
       "      <th></th>\n",
       "      <th>beta</th>\n",
       "      <th>pep</th>\n",
       "      <th>label</th>\n",
       "    </tr>\n",
       "  </thead>\n",
       "  <tbody>\n",
       "    <tr>\n",
       "      <th>0</th>\n",
       "      <td>CASSLADLLAEKLFF</td>\n",
       "      <td>IQPGQTFSV</td>\n",
       "      <td>1</td>\n",
       "    </tr>\n",
       "    <tr>\n",
       "      <th>1</th>\n",
       "      <td>CASRIASRGGDTQYF</td>\n",
       "      <td>AVFDRKSDAK</td>\n",
       "      <td>1</td>\n",
       "    </tr>\n",
       "    <tr>\n",
       "      <th>2</th>\n",
       "      <td>CATTPAGKTADQETQYF</td>\n",
       "      <td>AIFYLITPV</td>\n",
       "      <td>1</td>\n",
       "    </tr>\n",
       "    <tr>\n",
       "      <th>3</th>\n",
       "      <td>CASRIELPGAGELFF</td>\n",
       "      <td>NLVPMVATV</td>\n",
       "      <td>1</td>\n",
       "    </tr>\n",
       "    <tr>\n",
       "      <th>4</th>\n",
       "      <td>CASSWGGGSHYGYTF</td>\n",
       "      <td>IVTDFSVIK</td>\n",
       "      <td>1</td>\n",
       "    </tr>\n",
       "    <tr>\n",
       "      <th>...</th>\n",
       "      <td>...</td>\n",
       "      <td>...</td>\n",
       "      <td>...</td>\n",
       "    </tr>\n",
       "    <tr>\n",
       "      <th>19500</th>\n",
       "      <td>CASSLGGTDTQYF</td>\n",
       "      <td>KLGGALQAK</td>\n",
       "      <td>1</td>\n",
       "    </tr>\n",
       "    <tr>\n",
       "      <th>19501</th>\n",
       "      <td>CASSLGAGSYEQYF</td>\n",
       "      <td>VLFHRAFLV</td>\n",
       "      <td>1</td>\n",
       "    </tr>\n",
       "    <tr>\n",
       "      <th>19502</th>\n",
       "      <td>CSAGGTGIYGSYEQYF</td>\n",
       "      <td>YLQPRTFLL</td>\n",
       "      <td>1</td>\n",
       "    </tr>\n",
       "    <tr>\n",
       "      <th>19503</th>\n",
       "      <td>CASSHVNQPQHF</td>\n",
       "      <td>KLGGALQAK</td>\n",
       "      <td>1</td>\n",
       "    </tr>\n",
       "    <tr>\n",
       "      <th>19504</th>\n",
       "      <td>CASSPGSRREETQYF</td>\n",
       "      <td>KLGGALQAK</td>\n",
       "      <td>1</td>\n",
       "    </tr>\n",
       "  </tbody>\n",
       "</table>\n",
       "<p>19505 rows × 3 columns</p>\n",
       "</div>"
      ],
      "text/plain": [
       "                    beta         pep  label\n",
       "0        CASSLADLLAEKLFF   IQPGQTFSV      1\n",
       "1        CASRIASRGGDTQYF  AVFDRKSDAK      1\n",
       "2      CATTPAGKTADQETQYF   AIFYLITPV      1\n",
       "3        CASRIELPGAGELFF   NLVPMVATV      1\n",
       "4        CASSWGGGSHYGYTF   IVTDFSVIK      1\n",
       "...                  ...         ...    ...\n",
       "19500      CASSLGGTDTQYF   KLGGALQAK      1\n",
       "19501     CASSLGAGSYEQYF   VLFHRAFLV      1\n",
       "19502   CSAGGTGIYGSYEQYF   YLQPRTFLL      1\n",
       "19503       CASSHVNQPQHF   KLGGALQAK      1\n",
       "19504    CASSPGSRREETQYF   KLGGALQAK      1\n",
       "\n",
       "[19505 rows x 3 columns]"
      ]
     },
     "execution_count": 50,
     "metadata": {},
     "output_type": "execute_result"
    }
   ],
   "source": [
    "train_df"
   ]
  },
  {
   "cell_type": "markdown",
   "metadata": {},
   "source": [
    "---\n",
    "\n",
    "### level-III"
   ]
  },
  {
   "cell_type": "code",
   "execution_count": 51,
   "metadata": {},
   "outputs": [
    {
     "name": "stdout",
     "output_type": "stream",
     "text": [
      "(28262, 7)\n"
     ]
    },
    {
     "data": {
      "text/html": [
       "<div>\n",
       "<style scoped>\n",
       "    .dataframe tbody tr th:only-of-type {\n",
       "        vertical-align: middle;\n",
       "    }\n",
       "\n",
       "    .dataframe tbody tr th {\n",
       "        vertical-align: top;\n",
       "    }\n",
       "\n",
       "    .dataframe thead th {\n",
       "        text-align: right;\n",
       "    }\n",
       "</style>\n",
       "<table border=\"1\" class=\"dataframe\">\n",
       "  <thead>\n",
       "    <tr style=\"text-align: right;\">\n",
       "      <th></th>\n",
       "      <th>antigen.epitope</th>\n",
       "      <th>hla.allele</th>\n",
       "      <th>alpha.cdr3</th>\n",
       "      <th>beta.cdr3</th>\n",
       "      <th>hla.full.seq</th>\n",
       "      <th>hla.clip.seq</th>\n",
       "      <th>hla.short.seq</th>\n",
       "    </tr>\n",
       "  </thead>\n",
       "  <tbody>\n",
       "    <tr>\n",
       "      <th>0</th>\n",
       "      <td>VMAPRTLIL</td>\n",
       "      <td>HLA-E*01:01</td>\n",
       "      <td>IVVRSSNTGKLI</td>\n",
       "      <td>ASSQDRDTQY</td>\n",
       "      <td>MVDGTLLLLLSEALALTQTWAGSHSLKYFHTSVSRPGRGEPRFISV...</td>\n",
       "      <td>GSHSLKYFHTSVSRPGRGEPRFISVGYVDDTQFVRFDNDAASPRMV...</td>\n",
       "      <td>YHSMYRESADTIFVNTLYLWHEFYSSAEQAYTWY</td>\n",
       "    </tr>\n",
       "    <tr>\n",
       "      <th>1</th>\n",
       "      <td>VMAPRTLIL</td>\n",
       "      <td>HLA-E*01:03</td>\n",
       "      <td>IVVRSSNTGKLI</td>\n",
       "      <td>ASSQDRDTQY</td>\n",
       "      <td>MVDGTLLLLLSEALALTQTWAGSHSLKYFHTSVSRPGRGEPRFISV...</td>\n",
       "      <td>GSHSLKYFHTSVSRPGRGEPRFISVGYVDDTQFVRFDNDAASPRMV...</td>\n",
       "      <td>YHSMYRESADTIFVNTLYLWHEFYSSAEQAYTWY</td>\n",
       "    </tr>\n",
       "    <tr>\n",
       "      <th>2</th>\n",
       "      <td>SLLMWITQC</td>\n",
       "      <td>HLA-A*02:01</td>\n",
       "      <td>AVRPLLDGTYIPT</td>\n",
       "      <td>ASSYLGNTGELF</td>\n",
       "      <td>MAVMAPRTLVLLLSGALALTQTWAGSHSMRYFFTSVSRPGRGEPRF...</td>\n",
       "      <td>GSHSMRYFFTSVSRPGRGEPRFIAVGYVDDTQFVRFDSDAASQRME...</td>\n",
       "      <td>YFAMYGEKVAHTHVDTLYVRYHYYTWAVLAYTWY</td>\n",
       "    </tr>\n",
       "    <tr>\n",
       "      <th>3</th>\n",
       "      <td>EENLLDFVRF</td>\n",
       "      <td>HLA-B*44:02</td>\n",
       "      <td>IVWGGYQKVT</td>\n",
       "      <td>ASRYRDDSYNEQF</td>\n",
       "      <td>MRVTAPRTLLLLLWGAVALTETWAGSHSMRYFYTAMSRPGRGEPRF...</td>\n",
       "      <td>GSHSMRYFYTAMSRPGRGEPRFITVGYVDDTLFVRFDSDATSPRKE...</td>\n",
       "      <td>YYTKYREISTNTYENTAYIRYDDYTWAVDAYLSY</td>\n",
       "    </tr>\n",
       "    <tr>\n",
       "      <th>4</th>\n",
       "      <td>EENLLDFVRF</td>\n",
       "      <td>HLA-B*44:03</td>\n",
       "      <td>IVWGGYQKVT</td>\n",
       "      <td>ASRYRDDSYNEQF</td>\n",
       "      <td>MRVTAPRTLLLLLWGAVALTETWAGSHSMRYFYTAMSRPGRGEPRF...</td>\n",
       "      <td>GSHSMRYFYTAMSRPGRGEPRFITVGYVDDTLFVRFDSDATSPRKE...</td>\n",
       "      <td>YYTKYREISTNTYENTAYIRYDDYTWAVLAYLSY</td>\n",
       "    </tr>\n",
       "  </tbody>\n",
       "</table>\n",
       "</div>"
      ],
      "text/plain": [
       "  antigen.epitope   hla.allele     alpha.cdr3      beta.cdr3  \\\n",
       "0       VMAPRTLIL  HLA-E*01:01   IVVRSSNTGKLI     ASSQDRDTQY   \n",
       "1       VMAPRTLIL  HLA-E*01:03   IVVRSSNTGKLI     ASSQDRDTQY   \n",
       "2       SLLMWITQC  HLA-A*02:01  AVRPLLDGTYIPT   ASSYLGNTGELF   \n",
       "3      EENLLDFVRF  HLA-B*44:02     IVWGGYQKVT  ASRYRDDSYNEQF   \n",
       "4      EENLLDFVRF  HLA-B*44:03     IVWGGYQKVT  ASRYRDDSYNEQF   \n",
       "\n",
       "                                        hla.full.seq  \\\n",
       "0  MVDGTLLLLLSEALALTQTWAGSHSLKYFHTSVSRPGRGEPRFISV...   \n",
       "1  MVDGTLLLLLSEALALTQTWAGSHSLKYFHTSVSRPGRGEPRFISV...   \n",
       "2  MAVMAPRTLVLLLSGALALTQTWAGSHSMRYFFTSVSRPGRGEPRF...   \n",
       "3  MRVTAPRTLLLLLWGAVALTETWAGSHSMRYFYTAMSRPGRGEPRF...   \n",
       "4  MRVTAPRTLLLLLWGAVALTETWAGSHSMRYFYTAMSRPGRGEPRF...   \n",
       "\n",
       "                                        hla.clip.seq  \\\n",
       "0  GSHSLKYFHTSVSRPGRGEPRFISVGYVDDTQFVRFDNDAASPRMV...   \n",
       "1  GSHSLKYFHTSVSRPGRGEPRFISVGYVDDTQFVRFDNDAASPRMV...   \n",
       "2  GSHSMRYFFTSVSRPGRGEPRFIAVGYVDDTQFVRFDSDAASQRME...   \n",
       "3  GSHSMRYFYTAMSRPGRGEPRFITVGYVDDTLFVRFDSDATSPRKE...   \n",
       "4  GSHSMRYFYTAMSRPGRGEPRFITVGYVDDTLFVRFDSDATSPRKE...   \n",
       "\n",
       "                        hla.short.seq  \n",
       "0  YHSMYRESADTIFVNTLYLWHEFYSSAEQAYTWY  \n",
       "1  YHSMYRESADTIFVNTLYLWHEFYSSAEQAYTWY  \n",
       "2  YFAMYGEKVAHTHVDTLYVRYHYYTWAVLAYTWY  \n",
       "3  YYTKYREISTNTYENTAYIRYDDYTWAVDAYLSY  \n",
       "4  YYTKYREISTNTYENTAYIRYDDYTWAVLAYLSY  "
      ]
     },
     "execution_count": 51,
     "metadata": {},
     "output_type": "execute_result"
    }
   ],
   "source": [
    "df_tcr = pd.read_csv(os.path.join(\n",
    "    dataset_dir,\n",
    "    \"Hi-TpH-level-III.csv\"\n",
    "))\n",
    "print(df_tcr.shape)\n",
    "df_tcr.head()"
   ]
  },
  {
   "cell_type": "code",
   "execution_count": 52,
   "metadata": {},
   "outputs": [
    {
     "name": "stdout",
     "output_type": "stream",
     "text": [
      "(28262, 7)\n"
     ]
    }
   ],
   "source": [
    "df_tcr = df_tcr.dropna(subset=['antigen.epitope', 'beta.cdr3', \"alpha.cdr3\", \"hla.short.seq\"])\n",
    "df_tcr.rename(columns={\"antigen.epitope\":\"pep\", \"hla.short.seq\":\"hla\", \n",
    "                       \"beta.cdr3\":\"beta\", \"alpha.cdr3\":\"alpha\"}, inplace=True)\n",
    "df_tcr = df_tcr.drop_duplicates(ignore_index=True)\n",
    "print(df_tcr.shape)"
   ]
  },
  {
   "cell_type": "code",
   "execution_count": 53,
   "metadata": {},
   "outputs": [
    {
     "name": "stdout",
     "output_type": "stream",
     "text": [
      "pep 不同长度的个数统计：\n",
      "pep\n",
      "9     23420\n",
      "10     3223\n",
      "8      1274\n",
      "11      198\n",
      "12      102\n",
      "13       41\n",
      "7         3\n",
      "24        1\n",
      "Name: count, dtype: int64\n"
     ]
    }
   ],
   "source": [
    "tcr_length_counts = df_tcr['pep'].apply(len).value_counts()\n",
    "\n",
    "print(\"pep 不同长度的个数统计：\")\n",
    "print(tcr_length_counts)"
   ]
  },
  {
   "cell_type": "code",
   "execution_count": 54,
   "metadata": {},
   "outputs": [
    {
     "data": {
      "text/plain": [
       "(27917, 7)"
      ]
     },
     "execution_count": 54,
     "metadata": {},
     "output_type": "execute_result"
    }
   ],
   "source": [
    "df_tcr = df_tcr[df_tcr['pep'].str.len() <= 10]\n",
    "df_tcr = df_tcr[df_tcr['pep'].str.len() >= 8]\n",
    "df_tcr.shape"
   ]
  },
  {
   "cell_type": "code",
   "execution_count": 55,
   "metadata": {},
   "outputs": [
    {
     "name": "stdout",
     "output_type": "stream",
     "text": [
      "beta 不同长度的个数统计：\n",
      "beta\n",
      "15    6331\n",
      "14    5702\n",
      "13    5607\n",
      "16    3634\n",
      "12    2047\n",
      "17    2025\n",
      "18     894\n",
      "11     868\n",
      "19     387\n",
      "20     157\n",
      "10     150\n",
      "21      50\n",
      "9       23\n",
      "22      17\n",
      "8       11\n",
      "23       7\n",
      "26       3\n",
      "25       2\n",
      "24       1\n",
      "7        1\n",
      "Name: count, dtype: int64\n"
     ]
    }
   ],
   "source": [
    "beta_length_counts = df_tcr['beta'].apply(len).value_counts()\n",
    "\n",
    "print(\"beta 不同长度的个数统计：\")\n",
    "print(beta_length_counts)"
   ]
  },
  {
   "cell_type": "code",
   "execution_count": 56,
   "metadata": {},
   "outputs": [
    {
     "name": "stdout",
     "output_type": "stream",
     "text": [
      "alpha 不同长度的个数统计：\n",
      "alpha\n",
      "13    5545\n",
      "14    5195\n",
      "15    4502\n",
      "12    4496\n",
      "11    2542\n",
      "16    2292\n",
      "17    1416\n",
      "10     934\n",
      "18     439\n",
      "9      197\n",
      "19     177\n",
      "8       90\n",
      "20      40\n",
      "21      15\n",
      "7       13\n",
      "22       8\n",
      "6        4\n",
      "24       3\n",
      "26       3\n",
      "25       3\n",
      "23       2\n",
      "5        1\n",
      "Name: count, dtype: int64\n"
     ]
    }
   ],
   "source": [
    "alpha_length_counts = df_tcr['alpha'].apply(len).value_counts()\n",
    "\n",
    "print(\"alpha 不同长度的个数统计：\")\n",
    "print(alpha_length_counts)"
   ]
  },
  {
   "cell_type": "code",
   "execution_count": 57,
   "metadata": {},
   "outputs": [
    {
     "data": {
      "text/plain": [
       "(27735, 7)"
      ]
     },
     "execution_count": 57,
     "metadata": {},
     "output_type": "execute_result"
    }
   ],
   "source": [
    "df_tcr = df_tcr[df_tcr['alpha'].str.len() <= 19]\n",
    "df_tcr = df_tcr[df_tcr['alpha'].str.len() >= 9]\n",
    "df_tcr.shape"
   ]
  },
  {
   "cell_type": "code",
   "execution_count": 58,
   "metadata": {},
   "outputs": [
    {
     "data": {
      "text/plain": [
       "(27488, 7)"
      ]
     },
     "execution_count": 58,
     "metadata": {},
     "output_type": "execute_result"
    }
   ],
   "source": [
    "df_tcr = df_tcr[df_tcr['beta'].str.len() <= 19]\n",
    "df_tcr = df_tcr[df_tcr['beta'].str.len() >= 9]\n",
    "df_tcr.shape"
   ]
  },
  {
   "cell_type": "code",
   "execution_count": 60,
   "metadata": {},
   "outputs": [
    {
     "name": "stdout",
     "output_type": "stream",
     "text": [
      "pep 不同长度的个数统计：\n",
      "pep\n",
      "9     23061\n",
      "10     3174\n",
      "8      1253\n",
      "Name: count, dtype: int64\n"
     ]
    }
   ],
   "source": [
    "pep_length_counts = df_tcr['pep'].apply(len).value_counts()\n",
    "\n",
    "print(\"pep 不同长度的个数统计：\")\n",
    "print(pep_length_counts)"
   ]
  },
  {
   "cell_type": "code",
   "execution_count": 61,
   "metadata": {},
   "outputs": [
    {
     "name": "stdout",
     "output_type": "stream",
     "text": [
      "27478\n",
      "27478\n"
     ]
    }
   ],
   "source": [
    "df_tcr[\"ab\"] = df_tcr['alpha'] + '/' + df_tcr['beta']\n",
    "\n",
    "df_tcr = df_tcr.drop_duplicates(subset=['pep', 'hla', 'ab'], ignore_index=True)\n",
    "print(len(df_tcr))\n",
    "df_tcr = df_tcr.drop_duplicates(subset=['pep', 'hla', 'alpha', 'beta'], ignore_index=True)\n",
    "print(len(df_tcr))"
   ]
  },
  {
   "cell_type": "markdown",
   "metadata": {},
   "source": [
    "- all component"
   ]
  },
  {
   "cell_type": "code",
   "execution_count": 62,
   "metadata": {},
   "outputs": [
    {
     "name": "stdout",
     "output_type": "stream",
     "text": [
      "25669\n"
     ]
    }
   ],
   "source": [
    "df_tcr_all = df_tcr[['pep', 'hla', 'ab']]\n",
    "\n",
    "# 提取唯一的tcr值，转换为列表\n",
    "tcr_list = df_tcr_all['ab'].unique().tolist()\n",
    "print(len(tcr_list))\n",
    "\n",
    "# 保存去重后的tcr列表为numpy数组\n",
    "data_path = \"/data/lujd/TCRdata/benchmarks/level3\"\n",
    "os.makedirs(data_path, exist_ok=True)\n",
    "np.save(os.path.join(data_path, \"tcr2candidates_pools.npy\"), tcr_list)"
   ]
  },
  {
   "cell_type": "code",
   "execution_count": 64,
   "metadata": {},
   "outputs": [
    {
     "name": "stderr",
     "output_type": "stream",
     "text": [
      "/tmp/ipykernel_1801930/3760776720.py:2: SettingWithCopyWarning: \n",
      "A value is trying to be set on a copy of a slice from a DataFrame.\n",
      "Try using .loc[row_indexer,col_indexer] = value instead\n",
      "\n",
      "See the caveats in the documentation: https://pandas.pydata.org/pandas-docs/stable/user_guide/indexing.html#returning-a-view-versus-a-copy\n",
      "  df_tcr_all['label'] = 1\n"
     ]
    }
   ],
   "source": [
    "# 添加一列标签为1\n",
    "df_tcr_all['label'] = 1\n",
    "\n",
    "# 将数据集按照8:1:1的比例分割成训练集、验证集和测试集\n",
    "# 先打乱数据集\n",
    "df_shuffled = df_tcr_all.sample(frac=1, random_state=42).reset_index(drop=True)\n",
    "\n",
    "# 计算各个数据集的数量\n",
    "total_samples = len(df_shuffled)\n",
    "train_samples = int(0.8 * total_samples)\n",
    "val_samples = int(0.1 * total_samples)\n",
    "test_samples = total_samples - train_samples - val_samples\n",
    "\n",
    "# 分割数据集\n",
    "train_df = df_shuffled.iloc[:train_samples]\n",
    "val_df = df_shuffled.iloc[train_samples:train_samples + val_samples]\n",
    "test_df = df_shuffled.iloc[train_samples + val_samples:]\n",
    "\n",
    "# 保存分割后的数据集为CSV文件\n",
    "train_df.to_csv(os.path.join(data_path, \"train_data_fold0.csv\"), index=False)\n",
    "val_df.to_csv(os.path.join(data_path, \"valid_data_fold0.csv\"), index=False)\n",
    "test_df.to_csv(os.path.join(data_path, \"test_data_fold0.csv\"), index=False)"
   ]
  },
  {
   "cell_type": "markdown",
   "metadata": {},
   "source": [
    "- 2 component"
   ]
  },
  {
   "cell_type": "code",
   "execution_count": 66,
   "metadata": {},
   "outputs": [
    {
     "name": "stdout",
     "output_type": "stream",
     "text": [
      "21824\n"
     ]
    }
   ],
   "source": [
    "df_tcr_basic = df_tcr[['pep', 'beta']]\n",
    "\n",
    "# 提取唯一的tcr值，转换为列表\n",
    "tcr_list = df_tcr_basic['beta'].unique().tolist()\n",
    "print(len(tcr_list))\n",
    "\n",
    "# 保存去重后的tcr列表为numpy数组\n",
    "data_path = \"/data/lujd/TCRdata/benchmarks/level3_basic\"\n",
    "os.makedirs(data_path, exist_ok=True)\n",
    "np.save(os.path.join(data_path, \"tcr2candidates_pools.npy\"), tcr_list)"
   ]
  },
  {
   "cell_type": "code",
   "execution_count": 67,
   "metadata": {},
   "outputs": [
    {
     "name": "stdout",
     "output_type": "stream",
     "text": [
      "21982\n",
      "19394\n",
      "2747\n",
      "2620\n",
      "2749\n",
      "2600\n",
      "24614\n",
      "23941\n",
      "19394\n",
      "2281\n",
      "2266\n"
     ]
    },
    {
     "name": "stderr",
     "output_type": "stream",
     "text": [
      "/tmp/ipykernel_1801930/970082237.py:1: SettingWithCopyWarning: \n",
      "A value is trying to be set on a copy of a slice from a DataFrame.\n",
      "Try using .loc[row_indexer,col_indexer] = value instead\n",
      "\n",
      "See the caveats in the documentation: https://pandas.pydata.org/pandas-docs/stable/user_guide/indexing.html#returning-a-view-versus-a-copy\n",
      "  df_tcr_basic['label'] = 1\n"
     ]
    }
   ],
   "source": [
    "df_tcr_basic['label'] = 1\n",
    "\n",
    "# 将数据集按照8:1:1的比例分割成训练集、验证集和测试集\n",
    "# 先打乱数据集\n",
    "df_shuffled = df_tcr_basic.sample(frac=1, random_state=42).reset_index(drop=True)\n",
    "\n",
    "# 计算各个数据集的数量\n",
    "total_samples = len(df_shuffled)\n",
    "train_samples = int(0.8 * total_samples)\n",
    "val_samples = int(0.1 * total_samples)\n",
    "test_samples = total_samples - train_samples - val_samples\n",
    "\n",
    "# 分割数据集\n",
    "train_df = df_shuffled.iloc[:train_samples]\n",
    "val_df = df_shuffled.iloc[train_samples:train_samples + val_samples]\n",
    "test_df = df_shuffled.iloc[train_samples + val_samples:]\n",
    "\n",
    "# 去除掉每个数据集中重复的 ['pep', 'beta'] pair\n",
    "print(len(train_df))\n",
    "train_df = train_df[[\"beta\", \"pep\", 'label']]\n",
    "train_df = train_df.drop_duplicates(subset=['beta', 'pep'], ignore_index=True)\n",
    "print(len(train_df))\n",
    "\n",
    "print(len(val_df))\n",
    "val_df = val_df[[\"beta\", \"pep\", 'label']]\n",
    "val_df = val_df.drop_duplicates(subset=['beta', 'pep'], ignore_index=True)\n",
    "print(len(val_df))\n",
    "\n",
    "print(len(test_df))\n",
    "test_df = test_df[[\"beta\", \"pep\", 'label']]\n",
    "test_df = test_df.drop_duplicates(subset=['beta', 'pep'], ignore_index=True)\n",
    "print(len(test_df))\n",
    "\n",
    "# 去除数据集之间重复的 ['pep', 'beta'] pair\n",
    "train_df['tag'] = 'train'\n",
    "val_df['tag'] = 'val'\n",
    "test_df['tag'] = 'test'\n",
    "merge_df = pd.concat((train_df, val_df, test_df), axis=0).reset_index(drop=True)\n",
    "print(len(merge_df))\n",
    "merge_df = merge_df.drop_duplicates(subset=['beta', 'pep'], ignore_index=True, keep='first')\n",
    "print(len(merge_df))\n",
    "\n",
    "train_df = merge_df[merge_df['tag']=='train'].reset_index(drop=True)\n",
    "train_df = train_df[[\"beta\", \"pep\", 'label']]\n",
    "print(len(train_df))\n",
    "\n",
    "val_df = merge_df[merge_df['tag']=='val'].reset_index(drop=True)\n",
    "val_df = val_df[[\"beta\", \"pep\", 'label']]\n",
    "print(len(val_df))\n",
    "\n",
    "test_df = merge_df[merge_df['tag']=='test'].reset_index(drop=True)\n",
    "test_df = test_df[[\"beta\", \"pep\", 'label']]\n",
    "print(len(test_df))\n",
    "\n",
    "# 保存分割后的数据集为CSV文件\n",
    "train_df.to_csv(os.path.join(data_path, \"train_data_fold0.csv\"), index=False)\n",
    "val_df.to_csv(os.path.join(data_path, \"valid_data_fold0.csv\"), index=False)\n",
    "test_df.to_csv(os.path.join(data_path, \"test_data_fold0.csv\"), index=False)"
   ]
  },
  {
   "cell_type": "markdown",
   "metadata": {},
   "source": [
    "---\n",
    "\n",
    "### level-IV"
   ]
  },
  {
   "cell_type": "code",
   "execution_count": 68,
   "metadata": {},
   "outputs": [
    {
     "name": "stdout",
     "output_type": "stream",
     "text": [
      "(26704, 13)\n"
     ]
    },
    {
     "data": {
      "text/html": [
       "<div>\n",
       "<style scoped>\n",
       "    .dataframe tbody tr th:only-of-type {\n",
       "        vertical-align: middle;\n",
       "    }\n",
       "\n",
       "    .dataframe tbody tr th {\n",
       "        vertical-align: top;\n",
       "    }\n",
       "\n",
       "    .dataframe thead th {\n",
       "        text-align: right;\n",
       "    }\n",
       "</style>\n",
       "<table border=\"1\" class=\"dataframe\">\n",
       "  <thead>\n",
       "    <tr style=\"text-align: right;\">\n",
       "      <th></th>\n",
       "      <th>antigen.epitope</th>\n",
       "      <th>hla.allele</th>\n",
       "      <th>alpha.v</th>\n",
       "      <th>alpha.j</th>\n",
       "      <th>alpha.cdr3</th>\n",
       "      <th>beta.v</th>\n",
       "      <th>beta.j</th>\n",
       "      <th>beta.cdr3</th>\n",
       "      <th>alpha.vseq.reconstructed</th>\n",
       "      <th>beta.vseq.reconstructed</th>\n",
       "      <th>hla.full.seq</th>\n",
       "      <th>hla.clip.seq</th>\n",
       "      <th>hla.short.seq</th>\n",
       "    </tr>\n",
       "  </thead>\n",
       "  <tbody>\n",
       "    <tr>\n",
       "      <th>0</th>\n",
       "      <td>VMAPRTLIL</td>\n",
       "      <td>HLA-E*01:01</td>\n",
       "      <td>TRAV26-1*01</td>\n",
       "      <td>TRAJ37*01</td>\n",
       "      <td>IVVRSSNTGKLI</td>\n",
       "      <td>TRBV14*01</td>\n",
       "      <td>TRBJ2-3*01</td>\n",
       "      <td>ASSQDRDTQY</td>\n",
       "      <td>DAKTTQPPSMDCAEGRAANLPCNHSTISGNEYVYWYRQIHSQGPQY...</td>\n",
       "      <td>EAGVTQFPSHSVIEKGQTVTLRCDPISGHDNLYWYRRVMGKEIKFL...</td>\n",
       "      <td>MVDGTLLLLLSEALALTQTWAGSHSLKYFHTSVSRPGRGEPRFISV...</td>\n",
       "      <td>GSHSLKYFHTSVSRPGRGEPRFISVGYVDDTQFVRFDNDAASPRMV...</td>\n",
       "      <td>YHSMYRESADTIFVNTLYLWHEFYSSAEQAYTWY</td>\n",
       "    </tr>\n",
       "    <tr>\n",
       "      <th>1</th>\n",
       "      <td>VMAPRTLIL</td>\n",
       "      <td>HLA-E*01:03</td>\n",
       "      <td>TRAV26-1*01</td>\n",
       "      <td>TRAJ37*01</td>\n",
       "      <td>IVVRSSNTGKLI</td>\n",
       "      <td>TRBV14*01</td>\n",
       "      <td>TRBJ2-3*01</td>\n",
       "      <td>ASSQDRDTQY</td>\n",
       "      <td>DAKTTQPPSMDCAEGRAANLPCNHSTISGNEYVYWYRQIHSQGPQY...</td>\n",
       "      <td>EAGVTQFPSHSVIEKGQTVTLRCDPISGHDNLYWYRRVMGKEIKFL...</td>\n",
       "      <td>MVDGTLLLLLSEALALTQTWAGSHSLKYFHTSVSRPGRGEPRFISV...</td>\n",
       "      <td>GSHSLKYFHTSVSRPGRGEPRFISVGYVDDTQFVRFDNDAASPRMV...</td>\n",
       "      <td>YHSMYRESADTIFVNTLYLWHEFYSSAEQAYTWY</td>\n",
       "    </tr>\n",
       "    <tr>\n",
       "      <th>2</th>\n",
       "      <td>SLLMWITQC</td>\n",
       "      <td>HLA-A*02:01</td>\n",
       "      <td>TRAV21*01</td>\n",
       "      <td>TRAJ6*01</td>\n",
       "      <td>AVRPLLDGTYIPT</td>\n",
       "      <td>TRBV6-5*01</td>\n",
       "      <td>TRBJ2-2*01</td>\n",
       "      <td>ASSYLGNTGELF</td>\n",
       "      <td>KQEVTQIPAALSVPEGENLVLNCSFTDSAIYNLQWFRQDPGKGLTS...</td>\n",
       "      <td>NAGVTQTPKFQVLKTGQSMTLQCAQDMNHEYMSWYRQDPGMGLRLI...</td>\n",
       "      <td>MAVMAPRTLVLLLSGALALTQTWAGSHSMRYFFTSVSRPGRGEPRF...</td>\n",
       "      <td>GSHSMRYFFTSVSRPGRGEPRFIAVGYVDDTQFVRFDSDAASQRME...</td>\n",
       "      <td>YFAMYGEKVAHTHVDTLYVRYHYYTWAVLAYTWY</td>\n",
       "    </tr>\n",
       "    <tr>\n",
       "      <th>3</th>\n",
       "      <td>EENLLDFVRF</td>\n",
       "      <td>HLA-B*44:02</td>\n",
       "      <td>TRAV26-1*01</td>\n",
       "      <td>TRAJ13*01</td>\n",
       "      <td>IVWGGYQKVT</td>\n",
       "      <td>TRBV7-9*01</td>\n",
       "      <td>TRBJ2-1*01</td>\n",
       "      <td>ASRYRDDSYNEQF</td>\n",
       "      <td>DAKTTQPPSMDCAEGRAANLPCNHSTISGNEYVYWYRQIHSQGPQY...</td>\n",
       "      <td>DTGVSQNPRHKITKRGQNVTFRCDPISEHNRLYWYRQTLGQGPEFL...</td>\n",
       "      <td>MRVTAPRTLLLLLWGAVALTETWAGSHSMRYFYTAMSRPGRGEPRF...</td>\n",
       "      <td>GSHSMRYFYTAMSRPGRGEPRFITVGYVDDTLFVRFDSDATSPRKE...</td>\n",
       "      <td>YYTKYREISTNTYENTAYIRYDDYTWAVDAYLSY</td>\n",
       "    </tr>\n",
       "    <tr>\n",
       "      <th>4</th>\n",
       "      <td>EENLLDFVRF</td>\n",
       "      <td>HLA-B*44:03</td>\n",
       "      <td>TRAV26-1*01</td>\n",
       "      <td>TRAJ13*01</td>\n",
       "      <td>IVWGGYQKVT</td>\n",
       "      <td>TRBV7-9*01</td>\n",
       "      <td>TRBJ2-1*01</td>\n",
       "      <td>ASRYRDDSYNEQF</td>\n",
       "      <td>DAKTTQPPSMDCAEGRAANLPCNHSTISGNEYVYWYRQIHSQGPQY...</td>\n",
       "      <td>DTGVSQNPRHKITKRGQNVTFRCDPISEHNRLYWYRQTLGQGPEFL...</td>\n",
       "      <td>MRVTAPRTLLLLLWGAVALTETWAGSHSMRYFYTAMSRPGRGEPRF...</td>\n",
       "      <td>GSHSMRYFYTAMSRPGRGEPRFITVGYVDDTLFVRFDSDATSPRKE...</td>\n",
       "      <td>YYTKYREISTNTYENTAYIRYDDYTWAVLAYLSY</td>\n",
       "    </tr>\n",
       "  </tbody>\n",
       "</table>\n",
       "</div>"
      ],
      "text/plain": [
       "  antigen.epitope   hla.allele      alpha.v    alpha.j     alpha.cdr3  \\\n",
       "0       VMAPRTLIL  HLA-E*01:01  TRAV26-1*01  TRAJ37*01   IVVRSSNTGKLI   \n",
       "1       VMAPRTLIL  HLA-E*01:03  TRAV26-1*01  TRAJ37*01   IVVRSSNTGKLI   \n",
       "2       SLLMWITQC  HLA-A*02:01    TRAV21*01   TRAJ6*01  AVRPLLDGTYIPT   \n",
       "3      EENLLDFVRF  HLA-B*44:02  TRAV26-1*01  TRAJ13*01     IVWGGYQKVT   \n",
       "4      EENLLDFVRF  HLA-B*44:03  TRAV26-1*01  TRAJ13*01     IVWGGYQKVT   \n",
       "\n",
       "       beta.v      beta.j      beta.cdr3  \\\n",
       "0   TRBV14*01  TRBJ2-3*01     ASSQDRDTQY   \n",
       "1   TRBV14*01  TRBJ2-3*01     ASSQDRDTQY   \n",
       "2  TRBV6-5*01  TRBJ2-2*01   ASSYLGNTGELF   \n",
       "3  TRBV7-9*01  TRBJ2-1*01  ASRYRDDSYNEQF   \n",
       "4  TRBV7-9*01  TRBJ2-1*01  ASRYRDDSYNEQF   \n",
       "\n",
       "                            alpha.vseq.reconstructed  \\\n",
       "0  DAKTTQPPSMDCAEGRAANLPCNHSTISGNEYVYWYRQIHSQGPQY...   \n",
       "1  DAKTTQPPSMDCAEGRAANLPCNHSTISGNEYVYWYRQIHSQGPQY...   \n",
       "2  KQEVTQIPAALSVPEGENLVLNCSFTDSAIYNLQWFRQDPGKGLTS...   \n",
       "3  DAKTTQPPSMDCAEGRAANLPCNHSTISGNEYVYWYRQIHSQGPQY...   \n",
       "4  DAKTTQPPSMDCAEGRAANLPCNHSTISGNEYVYWYRQIHSQGPQY...   \n",
       "\n",
       "                             beta.vseq.reconstructed  \\\n",
       "0  EAGVTQFPSHSVIEKGQTVTLRCDPISGHDNLYWYRRVMGKEIKFL...   \n",
       "1  EAGVTQFPSHSVIEKGQTVTLRCDPISGHDNLYWYRRVMGKEIKFL...   \n",
       "2  NAGVTQTPKFQVLKTGQSMTLQCAQDMNHEYMSWYRQDPGMGLRLI...   \n",
       "3  DTGVSQNPRHKITKRGQNVTFRCDPISEHNRLYWYRQTLGQGPEFL...   \n",
       "4  DTGVSQNPRHKITKRGQNVTFRCDPISEHNRLYWYRQTLGQGPEFL...   \n",
       "\n",
       "                                        hla.full.seq  \\\n",
       "0  MVDGTLLLLLSEALALTQTWAGSHSLKYFHTSVSRPGRGEPRFISV...   \n",
       "1  MVDGTLLLLLSEALALTQTWAGSHSLKYFHTSVSRPGRGEPRFISV...   \n",
       "2  MAVMAPRTLVLLLSGALALTQTWAGSHSMRYFFTSVSRPGRGEPRF...   \n",
       "3  MRVTAPRTLLLLLWGAVALTETWAGSHSMRYFYTAMSRPGRGEPRF...   \n",
       "4  MRVTAPRTLLLLLWGAVALTETWAGSHSMRYFYTAMSRPGRGEPRF...   \n",
       "\n",
       "                                        hla.clip.seq  \\\n",
       "0  GSHSLKYFHTSVSRPGRGEPRFISVGYVDDTQFVRFDNDAASPRMV...   \n",
       "1  GSHSLKYFHTSVSRPGRGEPRFISVGYVDDTQFVRFDNDAASPRMV...   \n",
       "2  GSHSMRYFFTSVSRPGRGEPRFIAVGYVDDTQFVRFDSDAASQRME...   \n",
       "3  GSHSMRYFYTAMSRPGRGEPRFITVGYVDDTLFVRFDSDATSPRKE...   \n",
       "4  GSHSMRYFYTAMSRPGRGEPRFITVGYVDDTLFVRFDSDATSPRKE...   \n",
       "\n",
       "                        hla.short.seq  \n",
       "0  YHSMYRESADTIFVNTLYLWHEFYSSAEQAYTWY  \n",
       "1  YHSMYRESADTIFVNTLYLWHEFYSSAEQAYTWY  \n",
       "2  YFAMYGEKVAHTHVDTLYVRYHYYTWAVLAYTWY  \n",
       "3  YYTKYREISTNTYENTAYIRYDDYTWAVDAYLSY  \n",
       "4  YYTKYREISTNTYENTAYIRYDDYTWAVLAYLSY  "
      ]
     },
     "execution_count": 68,
     "metadata": {},
     "output_type": "execute_result"
    }
   ],
   "source": [
    "df_tcr = pd.read_csv(os.path.join(\n",
    "    dataset_dir,\n",
    "    \"Hi-TpH-level-IV.csv\"\n",
    "))\n",
    "print(df_tcr.shape)\n",
    "df_tcr.head()"
   ]
  },
  {
   "cell_type": "code",
   "execution_count": 69,
   "metadata": {},
   "outputs": [
    {
     "name": "stdout",
     "output_type": "stream",
     "text": [
      "(26704, 13)\n"
     ]
    }
   ],
   "source": [
    "df_tcr = df_tcr.dropna(subset=['antigen.epitope', 'beta.cdr3', \"alpha.cdr3\", \"hla.short.seq\",\n",
    "                               \"alpha.vseq.reconstructed\",  \"beta.vseq.reconstructed\"])\n",
    "df_tcr.rename(columns={\"antigen.epitope\":\"pep\", \"hla.short.seq\":\"hla\", \n",
    "                       \"beta.cdr3\":\"beta\", \"alpha.cdr3\":\"alpha\",\n",
    "                       \"beta.vseq.reconstructed\":\"beta_full\",\n",
    "                       \"alpha.vseq.reconstructed\":\"alpha_full\",}, inplace=True)\n",
    "df_tcr = df_tcr.drop_duplicates(ignore_index=True)\n",
    "print(df_tcr.shape)"
   ]
  },
  {
   "cell_type": "code",
   "execution_count": 70,
   "metadata": {},
   "outputs": [
    {
     "name": "stdout",
     "output_type": "stream",
     "text": [
      "pep 不同长度的个数统计：\n",
      "pep\n",
      "9     22391\n",
      "10     2822\n",
      "8      1238\n",
      "11      122\n",
      "12       92\n",
      "13       35\n",
      "7         3\n",
      "24        1\n",
      "Name: count, dtype: int64\n"
     ]
    }
   ],
   "source": [
    "tcr_length_counts = df_tcr['pep'].apply(len).value_counts()\n",
    "\n",
    "print(\"pep 不同长度的个数统计：\")\n",
    "print(tcr_length_counts)"
   ]
  },
  {
   "cell_type": "code",
   "execution_count": 71,
   "metadata": {},
   "outputs": [
    {
     "data": {
      "text/plain": [
       "(26451, 13)"
      ]
     },
     "execution_count": 71,
     "metadata": {},
     "output_type": "execute_result"
    }
   ],
   "source": [
    "df_tcr = df_tcr[df_tcr['pep'].str.len() <= 10]\n",
    "df_tcr = df_tcr[df_tcr['pep'].str.len() >= 8]\n",
    "df_tcr.shape"
   ]
  },
  {
   "cell_type": "code",
   "execution_count": 72,
   "metadata": {},
   "outputs": [
    {
     "name": "stdout",
     "output_type": "stream",
     "text": [
      "beta 不同长度的个数统计：\n",
      "beta\n",
      "15    6051\n",
      "14    5351\n",
      "13    5324\n",
      "16    3427\n",
      "12    1955\n",
      "17    1948\n",
      "18     854\n",
      "11     790\n",
      "19     375\n",
      "20     149\n",
      "10     129\n",
      "21      49\n",
      "22      17\n",
      "8       10\n",
      "9       10\n",
      "23       7\n",
      "26       2\n",
      "25       2\n",
      "24       1\n",
      "Name: count, dtype: int64\n"
     ]
    }
   ],
   "source": [
    "beta_length_counts = df_tcr['beta'].apply(len).value_counts()\n",
    "\n",
    "print(\"beta 不同长度的个数统计：\")\n",
    "print(beta_length_counts)"
   ]
  },
  {
   "cell_type": "code",
   "execution_count": 73,
   "metadata": {},
   "outputs": [
    {
     "name": "stdout",
     "output_type": "stream",
     "text": [
      "alpha 不同长度的个数统计：\n",
      "alpha\n",
      "13    5218\n",
      "14    4893\n",
      "15    4292\n",
      "12    4219\n",
      "11    2423\n",
      "16    2189\n",
      "17    1399\n",
      "10     878\n",
      "18     441\n",
      "19     170\n",
      "9      156\n",
      "8       74\n",
      "20      38\n",
      "7       19\n",
      "21      14\n",
      "22       8\n",
      "6        7\n",
      "24       4\n",
      "25       4\n",
      "5        3\n",
      "23       2\n",
      "Name: count, dtype: int64\n"
     ]
    }
   ],
   "source": [
    "alpha_length_counts = df_tcr['alpha'].apply(len).value_counts()\n",
    "\n",
    "print(\"alpha 不同长度的个数统计：\")\n",
    "print(alpha_length_counts)"
   ]
  },
  {
   "cell_type": "code",
   "execution_count": 74,
   "metadata": {},
   "outputs": [
    {
     "data": {
      "text/plain": [
       "(26278, 13)"
      ]
     },
     "execution_count": 74,
     "metadata": {},
     "output_type": "execute_result"
    }
   ],
   "source": [
    "df_tcr = df_tcr[df_tcr['alpha'].str.len() <= 19]\n",
    "df_tcr = df_tcr[df_tcr['alpha'].str.len() >= 9]\n",
    "df_tcr.shape"
   ]
  },
  {
   "cell_type": "code",
   "execution_count": 75,
   "metadata": {},
   "outputs": [
    {
     "data": {
      "text/plain": [
       "(26043, 13)"
      ]
     },
     "execution_count": 75,
     "metadata": {},
     "output_type": "execute_result"
    }
   ],
   "source": [
    "df_tcr = df_tcr[df_tcr['beta'].str.len() <= 19]\n",
    "df_tcr = df_tcr[df_tcr['beta'].str.len() >= 9]\n",
    "df_tcr.shape"
   ]
  },
  {
   "cell_type": "code",
   "execution_count": 76,
   "metadata": {},
   "outputs": [
    {
     "name": "stdout",
     "output_type": "stream",
     "text": [
      "alpha_full 不同长度的个数统计：\n",
      "alpha_full\n",
      "112    4199\n",
      "113    3673\n",
      "111    3619\n",
      "110    2772\n",
      "114    2635\n",
      "109    2320\n",
      "115    1903\n",
      "116    1512\n",
      "108    1114\n",
      "117     889\n",
      "118     704\n",
      "107     286\n",
      "119     159\n",
      "106     103\n",
      "120      61\n",
      "105      55\n",
      "104      30\n",
      "103       8\n",
      "102       1\n",
      "Name: count, dtype: int64\n"
     ]
    }
   ],
   "source": [
    "alpha_length_counts = df_tcr['alpha_full'].apply(len).value_counts()\n",
    "\n",
    "print(\"alpha_full 不同长度的个数统计：\")\n",
    "print(alpha_length_counts)"
   ]
  },
  {
   "cell_type": "code",
   "execution_count": 77,
   "metadata": {},
   "outputs": [
    {
     "name": "stdout",
     "output_type": "stream",
     "text": [
      "beta_full 不同长度的个数统计：\n",
      "beta_full\n",
      "114    5743\n",
      "113    4676\n",
      "115    4433\n",
      "112    4107\n",
      "116    2719\n",
      "117    1464\n",
      "111    1386\n",
      "118     769\n",
      "110     400\n",
      "119     220\n",
      "109      46\n",
      "120      45\n",
      "121      32\n",
      "108       2\n",
      "104       1\n",
      "Name: count, dtype: int64\n"
     ]
    }
   ],
   "source": [
    "beta_length_counts = df_tcr['beta_full'].apply(len).value_counts()\n",
    "\n",
    "print(\"beta_full 不同长度的个数统计：\")\n",
    "print(beta_length_counts)"
   ]
  },
  {
   "cell_type": "code",
   "execution_count": 78,
   "metadata": {},
   "outputs": [
    {
     "data": {
      "text/plain": [
       "(26004, 13)"
      ]
     },
     "execution_count": 78,
     "metadata": {},
     "output_type": "execute_result"
    }
   ],
   "source": [
    "df_tcr = df_tcr[df_tcr['alpha_full'].str.len() <= 121]\n",
    "df_tcr = df_tcr[df_tcr['alpha_full'].str.len() >= 105]\n",
    "df_tcr.shape"
   ]
  },
  {
   "cell_type": "code",
   "execution_count": 79,
   "metadata": {},
   "outputs": [
    {
     "data": {
      "text/plain": [
       "(26001, 13)"
      ]
     },
     "execution_count": 79,
     "metadata": {},
     "output_type": "execute_result"
    }
   ],
   "source": [
    "df_tcr = df_tcr[df_tcr['beta_full'].str.len() <= 121]\n",
    "df_tcr = df_tcr[df_tcr['beta_full'].str.len() >= 109]\n",
    "df_tcr.shape"
   ]
  },
  {
   "cell_type": "code",
   "execution_count": 81,
   "metadata": {},
   "outputs": [
    {
     "name": "stdout",
     "output_type": "stream",
     "text": [
      "pep 不同长度的个数统计：\n",
      "pep\n",
      "9     22003\n",
      "10     2779\n",
      "8      1219\n",
      "Name: count, dtype: int64\n"
     ]
    }
   ],
   "source": [
    "pep_length_counts = df_tcr['pep'].apply(len).value_counts()\n",
    "\n",
    "print(\"pep 不同长度的个数统计：\")\n",
    "print(pep_length_counts)"
   ]
  },
  {
   "cell_type": "code",
   "execution_count": 82,
   "metadata": {},
   "outputs": [
    {
     "name": "stdout",
     "output_type": "stream",
     "text": [
      "25987\n",
      "25987\n"
     ]
    }
   ],
   "source": [
    "df_tcr[\"ab\"] = df_tcr['alpha_full'] + '/' + df_tcr['beta_full']\n",
    "\n",
    "df_tcr = df_tcr.drop_duplicates(subset=['pep', 'hla', 'ab'], ignore_index=True)\n",
    "print(len(df_tcr))\n",
    "df_tcr = df_tcr.drop_duplicates(subset=['pep', 'hla', 'alpha_full', 'beta_full'], ignore_index=True)\n",
    "print(len(df_tcr))"
   ]
  },
  {
   "cell_type": "markdown",
   "metadata": {},
   "source": [
    "- all component"
   ]
  },
  {
   "cell_type": "code",
   "execution_count": 83,
   "metadata": {},
   "outputs": [
    {
     "name": "stdout",
     "output_type": "stream",
     "text": [
      "23988\n"
     ]
    }
   ],
   "source": [
    "df_tcr_all = df_tcr[['pep', 'hla', 'ab']]\n",
    "\n",
    "# 提取唯一的tcr值，转换为列表\n",
    "tcr_list = df_tcr_all['ab'].unique().tolist()\n",
    "print(len(tcr_list))\n",
    "\n",
    "# 保存去重后的tcr列表为numpy数组\n",
    "data_path = \"/data/lujd/TCRdata/benchmarks/level4\"\n",
    "os.makedirs(data_path, exist_ok=True)\n",
    "np.save(os.path.join(data_path, \"tcr2candidates_pools.npy\"), tcr_list)"
   ]
  },
  {
   "cell_type": "code",
   "execution_count": 84,
   "metadata": {},
   "outputs": [
    {
     "name": "stderr",
     "output_type": "stream",
     "text": [
      "/tmp/ipykernel_1801930/3760776720.py:2: SettingWithCopyWarning: \n",
      "A value is trying to be set on a copy of a slice from a DataFrame.\n",
      "Try using .loc[row_indexer,col_indexer] = value instead\n",
      "\n",
      "See the caveats in the documentation: https://pandas.pydata.org/pandas-docs/stable/user_guide/indexing.html#returning-a-view-versus-a-copy\n",
      "  df_tcr_all['label'] = 1\n"
     ]
    }
   ],
   "source": [
    "# 添加一列标签为1\n",
    "df_tcr_all['label'] = 1\n",
    "\n",
    "# 将数据集按照8:1:1的比例分割成训练集、验证集和测试集\n",
    "# 先打乱数据集\n",
    "df_shuffled = df_tcr_all.sample(frac=1, random_state=42).reset_index(drop=True)\n",
    "\n",
    "# 计算各个数据集的数量\n",
    "total_samples = len(df_shuffled)\n",
    "train_samples = int(0.8 * total_samples)\n",
    "val_samples = int(0.1 * total_samples)\n",
    "test_samples = total_samples - train_samples - val_samples\n",
    "\n",
    "# 分割数据集\n",
    "train_df = df_shuffled.iloc[:train_samples]\n",
    "val_df = df_shuffled.iloc[train_samples:train_samples + val_samples]\n",
    "test_df = df_shuffled.iloc[train_samples + val_samples:]\n",
    "\n",
    "# 保存分割后的数据集为CSV文件\n",
    "train_df.to_csv(os.path.join(data_path, \"train_data_fold0.csv\"), index=False)\n",
    "val_df.to_csv(os.path.join(data_path, \"valid_data_fold0.csv\"), index=False)\n",
    "test_df.to_csv(os.path.join(data_path, \"test_data_fold0.csv\"), index=False)"
   ]
  },
  {
   "cell_type": "code",
   "execution_count": 85,
   "metadata": {},
   "outputs": [
    {
     "data": {
      "text/html": [
       "<div>\n",
       "<style scoped>\n",
       "    .dataframe tbody tr th:only-of-type {\n",
       "        vertical-align: middle;\n",
       "    }\n",
       "\n",
       "    .dataframe tbody tr th {\n",
       "        vertical-align: top;\n",
       "    }\n",
       "\n",
       "    .dataframe thead th {\n",
       "        text-align: right;\n",
       "    }\n",
       "</style>\n",
       "<table border=\"1\" class=\"dataframe\">\n",
       "  <thead>\n",
       "    <tr style=\"text-align: right;\">\n",
       "      <th></th>\n",
       "      <th>pep</th>\n",
       "      <th>hla</th>\n",
       "      <th>ab</th>\n",
       "      <th>label</th>\n",
       "    </tr>\n",
       "  </thead>\n",
       "  <tbody>\n",
       "    <tr>\n",
       "      <th>0</th>\n",
       "      <td>KLGGALQAK</td>\n",
       "      <td>YFAMYQENVAQTDVDTLYIIYRDYTWAELAYTWY</td>\n",
       "      <td>RKEVEQDPGPFNVPEGATVAFNCTYSNSASQSFFWYRQDCRKEPKL...</td>\n",
       "      <td>1</td>\n",
       "    </tr>\n",
       "    <tr>\n",
       "      <th>1</th>\n",
       "      <td>IVTDFSVIK</td>\n",
       "      <td>YYAMYQENVAQTDVDTLYIIYRDYTWAAQAYRWY</td>\n",
       "      <td>SQQGEEDPQALSIQEGENATMNCSYKTSINNLQWYRQNSGRGLVHL...</td>\n",
       "      <td>1</td>\n",
       "    </tr>\n",
       "    <tr>\n",
       "      <th>2</th>\n",
       "      <td>RAKFKQLL</td>\n",
       "      <td>YDSEYRNIFTNTDESNLYLSYNYYTWAVDAYTWY</td>\n",
       "      <td>AQSVTQLDSQVPVFEEAPVELRCNYSSSVSVYLFWYVQYPNQGLQL...</td>\n",
       "      <td>1</td>\n",
       "    </tr>\n",
       "    <tr>\n",
       "      <th>3</th>\n",
       "      <td>KLGGALQAK</td>\n",
       "      <td>YFAMYQENVAQTDVDTLYIIYRDYTWAELAYTWY</td>\n",
       "      <td>AQSVSQHNHHVILSEAASLELGCNYSYGGTVNLFWYVQYPGQHLQL...</td>\n",
       "      <td>1</td>\n",
       "    </tr>\n",
       "    <tr>\n",
       "      <th>4</th>\n",
       "      <td>GILGFVFTL</td>\n",
       "      <td>YFAMYGEKVAHTHVDTLYVRYHYYTWAVLAYTWY</td>\n",
       "      <td>TQLLEQSPQFLSIQEGENLTVYCNSSSVFSSLQWYRQEPGEGPVLL...</td>\n",
       "      <td>1</td>\n",
       "    </tr>\n",
       "    <tr>\n",
       "      <th>...</th>\n",
       "      <td>...</td>\n",
       "      <td>...</td>\n",
       "      <td>...</td>\n",
       "      <td>...</td>\n",
       "    </tr>\n",
       "    <tr>\n",
       "      <th>20784</th>\n",
       "      <td>KLGGALQAK</td>\n",
       "      <td>YFAMYQENVAQTDVDTLYIIYRDYTWAELAYTWY</td>\n",
       "      <td>QKEVEQDPGPLSVPEGAIVSLNCTYSNSAFQYFMWYRQYSRKGPEL...</td>\n",
       "      <td>1</td>\n",
       "    </tr>\n",
       "    <tr>\n",
       "      <th>20785</th>\n",
       "      <td>KLGGALQAK</td>\n",
       "      <td>YFAMYQENVAQTDVDTLYIIYRDYTWAELAYTWY</td>\n",
       "      <td>QQQVKQSPQSLIVQKGGISIINCAYENTAFDYFPWYQQFPGKGPAL...</td>\n",
       "      <td>1</td>\n",
       "    </tr>\n",
       "    <tr>\n",
       "      <th>20786</th>\n",
       "      <td>KLGGALQAK</td>\n",
       "      <td>YFAMYQENVAQTDVDTLYIIYRDYTWAELAYTWY</td>\n",
       "      <td>KNEVEQSPQNLTAQEGEFITINCSYSVGISALHWLQQHPGGGIVSL...</td>\n",
       "      <td>1</td>\n",
       "    </tr>\n",
       "    <tr>\n",
       "      <th>20787</th>\n",
       "      <td>KLGGALQAK</td>\n",
       "      <td>YFAMYQENVAQTDVDTLYIIYRDYTWAELAYTWY</td>\n",
       "      <td>GQNIDQPTEMTATEGAIVQINCTYQTSGFNGLFWYQQHAGEAPTFL...</td>\n",
       "      <td>1</td>\n",
       "    </tr>\n",
       "    <tr>\n",
       "      <th>20788</th>\n",
       "      <td>KLGGALQAK</td>\n",
       "      <td>YFAMYQENVAQTDVDTLYIIYRDYTWAELAYTWY</td>\n",
       "      <td>GESVGLHLPTLSVQEGDNSIINCAYSNSASDYFIWYKQESGKGPQF...</td>\n",
       "      <td>1</td>\n",
       "    </tr>\n",
       "  </tbody>\n",
       "</table>\n",
       "<p>20789 rows × 4 columns</p>\n",
       "</div>"
      ],
      "text/plain": [
       "             pep                                 hla  \\\n",
       "0      KLGGALQAK  YFAMYQENVAQTDVDTLYIIYRDYTWAELAYTWY   \n",
       "1      IVTDFSVIK  YYAMYQENVAQTDVDTLYIIYRDYTWAAQAYRWY   \n",
       "2       RAKFKQLL  YDSEYRNIFTNTDESNLYLSYNYYTWAVDAYTWY   \n",
       "3      KLGGALQAK  YFAMYQENVAQTDVDTLYIIYRDYTWAELAYTWY   \n",
       "4      GILGFVFTL  YFAMYGEKVAHTHVDTLYVRYHYYTWAVLAYTWY   \n",
       "...          ...                                 ...   \n",
       "20784  KLGGALQAK  YFAMYQENVAQTDVDTLYIIYRDYTWAELAYTWY   \n",
       "20785  KLGGALQAK  YFAMYQENVAQTDVDTLYIIYRDYTWAELAYTWY   \n",
       "20786  KLGGALQAK  YFAMYQENVAQTDVDTLYIIYRDYTWAELAYTWY   \n",
       "20787  KLGGALQAK  YFAMYQENVAQTDVDTLYIIYRDYTWAELAYTWY   \n",
       "20788  KLGGALQAK  YFAMYQENVAQTDVDTLYIIYRDYTWAELAYTWY   \n",
       "\n",
       "                                                      ab  label  \n",
       "0      RKEVEQDPGPFNVPEGATVAFNCTYSNSASQSFFWYRQDCRKEPKL...      1  \n",
       "1      SQQGEEDPQALSIQEGENATMNCSYKTSINNLQWYRQNSGRGLVHL...      1  \n",
       "2      AQSVTQLDSQVPVFEEAPVELRCNYSSSVSVYLFWYVQYPNQGLQL...      1  \n",
       "3      AQSVSQHNHHVILSEAASLELGCNYSYGGTVNLFWYVQYPGQHLQL...      1  \n",
       "4      TQLLEQSPQFLSIQEGENLTVYCNSSSVFSSLQWYRQEPGEGPVLL...      1  \n",
       "...                                                  ...    ...  \n",
       "20784  QKEVEQDPGPLSVPEGAIVSLNCTYSNSAFQYFMWYRQYSRKGPEL...      1  \n",
       "20785  QQQVKQSPQSLIVQKGGISIINCAYENTAFDYFPWYQQFPGKGPAL...      1  \n",
       "20786  KNEVEQSPQNLTAQEGEFITINCSYSVGISALHWLQQHPGGGIVSL...      1  \n",
       "20787  GQNIDQPTEMTATEGAIVQINCTYQTSGFNGLFWYQQHAGEAPTFL...      1  \n",
       "20788  GESVGLHLPTLSVQEGDNSIINCAYSNSASDYFIWYKQESGKGPQF...      1  \n",
       "\n",
       "[20789 rows x 4 columns]"
      ]
     },
     "execution_count": 85,
     "metadata": {},
     "output_type": "execute_result"
    }
   ],
   "source": [
    "train_df"
   ]
  },
  {
   "cell_type": "markdown",
   "metadata": {},
   "source": [
    "- 2 component"
   ]
  },
  {
   "cell_type": "code",
   "execution_count": 86,
   "metadata": {},
   "outputs": [
    {
     "name": "stdout",
     "output_type": "stream",
     "text": [
      "20067\n"
     ]
    }
   ],
   "source": [
    "df_tcr_basic = df_tcr[['pep', 'beta']]\n",
    "\n",
    "# 提取唯一的tcr值，转换为列表\n",
    "tcr_list = df_tcr_basic['beta'].unique().tolist()\n",
    "print(len(tcr_list))\n",
    "\n",
    "# 保存去重后的tcr列表为numpy数组\n",
    "data_path = \"/data/lujd/TCRdata/benchmarks/level4_basic\"\n",
    "os.makedirs(data_path, exist_ok=True)\n",
    "np.save(os.path.join(data_path, \"tcr2candidates_pools.npy\"), tcr_list)"
   ]
  },
  {
   "cell_type": "code",
   "execution_count": 87,
   "metadata": {},
   "outputs": [
    {
     "name": "stdout",
     "output_type": "stream",
     "text": [
      "20789\n",
      "17932\n",
      "2598\n",
      "2455\n",
      "2600\n",
      "2438\n",
      "22825\n",
      "22099\n",
      "17932\n",
      "2103\n",
      "2064\n"
     ]
    },
    {
     "name": "stderr",
     "output_type": "stream",
     "text": [
      "/tmp/ipykernel_1801930/970082237.py:1: SettingWithCopyWarning: \n",
      "A value is trying to be set on a copy of a slice from a DataFrame.\n",
      "Try using .loc[row_indexer,col_indexer] = value instead\n",
      "\n",
      "See the caveats in the documentation: https://pandas.pydata.org/pandas-docs/stable/user_guide/indexing.html#returning-a-view-versus-a-copy\n",
      "  df_tcr_basic['label'] = 1\n"
     ]
    }
   ],
   "source": [
    "df_tcr_basic['label'] = 1\n",
    "\n",
    "# 将数据集按照8:1:1的比例分割成训练集、验证集和测试集\n",
    "# 先打乱数据集\n",
    "df_shuffled = df_tcr_basic.sample(frac=1, random_state=42).reset_index(drop=True)\n",
    "\n",
    "# 计算各个数据集的数量\n",
    "total_samples = len(df_shuffled)\n",
    "train_samples = int(0.8 * total_samples)\n",
    "val_samples = int(0.1 * total_samples)\n",
    "test_samples = total_samples - train_samples - val_samples\n",
    "\n",
    "# 分割数据集\n",
    "train_df = df_shuffled.iloc[:train_samples]\n",
    "val_df = df_shuffled.iloc[train_samples:train_samples + val_samples]\n",
    "test_df = df_shuffled.iloc[train_samples + val_samples:]\n",
    "\n",
    "# 去除掉每个数据集中重复的 ['pep', 'beta'] pair\n",
    "print(len(train_df))\n",
    "train_df = train_df[[\"beta\", \"pep\", 'label']]\n",
    "train_df = train_df.drop_duplicates(subset=['beta', 'pep'], ignore_index=True)\n",
    "print(len(train_df))\n",
    "\n",
    "print(len(val_df))\n",
    "val_df = val_df[[\"beta\", \"pep\", 'label']]\n",
    "val_df = val_df.drop_duplicates(subset=['beta', 'pep'], ignore_index=True)\n",
    "print(len(val_df))\n",
    "\n",
    "print(len(test_df))\n",
    "test_df = test_df[[\"beta\", \"pep\", 'label']]\n",
    "test_df = test_df.drop_duplicates(subset=['beta', 'pep'], ignore_index=True)\n",
    "print(len(test_df))\n",
    "\n",
    "# 去除数据集之间重复的 ['pep', 'beta'] pair\n",
    "train_df['tag'] = 'train'\n",
    "val_df['tag'] = 'val'\n",
    "test_df['tag'] = 'test'\n",
    "merge_df = pd.concat((train_df, val_df, test_df), axis=0).reset_index(drop=True)\n",
    "print(len(merge_df))\n",
    "merge_df = merge_df.drop_duplicates(subset=['beta', 'pep'], ignore_index=True, keep='first')\n",
    "print(len(merge_df))\n",
    "\n",
    "train_df = merge_df[merge_df['tag']=='train'].reset_index(drop=True)\n",
    "train_df = train_df[[\"beta\", \"pep\", 'label']]\n",
    "print(len(train_df))\n",
    "\n",
    "val_df = merge_df[merge_df['tag']=='val'].reset_index(drop=True)\n",
    "val_df = val_df[[\"beta\", \"pep\", 'label']]\n",
    "print(len(val_df))\n",
    "\n",
    "test_df = merge_df[merge_df['tag']=='test'].reset_index(drop=True)\n",
    "test_df = test_df[[\"beta\", \"pep\", 'label']]\n",
    "print(len(test_df))\n",
    "\n",
    "# 保存分割后的数据集为CSV文件\n",
    "train_df.to_csv(os.path.join(data_path, \"train_data_fold0.csv\"), index=False)\n",
    "val_df.to_csv(os.path.join(data_path, \"valid_data_fold0.csv\"), index=False)\n",
    "test_df.to_csv(os.path.join(data_path, \"test_data_fold0.csv\"), index=False)"
   ]
  },
  {
   "cell_type": "code",
   "execution_count": 88,
   "metadata": {},
   "outputs": [
    {
     "data": {
      "text/html": [
       "<div>\n",
       "<style scoped>\n",
       "    .dataframe tbody tr th:only-of-type {\n",
       "        vertical-align: middle;\n",
       "    }\n",
       "\n",
       "    .dataframe tbody tr th {\n",
       "        vertical-align: top;\n",
       "    }\n",
       "\n",
       "    .dataframe thead th {\n",
       "        text-align: right;\n",
       "    }\n",
       "</style>\n",
       "<table border=\"1\" class=\"dataframe\">\n",
       "  <thead>\n",
       "    <tr style=\"text-align: right;\">\n",
       "      <th></th>\n",
       "      <th>beta</th>\n",
       "      <th>pep</th>\n",
       "      <th>label</th>\n",
       "    </tr>\n",
       "  </thead>\n",
       "  <tbody>\n",
       "    <tr>\n",
       "      <th>0</th>\n",
       "      <td>CASSLAQVQYTEAFF</td>\n",
       "      <td>KLGGALQAK</td>\n",
       "      <td>1</td>\n",
       "    </tr>\n",
       "    <tr>\n",
       "      <th>1</th>\n",
       "      <td>CASSLATVSYEQYF</td>\n",
       "      <td>IVTDFSVIK</td>\n",
       "      <td>1</td>\n",
       "    </tr>\n",
       "    <tr>\n",
       "      <th>2</th>\n",
       "      <td>CASSYGILVGGELFF</td>\n",
       "      <td>RAKFKQLL</td>\n",
       "      <td>1</td>\n",
       "    </tr>\n",
       "    <tr>\n",
       "      <th>3</th>\n",
       "      <td>CASSLTVAGVYPGYEQYF</td>\n",
       "      <td>KLGGALQAK</td>\n",
       "      <td>1</td>\n",
       "    </tr>\n",
       "    <tr>\n",
       "      <th>4</th>\n",
       "      <td>CASSIRSAYEQYF</td>\n",
       "      <td>GILGFVFTL</td>\n",
       "      <td>1</td>\n",
       "    </tr>\n",
       "    <tr>\n",
       "      <th>...</th>\n",
       "      <td>...</td>\n",
       "      <td>...</td>\n",
       "      <td>...</td>\n",
       "    </tr>\n",
       "    <tr>\n",
       "      <th>17927</th>\n",
       "      <td>CASSSKSGTSLGYNEQFF</td>\n",
       "      <td>KLGGALQAK</td>\n",
       "      <td>1</td>\n",
       "    </tr>\n",
       "    <tr>\n",
       "      <th>17928</th>\n",
       "      <td>CSASGGMGYNEQFF</td>\n",
       "      <td>KLGGALQAK</td>\n",
       "      <td>1</td>\n",
       "    </tr>\n",
       "    <tr>\n",
       "      <th>17929</th>\n",
       "      <td>CASSWGWSYEQYF</td>\n",
       "      <td>KLGGALQAK</td>\n",
       "      <td>1</td>\n",
       "    </tr>\n",
       "    <tr>\n",
       "      <th>17930</th>\n",
       "      <td>CSASGGSSYNEQFF</td>\n",
       "      <td>KLGGALQAK</td>\n",
       "      <td>1</td>\n",
       "    </tr>\n",
       "    <tr>\n",
       "      <th>17931</th>\n",
       "      <td>CASSPRTREQYF</td>\n",
       "      <td>KLGGALQAK</td>\n",
       "      <td>1</td>\n",
       "    </tr>\n",
       "  </tbody>\n",
       "</table>\n",
       "<p>17932 rows × 3 columns</p>\n",
       "</div>"
      ],
      "text/plain": [
       "                     beta        pep  label\n",
       "0         CASSLAQVQYTEAFF  KLGGALQAK      1\n",
       "1          CASSLATVSYEQYF  IVTDFSVIK      1\n",
       "2         CASSYGILVGGELFF   RAKFKQLL      1\n",
       "3      CASSLTVAGVYPGYEQYF  KLGGALQAK      1\n",
       "4           CASSIRSAYEQYF  GILGFVFTL      1\n",
       "...                   ...        ...    ...\n",
       "17927  CASSSKSGTSLGYNEQFF  KLGGALQAK      1\n",
       "17928      CSASGGMGYNEQFF  KLGGALQAK      1\n",
       "17929       CASSWGWSYEQYF  KLGGALQAK      1\n",
       "17930      CSASGGSSYNEQFF  KLGGALQAK      1\n",
       "17931        CASSPRTREQYF  KLGGALQAK      1\n",
       "\n",
       "[17932 rows x 3 columns]"
      ]
     },
     "execution_count": 88,
     "metadata": {},
     "output_type": "execute_result"
    }
   ],
   "source": [
    "train_df"
   ]
  }
 ],
 "metadata": {
  "kernelspec": {
   "display_name": "pytorch3.9",
   "language": "python",
   "name": "python3"
  },
  "language_info": {
   "codemirror_mode": {
    "name": "ipython",
    "version": 3
   },
   "file_extension": ".py",
   "mimetype": "text/x-python",
   "name": "python",
   "nbconvert_exporter": "python",
   "pygments_lexer": "ipython3",
   "version": "3.8.-1"
  }
 },
 "nbformat": 4,
 "nbformat_minor": 2
}
