{
 "cells": [
  {
   "cell_type": "code",
   "execution_count": 1,
   "metadata": {},
   "outputs": [
    {
     "name": "stdout",
     "output_type": "stream",
     "text": [
      "174673\n",
      "590325\n"
     ]
    }
   ],
   "source": [
    "import pandas as pd\n",
    "from utils import save_csv\n",
    "\n",
    "to_your_path = '/data/lujd/'\n",
    "datapath = to_your_path + \"TCRdata/collect/\"\n",
    "\n",
    "filename = \"main_dataset_tcr_phla_cleaned.csv\"\n",
    "merge_df = pd.read_csv(datapath+filename, sep=',')\n",
    "merge_df = merge_df[merge_df['mhc.class']=='MHCI']\n",
    "print(len(merge_df))\n",
    "\n",
    "filename = \"MIRA.csv\"\n",
    "mira_df = pd.read_csv(datapath+filename, sep=',')\n",
    "mira_df = mira_df[mira_df['mhc.class']=='MHCI']\n",
    "print(len(mira_df))\n",
    "\n",
    "savepath = to_your_path + \"TCRdata/final/\""
   ]
  },
  {
   "cell_type": "markdown",
   "metadata": {},
   "source": [
    "---\n",
    "\n",
    "### Level-I"
   ]
  },
  {
   "cell_type": "code",
   "execution_count": 2,
   "metadata": {},
   "outputs": [
    {
     "name": "stdout",
     "output_type": "stream",
     "text": [
      "165329\n",
      "554952\n"
     ]
    }
   ],
   "source": [
    "merge_df_l1 = merge_df[['antigen.epitope', 'beta.cdr3']].drop_duplicates(ignore_index=True, keep='first')\n",
    "print(len(merge_df_l1))\n",
    "mira_df_l1 = mira_df[['antigen.epitope', 'beta.cdr3']].drop_duplicates(ignore_index=True, keep='first')\n",
    "print(len(mira_df_l1))"
   ]
  },
  {
   "cell_type": "code",
   "execution_count": 3,
   "metadata": {},
   "outputs": [
    {
     "name": "stdout",
     "output_type": "stream",
     "text": [
      "number of duplicated data: 720038\n",
      "number of dropna data: 720038\n",
      "File /data/lujd/TCRdata/check/Hi-TpH-level-I.csv has been successfully saved.\n"
     ]
    }
   ],
   "source": [
    "level1_df = pd.concat([merge_df_l1, mira_df_l1], axis=0).drop_duplicates(ignore_index=True, keep='first')\n",
    "print(f\"number of duplicated data: {len(level1_df)}\")\n",
    "\n",
    "level1_df = level1_df[level1_df['antigen.epitope']!='(UNK)']\n",
    "level1_df = level1_df[level1_df['beta.cdr3']!='(UNK)']\n",
    "print(f\"number of dropna data: {len(level1_df)}\")\n",
    "\n",
    "savename = \"Hi-TpH-level-I.csv\"\n",
    "save_csv(level1_df, savepath, savename)"
   ]
  },
  {
   "cell_type": "code",
   "execution_count": 4,
   "metadata": {},
   "outputs": [
    {
     "name": "stdout",
     "output_type": "stream",
     "text": [
      "samples: 720038\n",
      "TCRs:    290040\n",
      "peptides:1949\n"
     ]
    }
   ],
   "source": [
    "print(f\"samples: {len(level1_df)}\")\n",
    "print(f\"TCRs:    {level1_df['beta.cdr3'].nunique()}\")\n",
    "print(f\"peptides:{level1_df['antigen.epitope'].nunique()}\")"
   ]
  },
  {
   "cell_type": "markdown",
   "metadata": {},
   "source": [
    "---\n",
    "\n",
    "### Level-II B"
   ]
  },
  {
   "cell_type": "code",
   "execution_count": 5,
   "metadata": {},
   "outputs": [
    {
     "name": "stdout",
     "output_type": "stream",
     "text": [
      "169515\n",
      "number of dropna(pep,cdr3b) data: 169515\n",
      "number of dropna(cdr3a) data: 28375\n",
      "File /data/lujd/TCRdata/check/Hi-TpH-level-IIa.csv has been successfully saved.\n"
     ]
    }
   ],
   "source": [
    "level2_df = merge_df[['antigen.epitope', 'alpha.cdr3', 'beta.cdr3']].drop_duplicates(ignore_index=True, keep='first')\n",
    "print(len(level2_df))\n",
    "\n",
    "level2_df = level2_df[level2_df['antigen.epitope']!='(UNK)']\n",
    "level2_df = level2_df[level2_df['beta.cdr3']!='(UNK)']\n",
    "level2_df = level2_df.reset_index(drop=True)\n",
    "print(f\"number of dropna(pep,cdr3b) data: {len(level2_df)}\")\n",
    "\n",
    "level2_df = level2_df[level2_df['alpha.cdr3']!='(UNK)']\n",
    "level2_df = level2_df.reset_index(drop=True)\n",
    "print(f\"number of dropna(cdr3a) data: {len(level2_df)}\")\n",
    "\n",
    "savename = \"Hi-TpH-level-IIB.csv\"\n",
    "save_csv(level2_df, savepath, savename)"
   ]
  },
  {
   "cell_type": "code",
   "execution_count": 6,
   "metadata": {},
   "outputs": [
    {
     "name": "stdout",
     "output_type": "stream",
     "text": [
      "samples: 28375\n",
      "TCRs:    26502\n",
      "peptides:1154\n"
     ]
    }
   ],
   "source": [
    "print(f\"samples: {len(level2_df)}\")\n",
    "print(f\"TCRs:    {len(level2_df.drop_duplicates(subset=['alpha.cdr3', 'beta.cdr3']))}\")\n",
    "print(f\"peptides:{level2_df['antigen.epitope'].nunique()}\")"
   ]
  },
  {
   "cell_type": "markdown",
   "metadata": {},
   "source": [
    "### Level-II A\n",
    "\n",
    "- pep hla cdr3b"
   ]
  },
  {
   "cell_type": "code",
   "execution_count": 7,
   "metadata": {},
   "outputs": [
    {
     "name": "stdout",
     "output_type": "stream",
     "text": [
      "167298\n",
      "number of dropna(pep,cdr3b) data: 167298\n",
      "number of dropna(hla) data: 80628\n",
      "samples: 80628\n",
      "TCRs:    73707\n",
      "peptides:1403\n"
     ]
    }
   ],
   "source": [
    "level3_df = merge_df[['antigen.epitope', 'hla.allele', 'beta.cdr3']].drop_duplicates(ignore_index=True, keep='first')\n",
    "print(len(level3_df))\n",
    "\n",
    "level3_df = level3_df[level3_df['antigen.epitope']!='(UNK)']\n",
    "level3_df = level3_df[level3_df['beta.cdr3']!='(UNK)']\n",
    "level3_df = level3_df.reset_index(drop=True)\n",
    "print(f\"number of dropna(pep,cdr3b) data: {len(level3_df)}\")\n",
    "\n",
    "level3_df = level3_df[level3_df['hla.allele']!='(UNK)']\n",
    "level3_df = level3_df.reset_index(drop=True)\n",
    "print(f\"number of dropna(hla) data: {len(level3_df)}\")\n",
    "\n",
    "print(f\"samples: {len(level3_df)}\")\n",
    "print(f\"TCRs:    {len(level3_df.drop_duplicates(subset=['beta.cdr3']))}\")\n",
    "print(f\"peptides:{level3_df['antigen.epitope'].nunique()}\")"
   ]
  },
  {
   "cell_type": "code",
   "execution_count": 8,
   "metadata": {},
   "outputs": [
    {
     "name": "stdout",
     "output_type": "stream",
     "text": [
      "118\n"
     ]
    },
    {
     "data": {
      "text/plain": [
       "['HLA-E*01:01', 'HLA-E*01:03', 'HLA-B*08', 'HLA-B*44:05', 'HLA-B*08:01']"
      ]
     },
     "execution_count": 8,
     "metadata": {},
     "output_type": "execute_result"
    }
   ],
   "source": [
    "target_hla_list = level3_df['hla.allele'].unique().tolist()\n",
    "print(len(target_hla_list))\n",
    "target_hla_list[:5]"
   ]
  },
  {
   "cell_type": "markdown",
   "metadata": {},
   "source": [
    "- read from allele2seq dict"
   ]
  },
  {
   "cell_type": "code",
   "execution_count": 9,
   "metadata": {},
   "outputs": [
    {
     "name": "stdout",
     "output_type": "stream",
     "text": [
      "24153\n"
     ]
    },
    {
     "data": {
      "text/plain": [
       "['HLA-A*01:01:01:01',\n",
       " 'HLA-A*01:01:01:02N',\n",
       " 'HLA-A*01:01:01:03',\n",
       " 'HLA-A*01:01:01:04',\n",
       " 'HLA-A*01:01:01:05']"
      ]
     },
     "execution_count": 9,
     "metadata": {},
     "output_type": "execute_result"
    }
   ],
   "source": [
    "import os\n",
    "import json\n",
    "dict_savepath = to_your_path + \"TCRdata/collect\"\n",
    "dict_savename = \"hla_allele2seq.json\"\n",
    "with open(os.path.join(dict_savepath, dict_savename), \"r\") as f:\n",
    "    allele2seq_dict = json.load(f)\n",
    "\n",
    "all_allele_list = list(allele2seq_dict.keys())     # sorted\n",
    "print(len(all_allele_list))\n",
    "all_allele_list[:5]"
   ]
  },
  {
   "cell_type": "code",
   "execution_count": 10,
   "metadata": {},
   "outputs": [
    {
     "name": "stdout",
     "output_type": "stream",
     "text": [
      "HLA-A*02:01 K66A 66 K A\n",
      "YFAMYGEKVAHTHVDTLYVRYHYYTWAVLAYTWY YFAMYGEAVAHTHVDTLYVRYHYYTWAVLAYTWY\n",
      "HLA-A*02:01 E63Q 63 E Q\n",
      "YFAMYGEKVAHTHVDTLYVRYHYYTWAVLAYTWY YFAMYGQKVAHTHVDTLYVRYHYYTWAVLAYTWY\n",
      "HLA-A*02:01 A150P 150 A P\n",
      "YFAMYGEKVAHTHVDTLYVRYHYYTWAVLAYTWY YFAMYGEKVAHTHVDTLYVRYHYYTWPVLAYTWY\n",
      "HLA-B*35:08 Q65A 65 Q A\n",
      "HLA-B*35:08 T69A 69 T A\n",
      "YYATYRNIFTNTYESNLYIRYDSYTWAVRAYLWY YYATYRNIFANTYESNLYIRYDSYTWAVRAYLWY\n",
      "HLA-B*35:08 Q155A 155 Q A\n",
      "HLA-A*02:01 A69G 69 A G\n",
      "YFAMYGEKVAHTHVDTLYVRYHYYTWAVLAYTWY YFAMYGEKVGHTHVDTLYVRYHYYTWAVLAYTWY\n",
      "HLA-A*02:01 E166A 166 E A\n",
      "HLA-A*02:01 R65A 65 R A\n",
      "HLA-A*02:01 T163A 163 T A\n",
      "YFAMYGEKVAHTHVDTLYVRYHYYTWAVLAYTWY YFAMYGEKVAHTHVDTLYVRYHYYTWAVLAYAWY\n",
      "HLA-A*02:01 W167A 167 W A\n",
      "YFAMYGEKVAHTHVDTLYVRYHYYTWAVLAYTWY YFAMYGEKVAHTHVDTLYVRYHYYTWAVLAYTAY\n"
     ]
    }
   ],
   "source": [
    "short_position = [7,9,24,45,59,62,63,66,67,69,70,73,74,76,77,80,81,84,95,97,99,\n",
    "                114,116,118,143,147,150,152,156,158,159,163,167,171]        # netmhcpan\n",
    "short_position = [pos-1 for pos in short_position]\n",
    "\n",
    "seq_dict = {}\n",
    "for target_hla in target_hla_list:\n",
    "    if len(target_hla.split(' ')) > 1:\n",
    "        target_allele = target_hla.split(' ')[0]\n",
    "        mutant_pos = int(target_hla.split(' ')[1][1:-1])\n",
    "        wild_res = target_hla.split(' ')[1][0]\n",
    "        muta_res = target_hla.split(' ')[1][-1]\n",
    "        print(target_hla, mutant_pos, wild_res, muta_res)\n",
    "    else:\n",
    "        target_allele = target_hla.split(' ')[0]\n",
    "        mutant_pos = -1\n",
    "        wild_res = 'X'\n",
    "        muta_res = 'X'\n",
    "    for allele in all_allele_list:\n",
    "        info = {}\n",
    "        if target_allele in allele:\n",
    "            if (allele2seq_dict[allele]['clip sequence length'] == 0) | (allele2seq_dict[allele]['short sequence length'] == 0):\n",
    "                print(allele)\n",
    "            else:\n",
    "                if mutant_pos >= 0:\n",
    "                    if allele2seq_dict[allele]['clip sequence'][mutant_pos-1] != wild_res:\n",
    "                        print(allele, 1)\n",
    "                    else:\n",
    "                        info['source allele'] = allele\n",
    "                        # reconstruct clip seq\n",
    "                        info['clip sequence'] = \\\n",
    "                            allele2seq_dict[allele]['clip sequence'][:mutant_pos-1] + muta_res + \\\n",
    "                                allele2seq_dict[allele]['clip sequence'][mutant_pos:]\n",
    "                        info['clip sequence length'] = len(info['clip sequence'])\n",
    "                        assert info['clip sequence length']==allele2seq_dict[allele]['clip sequence length']\n",
    "                        # reconstruct full seq\n",
    "                        clip_start = allele2seq_dict[allele]['full sequence'].find(allele2seq_dict[allele]['clip sequence'])\n",
    "                        clip_end = clip_start + len(info['clip sequence'])\n",
    "                        info['full sequence'] = \\\n",
    "                            allele2seq_dict[allele]['full sequence'][:clip_start] + \\\n",
    "                            info['clip sequence'] + \\\n",
    "                            allele2seq_dict[allele]['full sequence'][clip_end:]\n",
    "                        info['full sequence length'] = len(info['full sequence'])\n",
    "                        assert info['full sequence length']==allele2seq_dict[allele]['full sequence length']\n",
    "                        # reconstruct short seq\n",
    "                        short_seq = \"\"\n",
    "                        for ind in short_position:\n",
    "                            short_seq += info['clip sequence'][ind]\n",
    "                        info['short sequence'] = short_seq\n",
    "                        info['short sequence length'] = len(short_seq)\n",
    "                        if short_seq != allele2seq_dict[allele]['short sequence']:\n",
    "                            print(allele2seq_dict[allele]['short sequence'], short_seq)\n",
    "                        seq_dict[target_hla] = info\n",
    "                else:\n",
    "                    info['source allele'] = allele\n",
    "                    info['full sequence'] = allele2seq_dict[allele]['full sequence']\n",
    "                    info['full sequence length'] = allele2seq_dict[allele]['full sequence length']\n",
    "                    info['clip sequence'] = allele2seq_dict[allele]['clip sequence']\n",
    "                    info['clip sequence length'] = allele2seq_dict[allele]['clip sequence length']\n",
    "                    info['short sequence'] = allele2seq_dict[allele]['short sequence']\n",
    "                    info['short sequence length'] = allele2seq_dict[allele]['short sequence length']\n",
    "                    seq_dict[target_hla] = info\n",
    "            break"
   ]
  },
  {
   "cell_type": "code",
   "execution_count": 11,
   "metadata": {},
   "outputs": [
    {
     "name": "stdout",
     "output_type": "stream",
     "text": [
      "File /data/lujd/TCRdata/check/Hi-TpH-hla_allele2seq.json has been successfully saved.\n"
     ]
    }
   ],
   "source": [
    "savename = \"Hi-TpH-hla_allele2seq.json\"\n",
    "\n",
    "with open(os.path.join(savepath, savename), \"w\") as f:\n",
    "    json.dump(seq_dict, f, indent=4)\n",
    "\n",
    "print(F\"File {os.path.join(savepath, savename)} has been successfully saved.\")"
   ]
  },
  {
   "cell_type": "code",
   "execution_count": 12,
   "metadata": {},
   "outputs": [
    {
     "name": "stdout",
     "output_type": "stream",
     "text": [
      "{'HLA-A*24:01', 'HLA-A*08:01', 'HLA-B*12'}\n",
      "161\n",
      "number of no hla seq data: 80467\n"
     ]
    }
   ],
   "source": [
    "print(set(target_hla_list) - set(seq_dict.keys()))\n",
    "print(len(level3_df[level3_df['hla.allele'].isin(set(target_hla_list) - set(seq_dict.keys()))]))\n",
    "\n",
    "level3_df = level3_df[~level3_df['hla.allele'].isin(set(target_hla_list) - set(seq_dict.keys()))]\n",
    "level3_df = level3_df.reset_index(drop=True)\n",
    "print(f\"number of hla seq data: {len(level3_df)}\")"
   ]
  },
  {
   "cell_type": "code",
   "execution_count": 13,
   "metadata": {},
   "outputs": [
    {
     "name": "stdout",
     "output_type": "stream",
     "text": [
      "78679\n",
      "78679\n",
      "78672\n",
      "78665\n"
     ]
    }
   ],
   "source": [
    "level3_df['hla.full.seq'] = level3_df['hla.allele'].apply(lambda x: seq_dict[x]['full sequence'])\n",
    "level3_df['hla.clip.seq'] = level3_df['hla.allele'].apply(lambda x: seq_dict[x]['clip sequence'])\n",
    "level3_df['hla.short.seq'] = level3_df['hla.allele'].apply(lambda x: seq_dict[x]['short sequence'])\n",
    "\n",
    "level3_df = level3_df.drop_duplicates(ignore_index=True, keep='first',\n",
    "                                      subset=['beta.cdr3', 'antigen.epitope', 'hla.full.seq', 'hla.clip.seq', 'hla.short.seq'])\n",
    "print(len(level3_df))\n",
    "\n",
    "print(len(level3_df.drop_duplicates(subset=['beta.cdr3', 'antigen.epitope', 'hla.full.seq'])))\n",
    "print(len(level3_df.drop_duplicates(subset=['beta.cdr3', 'antigen.epitope', 'hla.clip.seq'])))\n",
    "print(len(level3_df.drop_duplicates(subset=['beta.cdr3', 'antigen.epitope', 'hla.short.seq'])))"
   ]
  },
  {
   "cell_type": "code",
   "execution_count": 14,
   "metadata": {},
   "outputs": [
    {
     "name": "stdout",
     "output_type": "stream",
     "text": [
      "0\n",
      "0\n",
      "0\n",
      "0\n",
      "0\n",
      "0\n"
     ]
    }
   ],
   "source": [
    "for c in level3_df:\n",
    "    print(len(level3_df[level3_df[c]==\"(UNK)\"]))"
   ]
  },
  {
   "cell_type": "code",
   "execution_count": 15,
   "metadata": {},
   "outputs": [
    {
     "name": "stdout",
     "output_type": "stream",
     "text": [
      "File /data/lujd/TCRdata/check/Hi-TpH-level-IIb.csv has been successfully saved.\n",
      "samples: 78679\n",
      "TCRs:    73553\n",
      "HLAs:    88\n",
      "HLAs:    88\n",
      "peptides:1401\n"
     ]
    }
   ],
   "source": [
    "savename = \"Hi-TpH-level-IIA.csv\"\n",
    "save_csv(level3_df, savepath, savename)\n",
    "\n",
    "print(f\"samples: {len(level3_df)}\")\n",
    "print(f\"TCRs:    {len(level3_df.drop_duplicates(subset=['beta.cdr3']))}\")\n",
    "print(f\"HLAs:    {len(level3_df.drop_duplicates(subset=['hla.full.seq']))}\")\n",
    "print(f\"HLAs:    {len(level3_df.drop_duplicates(subset=['hla.full.seq', 'hla.clip.seq', 'hla.short.seq']))}\")\n",
    "print(f\"peptides:{level3_df['antigen.epitope'].nunique()}\")"
   ]
  },
  {
   "cell_type": "markdown",
   "metadata": {},
   "source": [
    "---\n",
    "\n",
    "### Level-III\n",
    "\n",
    "- pep hla cdr3a cdr3b"
   ]
  },
  {
   "cell_type": "code",
   "execution_count": 16,
   "metadata": {},
   "outputs": [
    {
     "name": "stdout",
     "output_type": "stream",
     "text": [
      "171455\n",
      "number of dropna(pep,cdr3a,cdr3b) data: 28740\n",
      "number of dropna(hla) data: 28735\n",
      "samples: 28735\n",
      "TCRs:    26497\n",
      "peptides:1150\n"
     ]
    }
   ],
   "source": [
    "level3_df = merge_df[['antigen.epitope', 'hla.allele', 'alpha.cdr3', 'beta.cdr3']].drop_duplicates(ignore_index=True, keep='first')\n",
    "print(len(level3_df))\n",
    "\n",
    "level3_df = level3_df[level3_df['antigen.epitope']!='(UNK)']\n",
    "level3_df = level3_df[level3_df['alpha.cdr3']!='(UNK)']\n",
    "level3_df = level3_df[level3_df['beta.cdr3']!='(UNK)']\n",
    "level3_df = level3_df.reset_index(drop=True)\n",
    "print(f\"number of dropna(pep,cdr3a,cdr3b) data: {len(level3_df)}\")\n",
    "\n",
    "level3_df = level3_df[level3_df['hla.allele']!='(UNK)']\n",
    "level3_df = level3_df.reset_index(drop=True)\n",
    "print(f\"number of dropna(hla) data: {len(level3_df)}\")\n",
    "\n",
    "print(f\"samples: {len(level3_df)}\")\n",
    "print(f\"TCRs:    {len(level3_df.drop_duplicates(subset=['alpha.cdr3', 'beta.cdr3']))}\")\n",
    "print(f\"peptides:{level3_df['antigen.epitope'].nunique()}\")"
   ]
  },
  {
   "cell_type": "code",
   "execution_count": 17,
   "metadata": {},
   "outputs": [
    {
     "name": "stdout",
     "output_type": "stream",
     "text": [
      "85\n"
     ]
    },
    {
     "data": {
      "text/plain": [
       "['HLA-E*01:01', 'HLA-E*01:03', 'HLA-A*02:01', 'HLA-B*44:02', 'HLA-B*44:03']"
      ]
     },
     "execution_count": 17,
     "metadata": {},
     "output_type": "execute_result"
    }
   ],
   "source": [
    "target_hla_list = level3_df['hla.allele'].unique().tolist()\n",
    "print(len(target_hla_list))\n",
    "target_hla_list[:5]"
   ]
  },
  {
   "cell_type": "code",
   "execution_count": 18,
   "metadata": {},
   "outputs": [
    {
     "name": "stdout",
     "output_type": "stream",
     "text": [
      "115\n"
     ]
    },
    {
     "data": {
      "text/plain": [
       "['HLA-E*01:01', 'HLA-E*01:03', 'HLA-B*08', 'HLA-B*44:05', 'HLA-B*08:01']"
      ]
     },
     "execution_count": 18,
     "metadata": {},
     "output_type": "execute_result"
    }
   ],
   "source": [
    "import os\n",
    "import json\n",
    "dict_savepath = to_your_path + \"TCRdata/check\"\n",
    "dict_savename = \"Hi-TpH-hla_allele2seq.json\"        # simple version for our dataset\n",
    "with open(os.path.join(dict_savepath, dict_savename), \"r\") as f:\n",
    "    seq_dict = json.load(f)\n",
    "\n",
    "print(len(list(seq_dict.keys())))\n",
    "list(seq_dict.keys())[:5]"
   ]
  },
  {
   "cell_type": "code",
   "execution_count": 19,
   "metadata": {},
   "outputs": [
    {
     "name": "stdout",
     "output_type": "stream",
     "text": [
      "{'HLA-A*24:01', 'HLA-A*08:01', 'HLA-B*12'}\n",
      "144\n",
      "number of no hla seq data: 28591\n"
     ]
    }
   ],
   "source": [
    "print(set(target_hla_list) - set(seq_dict.keys()))\n",
    "print(len(level3_df[level3_df['hla.allele'].isin(set(target_hla_list) - set(seq_dict.keys()))]))\n",
    "\n",
    "level3_df = level3_df[~level3_df['hla.allele'].isin(set(target_hla_list) - set(seq_dict.keys()))]\n",
    "level3_df = level3_df.reset_index(drop=True)\n",
    "print(f\"number of hla seq data: {len(level3_df)}\")"
   ]
  },
  {
   "cell_type": "code",
   "execution_count": 20,
   "metadata": {},
   "outputs": [
    {
     "name": "stdout",
     "output_type": "stream",
     "text": [
      "28262\n",
      "28262\n",
      "28255\n",
      "28248\n"
     ]
    }
   ],
   "source": [
    "level3_df['hla.full.seq'] = level3_df['hla.allele'].apply(lambda x: seq_dict[x]['full sequence'])\n",
    "level3_df['hla.clip.seq'] = level3_df['hla.allele'].apply(lambda x: seq_dict[x]['clip sequence'])\n",
    "level3_df['hla.short.seq'] = level3_df['hla.allele'].apply(lambda x: seq_dict[x]['short sequence'])\n",
    "\n",
    "level3_df = level3_df.drop_duplicates(ignore_index=True, keep='first',\n",
    "                                      subset=['alpha.cdr3', 'beta.cdr3', 'antigen.epitope', 'hla.full.seq', 'hla.clip.seq', 'hla.short.seq'])\n",
    "print(len(level3_df))\n",
    "\n",
    "print(len(level3_df.drop_duplicates(subset=['alpha.cdr3', 'beta.cdr3', 'antigen.epitope', 'hla.full.seq'])))\n",
    "print(len(level3_df.drop_duplicates(subset=['alpha.cdr3', 'beta.cdr3', 'antigen.epitope', 'hla.clip.seq'])))\n",
    "print(len(level3_df.drop_duplicates(subset=['alpha.cdr3', 'beta.cdr3', 'antigen.epitope', 'hla.short.seq'])))"
   ]
  },
  {
   "cell_type": "code",
   "execution_count": 21,
   "metadata": {},
   "outputs": [
    {
     "name": "stdout",
     "output_type": "stream",
     "text": [
      "0\n",
      "0\n",
      "0\n",
      "0\n",
      "0\n",
      "0\n",
      "0\n"
     ]
    }
   ],
   "source": [
    "for c in level3_df:\n",
    "    print(len(level3_df[level3_df[c]==\"(UNK)\"]))"
   ]
  },
  {
   "cell_type": "code",
   "execution_count": 22,
   "metadata": {},
   "outputs": [
    {
     "name": "stdout",
     "output_type": "stream",
     "text": [
      "File /data/lujd/TCRdata/check/Hi-TpH-level-III.csv has been successfully saved.\n",
      "samples: 28262\n",
      "TCRs:    26353\n",
      "HLAs:    64\n",
      "HLAs:    64\n",
      "peptides:1148\n"
     ]
    }
   ],
   "source": [
    "savename = \"Hi-TpH-level-III.csv\"\n",
    "save_csv(level3_df, savepath, savename)\n",
    "\n",
    "print(f\"samples: {len(level3_df)}\")\n",
    "print(f\"TCRs:    {len(level3_df.drop_duplicates(subset=['alpha.cdr3', 'beta.cdr3']))}\")\n",
    "print(f\"HLAs:    {len(level3_df.drop_duplicates(subset=['hla.full.seq']))}\")\n",
    "print(f\"HLAs:    {len(level3_df.drop_duplicates(subset=['hla.full.seq', 'hla.clip.seq', 'hla.short.seq']))}\")\n",
    "print(f\"peptides:{level3_df['antigen.epitope'].nunique()}\")"
   ]
  },
  {
   "cell_type": "markdown",
   "metadata": {},
   "source": [
    "---\n",
    "\n",
    "### Level-IV"
   ]
  },
  {
   "cell_type": "code",
   "execution_count": 2,
   "metadata": {},
   "outputs": [
    {
     "data": {
      "text/plain": [
       "Index(['antigen.epitope', 'hla.allele', 'mhc.class', 'alpha.v', 'alpha.j',\n",
       "       'alpha.cdr1', 'alpha.cdr2', 'alpha.cdr3', 'alpha.vseq', 'beta.d',\n",
       "       'beta.j', 'beta.cdr1', 'beta.cdr2', 'beta.cdr3', 'beta.vseq',\n",
       "       'dataset.tag', 'check', 'beta.v'],\n",
       "      dtype='object')"
      ]
     },
     "execution_count": 2,
     "metadata": {},
     "output_type": "execute_result"
    }
   ],
   "source": [
    "merge_df.columns"
   ]
  },
  {
   "cell_type": "code",
   "execution_count": 3,
   "metadata": {},
   "outputs": [
    {
     "name": "stdout",
     "output_type": "stream",
     "text": [
      "174419\n",
      "number of dropna(antigen.epitope) data: 174419\n",
      "number of dropna(hla.allele) data: 87749\n",
      "number of dropna(alpha.v) data: 29448\n",
      "number of dropna(alpha.j) data: 27681\n",
      "number of dropna(alpha.cdr3) data: 27611\n",
      "number of dropna(beta.v) data: 27591\n",
      "number of dropna(beta.j) data: 27575\n",
      "number of dropna(beta.cdr3) data: 27575\n",
      "samples: 27575\n",
      "TCRs:    25651\n",
      "peptides:960\n"
     ]
    }
   ],
   "source": [
    "cols = ['antigen.epitope', 'hla.allele', \n",
    "        'alpha.v', 'alpha.j', 'alpha.cdr3', 'alpha.vseq',\n",
    "        'beta.v', 'beta.j', 'beta.cdr3', 'beta.vseq']\n",
    "\n",
    "level4_df = merge_df[cols].drop_duplicates(ignore_index=True, keep='first')\n",
    "print(len(level4_df))\n",
    "\n",
    "for col in cols:\n",
    "    if col not in ['alpha.vseq', 'beta.vseq']:\n",
    "        level4_df = level4_df[level4_df[col]!='(UNK)']\n",
    "        level4_df = level4_df.reset_index(drop=True)\n",
    "        print(f\"number of dropna({col}) data: {len(level4_df)}\")\n",
    "\n",
    "print(f\"samples: {len(level4_df)}\")\n",
    "print(f\"TCRs:    {len(level4_df.drop_duplicates(subset=['alpha.v', 'alpha.j', 'alpha.cdr3', 'beta.v', 'beta.j', 'beta.cdr3']))}\")\n",
    "print(f\"peptides:{level4_df['antigen.epitope'].nunique()}\")"
   ]
  },
  {
   "cell_type": "code",
   "execution_count": 4,
   "metadata": {},
   "outputs": [
    {
     "name": "stdout",
     "output_type": "stream",
     "text": [
      "369\n"
     ]
    },
    {
     "data": {
      "text/plain": [
       "['TRAV26-1*01', 'TRAV21*01', 'TRAV12-2*01', 'TRAV19*01', 'TRAV20*01']"
      ]
     },
     "execution_count": 4,
     "metadata": {},
     "output_type": "execute_result"
    }
   ],
   "source": [
    "target_trgene_list = []\n",
    "for col in ['alpha.v', 'alpha.j', 'beta.v', 'beta.j']:\n",
    "    target_trgene_list.extend(level4_df[col].unique().tolist())\n",
    "\n",
    "print(len(target_trgene_list))\n",
    "target_trgene_list[:5]"
   ]
  },
  {
   "cell_type": "code",
   "execution_count": 5,
   "metadata": {},
   "outputs": [
    {
     "name": "stdout",
     "output_type": "stream",
     "text": [
      "350\n"
     ]
    },
    {
     "data": {
      "text/plain": [
       "['TRAV1-1*01', 'TRAV1-1*02', 'TRAV1-2*01', 'TRAV1-2*02', 'TRAV1-2*03']"
      ]
     },
     "execution_count": 5,
     "metadata": {},
     "output_type": "execute_result"
    }
   ],
   "source": [
    "import os\n",
    "import json\n",
    "dict_savepath = to_your_path + \"TCRdata/collect\"\n",
    "dict_savename = \"tcr_gene2seq.json\"\n",
    "with open(os.path.join(dict_savepath, dict_savename), \"r\") as f:\n",
    "    gene2seq_dict = json.load(f)\n",
    "\n",
    "all_gene_list = list(gene2seq_dict.keys())     # sorted\n",
    "print(len(all_gene_list))\n",
    "all_gene_list[:5]"
   ]
  },
  {
   "cell_type": "code",
   "execution_count": 6,
   "metadata": {},
   "outputs": [
    {
     "name": "stdout",
     "output_type": "stream",
     "text": [
      "Perfect: TRAV26-1*01\n",
      "Perfect: TRAV21*01\n",
      "Perfect: TRAV12-2*01\n",
      "Perfect: TRAV19*01\n",
      "Perfect: TRAV20*01\n",
      "Perfect: TRAV5*01\n",
      "Perfect: TRAV12-1*01\n",
      "Perfect: TRAV3*01\n",
      "Perfect: TRAV12-3*01\n",
      "Perfect: TRAV39*01\n",
      "Perfect: TRAV8-3*01\n",
      "Perfect: TRAV22*01\n",
      "Perfect: TRAV17*01\n",
      "Perfect: TRAV35*01\n",
      "Perfect: TRAV9-2*01\n",
      "Perfect: TRAV27*01\n",
      "Perfect: TRAV24*01\n",
      "Perfect: TRAV30*01\n",
      "Perfect: TRAV26-2*01\n",
      "Perfect: TRAV1-2*01\n",
      "Perfect: TRAV4*01\n",
      "Perfect: TRAV13-1*01\n",
      "Perfect: TRAV1-1*01\n",
      "Perfect: TRAV8-1*01\n",
      "Perfect: TRAV16*01\n",
      "Perfect: TRAV6*01\n",
      "Perfect: TRAV10*02\n",
      "Perfect: TRAV29/DV5*01\n",
      "Perfect: TRAV8-2*01\n",
      "Perfect: TRAV8-6*02\n",
      "Perfect: TRAV25*01\n",
      "Perfect: TRAV1-2*03\n",
      "Perfect: TRAV8-4*01\n",
      "Perfect: TRAV2*01\n",
      "Perfect: TRAV26-1*02\n",
      "Perfect: TRAV38-2/DV8*01\n",
      "Perfect: TRAV38-1*01\n",
      "Perfect: TRAV13-2*01\n",
      "Perfect: TRAV14/DV4*01\n",
      "Perfect: TRAV10*01\n",
      "Perfect: TRAV23/DV6*01\n",
      "Perfect: TRAV36/DV7*01\n",
      "Perfect: TRAV41*01\n",
      "Perfect: TRAV8-6*01\n",
      "Perfect: TRAV34*01\n",
      "Perfect: TRAV14/DV4*02\n",
      "Perfect: TRAV18*01\n",
      "Perfect: TRAV40*01\n",
      "Perfect: TRAV9-1*01\n",
      "Not perfect: TRAV2 | TRAV2*01\n",
      "Not perfect: TRAV8-2 | TRAV8-2*01\n",
      "Not perfect: TRAV3 | TRAV3*01\n",
      "Not perfect: TRAV9 | TRAV9-1*01\n",
      "Not perfect: TRAV1-1 | TRAV1-1*01\n",
      "Not perfect: TRAV25 | TRAV25*01\n",
      "Not found: TRAV1-4\n",
      "Not perfect: TRAV1-2 | TRAV1-2*01\n",
      "Not found: TRAV28\n",
      "Not perfect: TRAV16 | TRAV16*01\n",
      "Not found: TRAV2-1\n",
      "Not perfect: TRAV21 | TRAV21*01\n",
      "Not perfect: TRAV26 | TRAV26-1*01\n",
      "Not found: TRAV15\n",
      "Not perfect: TRAV12-1 | TRAV12-1*01\n",
      "Not perfect: TRAV18 | TRAV18*01\n",
      "Not perfect: TRAV4 | TRAV4*01\n",
      "Not perfect: TRAV23 | TRAV23/DV6*01\n",
      "Not perfect: TRAV27 | TRAV27*01\n",
      "Not perfect: TRAV19 | TRAV19*01\n",
      "Not found: TRAV2-2\n",
      "Not perfect: TRAV6 | TRAV6*01\n",
      "Not perfect: TRAV5 | TRAV5*01\n",
      "Not perfect: TRAV14 | TRAV14/DV4*01\n",
      "Not perfect: TRAV9-2 | TRAV9-2*01\n",
      "Not perfect: TRAV1 | TRAV1-1*01\n",
      "Not perfect: TRAV8-3 | TRAV8-3*01\n",
      "Not perfect: TRAV11 | TRAV11*01\n",
      "Not found: TRAV1*01\n",
      "Not perfect: TRAV13-1 | TRAV13-1*01\n",
      "Not perfect: TRAV8-4 | TRAV8-4*01\n",
      "Not perfect: TRAV8-6 | TRAV8-6*01\n",
      "Not found: TRAV251\n",
      "Not perfect: TRAV17 | TRAV17*01\n",
      "Not perfect: TRAV40 | TRAV40*01\n",
      "Not perfect: TRAV12-2 | TRAV12-2*01\n",
      "Not found: TRAV21-1\n",
      "Not perfect: TRAV13-2 | TRAV13-2*01\n",
      "Not perfect: TRAV8-1 | TRAV8-1*01\n",
      "Not perfect: TRAV26-1 | TRAV26-1*01\n",
      "Not found: TRAV21-2\n",
      "Not perfect: TRAV26-2 | TRAV26-2*01\n",
      "Not perfect: TRAV29/DV5 | TRAV29/DV5*01\n",
      "Not perfect: TRAV14/DV4 | TRAV14/DV4*01\n",
      "Not perfect: TRAV20 | TRAV20*01\n",
      "Not perfect: TRAV22 | TRAV22*01\n",
      "Not perfect: TRAV24 | TRAV24*01\n",
      "Not perfect: TRAV23/DV6 | TRAV23/DV6*01\n",
      "Not perfect: TRAV39 | TRAV39*01\n",
      "Not perfect: TRAV10 | TRAV10*01\n",
      "Not perfect: TRAV12-3 | TRAV12-3*01\n",
      "Not perfect: TRAV38-1 | TRAV38-1*01\n",
      "Perfect: TRAV29/DV5*02\n",
      "Perfect: TRAV6*03\n",
      "Perfect: TRAV26-1*03\n",
      "Not perfect: TRAV35 | TRAV35*01\n",
      "Not perfect: TRAV38-2 | TRAV38-2/DV8*01\n",
      "Not perfect: TRAV29 | TRAV29/DV5*01\n",
      "Not perfect: TRAV41 | TRAV41*01\n",
      "Not perfect: TRAV34 | TRAV34*01\n",
      "Perfect: TRAJ37*01\n",
      "Perfect: TRAJ6*01\n",
      "Perfect: TRAJ13*01\n",
      "Perfect: TRAJ24*02\n",
      "Perfect: TRAJ34*01\n",
      "Perfect: TRAJ27*01\n",
      "Perfect: TRAJ53*01\n",
      "Perfect: TRAJ31*01\n",
      "Perfect: TRAJ23*01\n",
      "Perfect: TRAJ29*01\n",
      "Perfect: TRAJ12*01\n",
      "Perfect: TRAJ33*01\n",
      "Perfect: TRAJ28*01\n",
      "Perfect: TRAJ40*01\n",
      "Perfect: TRAJ22*01\n",
      "Perfect: TRAJ49*01\n",
      "Perfect: TRAJ43*01\n",
      "Perfect: TRAJ42*01\n",
      "Perfect: TRAJ39*01\n",
      "Perfect: TRAJ41*01\n",
      "Perfect: TRAJ21*01\n",
      "Perfect: TRAJ8*01\n",
      "Perfect: TRAJ54*01\n",
      "Perfect: TRAJ23*02\n",
      "Perfect: TRAJ11*01\n",
      "Perfect: TRAJ26*01\n",
      "Perfect: TRAJ15*01\n",
      "Perfect: TRAJ30*01\n",
      "Perfect: TRAJ44*01\n",
      "Perfect: TRAJ9*01\n",
      "Perfect: TRAJ5*01\n",
      "Perfect: TRAJ13*02\n",
      "Perfect: TRAJ48*01\n",
      "Perfect: TRAJ20*01\n",
      "Perfect: TRAJ32*02\n",
      "Perfect: TRAJ24*03\n",
      "Perfect: TRAJ18*01\n",
      "Perfect: TRAJ52*01\n",
      "Perfect: TRAJ38*01\n",
      "Perfect: TRAJ45*01\n",
      "Perfect: TRAJ10*01\n",
      "Perfect: TRAJ3*01\n",
      "Perfect: TRAJ7*01\n",
      "Perfect: TRAJ57*01\n",
      "Perfect: TRAJ17*01\n",
      "Perfect: TRAJ24*01\n",
      "Perfect: TRAJ50*01\n",
      "Perfect: TRAJ47*01\n",
      "Perfect: TRAJ4*01\n",
      "Perfect: TRAJ56*01\n",
      "Perfect: TRAJ36*01\n",
      "Perfect: TRAJ32*01\n",
      "Perfect: TRAJ46*01\n",
      "Perfect: TRAJ14*01\n",
      "Not found: TRAJ5-1\n",
      "Not perfect: TRAJ15 | TRAJ15*01\n",
      "Not perfect: TRAJ9 | TRAJ9*01\n",
      "Not perfect: TRAJ2 | TRAJ2*01\n",
      "Not perfect: TRAJ5 | TRAJ5*01\n",
      "Not perfect: TRAJ45 | TRAJ45*01\n",
      "Not perfect: TRAJ49 | TRAJ49*01\n",
      "Not perfect: TRAJ54 | TRAJ54*01\n",
      "Not perfect: TRAJ21 | TRAJ21*01\n",
      "Not perfect: TRAJ39 | TRAJ39*01\n",
      "Not perfect: TRAJ53 | TRAJ53*01\n",
      "Not perfect: TRAJ40 | TRAJ40*01\n",
      "Not perfect: TRAJ42 | TRAJ42*01\n",
      "Not perfect: TRAJ36 | TRAJ36*01\n",
      "Not perfect: TRAJ38 | TRAJ38*01\n",
      "Not perfect: TRAJ26 | TRAJ26*01\n",
      "Not perfect: TRAJ3 | TRAJ3*01\n",
      "Not perfect: TRAJ37 | TRAJ37*01\n",
      "Not perfect: TRAJ11 | TRAJ11*01\n",
      "Not perfect: TRAJ31 | TRAJ31*01\n",
      "Not perfect: TRAJ34 | TRAJ34*01\n",
      "Not perfect: TRAJ23 | TRAJ23*01\n",
      "Not perfect: TRAJ16 | TRAJ16*01\n",
      "Not perfect: TRAJ43 | TRAJ43*01\n",
      "Not perfect: TRAJ44 | TRAJ44*01\n",
      "Not perfect: TRAJ50 | TRAJ50*01\n",
      "Not perfect: TRAJ20 | TRAJ20*01\n",
      "Not perfect: TRAJ58 | TRAJ58*01\n",
      "Not perfect: TRAJ35 | TRAJ35*01\n",
      "Not perfect: TRAJ6 | TRAJ6*01\n",
      "Not perfect: TRAJ48 | TRAJ48*01\n",
      "Not perfect: TRAJ57 | TRAJ57*01\n",
      "Not perfect: TRAJ13 | TRAJ13*01\n",
      "Not perfect: TRAJ52 | TRAJ52*01\n",
      "Not perfect: TRAJ4 | TRAJ4*01\n",
      "Not perfect: TRAJ33 | TRAJ33*01\n",
      "Not perfect: TRAJ30 | TRAJ30*01\n",
      "Not perfect: TRAJ32 | TRAJ32*01\n",
      "Not perfect: TRAJ10 | TRAJ10*01\n",
      "Not perfect: TRAJ24 | TRAJ24*01\n",
      "Not perfect: TRAJ7 | TRAJ7*01\n",
      "Not perfect: TRAJ28 | TRAJ28*01\n",
      "Not perfect: TRAJ41 | TRAJ41*01\n",
      "Not perfect: TRAJ17 | TRAJ17*01\n",
      "Not perfect: TRAJ47 | TRAJ47*01\n",
      "Not perfect: TRAJ8 | TRAJ8*01\n",
      "Not perfect: TRAJ22 | TRAJ22*01\n",
      "Not perfect: TRAJ27 | TRAJ27*01\n",
      "Not perfect: TRAJ29 | TRAJ29*01\n",
      "Not perfect: TRAJ12 | TRAJ12*01\n",
      "Perfect: TRAJ1*01\n",
      "Perfect: TRAJ2*01\n",
      "Not found: TRAJ53*02\n",
      "Not found: TRAJ2-1\n",
      "Not found: TRAJ3-1\n",
      "Not found: TRAJ20-1\n",
      "Not found: TRAJ34-1\n",
      "Not found: TRAJ33-1\n",
      "Not found: TRAJ31-1\n",
      "Not found: TRAJ32-1\n",
      "Not perfect: TRAJ18 | TRAJ18*01\n",
      "Perfect: TRBV14*01\n",
      "Perfect: TRBV6-5*01\n",
      "Perfect: TRBV7-9*01\n",
      "Perfect: TRBV6-1*01\n",
      "Perfect: TRBV30*02\n",
      "Perfect: TRBV9*01\n",
      "Perfect: TRBV9*02\n",
      "Perfect: TRBV20-1*01\n",
      "Perfect: TRBV6-3*01\n",
      "Perfect: TRBV12-4*01\n",
      "Perfect: TRBV19*01\n",
      "Perfect: TRBV5-6*01\n",
      "Perfect: TRBV4-1*01\n",
      "Perfect: TRBV27*01\n",
      "Perfect: TRBV7-3*01\n",
      "Perfect: TRBV6-4*01\n",
      "Perfect: TRBV10-3*01\n",
      "Perfect: TRBV11-2*01\n",
      "Perfect: TRBV5-1*01\n",
      "Perfect: TRBV7-2*02\n",
      "Perfect: TRBV7-6*01\n",
      "Perfect: TRBV28*01\n",
      "Perfect: TRBV10-2*02\n",
      "Perfect: TRBV18*01\n",
      "Perfect: TRBV5-4*01\n",
      "Perfect: TRBV7-9*03\n",
      "Perfect: TRBV6-6*02\n",
      "Perfect: TRBV4-3*01\n",
      "Perfect: TRBV2*01\n",
      "Perfect: TRBV7-2*01\n",
      "Perfect: TRBV3-1*01\n",
      "Perfect: TRBV15*02\n",
      "Perfect: TRBV12-3*01\n",
      "Perfect: TRBV24-1*01\n",
      "Perfect: TRBV6-6*01\n",
      "Perfect: TRBV5-5*01\n",
      "Perfect: TRBV13*01\n",
      "Perfect: TRBV4-2*01\n",
      "Perfect: TRBV11-1*01\n",
      "Perfect: TRBV30*01\n",
      "Perfect: TRBV15*01\n",
      "Perfect: TRBV7-8*01\n",
      "Perfect: TRBV6-2*01\n",
      "Perfect: TRBV25-1*01\n",
      "Perfect: TRBV29-1*01\n",
      "Perfect: TRBV10-2*01\n",
      "Perfect: TRBV16*01\n",
      "Perfect: TRBV10-1*01\n",
      "Perfect: TRBV7-7*01\n",
      "Perfect: TRBV12-5*01\n",
      "Perfect: TRBV11-3*01\n",
      "Perfect: TRBV5-8*01\n",
      "Perfect: TRBV20-1*02\n",
      "Perfect: TRBV7-8*02\n",
      "Perfect: TRBV10-3*02\n",
      "Perfect: TRBV19*02\n",
      "Perfect: TRBV7-4*01\n",
      "Perfect: TRBV7-2*03\n",
      "Perfect: TRBV6-9*01\n",
      "Perfect: TRBV6-8*01\n",
      "Perfect: TRBV6-4*02\n",
      "Not perfect: TRBV4 | TRBV4-1*01\n",
      "Not perfect: TRBV12 | TRBV12-1*01\n",
      "Not perfect: TRBV6 | TRBV6-1*01\n",
      "Not perfect: TRBV7 | TRBV7-1*01\n",
      "Not perfect: TRBV2 | TRBV2*01\n",
      "Not perfect: TRBV11-1 | TRBV11-1*01\n",
      "Not perfect: TRBV7-8 | TRBV7-8*01\n",
      "Not perfect: TRBV28 | TRBV28*01\n",
      "Not perfect: TRBV9 | TRBV9*01\n",
      "Not perfect: TRBV25-1 | TRBV25-1*01\n",
      "Not perfect: TRBV20-1 | TRBV20-1*01\n",
      "Not perfect: TRBV14 | TRBV14*01\n",
      "Not perfect: TRBV29-1 | TRBV29-1*01\n",
      "Not perfect: TRBV20 | TRBV20-1*01\n",
      "Not perfect: TRBV1 | TRBV1*01\n",
      "Not perfect: TRBV13 | TRBV13*01\n",
      "Not perfect: TRBV3 | TRBV3-1*01\n",
      "Not perfect: TRBV6-3 | TRBV6-3*01\n",
      "Not perfect: TRBV23 | TRBV23-1*01\n",
      "Not perfect: TRBV6-2 | TRBV6-2*01\n",
      "Not found: TRBV8\n",
      "Not perfect: TRBV15 | TRBV15*01\n",
      "Not perfect: TRBV7-9 | TRBV7-9*01\n",
      "Not perfect: TRBV19 | TRBV19*01\n",
      "Not perfect: TRBV5-4 | TRBV5-4*01\n",
      "Not perfect: TRBV30 | TRBV30*01\n",
      "Not perfect: TRBV6-1 | TRBV6-1*01\n",
      "Not perfect: TRBV11-3 | TRBV11-3*01\n",
      "Not perfect: TRBV11-2 | TRBV11-2*01\n",
      "Not perfect: TRBV4-1 | TRBV4-1*01\n",
      "Not perfect: TRBV23-1 | TRBV23-1*01\n",
      "Not perfect: TRBV3-1 | TRBV3-1*01\n",
      "Not perfect: TRBV6-6 | TRBV6-6*01\n",
      "Not perfect: TRBV10-3 | TRBV10-3*01\n",
      "Not perfect: TRBV12-4 | TRBV12-4*01\n",
      "Not perfect: TRBV12-3 | TRBV12-3*01\n",
      "Not perfect: TRBV5-1 | TRBV5-1*01\n",
      "Not perfect: TRBV6-4 | TRBV6-4*01\n",
      "Not perfect: TRBV6-5 | TRBV6-5*01\n",
      "Not perfect: TRBV4-3 | TRBV4-3*01\n",
      "Not perfect: TRBV10-1 | TRBV10-1*01\n",
      "Not perfect: TRBV7-2 | TRBV7-2*01\n",
      "Not perfect: TRBV10-2 | TRBV10-2*01\n",
      "Not perfect: TRBV27 | TRBV27*01\n",
      "Not perfect: TRBV7-6 | TRBV7-6*01\n",
      "Not perfect: TRBV5-8 | TRBV5-8*01\n",
      "Not perfect: TRBV18 | TRBV18*01\n",
      "Not perfect: TRBV4-2 | TRBV4-2*01\n",
      "Not perfect: TRBV5-6 | TRBV5-6*01\n",
      "Not found: TRBV1-1\n",
      "Not found: TRBV2-1\n",
      "Not found: TRBV9-1\n",
      "Not perfect: TRBV7-1 | TRBV7-1*01\n",
      "Not found: TRBV9-2\n",
      "Perfect: TRBV19*03\n",
      "Not perfect: TRBV24-1 | TRBV24-1*01\n",
      "Perfect: TRBJ2-3*01\n",
      "Perfect: TRBJ2-2*01\n",
      "Perfect: TRBJ2-1*01\n",
      "Perfect: TRBJ2-7*01\n",
      "Perfect: TRBJ1-2*01\n",
      "Perfect: TRBJ2-4*01\n",
      "Perfect: TRBJ1-1*01\n",
      "Perfect: TRBJ1-5*01\n",
      "Perfect: TRBJ1-4*01\n",
      "Perfect: TRBJ2-5*01\n",
      "Perfect: TRBJ2-6*01\n",
      "Perfect: TRBJ1-6*02\n",
      "Perfect: TRBJ1-3*01\n",
      "Perfect: TRBJ1-6*01\n",
      "Not perfect: TRBJ2-1 | TRBJ2-1*01\n",
      "Not perfect: TRBJ2-7 | TRBJ2-7*01\n",
      "Not perfect: TRBJ2-4 | TRBJ2-4*01\n",
      "Not perfect: TRBJ1-2 | TRBJ1-2*01\n",
      "Not perfect: TRBJ1-4 | TRBJ1-4*01\n",
      "Not perfect: TRBJ2-2 | TRBJ2-2*01\n",
      "Not perfect: TRBJ1-1 | TRBJ1-1*01\n",
      "Not perfect: TRBJ2-3 | TRBJ2-3*01\n",
      "Not perfect: TRBJ1-5 | TRBJ1-5*01\n",
      "Not perfect: TRBJ1-3 | TRBJ1-3*01\n",
      "Not perfect: TRBJ2-6 | TRBJ2-6*01\n",
      "Not perfect: TRBJ2-5 | TRBJ2-5*01\n",
      "Not found: TRBJ5-6\n",
      "Not perfect: TRBJ1-6 | TRBJ1-6*01\n"
     ]
    }
   ],
   "source": [
    "seq_dict = {}\n",
    "for target_trgene in target_trgene_list:\n",
    "    info = {}\n",
    "    for gene in all_gene_list:\n",
    "        if (target_trgene in gene):\n",
    "            \"\"\"\n",
    "            or (target_trgene.split('*')[0] in gene): \n",
    "            - 24 Not found -> 22\n",
    "            - 184 Perfect -> 156\n",
    "            \"\"\"\n",
    "            info['source gene'] = gene\n",
    "            info['species'] = gene2seq_dict[gene]['species']\n",
    "            info['amino acid sequence'] = gene2seq_dict[gene]['amino acid sequence']\n",
    "            info['sequence length(aa)'] = gene2seq_dict[gene]['sequence length(aa)']\n",
    "            \n",
    "            if target_trgene==gene:\n",
    "                print(f\"Perfect: {target_trgene}\")\n",
    "                info['match source gene'] = \"Perfect\"\n",
    "            else:\n",
    "                print(f\"Not perfect: {target_trgene} | {gene}\")     # Missing \"*01\"\n",
    "                info['match source gene'] = \"Not perfect\"\n",
    "            seq_dict[target_trgene] = info\n",
    "            break\n",
    "    if target_trgene not in seq_dict.keys():\n",
    "        info['source gene'] = '(UNK)'\n",
    "        info['species'] = '(UNK)'\n",
    "        info['amino acid sequence'] = '(UNK)'\n",
    "        info['sequence length(aa)'] = '(UNK)'\n",
    "        \n",
    "        print(f\"Not found: {target_trgene}\")\n",
    "        info['match source gene'] = \"Not found\"\n",
    "        seq_dict[target_trgene] = info"
   ]
  },
  {
   "cell_type": "code",
   "execution_count": 8,
   "metadata": {},
   "outputs": [
    {
     "name": "stdout",
     "output_type": "stream",
     "text": [
      "File /data/lujd/TCRdata/final/Hi-TpH-tcr_gene2seq.json has been successfully saved.\n"
     ]
    }
   ],
   "source": [
    "savename = \"Hi-TpH-tcr_gene2seq.json\"\n",
    "\n",
    "with open(os.path.join(savepath, savename), \"w\") as f:\n",
    "    json.dump(seq_dict, f, indent=4)\n",
    "\n",
    "print(F\"File {os.path.join(savepath, savename)} has been successfully saved.\")"
   ]
  },
  {
   "cell_type": "code",
   "execution_count": 9,
   "metadata": {},
   "outputs": [
    {
     "data": {
      "text/html": [
       "<div>\n",
       "<style scoped>\n",
       "    .dataframe tbody tr th:only-of-type {\n",
       "        vertical-align: middle;\n",
       "    }\n",
       "\n",
       "    .dataframe tbody tr th {\n",
       "        vertical-align: top;\n",
       "    }\n",
       "\n",
       "    .dataframe thead th {\n",
       "        text-align: right;\n",
       "    }\n",
       "</style>\n",
       "<table border=\"1\" class=\"dataframe\">\n",
       "  <thead>\n",
       "    <tr style=\"text-align: right;\">\n",
       "      <th></th>\n",
       "      <th>antigen.epitope</th>\n",
       "      <th>hla.allele</th>\n",
       "      <th>alpha.v</th>\n",
       "      <th>alpha.j</th>\n",
       "      <th>alpha.cdr3</th>\n",
       "      <th>alpha.vseq</th>\n",
       "      <th>beta.v</th>\n",
       "      <th>beta.j</th>\n",
       "      <th>beta.cdr3</th>\n",
       "      <th>beta.vseq</th>\n",
       "      <th>alpha.v.imgt.gene</th>\n",
       "      <th>alpha.v.imgt.seq</th>\n",
       "      <th>alpha.j.imgt.gene</th>\n",
       "      <th>alpha.j.imgt.seq</th>\n",
       "      <th>beta.v.imgt.gene</th>\n",
       "      <th>beta.v.imgt.seq</th>\n",
       "      <th>beta.j.imgt.gene</th>\n",
       "      <th>beta.j.imgt.seq</th>\n",
       "    </tr>\n",
       "  </thead>\n",
       "  <tbody>\n",
       "    <tr>\n",
       "      <th>0</th>\n",
       "      <td>VMAPRTLIL</td>\n",
       "      <td>HLA-E*01:01</td>\n",
       "      <td>TRAV26-1*01</td>\n",
       "      <td>TRAJ37*01</td>\n",
       "      <td>IVVRSSNTGKLI</td>\n",
       "      <td>TTQPPSMDCAEGRAANLPCNHSTISGNEYVYWYRQIHSQGPQYIIH...</td>\n",
       "      <td>TRBV14*01</td>\n",
       "      <td>TRBJ2-3*01</td>\n",
       "      <td>ASSQDRDTQY</td>\n",
       "      <td>GVTQFPSHSVIEKGQTVTLRCDPISGHDNLYWYRRVMGKEIKFLLH...</td>\n",
       "      <td>TRAV26-1*01</td>\n",
       "      <td>DAKTTQPPSMDCAEGRAANLPCNHSTISGNEYVYWYRQIHSQGPQY...</td>\n",
       "      <td>TRAJ37*01</td>\n",
       "      <td>GSGNTGKLIFGQGTTLQVKP</td>\n",
       "      <td>TRBV14*01</td>\n",
       "      <td>EAGVTQFPSHSVIEKGQTVTLRCDPISGHDNLYWYRRVMGKEIKFL...</td>\n",
       "      <td>TRBJ2-3*01</td>\n",
       "      <td>STDTQYFGPGTRLTVL</td>\n",
       "    </tr>\n",
       "    <tr>\n",
       "      <th>1</th>\n",
       "      <td>VMAPRTLIL</td>\n",
       "      <td>HLA-E*01:03</td>\n",
       "      <td>TRAV26-1*01</td>\n",
       "      <td>TRAJ37*01</td>\n",
       "      <td>IVVRSSNTGKLI</td>\n",
       "      <td>TTQPPSMDCAEGRAANLPCNHSTISGNEYVYWYRQIHSQGPQYIIH...</td>\n",
       "      <td>TRBV14*01</td>\n",
       "      <td>TRBJ2-3*01</td>\n",
       "      <td>ASSQDRDTQY</td>\n",
       "      <td>GVTQFPSHSVIEKGQTVTLRCDPISGHDNLYWYRRVMGKEIKFLLH...</td>\n",
       "      <td>TRAV26-1*01</td>\n",
       "      <td>DAKTTQPPSMDCAEGRAANLPCNHSTISGNEYVYWYRQIHSQGPQY...</td>\n",
       "      <td>TRAJ37*01</td>\n",
       "      <td>GSGNTGKLIFGQGTTLQVKP</td>\n",
       "      <td>TRBV14*01</td>\n",
       "      <td>EAGVTQFPSHSVIEKGQTVTLRCDPISGHDNLYWYRRVMGKEIKFL...</td>\n",
       "      <td>TRBJ2-3*01</td>\n",
       "      <td>STDTQYFGPGTRLTVL</td>\n",
       "    </tr>\n",
       "  </tbody>\n",
       "</table>\n",
       "</div>"
      ],
      "text/plain": [
       "  antigen.epitope   hla.allele      alpha.v    alpha.j    alpha.cdr3  \\\n",
       "0       VMAPRTLIL  HLA-E*01:01  TRAV26-1*01  TRAJ37*01  IVVRSSNTGKLI   \n",
       "1       VMAPRTLIL  HLA-E*01:03  TRAV26-1*01  TRAJ37*01  IVVRSSNTGKLI   \n",
       "\n",
       "                                          alpha.vseq     beta.v      beta.j  \\\n",
       "0  TTQPPSMDCAEGRAANLPCNHSTISGNEYVYWYRQIHSQGPQYIIH...  TRBV14*01  TRBJ2-3*01   \n",
       "1  TTQPPSMDCAEGRAANLPCNHSTISGNEYVYWYRQIHSQGPQYIIH...  TRBV14*01  TRBJ2-3*01   \n",
       "\n",
       "    beta.cdr3                                          beta.vseq  \\\n",
       "0  ASSQDRDTQY  GVTQFPSHSVIEKGQTVTLRCDPISGHDNLYWYRRVMGKEIKFLLH...   \n",
       "1  ASSQDRDTQY  GVTQFPSHSVIEKGQTVTLRCDPISGHDNLYWYRRVMGKEIKFLLH...   \n",
       "\n",
       "  alpha.v.imgt.gene                                   alpha.v.imgt.seq  \\\n",
       "0       TRAV26-1*01  DAKTTQPPSMDCAEGRAANLPCNHSTISGNEYVYWYRQIHSQGPQY...   \n",
       "1       TRAV26-1*01  DAKTTQPPSMDCAEGRAANLPCNHSTISGNEYVYWYRQIHSQGPQY...   \n",
       "\n",
       "  alpha.j.imgt.gene      alpha.j.imgt.seq beta.v.imgt.gene  \\\n",
       "0         TRAJ37*01  GSGNTGKLIFGQGTTLQVKP        TRBV14*01   \n",
       "1         TRAJ37*01  GSGNTGKLIFGQGTTLQVKP        TRBV14*01   \n",
       "\n",
       "                                     beta.v.imgt.seq beta.j.imgt.gene  \\\n",
       "0  EAGVTQFPSHSVIEKGQTVTLRCDPISGHDNLYWYRRVMGKEIKFL...       TRBJ2-3*01   \n",
       "1  EAGVTQFPSHSVIEKGQTVTLRCDPISGHDNLYWYRRVMGKEIKFL...       TRBJ2-3*01   \n",
       "\n",
       "    beta.j.imgt.seq  \n",
       "0  STDTQYFGPGTRLTVL  \n",
       "1  STDTQYFGPGTRLTVL  "
      ]
     },
     "execution_count": 9,
     "metadata": {},
     "output_type": "execute_result"
    }
   ],
   "source": [
    "for col in ['alpha.v', 'alpha.j', 'beta.v', 'beta.j']:\n",
    "    level4_df[col+'.imgt.gene'] = level4_df[col].apply(lambda x: seq_dict[x]['source gene'])\n",
    "    level4_df[col+'.imgt.seq'] = level4_df[col].apply(lambda x: seq_dict[x]['amino acid sequence'])\n",
    "\n",
    "level4_df.head(2)"
   ]
  },
  {
   "cell_type": "code",
   "execution_count": 10,
   "metadata": {},
   "outputs": [
    {
     "name": "stdout",
     "output_type": "stream",
     "text": [
      "48\n",
      "10\n",
      "267\n",
      "1\n",
      "number of dropna(alpha.v.imgt.gene) data: 27527\n",
      "number of dropna(alpha.j.imgt.gene) data: 27517\n",
      "number of dropna(beta.v.imgt.gene) data: 27265\n",
      "number of dropna(beta.j.imgt.gene) data: 27265\n"
     ]
    }
   ],
   "source": [
    "for col in ['alpha.v', 'alpha.j', 'beta.v', 'beta.j']:\n",
    "    print(len(level4_df[level4_df[col+'.imgt.gene']==\"(UNK)\"]))\n",
    "\n",
    "for col in ['alpha.v', 'alpha.j', 'beta.v', 'beta.j']:\n",
    "    level4_df = level4_df[level4_df[col+'.imgt.gene']!='(UNK)']\n",
    "    level4_df = level4_df.reset_index(drop=True)\n",
    "    print(f\"number of dropna({col+'.imgt.gene'}) data: {len(level4_df)}\")"
   ]
  },
  {
   "cell_type": "code",
   "execution_count": 11,
   "metadata": {},
   "outputs": [
    {
     "name": "stdout",
     "output_type": "stream",
     "text": [
      "antigen.epitope 0\n",
      "hla.allele 0\n",
      "alpha.v 0\n",
      "alpha.j 0\n",
      "alpha.cdr3 0\n",
      "alpha.vseq 26955\n",
      "beta.v 0\n",
      "beta.j 0\n",
      "beta.cdr3 0\n",
      "beta.vseq 26955\n",
      "alpha.v.imgt.gene 0\n",
      "alpha.v.imgt.seq 0\n",
      "alpha.j.imgt.gene 0\n",
      "alpha.j.imgt.seq 0\n",
      "beta.v.imgt.gene 0\n",
      "beta.v.imgt.seq 0\n",
      "beta.j.imgt.gene 0\n",
      "beta.j.imgt.seq 0\n"
     ]
    }
   ],
   "source": [
    "for c in level4_df:\n",
    "    print(c, len(level4_df[level4_df[c]==\"(UNK)\"]))"
   ]
  },
  {
   "cell_type": "code",
   "execution_count": 12,
   "metadata": {},
   "outputs": [],
   "source": [
    "level4_df['alpha.vseq.reconstructed'] = level4_df['alpha.v.imgt.seq']+'-'+level4_df['alpha.cdr3']+'-'+level4_df['alpha.j.imgt.seq']\n",
    "level4_df['beta.vseq.reconstructed'] = level4_df['beta.v.imgt.seq']+'-'+level4_df['beta.cdr3']+'-'+level4_df['beta.j.imgt.seq']"
   ]
  },
  {
   "cell_type": "markdown",
   "metadata": {},
   "source": [
    "- example"
   ]
  },
  {
   "cell_type": "code",
   "execution_count": 13,
   "metadata": {},
   "outputs": [
    {
     "name": "stdout",
     "output_type": "stream",
     "text": [
      "TRAV12-2*01 AVTTDSWGKLQ \n",
      " EVEQNSGPLSVPEGAIASLNCTYSDRGSQSFFWYRQYSGKSPELIMSIYSNGDKEDGRFTAQLNKASQYVSLLIRDSQPSDSATYLCAVTTDSWGKLQFGAGTQVVVTP \n",
      " QKEVEQNSGPLSVPEGAIASLNCTYSDRGSQSFFWYRQYSGKSPELIMFIYSNGDKEDGRFTAQLNKASQYVSLLIRDSQPSDSATYLCAVN-AVTTDSWGKLQ-TTDSWGKLQFGAGTQVVVTP\n"
     ]
    }
   ],
   "source": [
    "cdr3 = level4_df['alpha.cdr3'].tolist()[10]\n",
    "vseq = level4_df['alpha.vseq'].tolist()[10]\n",
    "revseqs = level4_df['alpha.vseq.reconstructed'].tolist()[10]\n",
    "\n",
    "print(level4_df['alpha.v'].tolist()[10], cdr3, '\\n', vseq, '\\n', revseqs)"
   ]
  },
  {
   "cell_type": "code",
   "execution_count": 14,
   "metadata": {},
   "outputs": [
    {
     "data": {
      "text/plain": [
       "(False,\n",
       " 'QKEVEQNSGPLSVPEGAIASLNCTYSDRGSQSFFWYRQYSGKSPELIMFIYSNGDKEDGRFTAQLNKASQYVSLLIRDSQPSDSATYLCAVTTDSWGKLQFGAGTQVVVTP')"
      ]
     },
     "execution_count": 14,
     "metadata": {},
     "output_type": "execute_result"
    }
   ],
   "source": [
    "vgene_seq = revseqs.split('-')[0]\n",
    "cdr3 = revseqs.split('-')[1]\n",
    "jgene_seq = revseqs.split('-')[2]\n",
    "\n",
    "# cut vgene seq, eg. CA: ..YL|CAVT\n",
    "cdr3_start = cdr3[:2]\n",
    "vgene_seq_end = vgene_seq.rfind(cdr3_start)                 # last position\n",
    "\n",
    "# cut jgene seq, eg. LQ: GKLQ|FG..\n",
    "cdr3_end = cdr3[-2:]\n",
    "jgene_seq_start = jgene_seq.find(cdr3_end)+len(cdr3_end)    # first position + 2    \n",
    "\n",
    "revseq = vgene_seq[:vgene_seq_end] + cdr3 + jgene_seq[jgene_seq_start:]\n",
    "vseq in revseq, revseq"
   ]
  },
  {
   "cell_type": "markdown",
   "metadata": {},
   "source": [
    "iedb.vseq: ..AIASLNCTYSDRGSQSFFWYRQYSGKSPELIM**S**IYSNGDKEDGRFTAQLNKASQYVSLLIRDSQPSDSATYLCA..\n",
    "- TRAV12-2*02 in imgt\n",
    "\n",
    "imgt.vseq: ..AIASLNCTYSDRGSQSFFWYRQYSGKSPELIM**F**IYSNGDKEDGRFTAQLNKASQYVSLLIRDSQPSDSATYLCA..\n",
    "- TRAV12-2*01"
   ]
  },
  {
   "cell_type": "code",
   "execution_count": 16,
   "metadata": {},
   "outputs": [
    {
     "data": {
      "text/plain": [
       "False"
      ]
     },
     "execution_count": 16,
     "metadata": {},
     "output_type": "execute_result"
    }
   ],
   "source": [
    "x = 'aaa'\n",
    "3 != (0+len(x))"
   ]
  },
  {
   "cell_type": "code",
   "execution_count": 22,
   "metadata": {},
   "outputs": [
    {
     "name": "stdout",
     "output_type": "stream",
     "text": [
      "KQEVTQIPAALSVPEGENLVLNCSFTDSAIYNLQWFRQDPGKGLTSLLLIQSSQREQTSGRLNASLDKSSGRSTLYIAASQPGDSATYLCAVHTQGGSEKLVFGKGTKLTVNP\n",
      "QQQVKQSPQSLIVQKGGISIINCAYENTAFDYFPWYQQFPGKGPALLIAIRPDVSEKKEGRFTISFNKSAKQFSLHIMDSQPGDSATYFCAASRGSGAGSYQLTFGKGTKLSVIP\n",
      "ILNVEQSPQSLHVQEGDSTNFTCSFPSSNFYALHWYRWETAKSPEALFVMTLNGDEKKKGRISATLNTKEGYSYLYIKGSQPEDSATYLCALNQAGTALIFGKGTTLSVSS\n",
      "ILNVEQSPQSLHVQEGDSTNFTCSFPSSNFYALHWYRWETAKSPEALFVMTLNGDEKKKGRISATLNTKEGYSYLYIKGSQPEDSATYLCARNTGNQFYFGTGTSLTVIP\n",
      "GQQVMQIPQYQHVQEGEDFTTYCNSSTTLSNIQWYKQRPGGHPVFLIQLVKSGEVKKQKRLTFQFGEAKKNSSLHITATQTTDVGTYFCAGFNDYKLSFGAGTTVTVRA\n",
      "(UNK)\n",
      "DAKTTQPPSMDCAEGRAANLPCNHSTISGNEYVYWYRQIHSQGPQYIIHGLKNNETNEMASLIITEDRKSSTLILPHATLRDTAVYYCIAGGSQGNLIFGKGTKLSVKP\n",
      "DAKTTQPPSMDCAEGRAANLPCNHSTISGNEYVYWYRQIHSQGPQYIIHGLKNNETNEMASLIITEDRKSSTLILPHATLRDTAVYYCIVSDIQGAQKLVFGQGTRLTINP\n",
      "DAKTTQPPSMDCAEGRAANLPCNHSTISGNEYVYWYRQIHSQGPQYIIHGLKNNETNEMASLIITEDRKSSTLILPHATLRDTAVYYCIAVSQGGSEKLVFGKGTKLTVNP\n",
      "DAKTTQPPSMDCAEGRAANLPCNHSTISGNEYVYWYRQIHSQGPQYIIHGLKNNETNEMASLIITEDRKSSTLILPHATLRDTAVYYCIVRVGYTGFQKLVFGTGTRLLVSP\n"
     ]
    }
   ],
   "source": [
    "def reconstruct_vseq(data):\n",
    "    vgene_seq = data.split('-')[0]\n",
    "    cdr3 = data.split('-')[1]\n",
    "    jgene_seq = data.split('-')[2]\n",
    "\n",
    "    # cut vgene seq, eg. CA: ..YL|CAVT\n",
    "    cdr3_start = cdr3[:2]\n",
    "    vgene_seq_end = vgene_seq.rfind(cdr3_start)                         # last position\n",
    "\n",
    "    # cut jgene seq, eg. LQ: GKLQ|FG..\n",
    "    cdr3_end = cdr3[-2:]\n",
    "    jgene_seq_start = jgene_seq.find(cdr3_end) + len(cdr3_end)          # first position + 2    \n",
    "\n",
    "    if (vgene_seq_end != -1) & (jgene_seq_start != (-1+len(cdr3_end))): # + len(cdr3_end) !!!\n",
    "        return vgene_seq[:vgene_seq_end] + cdr3 + jgene_seq[jgene_seq_start:]\n",
    "    else:\n",
    "        return '(UNK)'\n",
    "\n",
    "revseqs = level4_df['alpha.vseq.reconstructed'].tolist()[700:710]\n",
    "for seq in revseqs:\n",
    "    print(reconstruct_vseq(seq))"
   ]
  },
  {
   "cell_type": "code",
   "execution_count": 23,
   "metadata": {},
   "outputs": [
    {
     "data": {
      "text/plain": [
       "['KQEVTQIPAALSVPEGENLVLNCSFTDSAIYNLQWFRQDPGKGLTSLLLIQSSQREQTSGRLNASLDKSSGRSTLYIAASQPGDSATYLCAVR-CAVHTQGGSEKLVF-TQGGSEKLVFGKGTKLTVNP',\n",
       " 'QQQVKQSPQSLIVQKGGISIINCAYENTAFDYFPWYQQFPGKGPALLIAIRPDVSEKKEGRFTISFNKSAKQFSLHIMDSQPGDSATYFCAAS-CAASRGSGAGSYQLTF-YSGAGSYQLTFGKGTKLSVIP',\n",
       " 'ILNVEQSPQSLHVQEGDSTNFTCSFPSSNFYALHWYRWETAKSPEALFVMTLNGDEKKKGRISATLNTKEGYSYLYIKGSQPEDSATYLCAF-CALNQAGTALIF-NQAGTALIFGKGTTLSVSS',\n",
       " 'ILNVEQSPQSLHVQEGDSTNFTCSFPSSNFYALHWYRWETAKSPEALFVMTLNGDEKKKGRISATLNTKEGYSYLYIKGSQPEDSATYLCAF-CARNTGNQFYF-NTGNQFYFGTGTSLTVIP',\n",
       " 'GQQVMQIPQYQHVQEGEDFTTYCNSSTTLSNIQWYKQRPGGHPVFLIQLVKSGEVKKQKRLTFQFGEAKKNSSLHITATQTTDVGTYFCAG-CAGFNDYKLSF-SNDYKLSFGAGTTVTVRA',\n",
       " 'DAKTTQPPSMDCAEGRAANLPCNHSTISGNEYVYWYRQIHSQGPQYIIHGLKNNETNEMASLIITEDRKSSTLILPHATLRDTAVYYCIVRV-CTRGYARYNFNKFYF-YNFNKFYFGSGTKLNVKP',\n",
       " 'DAKTTQPPSMDCAEGRAANLPCNHSTISGNEYVYWYRQIHSQGPQYIIHGLKNNETNEMASLIITEDRKSSTLILPHATLRDTAVYYCIVRV-CIAGGSQGNLIF-NYGGSQGNLIFGKGTKLSVKP',\n",
       " 'DAKTTQPPSMDCAEGRAANLPCNHSTISGNEYVYWYRQIHSQGPQYIIHGLKNNETNEMASLIITEDRKSSTLILPHATLRDTAVYYCIVRV-CIVSDIQGAQKLVF-IQGAQKLVFGQGTRLTINP',\n",
       " 'DAKTTQPPSMDCAEGRAANLPCNHSTISGNEYVYWYRQIHSQGPQYIIHGLKNNETNEMASLIITEDRKSSTLILPHATLRDTAVYYCIVRV-CIAVSQGGSEKLVF-TQGGSEKLVFGKGTKLTVNP',\n",
       " 'DAKTTQPPSMDCAEGRAANLPCNHSTISGNEYVYWYRQIHSQGPQYIIHGLKNNETNEMASLIITEDRKSSTLILPHATLRDTAVYYCIVRV-CIVRVGYTGFQKLVF-NTGFQKLVFGTGTRLLVSP']"
      ]
     },
     "execution_count": 23,
     "metadata": {},
     "output_type": "execute_result"
    }
   ],
   "source": [
    "revseqs"
   ]
  },
  {
   "cell_type": "code",
   "execution_count": 24,
   "metadata": {},
   "outputs": [
    {
     "name": "stdout",
     "output_type": "stream",
     "text": [
      "DSGVTQTPKHLITATGQRVTLRCSPRSGDLSVYWYQQSLDQGLQFLIQYYNGEERAKGNILERFSAQQFPDLHSELNLSSLELGDSALYFCASSVVQENTGELFFGEGSRLTVL\n",
      "EAGVAQSPRYKIIEKRQSVAFWCNPISGHATLYWYQQILGQGPKLLIQFQNNGVVDDSQLPKDRFSAERLKGVDSTLKIQPAKLEDSAVYLCASSLARGTGELFFGEGSRLTVL\n",
      "NAGVTQTPKFQVLKTGQSMTLQCAQDMNHNSMYWYRQDPGMGLRLIYYSASEGTTDKGEVPNGYNVSRLNKREFSLRLESAAPSQTSVYFCASSARDRVLYEQYFGPGTRLTVT\n",
      "DAGVTQSPTHLIKTRGQQVTLRCSPKSGHDTVSWYQQALGQGPQFIFQYYEEEERQRGNFPDRFSGHQFPNYSSELNVNALLLGDSALYLCASSFDSKAFFGQGTRLTVV\n",
      "EPEVTQTPSHQVTQMGQEVILRCVPISNHLYFYWYRQILGQKVEFLVSFYNNEISEKSEIFDDQFSVERPDGSNFTLKIRSTKLEDSAMYFCATTVPLSYEQYFGPGTRLTVT\n",
      "DTAVSQTPKYLVTQMGNDKSIKCEQNLGHDTMYWYKQDSKKFLKIMFSYNNKELIINETVPNRFSPKSPDKAHLNLHINSLELGDSAVYFCASSLGTGGSYEQYFGPGTRLTVT\n",
      "DSGVTQTPKHLITATGQRVTLRCSPRSGDLSVYWYQQSLDQGLQFLIQYYNGEERAKGNILERFSAQQFPDLHSELNLSSLELGDSALYFCASSEGKGRDSNQPQHFGDGTRLSIL\n",
      "EAQVTQNPRYLITVTGKKLTVTCSQNMNHEYMSWYRQDPGLGLRQIYYSMNVEVTDKGDVPEGYKVSRKEKRNFPLILESPSPNQTSLYFCASSLYSPLAYSWNEKLFFGSGTQLSVL\n",
      "DSGVTQTPKHLITATGQRVTLRCSPRSGDLSVYWYQQSLDQGLQFLIQYYNGEERAKGNILERFSAQQFPDLHSELNLSSLELGDSALYFCASSVRTTTGVGDYGYTFGSGTRLTVV\n",
      "DGGITQSPKYLFRKEGQNVTLSCEQNLNHDAMYWYRQDPGQGLRLIYYSQIVNDFQKGDIAEGYSVSREKKESFPLTVTSAQKNPTAFYLCASSLSRSRGSYEQYFGPGTRLTVT\n"
     ]
    }
   ],
   "source": [
    "revseqs = level4_df['beta.vseq.reconstructed'].tolist()[10000:10010]\n",
    "for seq in revseqs:\n",
    "    print(reconstruct_vseq(seq))"
   ]
  },
  {
   "cell_type": "code",
   "execution_count": 25,
   "metadata": {},
   "outputs": [
    {
     "data": {
      "text/plain": [
       "['DSGVTQTPKHLITATGQRVTLRCSPRSGDLSVYWYQQSLDQGLQFLIQYYNGEERAKGNILERFSAQQFPDLHSELNLSSLELGDSALYFCASSV-CASSVVQENTGELFF-NTGELFFGEGSRLTVL',\n",
       " 'EAGVAQSPRYKIIEKRQSVAFWCNPISGHATLYWYQQILGQGPKLLIQFQNNGVVDDSQLPKDRFSAERLKGVDSTLKIQPAKLEDSAVYLCASSL-CASSLARGTGELFF-NTGELFFGEGSRLTVL',\n",
       " 'NAGVTQTPKFQVLKTGQSMTLQCAQDMNHNSMYWYRQDPGMGLRLIYYSASEGTTDKGEVPNGYNVSRLNKREFSLRLESAAPSQTSVYFCASSE-CASSARDRVLYEQYF-SYEQYFGPGTRLTVT',\n",
       " 'DAGVTQSPTHLIKTRGQQVTLRCSPKSGHDTVSWYQQALGQGPQFIFQYYEEEERQRGNFPDRFSGHQFPNYSSELNVNALLLGDSALYLCASSL-CASSFDSKAFF-NTEAFFGQGTRLTVV',\n",
       " 'EPEVTQTPSHQVTQMGQEVILRCVPISNHLYFYWYRQILGQKVEFLVSFYNNEISEKSEIFDDQFSVERPDGSNFTLKIRSTKLEDSAMYFCASSE-CATTVPLSYEQYF-SYEQYFGPGTRLTVT',\n",
       " 'DTAVSQTPKYLVTQMGNDKSIKCEQNLGHDTMYWYKQDSKKFLKIMFSYNNKELIINETVPNRFSPKSPDKAHLNLHINSLELGDSAVYFCASSQ-CASSLGTGGSYEQYF-SYEQYFGPGTRLTVT',\n",
       " 'DSGVTQTPKHLITATGQRVTLRCSPRSGDLSVYWYQQSLDQGLQFLIQYYNGEERAKGNILERFSAQQFPDLHSELNLSSLELGDSALYFCASSV-CASSEGKGRDSNQPQHF-SNQPQHFGDGTRLSIL',\n",
       " 'EAQVTQNPRYLITVTGKKLTVTCSQNMNHEYMSWYRQDPGLGLRQIYYSMNVEVTDKGDVPEGYKVSRKEKRNFPLILESPSPNQTSLYFCASSL-CASSLYSPLAYSWNEKLFF-TNEKLFFGSGTQLSVL',\n",
       " 'DSGVTQTPKHLITATGQRVTLRCSPRSGDLSVYWYQQSLDQGLQFLIQYYNGEERAKGNILERFSAQQFPDLHSELNLSSLELGDSALYFCASSV-CASSVRTTTGVGDYGYTF-NYGYTFGSGTRLTVV',\n",
       " 'DGGITQSPKYLFRKEGQNVTLSCEQNLNHDAMYWYRQDPGQGLRLIYYSQIVNDFQKGDIAEGYSVSREKKESFPLTVTSAQKNPTAFYLCASSI-CASSLSRSRGSYEQYF-SYEQYFGPGTRLTVT']"
      ]
     },
     "execution_count": 25,
     "metadata": {},
     "output_type": "execute_result"
    }
   ],
   "source": [
    "revseqs"
   ]
  },
  {
   "cell_type": "code",
   "execution_count": 26,
   "metadata": {},
   "outputs": [
    {
     "name": "stdout",
     "output_type": "stream",
     "text": [
      "860\n",
      "178\n",
      "number of dropna(alpha.vseq.reconstructed) data: 26405\n",
      "number of dropna(beta.vseq.reconstructed) data: 26243\n"
     ]
    }
   ],
   "source": [
    "level4_df['alpha.vseq.reconstructed'] = level4_df['alpha.vseq.reconstructed'].apply(reconstruct_vseq)\n",
    "level4_df['beta.vseq.reconstructed'] = level4_df['beta.vseq.reconstructed'].apply(reconstruct_vseq)\n",
    "\n",
    "for col in ['alpha.vseq.reconstructed', 'beta.vseq.reconstructed']:\n",
    "    print(len(level4_df[level4_df[col]==\"(UNK)\"]))\n",
    "\n",
    "for col in ['alpha.vseq.reconstructed', 'beta.vseq.reconstructed']:\n",
    "    level4_df = level4_df[level4_df[col]!='(UNK)']\n",
    "    level4_df = level4_df.reset_index(drop=True)\n",
    "    print(f\"number of dropna({col}) data: {len(level4_df)}\")"
   ]
  },
  {
   "cell_type": "markdown",
   "metadata": {},
   "source": [
    "---"
   ]
  },
  {
   "cell_type": "code",
   "execution_count": 27,
   "metadata": {},
   "outputs": [
    {
     "name": "stdout",
     "output_type": "stream",
     "text": [
      "369\n"
     ]
    },
    {
     "data": {
      "text/plain": [
       "['TRAV26-1*01', 'TRAV21*01', 'TRAV12-2*01', 'TRAV19*01', 'TRAV20*01']"
      ]
     },
     "execution_count": 27,
     "metadata": {},
     "output_type": "execute_result"
    }
   ],
   "source": [
    "import os\n",
    "import json\n",
    "dict_savepath = to_your_path + \"TCRdata/final\"\n",
    "dict_savename = \"Hi-TpH-tcr_gene2seq.json\"        # simple version for our dataset\n",
    "with open(os.path.join(dict_savepath, dict_savename), \"r\") as f:\n",
    "    seq_dict = json.load(f)\n",
    "\n",
    "print(len(list(seq_dict.keys())))\n",
    "list(seq_dict.keys())[:5]"
   ]
  },
  {
   "cell_type": "code",
   "execution_count": 28,
   "metadata": {},
   "outputs": [
    {
     "name": "stdout",
     "output_type": "stream",
     "text": [
      "number of perfect(alpha.v) data: 25752\n",
      "number of perfect(alpha.j) data: 25752\n",
      "number of perfect(beta.v) data: 25740\n",
      "number of perfect(beta.j) data: 25740\n",
      "25740\n"
     ]
    }
   ],
   "source": [
    "pf_level4_df = level4_df\n",
    "\n",
    "for col in ['alpha.v', 'alpha.j', 'beta.v', 'beta.j']:\n",
    "    pf_level4_df['check'] = pf_level4_df[col].apply(lambda x: seq_dict[x]['match source gene'])\n",
    "    pf_level4_df = pf_level4_df[pf_level4_df['check']=='Perfect'].reset_index(drop=True)\n",
    "    print(f\"number of perfect({col}) data: {len(pf_level4_df)}\")\n",
    "\n",
    "pf_level4_df = pf_level4_df.drop_duplicates(ignore_index=True, keep='first')\n",
    "print(len(pf_level4_df))"
   ]
  },
  {
   "cell_type": "markdown",
   "metadata": {},
   "source": [
    "- hla"
   ]
  },
  {
   "cell_type": "code",
   "execution_count": 29,
   "metadata": {},
   "outputs": [
    {
     "name": "stdout",
     "output_type": "stream",
     "text": [
      "81\n"
     ]
    },
    {
     "data": {
      "text/plain": [
       "['HLA-E*01:01', 'HLA-E*01:03', 'HLA-A*02:01', 'HLA-B*44:02', 'HLA-B*44:03']"
      ]
     },
     "execution_count": 29,
     "metadata": {},
     "output_type": "execute_result"
    }
   ],
   "source": [
    "target_hla_list = pf_level4_df['hla.allele'].unique().tolist()\n",
    "print(len(target_hla_list))\n",
    "target_hla_list[:5]"
   ]
  },
  {
   "cell_type": "code",
   "execution_count": 30,
   "metadata": {},
   "outputs": [
    {
     "name": "stdout",
     "output_type": "stream",
     "text": [
      "115\n"
     ]
    },
    {
     "data": {
      "text/plain": [
       "['HLA-E*01:01', 'HLA-E*01:03', 'HLA-B*08', 'HLA-B*44:05', 'HLA-B*08:01']"
      ]
     },
     "execution_count": 30,
     "metadata": {},
     "output_type": "execute_result"
    }
   ],
   "source": [
    "import os\n",
    "import json\n",
    "dict_savepath = to_your_path + \"TCRdata/final\"\n",
    "dict_savename = \"Hi-TpH-hla_allele2seq.json\"        # simple version for our dataset\n",
    "with open(os.path.join(dict_savepath, dict_savename), \"r\") as f:\n",
    "    seq_dict = json.load(f)\n",
    "\n",
    "print(len(list(seq_dict.keys())))\n",
    "list(seq_dict.keys())[:5]"
   ]
  },
  {
   "cell_type": "code",
   "execution_count": 31,
   "metadata": {},
   "outputs": [
    {
     "name": "stdout",
     "output_type": "stream",
     "text": [
      "{'HLA-A*08:01', 'HLA-A*24:01', 'HLA-B*12'}\n",
      "133\n",
      "number of hla seq data: 25607\n"
     ]
    }
   ],
   "source": [
    "print(set(target_hla_list) - set(seq_dict.keys()))\n",
    "print(len(pf_level4_df[pf_level4_df['hla.allele'].isin(set(target_hla_list) - set(seq_dict.keys()))]))\n",
    "\n",
    "pf_level4_df = pf_level4_df[~pf_level4_df['hla.allele'].isin(set(target_hla_list) - set(seq_dict.keys()))]\n",
    "pf_level4_df = pf_level4_df.reset_index(drop=True)\n",
    "print(f\"number of hla seq data: {len(pf_level4_df)}\")"
   ]
  },
  {
   "cell_type": "code",
   "execution_count": 32,
   "metadata": {},
   "outputs": [
    {
     "name": "stdout",
     "output_type": "stream",
     "text": [
      "25555\n",
      "25492\n"
     ]
    }
   ],
   "source": [
    "pf_level4_df['hla.full.seq'] = pf_level4_df['hla.allele'].apply(lambda x: seq_dict[x]['full sequence'])\n",
    "pf_level4_df['hla.clip.seq'] = pf_level4_df['hla.allele'].apply(lambda x: seq_dict[x]['clip sequence'])\n",
    "pf_level4_df['hla.short.seq'] = pf_level4_df['hla.allele'].apply(lambda x: seq_dict[x]['short sequence'])\n",
    "\n",
    "pf_level4_df = pf_level4_df.drop_duplicates(ignore_index=True, keep='first',\n",
    "                                      subset=['alpha.cdr3', 'beta.cdr3', 'alpha.vseq.reconstructed', 'beta.vseq.reconstructed',\n",
    "                                              'antigen.epitope', 'hla.full.seq', 'hla.clip.seq', 'hla.short.seq'])\n",
    "print(len(pf_level4_df))\n",
    "\n",
    "print(len(pf_level4_df.drop_duplicates(subset=['alpha.vseq.reconstructed', 'beta.vseq.reconstructed', 'antigen.epitope', 'hla.full.seq'])))"
   ]
  },
  {
   "cell_type": "code",
   "execution_count": 33,
   "metadata": {},
   "outputs": [
    {
     "name": "stdout",
     "output_type": "stream",
     "text": [
      "25492\n"
     ]
    }
   ],
   "source": [
    "pf_level4_df = pf_level4_df.drop_duplicates(ignore_index=True, keep='first',\n",
    "                                      subset=['alpha.vseq.reconstructed', 'beta.vseq.reconstructed',\n",
    "                                              'antigen.epitope', 'hla.full.seq', 'hla.clip.seq', 'hla.short.seq'])\n",
    "print(len(pf_level4_df))"
   ]
  },
  {
   "cell_type": "code",
   "execution_count": 34,
   "metadata": {},
   "outputs": [
    {
     "name": "stdout",
     "output_type": "stream",
     "text": [
      "25492\n",
      "25492\n",
      "25492\n",
      "25492\n"
     ]
    }
   ],
   "source": [
    "for col in ['alpha.v', 'alpha.j', 'beta.v', 'beta.j']:\n",
    "    print(sum(pf_level4_df[col] == pf_level4_df[col+'.imgt.gene']))"
   ]
  },
  {
   "cell_type": "code",
   "execution_count": 68,
   "metadata": {},
   "outputs": [
    {
     "data": {
      "text/html": [
       "<div>\n",
       "<style scoped>\n",
       "    .dataframe tbody tr th:only-of-type {\n",
       "        vertical-align: middle;\n",
       "    }\n",
       "\n",
       "    .dataframe tbody tr th {\n",
       "        vertical-align: top;\n",
       "    }\n",
       "\n",
       "    .dataframe thead th {\n",
       "        text-align: right;\n",
       "    }\n",
       "</style>\n",
       "<table border=\"1\" class=\"dataframe\">\n",
       "  <thead>\n",
       "    <tr style=\"text-align: right;\">\n",
       "      <th></th>\n",
       "      <th>alpha.vseq.length</th>\n",
       "      <th>beta.vseq.length</th>\n",
       "    </tr>\n",
       "  </thead>\n",
       "  <tbody>\n",
       "    <tr>\n",
       "      <th>count</th>\n",
       "      <td>25492.000000</td>\n",
       "      <td>25492.000000</td>\n",
       "    </tr>\n",
       "    <tr>\n",
       "      <th>mean</th>\n",
       "      <td>112.272595</td>\n",
       "      <td>114.030990</td>\n",
       "    </tr>\n",
       "    <tr>\n",
       "      <th>std</th>\n",
       "      <td>3.137798</td>\n",
       "      <td>2.366564</td>\n",
       "    </tr>\n",
       "    <tr>\n",
       "      <th>min</th>\n",
       "      <td>41.000000</td>\n",
       "      <td>32.000000</td>\n",
       "    </tr>\n",
       "    <tr>\n",
       "      <th>25%</th>\n",
       "      <td>110.000000</td>\n",
       "      <td>113.000000</td>\n",
       "    </tr>\n",
       "    <tr>\n",
       "      <th>50%</th>\n",
       "      <td>112.000000</td>\n",
       "      <td>114.000000</td>\n",
       "    </tr>\n",
       "    <tr>\n",
       "      <th>75%</th>\n",
       "      <td>114.000000</td>\n",
       "      <td>115.000000</td>\n",
       "    </tr>\n",
       "    <tr>\n",
       "      <th>max</th>\n",
       "      <td>125.000000</td>\n",
       "      <td>127.000000</td>\n",
       "    </tr>\n",
       "  </tbody>\n",
       "</table>\n",
       "</div>"
      ],
      "text/plain": [
       "       alpha.vseq.length  beta.vseq.length\n",
       "count       25492.000000      25492.000000\n",
       "mean          112.272595        114.030990\n",
       "std             3.137798          2.366564\n",
       "min            41.000000         32.000000\n",
       "25%           110.000000        113.000000\n",
       "50%           112.000000        114.000000\n",
       "75%           114.000000        115.000000\n",
       "max           125.000000        127.000000"
      ]
     },
     "execution_count": 68,
     "metadata": {},
     "output_type": "execute_result"
    }
   ],
   "source": [
    "pf_level4_df['alpha.vseq.length'] = pf_level4_df['alpha.vseq.reconstructed'].apply(lambda x: len(x))\n",
    "pf_level4_df['beta.vseq.length'] = pf_level4_df['beta.vseq.reconstructed'].apply(lambda x: len(x))\n",
    "\n",
    "pf_level4_df[['alpha.vseq.length', 'beta.vseq.length']].describe()"
   ]
  },
  {
   "cell_type": "code",
   "execution_count": 80,
   "metadata": {},
   "outputs": [
    {
     "name": "stdout",
     "output_type": "stream",
     "text": [
      "25467\n",
      "25458\n",
      "25458\n"
     ]
    }
   ],
   "source": [
    "pf_level4_df = pf_level4_df[pf_level4_df['alpha.vseq.length']>=100]\n",
    "print(len(pf_level4_df))\n",
    "\n",
    "pf_level4_df = pf_level4_df[pf_level4_df['beta.vseq.length']>=100]\n",
    "print(len(pf_level4_df))\n",
    "\n",
    "pf_level4_df = pf_level4_df.drop_duplicates(ignore_index=True, keep='first',\n",
    "                                      subset=['alpha.vseq.reconstructed', 'beta.vseq.reconstructed',\n",
    "                                              'antigen.epitope', 'hla.full.seq', 'hla.clip.seq', 'hla.short.seq'])\n",
    "print(len(pf_level4_df))"
   ]
  },
  {
   "cell_type": "code",
   "execution_count": 81,
   "metadata": {},
   "outputs": [
    {
     "name": "stdout",
     "output_type": "stream",
     "text": [
      "antigen.epitope 0\n",
      "hla.allele 0\n",
      "alpha.v 0\n",
      "alpha.j 0\n",
      "alpha.cdr3 0\n",
      "beta.v 0\n",
      "beta.j 0\n",
      "beta.cdr3 0\n",
      "alpha.vseq.reconstructed 0\n",
      "beta.vseq.reconstructed 0\n",
      "hla.full.seq 0\n",
      "hla.clip.seq 0\n",
      "hla.short.seq 0\n"
     ]
    }
   ],
   "source": [
    "cols = ['antigen.epitope', 'hla.allele', \n",
    "        'alpha.v', 'alpha.j', 'alpha.cdr3',\n",
    "        'beta.v', 'beta.j', 'beta.cdr3',\n",
    "        'alpha.vseq.reconstructed', 'beta.vseq.reconstructed', \n",
    "        'hla.full.seq', 'hla.clip.seq', 'hla.short.seq']\n",
    "pf_level4_df = pf_level4_df[cols]\n",
    "\n",
    "for c in pf_level4_df:\n",
    "        print(c, len(pf_level4_df[pf_level4_df[c]==\"(UNK)\"]))"
   ]
  },
  {
   "cell_type": "code",
   "execution_count": 82,
   "metadata": {},
   "outputs": [
    {
     "name": "stdout",
     "output_type": "stream",
     "text": [
      "File /data/lujd/TCRdata/final/Hi-TpH-level-IV.csv has been successfully saved.\n",
      "samples: 25458\n",
      "TCRs:    23767\n",
      "TCRs:    23779\n",
      "TCRs:    23768\n",
      "TCRs:    23780\n",
      "HLAs:    61\n",
      "peptides:870\n"
     ]
    }
   ],
   "source": [
    "savename = \"Hi-TpH-level-IV-tmp.csv\"\n",
    "save_csv(pf_level4_df, savepath, savename)\n",
    "\n",
    "print(f\"samples: {len(pf_level4_df)}\")\n",
    "print(f\"TCRs:    {len(pf_level4_df.drop_duplicates(subset=['alpha.vseq.reconstructed', 'beta.vseq.reconstructed']))}\")\n",
    "print(f\"TCRs:    {len(pf_level4_df.drop_duplicates(subset=['alpha.cdr3', 'beta.cdr3', 'alpha.vseq.reconstructed', 'beta.vseq.reconstructed']))}\")\n",
    "print(f\"TCRs:    {len(pf_level4_df.drop_duplicates(subset=['alpha.v', 'alpha.j', 'beta.v', 'beta.j', 'alpha.vseq.reconstructed', 'beta.vseq.reconstructed']))}\")\n",
    "print(f\"TCRs:    {len(pf_level4_df.drop_duplicates(subset=['alpha.cdr3', 'beta.cdr3', 'alpha.v', 'alpha.j', 'beta.v', 'beta.j', 'alpha.vseq.reconstructed', 'beta.vseq.reconstructed']))}\")\n",
    "print(f\"HLAs:    {len(pf_level4_df.drop_duplicates(subset=['hla.full.seq']))}\")\n",
    "print(f\"peptides:{pf_level4_df['antigen.epitope'].nunique()}\")"
   ]
  },
  {
   "cell_type": "markdown",
   "metadata": {},
   "source": [
    "---\n",
    "\n",
    "- merge STAPLER train/test data"
   ]
  },
  {
   "cell_type": "code",
   "execution_count": 49,
   "metadata": {},
   "outputs": [
    {
     "data": {
      "text/plain": [
       "4457"
      ]
     },
     "execution_count": 49,
     "metadata": {},
     "output_type": "execute_result"
    }
   ],
   "source": [
    "filename = \"../otherpapers/stapler.csv\"\n",
    "stapler_df = pd.read_csv(datapath+filename, sep=',')\n",
    "len(stapler_df)"
   ]
  },
  {
   "cell_type": "code",
   "execution_count": 50,
   "metadata": {},
   "outputs": [],
   "source": [
    "col_dict = {'epitope_aa': 'antigen.epitope',\n",
    "            'hla_long': 'hla.allele',\n",
    "            'TRAV_IMGT': 'alpha.v',\n",
    "            'TRAJ_IMGT': 'alpha.j',\n",
    "            'cdr3_alpha_aa': 'alpha.cdr3',\n",
    "            'TRBV_IMGT': 'beta.v',\n",
    "            'TRBJ_IMGT': 'beta.j',\n",
    "            'cdr3_beta_aa': 'beta.cdr3',\n",
    "            'full_seq_reconstruct_alpha_aa': 'alpha.vseq.reconstructed',\n",
    "            'full_seq_reconstruct_beta_aa': 'beta.vseq.reconstructed'}\n",
    "stapler_df = stapler_df.rename(columns=col_dict)\n",
    "stapler_df = stapler_df[col_dict.values()]"
   ]
  },
  {
   "cell_type": "code",
   "execution_count": 51,
   "metadata": {},
   "outputs": [
    {
     "name": "stdout",
     "output_type": "stream",
     "text": [
      "9\n"
     ]
    },
    {
     "data": {
      "text/plain": [
       "['HLA-A*02:01',\n",
       " 'HLA-A*01:01',\n",
       " 'HLA-A*24:02',\n",
       " 'HLA-A*03:01',\n",
       " 'HLA-B*35:01',\n",
       " 'HLA-B*07:02',\n",
       " 'HLA-B*18:01',\n",
       " 'HLA-B*08:01',\n",
       " 'HLA-B*44:05:01']"
      ]
     },
     "execution_count": 51,
     "metadata": {},
     "output_type": "execute_result"
    }
   ],
   "source": [
    "stapler_df['hla.allele'] = stapler_df['hla.allele'].apply(lambda x: 'HLA-'+x)\n",
    "\n",
    "target_hla_list = stapler_df['hla.allele'].unique().tolist()\n",
    "print(len(target_hla_list))\n",
    "target_hla_list"
   ]
  },
  {
   "cell_type": "code",
   "execution_count": 52,
   "metadata": {},
   "outputs": [
    {
     "name": "stdout",
     "output_type": "stream",
     "text": [
      "115\n"
     ]
    },
    {
     "data": {
      "text/plain": [
       "['HLA-E*01:01', 'HLA-E*01:03', 'HLA-B*08', 'HLA-B*44:05', 'HLA-B*08:01']"
      ]
     },
     "execution_count": 52,
     "metadata": {},
     "output_type": "execute_result"
    }
   ],
   "source": [
    "import os\n",
    "import json\n",
    "dict_savepath = to_your_path + \"TCRdata/final\"\n",
    "dict_savename = \"Hi-TpH-hla_allele2seq.json\"        # simple version for our dataset\n",
    "with open(os.path.join(dict_savepath, dict_savename), \"r\") as f:\n",
    "    seq_dict = json.load(f)\n",
    "\n",
    "print(len(list(seq_dict.keys())))\n",
    "list(seq_dict.keys())[:5]"
   ]
  },
  {
   "cell_type": "code",
   "execution_count": 53,
   "metadata": {},
   "outputs": [
    {
     "name": "stdout",
     "output_type": "stream",
     "text": [
      "set()\n",
      "0\n",
      "number of hla seq data: 4457\n"
     ]
    }
   ],
   "source": [
    "print(set(target_hla_list) - set(seq_dict.keys()))\n",
    "print(len(stapler_df[stapler_df['hla.allele'].isin(set(target_hla_list) - set(seq_dict.keys()))]))\n",
    "\n",
    "stapler_df = stapler_df[~stapler_df['hla.allele'].isin(set(target_hla_list) - set(seq_dict.keys()))]\n",
    "stapler_df = stapler_df.reset_index(drop=True)\n",
    "print(f\"number of hla seq data: {len(stapler_df)}\")"
   ]
  },
  {
   "cell_type": "code",
   "execution_count": 54,
   "metadata": {},
   "outputs": [
    {
     "name": "stdout",
     "output_type": "stream",
     "text": [
      "4457\n",
      "4457\n"
     ]
    }
   ],
   "source": [
    "stapler_df['hla.full.seq'] = stapler_df['hla.allele'].apply(lambda x: seq_dict[x]['full sequence'])\n",
    "stapler_df['hla.clip.seq'] = stapler_df['hla.allele'].apply(lambda x: seq_dict[x]['clip sequence'])\n",
    "stapler_df['hla.short.seq'] = stapler_df['hla.allele'].apply(lambda x: seq_dict[x]['short sequence'])\n",
    "\n",
    "stapler_df = stapler_df.drop_duplicates(ignore_index=True, keep='first',\n",
    "                                      subset=['alpha.cdr3', 'beta.cdr3', 'alpha.vseq.reconstructed', 'beta.vseq.reconstructed',\n",
    "                                              'antigen.epitope', 'hla.full.seq', 'hla.clip.seq', 'hla.short.seq'])\n",
    "print(len(stapler_df))\n",
    "\n",
    "print(len(stapler_df.drop_duplicates(subset=['alpha.vseq.reconstructed', 'beta.vseq.reconstructed', 'antigen.epitope', 'hla.full.seq'])))"
   ]
  },
  {
   "cell_type": "code",
   "execution_count": 74,
   "metadata": {},
   "outputs": [
    {
     "data": {
      "text/html": [
       "<div>\n",
       "<style scoped>\n",
       "    .dataframe tbody tr th:only-of-type {\n",
       "        vertical-align: middle;\n",
       "    }\n",
       "\n",
       "    .dataframe tbody tr th {\n",
       "        vertical-align: top;\n",
       "    }\n",
       "\n",
       "    .dataframe thead th {\n",
       "        text-align: right;\n",
       "    }\n",
       "</style>\n",
       "<table border=\"1\" class=\"dataframe\">\n",
       "  <thead>\n",
       "    <tr style=\"text-align: right;\">\n",
       "      <th></th>\n",
       "      <th>alpha.vseq.length</th>\n",
       "      <th>beta.vseq.length</th>\n",
       "    </tr>\n",
       "  </thead>\n",
       "  <tbody>\n",
       "    <tr>\n",
       "      <th>count</th>\n",
       "      <td>4457.000000</td>\n",
       "      <td>4457.000000</td>\n",
       "    </tr>\n",
       "    <tr>\n",
       "      <th>mean</th>\n",
       "      <td>112.034777</td>\n",
       "      <td>114.075611</td>\n",
       "    </tr>\n",
       "    <tr>\n",
       "      <th>std</th>\n",
       "      <td>2.835702</td>\n",
       "      <td>2.065551</td>\n",
       "    </tr>\n",
       "    <tr>\n",
       "      <th>min</th>\n",
       "      <td>100.000000</td>\n",
       "      <td>107.000000</td>\n",
       "    </tr>\n",
       "    <tr>\n",
       "      <th>25%</th>\n",
       "      <td>110.000000</td>\n",
       "      <td>113.000000</td>\n",
       "    </tr>\n",
       "    <tr>\n",
       "      <th>50%</th>\n",
       "      <td>112.000000</td>\n",
       "      <td>114.000000</td>\n",
       "    </tr>\n",
       "    <tr>\n",
       "      <th>75%</th>\n",
       "      <td>114.000000</td>\n",
       "      <td>115.000000</td>\n",
       "    </tr>\n",
       "    <tr>\n",
       "      <th>max</th>\n",
       "      <td>121.000000</td>\n",
       "      <td>124.000000</td>\n",
       "    </tr>\n",
       "  </tbody>\n",
       "</table>\n",
       "</div>"
      ],
      "text/plain": [
       "       alpha.vseq.length  beta.vseq.length\n",
       "count        4457.000000       4457.000000\n",
       "mean          112.034777        114.075611\n",
       "std             2.835702          2.065551\n",
       "min           100.000000        107.000000\n",
       "25%           110.000000        113.000000\n",
       "50%           112.000000        114.000000\n",
       "75%           114.000000        115.000000\n",
       "max           121.000000        124.000000"
      ]
     },
     "execution_count": 74,
     "metadata": {},
     "output_type": "execute_result"
    }
   ],
   "source": [
    "stapler_df['alpha.vseq.length'] = stapler_df['alpha.vseq.reconstructed'].apply(lambda x: len(x))\n",
    "stapler_df['beta.vseq.length'] = stapler_df['beta.vseq.reconstructed'].apply(lambda x: len(x))\n",
    "\n",
    "stapler_df[['alpha.vseq.length', 'beta.vseq.length']].describe()"
   ]
  },
  {
   "cell_type": "markdown",
   "metadata": {},
   "source": [
    "- merge"
   ]
  },
  {
   "cell_type": "code",
   "execution_count": 99,
   "metadata": {},
   "outputs": [
    {
     "name": "stdout",
     "output_type": "stream",
     "text": [
      "26710\n"
     ]
    }
   ],
   "source": [
    "stapler_df = stapler_df.drop(columns=['alpha.vseq.length', 'beta.vseq.length'])\n",
    "level4_merge_df = pd.concat((pf_level4_df, stapler_df), axis=0).reset_index(drop=True)\n",
    "\n",
    "level4_merge_df = level4_merge_df.drop_duplicates(ignore_index=True, keep='first',\n",
    "                                      subset=['alpha.cdr3', 'beta.cdr3', 'alpha.vseq.reconstructed', 'beta.vseq.reconstructed',\n",
    "                                              'antigen.epitope', 'hla.full.seq', 'hla.clip.seq', 'hla.short.seq'])\n",
    "print(len(level4_merge_df))"
   ]
  },
  {
   "cell_type": "code",
   "execution_count": 100,
   "metadata": {},
   "outputs": [
    {
     "data": {
      "text/html": [
       "<div>\n",
       "<style scoped>\n",
       "    .dataframe tbody tr th:only-of-type {\n",
       "        vertical-align: middle;\n",
       "    }\n",
       "\n",
       "    .dataframe tbody tr th {\n",
       "        vertical-align: top;\n",
       "    }\n",
       "\n",
       "    .dataframe thead th {\n",
       "        text-align: right;\n",
       "    }\n",
       "</style>\n",
       "<table border=\"1\" class=\"dataframe\">\n",
       "  <thead>\n",
       "    <tr style=\"text-align: right;\">\n",
       "      <th></th>\n",
       "      <th>antigen.epitope</th>\n",
       "      <th>hla.allele</th>\n",
       "      <th>alpha.v</th>\n",
       "      <th>alpha.j</th>\n",
       "      <th>alpha.cdr3</th>\n",
       "      <th>beta.v</th>\n",
       "      <th>beta.j</th>\n",
       "      <th>beta.cdr3</th>\n",
       "      <th>alpha.vseq.reconstructed</th>\n",
       "      <th>beta.vseq.reconstructed</th>\n",
       "      <th>hla.full.seq</th>\n",
       "      <th>hla.clip.seq</th>\n",
       "      <th>hla.short.seq</th>\n",
       "    </tr>\n",
       "  </thead>\n",
       "  <tbody>\n",
       "    <tr>\n",
       "      <th>24</th>\n",
       "      <td>SLLMWITQV</td>\n",
       "      <td>HLA-A*02:01</td>\n",
       "      <td>TRAV21*01</td>\n",
       "      <td>TRAJ6*01</td>\n",
       "      <td>AVRPTSGGSYIPT</td>\n",
       "      <td>TRBV6-5*01</td>\n",
       "      <td>TRBJ2-2*01</td>\n",
       "      <td>ASSYVGNTGELF</td>\n",
       "      <td>KQEVTQIPAALSVPEGENLVLNCSFTDSAIYNLQWFRQDPGKGLTS...</td>\n",
       "      <td>NAGVTQTPKFQVLKTGQSMTLQCAQDMNHEYMSWYRQDPGMGLRLI...</td>\n",
       "      <td>MAVMAPRTLVLLLSGALALTQTWAGSHSMRYFFTSVSRPGRGEPRF...</td>\n",
       "      <td>GSHSMRYFFTSVSRPGRGEPRFIAVGYVDDTQFVRFDSDAASQRME...</td>\n",
       "      <td>YFAMYGEKVAHTHVDTLYVRYHYYTWAVLAYTWY</td>\n",
       "    </tr>\n",
       "    <tr>\n",
       "      <th>25</th>\n",
       "      <td>SLLMWITQC</td>\n",
       "      <td>HLA-A*02:01</td>\n",
       "      <td>TRAV21*01</td>\n",
       "      <td>TRAJ6*01</td>\n",
       "      <td>AVRPTSGGSYIPT</td>\n",
       "      <td>TRBV6-5*01</td>\n",
       "      <td>TRBJ2-2*01</td>\n",
       "      <td>ASSYVGNTGELF</td>\n",
       "      <td>KQEVTQIPAALSVPEGENLVLNCSFTDSAIYNLQWFRQDPGKGLTS...</td>\n",
       "      <td>NAGVTQTPKFQVLKTGQSMTLQCAQDMNHEYMSWYRQDPGMGLRLI...</td>\n",
       "      <td>MAVMAPRTLVLLLSGALALTQTWAGSHSMRYFFTSVSRPGRGEPRF...</td>\n",
       "      <td>GSHSMRYFFTSVSRPGRGEPRFIAVGYVDDTQFVRFDSDAASQRME...</td>\n",
       "      <td>YFAMYGEKVAHTHVDTLYVRYHYYTWAVLAYTWY</td>\n",
       "    </tr>\n",
       "    <tr>\n",
       "      <th>69</th>\n",
       "      <td>ILAKFLHWL</td>\n",
       "      <td>HLA-A*02:01</td>\n",
       "      <td>TRAV22*01</td>\n",
       "      <td>TRAJ40*01</td>\n",
       "      <td>AVDSATALPYGYI</td>\n",
       "      <td>TRBV6-5*01</td>\n",
       "      <td>TRBJ1-1*01</td>\n",
       "      <td>ASSYQGTEAF</td>\n",
       "      <td>GIQVEQSPPDLILQEGANSTLRCNFSDSVNNLQWFHQNPWGQLINL...</td>\n",
       "      <td>NAGVTQTPKFQVLKTGQSMTLQCAQDMNHEYMSWYRQDPGMGLRLI...</td>\n",
       "      <td>MAVMAPRTLVLLLSGALALTQTWAGSHSMRYFFTSVSRPGRGEPRF...</td>\n",
       "      <td>GSHSMRYFFTSVSRPGRGEPRFIAVGYVDDTQFVRFDSDAASQRME...</td>\n",
       "      <td>YFAMYGEKVAHTHVDTLYVRYHYYTWAVLAYTWY</td>\n",
       "    </tr>\n",
       "    <tr>\n",
       "      <th>78</th>\n",
       "      <td>AAGIGILTV</td>\n",
       "      <td>HLA-A*02:01</td>\n",
       "      <td>TRAV35*01</td>\n",
       "      <td>TRAJ49*01</td>\n",
       "      <td>AGGTGNQFY</td>\n",
       "      <td>TRBV10-3*01</td>\n",
       "      <td>TRBJ1-5*01</td>\n",
       "      <td>AISEVGVGQPQH</td>\n",
       "      <td>GQQLNQSPQSMFIQEGEDVSMNCTSSSIFNTWLWYKQEPGEGPVLL...</td>\n",
       "      <td>DAGITQSPRHKVTETGTPVTLRCHQTENHRYMYWYRQDPGHGLRLI...</td>\n",
       "      <td>MAVMAPRTLVLLLSGALALTQTWAGSHSMRYFFTSVSRPGRGEPRF...</td>\n",
       "      <td>GSHSMRYFFTSVSRPGRGEPRFIAVGYVDDTQFVRFDSDAASQRME...</td>\n",
       "      <td>YFAMYGEKVAHTHVDTLYVRYHYYTWAVLAYTWY</td>\n",
       "    </tr>\n",
       "    <tr>\n",
       "      <th>81</th>\n",
       "      <td>HSKKKCDEL</td>\n",
       "      <td>HLA-B*08:01</td>\n",
       "      <td>TRAV9-2*01</td>\n",
       "      <td>TRAJ43*01</td>\n",
       "      <td>ALSDPVNDMR</td>\n",
       "      <td>TRBV11-2*01</td>\n",
       "      <td>TRBJ1-5*01</td>\n",
       "      <td>ASSLRGRGDQPQH</td>\n",
       "      <td>GNSVTQMEGPVTLSEEAFLTINCTYTATGYPSLFWYVQYPGEGLQL...</td>\n",
       "      <td>EAGVAQSPRYKIIEKRQSVAFWCNPISGHATLYWYQQILGQGPKLL...</td>\n",
       "      <td>MLVMAPRTVLLLLSAALALTETWAGSHSMRYFDTAMSRPGRGEPRF...</td>\n",
       "      <td>GSHSMRYFDTAMSRPGRGEPRFISVGYVDDTQFVRFDSDAASPREE...</td>\n",
       "      <td>YDSEYRNIFTNTDESNLYLSYNYYTWAVDAYTWY</td>\n",
       "    </tr>\n",
       "    <tr>\n",
       "      <th>159</th>\n",
       "      <td>YLQPRTFLL</td>\n",
       "      <td>HLA-A*02:01</td>\n",
       "      <td>TRAV12-2*01</td>\n",
       "      <td>TRAJ30*01</td>\n",
       "      <td>AVNRDDKII</td>\n",
       "      <td>TRBV7-9*01</td>\n",
       "      <td>TRBJ2-7*01</td>\n",
       "      <td>ASSPDIEQY</td>\n",
       "      <td>QKEVEQNSGPLSVPEGAIASLNCTYSDRGSQSFFWYRQYSGKSPEL...</td>\n",
       "      <td>DTGVSQNPRHKITKRGQNVTFRCDPISEHNRLYWYRQTLGQGPEFL...</td>\n",
       "      <td>MAVMAPRTLVLLLSGALALTQTWAGSHSMRYFFTSVSRPGRGEPRF...</td>\n",
       "      <td>GSHSMRYFFTSVSRPGRGEPRFIAVGYVDDTQFVRFDSDAASQRME...</td>\n",
       "      <td>YFAMYGEKVAHTHVDTLYVRYHYYTWAVLAYTWY</td>\n",
       "    </tr>\n",
       "    <tr>\n",
       "      <th>25802</th>\n",
       "      <td>YLQPRTFLL</td>\n",
       "      <td>HLA-A*02:01</td>\n",
       "      <td>TRAV12-2*01</td>\n",
       "      <td>TRAJ30*01</td>\n",
       "      <td>CAVNRDDKIIF</td>\n",
       "      <td>TRBV7-9*01</td>\n",
       "      <td>TRBJ2-7*01</td>\n",
       "      <td>CASSPDIEQYF</td>\n",
       "      <td>QKEVEQNSGPLSVPEGAIASLNCTYSDRGSQSFFWYRQYSGKSPEL...</td>\n",
       "      <td>DTGVSQNPRHKITKRGQNVTFRCDPISEHNRLYWYRQTLGQGPEFL...</td>\n",
       "      <td>MAVMAPRTLVLLLSGALALTQTWAGSHSMRYFFTSVSRPGRGEPRF...</td>\n",
       "      <td>GSHSMRYFFTSVSRPGRGEPRFIAVGYVDDTQFVRFDSDAASQRME...</td>\n",
       "      <td>YFAMYGEKVAHTHVDTLYVRYHYYTWAVLAYTWY</td>\n",
       "    </tr>\n",
       "    <tr>\n",
       "      <th>26666</th>\n",
       "      <td>SLLMWITQV</td>\n",
       "      <td>HLA-A*02:01</td>\n",
       "      <td>TRAV21*01</td>\n",
       "      <td>TRAJ6*01</td>\n",
       "      <td>CAVRPTSGGSYIPTF</td>\n",
       "      <td>TRBV6-5*01</td>\n",
       "      <td>TRBJ2-2*01</td>\n",
       "      <td>CASSYVGNTGELFF</td>\n",
       "      <td>KQEVTQIPAALSVPEGENLVLNCSFTDSAIYNLQWFRQDPGKGLTS...</td>\n",
       "      <td>NAGVTQTPKFQVLKTGQSMTLQCAQDMNHEYMSWYRQDPGMGLRLI...</td>\n",
       "      <td>MAVMAPRTLVLLLSGALALTQTWAGSHSMRYFFTSVSRPGRGEPRF...</td>\n",
       "      <td>GSHSMRYFFTSVSRPGRGEPRFIAVGYVDDTQFVRFDSDAASQRME...</td>\n",
       "      <td>YFAMYGEKVAHTHVDTLYVRYHYYTWAVLAYTWY</td>\n",
       "    </tr>\n",
       "    <tr>\n",
       "      <th>26667</th>\n",
       "      <td>SLLMWITQC</td>\n",
       "      <td>HLA-A*02:01</td>\n",
       "      <td>TRAV21*01</td>\n",
       "      <td>TRAJ6*01</td>\n",
       "      <td>CAVRPTSGGSYIPTF</td>\n",
       "      <td>TRBV6-5*01</td>\n",
       "      <td>TRBJ2-2*01</td>\n",
       "      <td>CASSYVGNTGELFF</td>\n",
       "      <td>KQEVTQIPAALSVPEGENLVLNCSFTDSAIYNLQWFRQDPGKGLTS...</td>\n",
       "      <td>NAGVTQTPKFQVLKTGQSMTLQCAQDMNHEYMSWYRQDPGMGLRLI...</td>\n",
       "      <td>MAVMAPRTLVLLLSGALALTQTWAGSHSMRYFFTSVSRPGRGEPRF...</td>\n",
       "      <td>GSHSMRYFFTSVSRPGRGEPRFIAVGYVDDTQFVRFDSDAASQRME...</td>\n",
       "      <td>YFAMYGEKVAHTHVDTLYVRYHYYTWAVLAYTWY</td>\n",
       "    </tr>\n",
       "    <tr>\n",
       "      <th>26668</th>\n",
       "      <td>AAGIGILTV</td>\n",
       "      <td>HLA-A*02:01</td>\n",
       "      <td>TRAV35*01</td>\n",
       "      <td>TRAJ49*01</td>\n",
       "      <td>CAGGTGNQFYF</td>\n",
       "      <td>TRBV10-3*01</td>\n",
       "      <td>TRBJ1-5*01</td>\n",
       "      <td>CAISEVGVGQPQHF</td>\n",
       "      <td>GQQLNQSPQSMFIQEGEDVSMNCTSSSIFNTWLWYKQEPGEGPVLL...</td>\n",
       "      <td>DAGITQSPRHKVTETGTPVTLRCHQTENHRYMYWYRQDPGHGLRLI...</td>\n",
       "      <td>MAVMAPRTLVLLLSGALALTQTWAGSHSMRYFFTSVSRPGRGEPRF...</td>\n",
       "      <td>GSHSMRYFFTSVSRPGRGEPRFIAVGYVDDTQFVRFDSDAASQRME...</td>\n",
       "      <td>YFAMYGEKVAHTHVDTLYVRYHYYTWAVLAYTWY</td>\n",
       "    </tr>\n",
       "    <tr>\n",
       "      <th>26671</th>\n",
       "      <td>ILAKFLHWL</td>\n",
       "      <td>HLA-A*02:01</td>\n",
       "      <td>TRAV22*01</td>\n",
       "      <td>TRAJ40*01</td>\n",
       "      <td>CAVDSATALPYGYIF</td>\n",
       "      <td>TRBV6-5*01</td>\n",
       "      <td>TRBJ1-1*01</td>\n",
       "      <td>CASSYQGTEAFF</td>\n",
       "      <td>GIQVEQSPPDLILQEGANSTLRCNFSDSVNNLQWFHQNPWGQLINL...</td>\n",
       "      <td>NAGVTQTPKFQVLKTGQSMTLQCAQDMNHEYMSWYRQDPGMGLRLI...</td>\n",
       "      <td>MAVMAPRTLVLLLSGALALTQTWAGSHSMRYFFTSVSRPGRGEPRF...</td>\n",
       "      <td>GSHSMRYFFTSVSRPGRGEPRFIAVGYVDDTQFVRFDSDAASQRME...</td>\n",
       "      <td>YFAMYGEKVAHTHVDTLYVRYHYYTWAVLAYTWY</td>\n",
       "    </tr>\n",
       "    <tr>\n",
       "      <th>26672</th>\n",
       "      <td>HSKKKCDEL</td>\n",
       "      <td>HLA-B*08:01</td>\n",
       "      <td>TRAV9-2*01</td>\n",
       "      <td>TRAJ43*01</td>\n",
       "      <td>CALSDPVNDMRF</td>\n",
       "      <td>TRBV11-2*01</td>\n",
       "      <td>TRBJ1-5*01</td>\n",
       "      <td>CASSLRGRGDQPQHF</td>\n",
       "      <td>GNSVTQMEGPVTLSEEAFLTINCTYTATGYPSLFWYVQYPGEGLQL...</td>\n",
       "      <td>EAGVAQSPRYKIIEKRQSVAFWCNPISGHATLYWYQQILGQGPKLL...</td>\n",
       "      <td>MLVMAPRTVLLLLSAALALTETWAGSHSMRYFDTAMSRPGRGEPRF...</td>\n",
       "      <td>GSHSMRYFDTAMSRPGRGEPRFISVGYVDDTQFVRFDSDAASPREE...</td>\n",
       "      <td>YDSEYRNIFTNTDESNLYLSYNYYTWAVDAYTWY</td>\n",
       "    </tr>\n",
       "  </tbody>\n",
       "</table>\n",
       "</div>"
      ],
      "text/plain": [
       "      antigen.epitope   hla.allele      alpha.v    alpha.j       alpha.cdr3  \\\n",
       "24          SLLMWITQV  HLA-A*02:01    TRAV21*01   TRAJ6*01    AVRPTSGGSYIPT   \n",
       "25          SLLMWITQC  HLA-A*02:01    TRAV21*01   TRAJ6*01    AVRPTSGGSYIPT   \n",
       "69          ILAKFLHWL  HLA-A*02:01    TRAV22*01  TRAJ40*01    AVDSATALPYGYI   \n",
       "78          AAGIGILTV  HLA-A*02:01    TRAV35*01  TRAJ49*01        AGGTGNQFY   \n",
       "81          HSKKKCDEL  HLA-B*08:01   TRAV9-2*01  TRAJ43*01       ALSDPVNDMR   \n",
       "159         YLQPRTFLL  HLA-A*02:01  TRAV12-2*01  TRAJ30*01        AVNRDDKII   \n",
       "25802       YLQPRTFLL  HLA-A*02:01  TRAV12-2*01  TRAJ30*01      CAVNRDDKIIF   \n",
       "26666       SLLMWITQV  HLA-A*02:01    TRAV21*01   TRAJ6*01  CAVRPTSGGSYIPTF   \n",
       "26667       SLLMWITQC  HLA-A*02:01    TRAV21*01   TRAJ6*01  CAVRPTSGGSYIPTF   \n",
       "26668       AAGIGILTV  HLA-A*02:01    TRAV35*01  TRAJ49*01      CAGGTGNQFYF   \n",
       "26671       ILAKFLHWL  HLA-A*02:01    TRAV22*01  TRAJ40*01  CAVDSATALPYGYIF   \n",
       "26672       HSKKKCDEL  HLA-B*08:01   TRAV9-2*01  TRAJ43*01     CALSDPVNDMRF   \n",
       "\n",
       "            beta.v      beta.j        beta.cdr3  \\\n",
       "24      TRBV6-5*01  TRBJ2-2*01     ASSYVGNTGELF   \n",
       "25      TRBV6-5*01  TRBJ2-2*01     ASSYVGNTGELF   \n",
       "69      TRBV6-5*01  TRBJ1-1*01       ASSYQGTEAF   \n",
       "78     TRBV10-3*01  TRBJ1-5*01     AISEVGVGQPQH   \n",
       "81     TRBV11-2*01  TRBJ1-5*01    ASSLRGRGDQPQH   \n",
       "159     TRBV7-9*01  TRBJ2-7*01        ASSPDIEQY   \n",
       "25802   TRBV7-9*01  TRBJ2-7*01      CASSPDIEQYF   \n",
       "26666   TRBV6-5*01  TRBJ2-2*01   CASSYVGNTGELFF   \n",
       "26667   TRBV6-5*01  TRBJ2-2*01   CASSYVGNTGELFF   \n",
       "26668  TRBV10-3*01  TRBJ1-5*01   CAISEVGVGQPQHF   \n",
       "26671   TRBV6-5*01  TRBJ1-1*01     CASSYQGTEAFF   \n",
       "26672  TRBV11-2*01  TRBJ1-5*01  CASSLRGRGDQPQHF   \n",
       "\n",
       "                                alpha.vseq.reconstructed  \\\n",
       "24     KQEVTQIPAALSVPEGENLVLNCSFTDSAIYNLQWFRQDPGKGLTS...   \n",
       "25     KQEVTQIPAALSVPEGENLVLNCSFTDSAIYNLQWFRQDPGKGLTS...   \n",
       "69     GIQVEQSPPDLILQEGANSTLRCNFSDSVNNLQWFHQNPWGQLINL...   \n",
       "78     GQQLNQSPQSMFIQEGEDVSMNCTSSSIFNTWLWYKQEPGEGPVLL...   \n",
       "81     GNSVTQMEGPVTLSEEAFLTINCTYTATGYPSLFWYVQYPGEGLQL...   \n",
       "159    QKEVEQNSGPLSVPEGAIASLNCTYSDRGSQSFFWYRQYSGKSPEL...   \n",
       "25802  QKEVEQNSGPLSVPEGAIASLNCTYSDRGSQSFFWYRQYSGKSPEL...   \n",
       "26666  KQEVTQIPAALSVPEGENLVLNCSFTDSAIYNLQWFRQDPGKGLTS...   \n",
       "26667  KQEVTQIPAALSVPEGENLVLNCSFTDSAIYNLQWFRQDPGKGLTS...   \n",
       "26668  GQQLNQSPQSMFIQEGEDVSMNCTSSSIFNTWLWYKQEPGEGPVLL...   \n",
       "26671  GIQVEQSPPDLILQEGANSTLRCNFSDSVNNLQWFHQNPWGQLINL...   \n",
       "26672  GNSVTQMEGPVTLSEEAFLTINCTYTATGYPSLFWYVQYPGEGLQL...   \n",
       "\n",
       "                                 beta.vseq.reconstructed  \\\n",
       "24     NAGVTQTPKFQVLKTGQSMTLQCAQDMNHEYMSWYRQDPGMGLRLI...   \n",
       "25     NAGVTQTPKFQVLKTGQSMTLQCAQDMNHEYMSWYRQDPGMGLRLI...   \n",
       "69     NAGVTQTPKFQVLKTGQSMTLQCAQDMNHEYMSWYRQDPGMGLRLI...   \n",
       "78     DAGITQSPRHKVTETGTPVTLRCHQTENHRYMYWYRQDPGHGLRLI...   \n",
       "81     EAGVAQSPRYKIIEKRQSVAFWCNPISGHATLYWYQQILGQGPKLL...   \n",
       "159    DTGVSQNPRHKITKRGQNVTFRCDPISEHNRLYWYRQTLGQGPEFL...   \n",
       "25802  DTGVSQNPRHKITKRGQNVTFRCDPISEHNRLYWYRQTLGQGPEFL...   \n",
       "26666  NAGVTQTPKFQVLKTGQSMTLQCAQDMNHEYMSWYRQDPGMGLRLI...   \n",
       "26667  NAGVTQTPKFQVLKTGQSMTLQCAQDMNHEYMSWYRQDPGMGLRLI...   \n",
       "26668  DAGITQSPRHKVTETGTPVTLRCHQTENHRYMYWYRQDPGHGLRLI...   \n",
       "26671  NAGVTQTPKFQVLKTGQSMTLQCAQDMNHEYMSWYRQDPGMGLRLI...   \n",
       "26672  EAGVAQSPRYKIIEKRQSVAFWCNPISGHATLYWYQQILGQGPKLL...   \n",
       "\n",
       "                                            hla.full.seq  \\\n",
       "24     MAVMAPRTLVLLLSGALALTQTWAGSHSMRYFFTSVSRPGRGEPRF...   \n",
       "25     MAVMAPRTLVLLLSGALALTQTWAGSHSMRYFFTSVSRPGRGEPRF...   \n",
       "69     MAVMAPRTLVLLLSGALALTQTWAGSHSMRYFFTSVSRPGRGEPRF...   \n",
       "78     MAVMAPRTLVLLLSGALALTQTWAGSHSMRYFFTSVSRPGRGEPRF...   \n",
       "81     MLVMAPRTVLLLLSAALALTETWAGSHSMRYFDTAMSRPGRGEPRF...   \n",
       "159    MAVMAPRTLVLLLSGALALTQTWAGSHSMRYFFTSVSRPGRGEPRF...   \n",
       "25802  MAVMAPRTLVLLLSGALALTQTWAGSHSMRYFFTSVSRPGRGEPRF...   \n",
       "26666  MAVMAPRTLVLLLSGALALTQTWAGSHSMRYFFTSVSRPGRGEPRF...   \n",
       "26667  MAVMAPRTLVLLLSGALALTQTWAGSHSMRYFFTSVSRPGRGEPRF...   \n",
       "26668  MAVMAPRTLVLLLSGALALTQTWAGSHSMRYFFTSVSRPGRGEPRF...   \n",
       "26671  MAVMAPRTLVLLLSGALALTQTWAGSHSMRYFFTSVSRPGRGEPRF...   \n",
       "26672  MLVMAPRTVLLLLSAALALTETWAGSHSMRYFDTAMSRPGRGEPRF...   \n",
       "\n",
       "                                            hla.clip.seq  \\\n",
       "24     GSHSMRYFFTSVSRPGRGEPRFIAVGYVDDTQFVRFDSDAASQRME...   \n",
       "25     GSHSMRYFFTSVSRPGRGEPRFIAVGYVDDTQFVRFDSDAASQRME...   \n",
       "69     GSHSMRYFFTSVSRPGRGEPRFIAVGYVDDTQFVRFDSDAASQRME...   \n",
       "78     GSHSMRYFFTSVSRPGRGEPRFIAVGYVDDTQFVRFDSDAASQRME...   \n",
       "81     GSHSMRYFDTAMSRPGRGEPRFISVGYVDDTQFVRFDSDAASPREE...   \n",
       "159    GSHSMRYFFTSVSRPGRGEPRFIAVGYVDDTQFVRFDSDAASQRME...   \n",
       "25802  GSHSMRYFFTSVSRPGRGEPRFIAVGYVDDTQFVRFDSDAASQRME...   \n",
       "26666  GSHSMRYFFTSVSRPGRGEPRFIAVGYVDDTQFVRFDSDAASQRME...   \n",
       "26667  GSHSMRYFFTSVSRPGRGEPRFIAVGYVDDTQFVRFDSDAASQRME...   \n",
       "26668  GSHSMRYFFTSVSRPGRGEPRFIAVGYVDDTQFVRFDSDAASQRME...   \n",
       "26671  GSHSMRYFFTSVSRPGRGEPRFIAVGYVDDTQFVRFDSDAASQRME...   \n",
       "26672  GSHSMRYFDTAMSRPGRGEPRFISVGYVDDTQFVRFDSDAASPREE...   \n",
       "\n",
       "                            hla.short.seq  \n",
       "24     YFAMYGEKVAHTHVDTLYVRYHYYTWAVLAYTWY  \n",
       "25     YFAMYGEKVAHTHVDTLYVRYHYYTWAVLAYTWY  \n",
       "69     YFAMYGEKVAHTHVDTLYVRYHYYTWAVLAYTWY  \n",
       "78     YFAMYGEKVAHTHVDTLYVRYHYYTWAVLAYTWY  \n",
       "81     YDSEYRNIFTNTDESNLYLSYNYYTWAVDAYTWY  \n",
       "159    YFAMYGEKVAHTHVDTLYVRYHYYTWAVLAYTWY  \n",
       "25802  YFAMYGEKVAHTHVDTLYVRYHYYTWAVLAYTWY  \n",
       "26666  YFAMYGEKVAHTHVDTLYVRYHYYTWAVLAYTWY  \n",
       "26667  YFAMYGEKVAHTHVDTLYVRYHYYTWAVLAYTWY  \n",
       "26668  YFAMYGEKVAHTHVDTLYVRYHYYTWAVLAYTWY  \n",
       "26671  YFAMYGEKVAHTHVDTLYVRYHYYTWAVLAYTWY  \n",
       "26672  YDSEYRNIFTNTDESNLYLSYNYYTWAVDAYTWY  "
      ]
     },
     "execution_count": 100,
     "metadata": {},
     "output_type": "execute_result"
    }
   ],
   "source": [
    "dup_df = level4_merge_df.duplicated(subset=['alpha.vseq.reconstructed', 'beta.vseq.reconstructed',\n",
    "                                    'antigen.epitope', 'hla.full.seq', 'hla.clip.seq', 'hla.short.seq'], keep=False)\n",
    "dup_df = level4_merge_df[dup_df]\n",
    "dup_df"
   ]
  },
  {
   "cell_type": "code",
   "execution_count": 101,
   "metadata": {},
   "outputs": [
    {
     "name": "stdout",
     "output_type": "stream",
     "text": [
      "26704\n"
     ]
    }
   ],
   "source": [
    "level4_merge_df = level4_merge_df.drop_duplicates(ignore_index=True, keep='first',\n",
    "                                      subset=['alpha.vseq.reconstructed', 'beta.vseq.reconstructed',\n",
    "                                              'antigen.epitope', 'hla.full.seq', 'hla.clip.seq', 'hla.short.seq'])\n",
    "print(len(level4_merge_df))"
   ]
  },
  {
   "cell_type": "code",
   "execution_count": 102,
   "metadata": {},
   "outputs": [
    {
     "data": {
      "text/html": [
       "<div>\n",
       "<style scoped>\n",
       "    .dataframe tbody tr th:only-of-type {\n",
       "        vertical-align: middle;\n",
       "    }\n",
       "\n",
       "    .dataframe tbody tr th {\n",
       "        vertical-align: top;\n",
       "    }\n",
       "\n",
       "    .dataframe thead th {\n",
       "        text-align: right;\n",
       "    }\n",
       "</style>\n",
       "<table border=\"1\" class=\"dataframe\">\n",
       "  <thead>\n",
       "    <tr style=\"text-align: right;\">\n",
       "      <th></th>\n",
       "      <th>antigen.epitope</th>\n",
       "      <th>hla.allele</th>\n",
       "      <th>alpha.v</th>\n",
       "      <th>alpha.j</th>\n",
       "      <th>alpha.cdr3</th>\n",
       "      <th>beta.v</th>\n",
       "      <th>beta.j</th>\n",
       "      <th>beta.cdr3</th>\n",
       "      <th>alpha.vseq.reconstructed</th>\n",
       "      <th>beta.vseq.reconstructed</th>\n",
       "      <th>hla.full.seq</th>\n",
       "      <th>hla.clip.seq</th>\n",
       "      <th>hla.short.seq</th>\n",
       "    </tr>\n",
       "  </thead>\n",
       "  <tbody>\n",
       "  </tbody>\n",
       "</table>\n",
       "</div>"
      ],
      "text/plain": [
       "Empty DataFrame\n",
       "Columns: [antigen.epitope, hla.allele, alpha.v, alpha.j, alpha.cdr3, beta.v, beta.j, beta.cdr3, alpha.vseq.reconstructed, beta.vseq.reconstructed, hla.full.seq, hla.clip.seq, hla.short.seq]\n",
       "Index: []"
      ]
     },
     "execution_count": 102,
     "metadata": {},
     "output_type": "execute_result"
    }
   ],
   "source": [
    "dup_df = level4_merge_df.duplicated(subset=['alpha.cdr3', 'beta.cdr3', 'alpha.v', 'alpha.j', 'beta.v', 'beta.j',\n",
    "                                    'antigen.epitope', 'hla.full.seq', 'hla.clip.seq', 'hla.short.seq'], keep=False)\n",
    "dup_df = level4_merge_df[dup_df]\n",
    "dup_df"
   ]
  },
  {
   "cell_type": "code",
   "execution_count": 103,
   "metadata": {},
   "outputs": [
    {
     "data": {
      "text/plain": [
       "'DAGVTQSPTHLIKTRGQQVTLRCSPISGHKSVSWYQQVLGQGPQFIFQYYEKEERGRGNFPDRFSARQFPNYSSELNVNALLLGDSALYLCASSGPGGVDEQYFGPGTRLTVT'"
      ]
     },
     "execution_count": 103,
     "metadata": {},
     "output_type": "execute_result"
    }
   ],
   "source": [
    "level4_merge_df.loc[5464, 'beta.vseq.reconstructed']"
   ]
  },
  {
   "cell_type": "code",
   "execution_count": 104,
   "metadata": {},
   "outputs": [
    {
     "data": {
      "text/plain": [
       "'DAGVIQSPRHEVTEMGQEVTLRCKPISGHDYLFWYRQTMMRGLELLIYFNNNVPIDDSGMPEDRFSAKMPNASFSTLKIQPSEPRDSAVYFCASSVTSGGRETQYFGPGTRLLVL'"
      ]
     },
     "execution_count": 104,
     "metadata": {},
     "output_type": "execute_result"
    }
   ],
   "source": [
    "level4_merge_df.loc[25612, 'beta.vseq.reconstructed']"
   ]
  },
  {
   "cell_type": "code",
   "execution_count": 65,
   "metadata": {},
   "outputs": [
    {
     "data": {
      "text/plain": [
       "False"
      ]
     },
     "execution_count": 65,
     "metadata": {},
     "output_type": "execute_result"
    }
   ],
   "source": [
    "level4_merge_df.loc[5464, 'beta.vseq.reconstructed'] == level4_merge_df.loc[25612, 'beta.vseq.reconstructed']"
   ]
  },
  {
   "cell_type": "code",
   "execution_count": 105,
   "metadata": {},
   "outputs": [
    {
     "name": "stdout",
     "output_type": "stream",
     "text": [
      "26704\n"
     ]
    }
   ],
   "source": [
    "level4_merge_df = level4_merge_df.drop_duplicates(ignore_index=True, keep='first',\n",
    "                                      subset=['alpha.cdr3', 'beta.cdr3', 'alpha.v', 'alpha.j', 'beta.v', 'beta.j',\n",
    "                                              'antigen.epitope', 'hla.full.seq', 'hla.clip.seq', 'hla.short.seq'])\n",
    "print(len(level4_merge_df))"
   ]
  },
  {
   "cell_type": "code",
   "execution_count": 106,
   "metadata": {},
   "outputs": [
    {
     "name": "stdout",
     "output_type": "stream",
     "text": [
      "antigen.epitope 0\n",
      "hla.allele 0\n",
      "alpha.v 0\n",
      "alpha.j 0\n",
      "alpha.cdr3 0\n",
      "beta.v 0\n",
      "beta.j 0\n",
      "beta.cdr3 0\n",
      "alpha.vseq.reconstructed 0\n",
      "beta.vseq.reconstructed 0\n",
      "hla.full.seq 0\n",
      "hla.clip.seq 0\n",
      "hla.short.seq 0\n"
     ]
    }
   ],
   "source": [
    "for c in level4_merge_df:\n",
    "    print(c, len(level4_merge_df[level4_merge_df[c]==\"(UNK)\"]))"
   ]
  },
  {
   "cell_type": "code",
   "execution_count": 108,
   "metadata": {},
   "outputs": [
    {
     "name": "stdout",
     "output_type": "stream",
     "text": [
      "File /data/lujd/TCRdata/final/Hi-TpH-level-IV-wSTAPLER.csv has been successfully saved.\n",
      "samples: 26704\n",
      "TCRs:    24626\n",
      "TCRs:    24638\n",
      "TCRs:    24627\n",
      "TCRs:    24639\n",
      "HLAs:    61\n",
      "peptides:927\n"
     ]
    }
   ],
   "source": [
    "savename = \"Hi-TpH-level-IV.csv\"\n",
    "save_csv(level4_merge_df, savepath, savename)\n",
    "\n",
    "print(f\"samples: {len(level4_merge_df)}\")\n",
    "print(f\"TCRs:    {len(level4_merge_df.drop_duplicates(subset=['alpha.vseq.reconstructed', 'beta.vseq.reconstructed']))}\")\n",
    "print(f\"TCRs:    {len(level4_merge_df.drop_duplicates(subset=['alpha.cdr3', 'beta.cdr3', 'alpha.vseq.reconstructed', 'beta.vseq.reconstructed']))}\")\n",
    "print(f\"TCRs:    {len(level4_merge_df.drop_duplicates(subset=['alpha.v', 'alpha.j', 'beta.v', 'beta.j', 'alpha.vseq.reconstructed', 'beta.vseq.reconstructed']))}\")\n",
    "print(f\"TCRs:    {len(level4_merge_df.drop_duplicates(subset=['alpha.cdr3', 'beta.cdr3', 'alpha.v', 'alpha.j', 'beta.v', 'beta.j', 'alpha.vseq.reconstructed', 'beta.vseq.reconstructed']))}\")\n",
    "print(f\"HLAs:    {len(level4_merge_df.drop_duplicates(subset=['hla.full.seq']))}\")\n",
    "print(f\"peptides:{level4_merge_df['antigen.epitope'].nunique()}\")"
   ]
  }
 ],
 "metadata": {
  "kernelspec": {
   "display_name": "of",
   "language": "python",
   "name": "python3"
  },
  "language_info": {
   "codemirror_mode": {
    "name": "ipython",
    "version": 3
   },
   "file_extension": ".py",
   "mimetype": "text/x-python",
   "name": "python",
   "nbconvert_exporter": "python",
   "pygments_lexer": "ipython3",
   "version": "3.9.18"
  }
 },
 "nbformat": 4,
 "nbformat_minor": 2
}
