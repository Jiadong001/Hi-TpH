{
 "cells": [
  {
   "cell_type": "markdown",
   "metadata": {},
   "source": [
    "### Clean column by column"
   ]
  },
  {
   "cell_type": "code",
   "execution_count": 78,
   "metadata": {},
   "outputs": [
    {
     "name": "stdout",
     "output_type": "stream",
     "text": [
      "193800\n",
      "Index(['antigen.epitope', 'mhc.allele', 'mhc.class', 'alpha.v', 'alpha.j',\n",
      "       'alpha.cdr1', 'alpha.cdr2', 'alpha.cdr3', 'alpha.vseq', 'beta.v',\n",
      "       'beta.d', 'beta.j', 'beta.cdr1', 'beta.cdr2', 'beta.cdr3', 'beta.vseq',\n",
      "       'dataset.tag'],\n",
      "      dtype='object')\n"
     ]
    }
   ],
   "source": [
    "import pandas as pd\n",
    "from utils import save_csv\n",
    "\n",
    "to_your_path = '/data/lujd/'\n",
    "datapath = to_your_path + \"TCRdata/collect/\"\n",
    "\n",
    "filename = \"main_dataset_tcr_phla.csv\"\n",
    "main_df = pd.read_csv(datapath+filename, sep=',')\n",
    "print(len(main_df))\n",
    "print(main_df.columns)"
   ]
  },
  {
   "cell_type": "markdown",
   "metadata": {},
   "source": [
    "#### 1. mhc.class == I"
   ]
  },
  {
   "cell_type": "code",
   "execution_count": 79,
   "metadata": {},
   "outputs": [
    {
     "name": "stdout",
     "output_type": "stream",
     "text": [
      "187795\n"
     ]
    }
   ],
   "source": [
    "main_df = main_df[main_df['mhc.class']=='MHCI']\n",
    "print(len(main_df))"
   ]
  },
  {
   "cell_type": "markdown",
   "metadata": {},
   "source": [
    "#### 2. antigen.epitope"
   ]
  },
  {
   "cell_type": "code",
   "execution_count": 80,
   "metadata": {},
   "outputs": [
    {
     "name": "stdout",
     "output_type": "stream",
     "text": [
      "16         LLFGFPVYV + SCM(F5)\n",
      "34         LLFGKPVYV + SCM(K5)\n",
      "40         LLFGFPVFV + SCM(F5)\n",
      "41         LLFGFAVYV + SCM(F5)\n",
      "43         LLFGFPVYV + SCM(F5)\n",
      "3424        MLYQHLLPL + OX(M1)\n",
      "3425        MLYQHLLPL + OX(M1)\n",
      "6009        MLYQHLLPL + OX(M1)\n",
      "126622    ILDQVPFSV + NLeu(L2)\n",
      "127086    LLSYFGTPT + METH(Y4)\n",
      "127088     LLSYFGTPT + SCM(Y4)\n",
      "128055    YMNGTMSQV + DEAM(N3)\n",
      "Name: antigen.epitope, dtype: object\n",
      "number of checked epitope data: 187783\n"
     ]
    }
   ],
   "source": [
    "import re\n",
    "def check_uppercase(text):\n",
    "    pattern = \"^[A-Z]+$\"\n",
    "    return bool(re.match(pattern, text))\n",
    "\n",
    "main_df['check'] = main_df['antigen.epitope'].apply(check_uppercase)\n",
    "print(main_df[main_df['check']==False]['antigen.epitope'])\n",
    "main_df = main_df[main_df['check']==True].reset_index(drop=True)\n",
    "print(f\"number of checked epitope data: {len(main_df)}\")"
   ]
  },
  {
   "cell_type": "markdown",
   "metadata": {},
   "source": [
    "#### 3. mhc.allele -> hla.allele"
   ]
  },
  {
   "cell_type": "code",
   "execution_count": 81,
   "metadata": {},
   "outputs": [
    {
     "data": {
      "text/plain": [
       "array(['HLA-E*01:01', 'HLA-E*01:03', 'HLA-B8', 'HLA-B*44:05',\n",
       "       'HLA-B*08:01', 'HLA-B*44:02', 'HLA-A*02:01', 'HLA-A*02:01 K66A',\n",
       "       'E63Q mutant', 'HLA-A2', 'HLA-B*27:05', 'HLA-B*35:01',\n",
       "       'HLA-B*44:03', 'HLA-A*02:01 K66A mutant',\n",
       "       'HLA-A*02:01 A150P mutant', 'HLA-B*35:08', 'HLA-B*35:08 Q65A',\n",
       "       'T69A', 'Q155A mutant', 'HLA-B*57:01', 'HLA-B*57:03',\n",
       "       'HLA-A*24:02', 'HLA-B*51:01', 'HLA-A*01:01', 'HLA-A11',\n",
       "       'HLA-B*07:02', 'HLA-B7', 'HLA-A*11:01', 'HLA-A*02:01 A69G mutant',\n",
       "       'HLA-A*02:01 E166A mutant', 'HLA-A*02:01 R65A mutant',\n",
       "       'HLA-A*02:01 T163A mutant', 'HLA-A*02:01 W167A mutant',\n",
       "       'HLA-B*35:08 Q155A mutant', '(UNK)', 'HLA-B*15:01', 'HLA-B27',\n",
       "       'HLA-A1', 'HLA-B*38:01', 'HLA-C*14:02', 'HLA-B57', 'HLA-B18',\n",
       "       'HLA-Cw3', 'HLA-B*37:01', 'HLA-C*07:02', 'HLA-B35', 'HLA-A*68:01',\n",
       "       'HLA-A*30:01', 'HLA-A*03:01', 'HLA-B*40:01', 'HLA-B*18:01',\n",
       "       'HLA-C*06:02', 'HLA-C*07:01', 'HLA-C*05:01', 'HLA-A*80:01',\n",
       "       'HLA-A*30:02', 'HLA-A*29:02', 'HLA-B*44:08', 'HLA-C*08:02',\n",
       "       'HLA-C*03:03', 'HLA-C*03:04', 'HLA-B*41:02', 'HLA-B*50:01',\n",
       "       'HLA-B*48:01', 'HLA-A*32:01', 'HLA-B*27:09', 'HLA-A*02:06',\n",
       "       'HLA-C*12:02', 'HLA-B*39:01', 'HLA-C*04:01', 'HLA-A*02:10',\n",
       "       'HLA-C*08:01', 'HLA-A*23:01', 'HLA-A*02:05', 'HLA-B*08',\n",
       "       'HLA-A*02', 'HLA-A*02:01:59', 'HLA-A*02:01:48', 'HLA-B*08:01:29',\n",
       "       'HLA-A*02:256', 'HLA-B*35:08:01', 'HLA-E*01:01:01:03',\n",
       "       'HLA-B*35:42:01', 'HLA-B*57:06', 'HLA-B*44:05:01',\n",
       "       'HLA-A*02:01:98', 'HLA-A*24:02:84', 'HLA-B*27:05:31',\n",
       "       'HLA-B*51:193', 'HLA-A*02:01:110', 'HLA-A*24:02:33',\n",
       "       'HLA-A*01:01:73', 'HLA-A*02:266', 'HLA-A*11:01:18',\n",
       "       'HLA-B*07:02:48', 'HLA-B*35:01:45', 'HLA-B*35:42:02',\n",
       "       'HLA-B*37:01:10', 'HLA-A*02:06:01:03', 'HLA-C*08:02:12',\n",
       "       'HLA-B*81:01', 'HLA-B*42:01', 'HLA-B*44:03:08', 'HLA-B*58',\n",
       "       'HLA-B*42', 'HLA-B*27', 'HLA-B*53', 'HLA-A*03', 'HLA-B*57',\n",
       "       'HLA-A*01', 'HLA-B*44', 'HLA-B*15', 'HLA-A*08:01', 'HLA-A*24:01',\n",
       "       'HLA-A*11', 'HLA-B*07', 'HLA-B*12', 'HLA-B*35', 'HLA-B*52:01',\n",
       "       'HLA-B*14:02', 'HLA-A*25:01', 'HLA-C*01:02', 'HLA-B*18',\n",
       "       'HLA-Cw* 16:01', 'HLA-A*011', 'HLA-A*2:01', 'HLA-B*8',\n",
       "       'HLA-B*35:02', 'H-2Kb', 'HLA-A*02:02', 'HLA-A*02:03',\n",
       "       'HLA-A*02:04', 'HLA-A*02:07', 'HLA-A*02:08', 'HLA-A*02:09',\n",
       "       'HLA-A*02:11', 'HLA-A*02:12', 'HLA-A*02:13', 'HLA-A*02:14',\n",
       "       'HLA-A*02:15', 'HLA-A*02:16', 'HLA-A*02:17', 'HLA-A2:01'],\n",
       "      dtype=object)"
      ]
     },
     "execution_count": 81,
     "metadata": {},
     "output_type": "execute_result"
    }
   ],
   "source": [
    "main_df['mhc.allele'].unique()"
   ]
  },
  {
   "cell_type": "code",
   "execution_count": 82,
   "metadata": {},
   "outputs": [
    {
     "name": "stdout",
     "output_type": "stream",
     "text": [
      "E63Q mutant\n",
      "T69A\n",
      "Q155A mutant\n",
      "(UNK)\n",
      "H-2Kb\n"
     ]
    }
   ],
   "source": [
    "for mhc in main_df['mhc.allele'].unique():\n",
    "    if 'HLA' not in mhc:\n",
    "        print(mhc)"
   ]
  },
  {
   "cell_type": "code",
   "execution_count": 83,
   "metadata": {},
   "outputs": [
    {
     "name": "stdout",
     "output_type": "stream",
     "text": [
      "number of correct mhc name data: 187782\n",
      "number of data: 187781\n"
     ]
    }
   ],
   "source": [
    "main_df = main_df[~main_df['mhc.allele'].isin(['H-2Kb'])]\n",
    "print(f\"number of correct mhc name data: {len(main_df)}\")\n",
    "\n",
    "main_df['mhc.allele'].replace({\n",
    "    'E63Q mutant': 'HLA-A*02:01 E63Q mutant',\n",
    "    'T69A': 'HLA-B*35:08 T69A',\n",
    "    'Q155A mutant': 'HLA-B*35:08 Q155A mutant',\n",
    "}, inplace=True)\n",
    "\n",
    "main_df = main_df.drop_duplicates(ignore_index=True)\n",
    "print(f\"number of data: {len(main_df)}\")"
   ]
  },
  {
   "cell_type": "code",
   "execution_count": 84,
   "metadata": {},
   "outputs": [
    {
     "name": "stdout",
     "output_type": "stream",
     "text": [
      "HLA-B8\n",
      "HLA-A2\n",
      "HLA-A11\n",
      "HLA-B7\n",
      "(UNK)\n",
      "HLA-B27\n",
      "HLA-A1\n",
      "HLA-B57\n",
      "HLA-B18\n",
      "HLA-Cw3\n",
      "HLA-B35\n",
      "HLA-A2:01\n"
     ]
    }
   ],
   "source": [
    "for mhc in main_df['mhc.allele'].unique():\n",
    "    if '*' not in mhc:\n",
    "        print(mhc)"
   ]
  },
  {
   "cell_type": "code",
   "execution_count": 85,
   "metadata": {},
   "outputs": [
    {
     "name": "stdout",
     "output_type": "stream",
     "text": [
      "number of data: 187780\n",
      "number of data: 187774\n"
     ]
    }
   ],
   "source": [
    "main_df = main_df[~main_df['mhc.allele'].isin(['HLA-Cw3'])]\n",
    "print(f\"number of data: {len(main_df)}\")\n",
    "\n",
    "main_df['mhc.allele'].replace({\n",
    "    'HLA-B8': 'HLA-B*08',\n",
    "    'HLA-A2': 'HLA-A*02',\n",
    "    'HLA-A11': 'HLA-A*11',\n",
    "    'HLA-B7': 'HLA-B*07',\n",
    "    'HLA-B27': 'HLA-B*27',\n",
    "    'HLA-A1': 'HLA-A*01',\n",
    "    'HLA-B57': 'HLA-B*57',\n",
    "    'HLA-B18': 'HLA-B*18',\n",
    "    'HLA-B35': 'HLA-B*35',\n",
    "    'HLA-A*2:01': 'HLA-A*02:01',\n",
    "    'HLA-B*8': 'HLA-B*08',\n",
    "    'HLA-A2:01': 'HLA-A*02:01',\n",
    "    # 'HLA-Cw3': 'HLA-C*03',\n",
    "    'HLA-Cw* 16:01': 'HLA-C*16:01',\n",
    "    'HLA-A*011': 'HLA-A*11',\n",
    "}, inplace=True)\n",
    "\n",
    "main_df = main_df.drop_duplicates(ignore_index=True)\n",
    "print(f\"number of data: {len(main_df)}\")"
   ]
  },
  {
   "cell_type": "code",
   "execution_count": 86,
   "metadata": {},
   "outputs": [
    {
     "name": "stdout",
     "output_type": "stream",
     "text": [
      "HLA-A*02:01 K66A\n",
      "HLA-A*02:01 E63Q mutant\n",
      "HLA-A*02:01 K66A mutant\n",
      "HLA-A*02:01 A150P mutant\n",
      "HLA-B*35:08 Q65A\n",
      "HLA-B*35:08 T69A\n",
      "HLA-B*35:08 Q155A mutant\n",
      "HLA-A*02:01 A69G mutant\n",
      "HLA-A*02:01 E166A mutant\n",
      "HLA-A*02:01 R65A mutant\n",
      "HLA-A*02:01 T163A mutant\n",
      "HLA-A*02:01 W167A mutant\n"
     ]
    }
   ],
   "source": [
    "for mhc in main_df['mhc.allele'].unique():\n",
    "    if len(mhc.split(' ')) > 1:\n",
    "        print(mhc)"
   ]
  },
  {
   "cell_type": "code",
   "execution_count": 87,
   "metadata": {},
   "outputs": [
    {
     "name": "stdout",
     "output_type": "stream",
     "text": [
      "number of data: 187773\n"
     ]
    }
   ],
   "source": [
    "def clear_mutant(data):\n",
    "    if len(data.split(' ')) > 1:\n",
    "        return ' '.join(data.split(' ')[:2])\n",
    "    else:\n",
    "        return data\n",
    "\n",
    "main_df['mhc.allele'] = main_df['mhc.allele'].apply(clear_mutant)\n",
    "main_df = main_df.drop_duplicates(ignore_index=True)\n",
    "print(f\"number of data: {len(main_df)}\")"
   ]
  },
  {
   "cell_type": "code",
   "execution_count": 88,
   "metadata": {},
   "outputs": [],
   "source": [
    "main_df = main_df.rename(columns={'mhc.allele':'hla.allele'})"
   ]
  },
  {
   "cell_type": "markdown",
   "metadata": {},
   "source": [
    "#### 4. cdr3"
   ]
  },
  {
   "cell_type": "code",
   "execution_count": 90,
   "metadata": {},
   "outputs": [
    {
     "name": "stdout",
     "output_type": "stream",
     "text": [
      "177624    CAASTSAVLGKKGSQETQYf\n",
      "177633            CASEDFKNIQYf\n",
      "177646          CASSDGQGRLGYTf\n",
      "177655         CASSGFRDRVNEQYf\n",
      "177680          CASSPMDLLDEQYf\n",
      "177694     CASSQGPGERAGFNYEQYf\n",
      "177715           CASYNFGQYGYTf\n",
      "177724        CSARGWVSNNQETQYf\n",
      "178442       CAGSLALRLADQETQYf\n",
      "178444           CAIRTSGDYEQYf\n",
      "178454       CASGLALRGGDQETQYf\n",
      "178471           CASRGSGVYEQYf\n",
      "178486           CASRTSGDYEQYf\n",
      "178490      CASSDNPLVGGFTDMQYf\n",
      "178496           CASSFDKGyEQYF\n",
      "178499       CASSFLTGARSKNIQYf\n",
      "178543           CASSLGPRyEQYF\n",
      "178611        CASSPRDFSPTDTQYf\n",
      "178671         CASSVDKGGADTQYf\n",
      "178694         CATRDRDRENQPQHf\n",
      "178729         CSGGGYGSGTYEQYf\n",
      "178733           CSVEGMRDYGYTf\n",
      "178748        RASSSLRGTAADTQYf\n",
      "187726                 Donor13\n",
      "Name: beta.cdr3, dtype: object\n",
      "number of data: 187749\n"
     ]
    }
   ],
   "source": [
    "import re\n",
    "def check_uppercase(text):\n",
    "    if text == '(UNK)':\n",
    "        return True\n",
    "    else:\n",
    "        pattern = \"^[A-Z]+$\"\n",
    "        return bool(re.match(pattern, text))\n",
    "\n",
    "main_df['check'] = main_df['beta.cdr3'].apply(check_uppercase)\n",
    "print(main_df[main_df['check']==False]['beta.cdr3'])\n",
    "main_df = main_df[main_df['check']==True].reset_index(drop=True)\n",
    "print(f\"number of data: {len(main_df)}\")"
   ]
  },
  {
   "cell_type": "markdown",
   "metadata": {},
   "source": [
    "- for alpha.cdr3\n",
    "    - CAGLGGT **#** GGSNYKLTF, CAVN **?** PPFGNEKLTF -> (UNK) \n",
    "    - Because of the paired beta.cdr3 data"
   ]
  },
  {
   "cell_type": "code",
   "execution_count": 91,
   "metadata": {},
   "outputs": [
    {
     "name": "stdout",
     "output_type": "stream",
     "text": [
      "187200    CAGTHGGSQGSLIf\n",
      "Name: alpha.cdr3, dtype: object\n",
      "number of data: 187748\n"
     ]
    }
   ],
   "source": [
    "main_df['alpha.cdr3'].replace({\n",
    "    'CAGLGGT#GGSNYKLTF': '(UNK)',\n",
    "    'CAVN?PPFGNEKLTF': '(UNK)',\n",
    "}, inplace=True)\n",
    "\n",
    "main_df['check'] = main_df['alpha.cdr3'].apply(check_uppercase)\n",
    "print(main_df[main_df['check']==False]['alpha.cdr3'])\n",
    "main_df = main_df[main_df['check']==True].reset_index(drop=True)\n",
    "print(f\"number of data: {len(main_df)}\")"
   ]
  },
  {
   "cell_type": "markdown",
   "metadata": {},
   "source": [
    "- peptide-cdr3b pair: fundemental"
   ]
  },
  {
   "cell_type": "code",
   "execution_count": 92,
   "metadata": {},
   "outputs": [
    {
     "name": "stdout",
     "output_type": "stream",
     "text": [
      "number of data: 174259\n"
     ]
    }
   ],
   "source": [
    "main_df = main_df[main_df['beta.cdr3']!='(UNK)'].reset_index(drop=True)\n",
    "print(f\"number of data: {len(main_df)}\")"
   ]
  },
  {
   "cell_type": "markdown",
   "metadata": {},
   "source": [
    "- other cdrs"
   ]
  },
  {
   "cell_type": "code",
   "execution_count": 93,
   "metadata": {},
   "outputs": [
    {
     "name": "stdout",
     "output_type": "stream",
     "text": [
      "Series([], Name: alpha.cdr1, dtype: object)\n",
      "check alpha.cdr1, number of remaining data: 174259\n",
      "Series([], Name: alpha.cdr2, dtype: object)\n",
      "check alpha.cdr2, number of remaining data: 174259\n",
      "Series([], Name: beta.cdr1, dtype: object)\n",
      "check beta.cdr1, number of remaining data: 174259\n",
      "Series([], Name: beta.cdr2, dtype: object)\n",
      "check beta.cdr2, number of remaining data: 174259\n"
     ]
    }
   ],
   "source": [
    "cdrs = ['alpha.cdr1', 'alpha.cdr2', 'beta.cdr1', 'beta.cdr2']\n",
    "\n",
    "for cdr in cdrs:\n",
    "    main_df['check'] = main_df[cdr].apply(check_uppercase)\n",
    "    print(main_df[main_df['check']==False][cdr])\n",
    "    main_df = main_df[main_df['check']==True].reset_index(drop=True)\n",
    "    print(f\"check {cdr}, number of remaining data: {len(main_df)}\")"
   ]
  },
  {
   "cell_type": "markdown",
   "metadata": {},
   "source": [
    "- save for preparing level II/III"
   ]
  },
  {
   "cell_type": "code",
   "execution_count": 94,
   "metadata": {},
   "outputs": [
    {
     "name": "stdout",
     "output_type": "stream",
     "text": [
      "number of duplicated data: 174259\n",
      "File /data/lujd/TCRdata/collect/main_dataset_tcr_phla_cleaned_1.csv has been successfully saved.\n"
     ]
    }
   ],
   "source": [
    "main_df = main_df.drop_duplicates(ignore_index=True)\n",
    "print(f\"number of duplicated data: {len(main_df)}\")\n",
    "\n",
    "savepath = to_your_path + \"TCRdata/collect/\"\n",
    "savename = \"main_dataset_tcr_phla_cleaned_1.csv\"\n",
    "save_csv(main_df, savepath, savename)"
   ]
  },
  {
   "cell_type": "markdown",
   "metadata": {},
   "source": [
    "---"
   ]
  },
  {
   "cell_type": "markdown",
   "metadata": {},
   "source": [
    "#### 5. gene\n",
    "\n",
    "- alpha.v"
   ]
  },
  {
   "cell_type": "code",
   "execution_count": 55,
   "metadata": {},
   "outputs": [
    {
     "name": "stdout",
     "output_type": "stream",
     "text": [
      "174259\n",
      "Index(['antigen.epitope', 'hla.allele', 'mhc.class', 'alpha.v', 'alpha.j',\n",
      "       'alpha.cdr1', 'alpha.cdr2', 'alpha.cdr3', 'alpha.vseq', 'beta.v',\n",
      "       'beta.d', 'beta.j', 'beta.cdr1', 'beta.cdr2', 'beta.cdr3', 'beta.vseq',\n",
      "       'dataset.tag', 'check'],\n",
      "      dtype='object')\n"
     ]
    }
   ],
   "source": [
    "import pandas as pd\n",
    "from utils import save_csv\n",
    "\n",
    "to_your_path = '/data/lujd/'\n",
    "datapath = to_your_path + \"TCRdata/collect/\"\n",
    "\n",
    "filename = \"main_dataset_tcr_phla_cleaned_1.csv\"\n",
    "main_df = pd.read_csv(datapath+filename, sep=',')\n",
    "print(len(main_df))\n",
    "print(main_df.columns)"
   ]
  },
  {
   "cell_type": "code",
   "execution_count": 56,
   "metadata": {},
   "outputs": [
    {
     "data": {
      "text/plain": [
       "array(['TRAV26-1*01', '(UNK)', 'TRAV21*01', 'TRAV12-2*01', 'TRAV19*01',\n",
       "       'TRAV20*01', 'TRAV5*01', 'TRAV12-1*01', 'TRAV3*01', 'TRAV12-3*01',\n",
       "       'TRAV39*01', 'TRAV8-3*01', 'TRAV22*01', 'TRAV17*01', 'TRAV35*01',\n",
       "       'TRAV9-2*01', 'TRAV27*01', 'TRAV24*01', 'TRAV26-2*01',\n",
       "       'TRAV29/DV5*01', 'TRAV30*01', 'TRAV14/DV4*01', 'TRAV14',\n",
       "       'TRAV1-2*01', 'TRAV4*01', 'TRAV13-1*01', 'TRAV38-2/DV8*01',\n",
       "       'TRAV1-1*01', 'TRAV1-2*03', 'TRAV14/DV4*02', 'TRAV8-1*01',\n",
       "       'TRAV16*01', 'TRAV6*01', 'TRAV10*02', 'TRBV10-2*02', 'TRAV8-2*01',\n",
       "       'TRAV8-6*02', 'TRAV25*01', 'TRAV8-4*01', 'TRAV2*01', 'TRAV26-1*02',\n",
       "       'TRAV38-1*01', 'TRAV13-2*01', 'TRAV34*01', 'TRAV10*01',\n",
       "       'TRAV23/DV6*01', 'TRAV36/DV7*01', 'TRAV41*01', 'TRAV8-6*01',\n",
       "       'TRAV18*01', 'TRAV40*01', 'TRAV7*01', 'TRAV9-1*01', 'TRAV3',\n",
       "       'TRAV23/DV6', 'TRAV21', 'TRAV5', 'TRAV14/DV4', 'TRAV13-1',\n",
       "       'TRAV12-1', 'TRAV4', 'TRAV30', 'TRAV8-4', 'TRAV1-1', 'TRAV10',\n",
       "       'TRAV8-6', 'TRAV2', 'TRAV8-2', 'TRAV8', 'TRAV9', 'TRAV25',\n",
       "       'TRAV1-4', 'TRAV1-2', 'TRAV28', 'TRAV16', 'TRAV2-1', 'TRAV26',\n",
       "       'TRAV39', 'TRAV15', 'TRAV20', 'TRAV18', 'TRAV23', 'TRAV27',\n",
       "       'TRAV19', 'TRAV2-2', 'TRAV6', 'TRAV26-2', 'TRAV12-4', 'TRAV38-2',\n",
       "       'TRAV24', 'TRAV17', 'TRAV38-1', 'TRAV9-2', 'TRAV1', 'TRAV8-3',\n",
       "       'TRAV11', 'TRAV1-01', 'TRAV251', 'TRAV40', 'TRAV12-2', 'TRAV21-1',\n",
       "       'TRAV13-2', 'TRAV8-1', 'TRAV26-1', 'TRAV21-2', 'TRAV29/DV5',\n",
       "       'TRAV22', 'TRAV12-2, TRAV21', 'TRAV12-3', 'TRAV2-01', 'TRAV35:01',\n",
       "       'TRAV12-3:01', 'TRAV25:01', 'TRAV3-01', 'TRAV10-01', 'TRAV1-2:01',\n",
       "       'TRAV14/DV4:01', 'TRAV29/DV5:01', 'TRAV1-1:01', 'TRAV6-01',\n",
       "       'TRAV38-2/DV8:01', 'TRAV13-2:01', 'TRAV5-01', 'TRAV23/DV6:01',\n",
       "       'TRAV9-2:01', 'TRAV41:01', 'TRAV38-1:01', 'TRAV14/DV4:02',\n",
       "       'TRAV8-1:01', 'TRAV12-2:01', 'TRAV22:01', 'TRAV8-6:02',\n",
       "       'TRAV8-6:01', 'TRAV8-3:01', 'TRAV13-1:01', 'TRAV41-01',\n",
       "       'TRAV8-2:01', 'TRAV21-01', 'TRAV26-2:01', 'TRAV8-4:01', 'TRAV4:01',\n",
       "       'TRAV16:01', 'TRAV36/DV7:01', 'TRAV12-1:01', 'TRAV26-1:01',\n",
       "       'TRAV16-01', 'TRAV35', 'TRAV34', 'TRAV38-2/DV8', 'TRAV41',\n",
       "       'TRAV24:01', 'TRAV5:01', 'TRAV3:01', 'TRAV17:01', 'TRAV29/DV5:02',\n",
       "       'TRAV6:03', 'TRAV27:01', 'TRAV26-1:03', 'TRAV2:02', 'TRAV8-4:03',\n",
       "       'TRAV78', 'TRAV36/DV7:02', 'TRAV3 F', 'TRAV1-2?,NA,TRBV7-9\"',\n",
       "       'TRAV22 F', 'TRAV09-2', 'TRAV8-1 F', 'TRAV25 F', 'TRAV38-2/DV8 F',\n",
       "       'TRAV121', 'TRAV-2', 'TRAV08-3', 'TRAV08-2', 'TRAV08-4',\n",
       "       'TRAV01-2', 'TRAV3*01 F', 'TRAV53', 'TRAV56', 'TRAV33', 'TRAV31',\n",
       "       'TRAV29-1', 'TRAV12-02', 'TRAV4-1', 'TRAV29', 'TRAV20-01',\n",
       "       'TRAV19-01', 'TRAV24-01', 'TRAV19-*01', 'TRA21-01', 'TRAV17-01'],\n",
       "      dtype=object)"
      ]
     },
     "execution_count": 56,
     "metadata": {},
     "output_type": "execute_result"
    }
   ],
   "source": [
    "test_df = main_df\n",
    "main_df['alpha.v'].unique()"
   ]
  },
  {
   "cell_type": "code",
   "execution_count": 57,
   "metadata": {},
   "outputs": [
    {
     "name": "stdout",
     "output_type": "stream",
     "text": [
      "(UNK) (UNK) (UNK)\n",
      "TRBV10-2*02 TRBV10-2*02 (UNK)\n",
      "TRAV1-01 TRAV1-01 TRAV1*01\n",
      "TRAV12-2, TRAV21 TRAV12-2, TRAV21 (UNK)\n",
      "TRAV2-01 TRAV2-01 TRAV2*01\n",
      "TRAV35:01 TRAV35:01 TRAV35*01\n",
      "TRAV12-3:01 TRAV12-3:01 TRAV12-3*01\n",
      "TRAV25:01 TRAV25:01 TRAV25*01\n",
      "TRAV3-01 TRAV3-01 TRAV3*01\n",
      "TRAV10-01 TRAV10-01 TRAV10*01\n",
      "TRAV1-2:01 TRAV1-2:01 TRAV1-2*01\n",
      "TRAV14/DV4:01 TRAV14/DV4:01 TRAV14/DV4*01\n",
      "TRAV29/DV5:01 TRAV29/DV5:01 TRAV29/DV5*01\n",
      "TRAV1-1:01 TRAV1-1:01 TRAV1-1*01\n",
      "TRAV6-01 TRAV6-01 TRAV6*01\n",
      "TRAV38-2/DV8:01 TRAV38-2/DV8:01 TRAV38-2/DV8*01\n",
      "TRAV13-2:01 TRAV13-2:01 TRAV13-2*01\n",
      "TRAV5-01 TRAV5-01 TRAV5*01\n",
      "TRAV23/DV6:01 TRAV23/DV6:01 TRAV23/DV6*01\n",
      "TRAV9-2:01 TRAV9-2:01 TRAV9-2*01\n",
      "TRAV41:01 TRAV41:01 TRAV41*01\n",
      "TRAV38-1:01 TRAV38-1:01 TRAV38-1*01\n",
      "TRAV14/DV4:02 TRAV14/DV4:02 TRAV14/DV4*02\n",
      "TRAV8-1:01 TRAV8-1:01 TRAV8-1*01\n",
      "TRAV12-2:01 TRAV12-2:01 TRAV12-2*01\n",
      "TRAV22:01 TRAV22:01 TRAV22*01\n",
      "TRAV8-6:02 TRAV8-6:02 TRAV8-6*02\n",
      "TRAV8-6:01 TRAV8-6:01 TRAV8-6*01\n",
      "TRAV8-3:01 TRAV8-3:01 TRAV8-3*01\n",
      "TRAV13-1:01 TRAV13-1:01 TRAV13-1*01\n",
      "TRAV41-01 TRAV41-01 TRAV41*01\n",
      "TRAV8-2:01 TRAV8-2:01 TRAV8-2*01\n",
      "TRAV21-01 TRAV21-01 TRAV21*01\n",
      "TRAV26-2:01 TRAV26-2:01 TRAV26-2*01\n",
      "TRAV8-4:01 TRAV8-4:01 TRAV8-4*01\n",
      "TRAV4:01 TRAV4:01 TRAV4*01\n",
      "TRAV16:01 TRAV16:01 TRAV16*01\n",
      "TRAV36/DV7:01 TRAV36/DV7:01 TRAV36/DV7*01\n",
      "TRAV12-1:01 TRAV12-1:01 TRAV12-1*01\n",
      "TRAV26-1:01 TRAV26-1:01 TRAV26-1*01\n",
      "TRAV16-01 TRAV16-01 TRAV16*01\n",
      "TRAV24:01 TRAV24:01 TRAV24*01\n",
      "TRAV5:01 TRAV5:01 TRAV5*01\n",
      "TRAV3:01 TRAV3:01 TRAV3*01\n",
      "TRAV17:01 TRAV17:01 TRAV17*01\n",
      "TRAV29/DV5:02 TRAV29/DV5:02 TRAV29/DV5*02\n",
      "TRAV6:03 TRAV6:03 TRAV6*03\n",
      "TRAV27:01 TRAV27:01 TRAV27*01\n",
      "TRAV26-1:03 TRAV26-1:03 TRAV26-1*03\n",
      "TRAV2:02 TRAV2:02 TRAV2*02\n",
      "TRAV8-4:03 TRAV8-4:03 TRAV8-4*03\n",
      "TRAV36/DV7:02 TRAV36/DV7:02 TRAV36/DV7*02\n",
      "TRAV3 F TRAV3 F TRAV3\n",
      "TRAV1-2?,NA,TRBV7-9\" TRAV1-2?,NA,TRBV7-9\" (UNK)\n",
      "TRAV22 F TRAV22 F TRAV22\n",
      "TRAV09-2 TRAV09-2 TRAV9-2\n",
      "TRAV8-1 F TRAV8-1 F TRAV8-1\n",
      "TRAV25 F TRAV25 F TRAV25\n",
      "TRAV38-2/DV8 F TRAV38-2/DV8 F TRAV38-2/DV8\n",
      "TRAV-2 TRAV-2 (UNK)\n",
      "TRAV08-3 TRAV08-3 TRAV8-3\n",
      "TRAV08-2 TRAV08-2 TRAV8-2\n",
      "TRAV08-4 TRAV08-4 TRAV8-4\n",
      "TRAV01-2 TRAV01-2 TRAV1-2\n",
      "TRAV3*01 F TRAV3*01 F TRAV3*01\n",
      "TRAV12-02 TRAV12-02 TRAV12*02\n",
      "TRAV20-01 TRAV20-01 TRAV20*01\n",
      "TRAV19-01 TRAV19-01 TRAV19*01\n",
      "TRAV24-01 TRAV24-01 TRAV24*01\n",
      "TRAV19-*01 TRAV19-*01 TRAV19*01\n",
      "TRA21-01\n",
      "TRA21-01 TRAV21-01 TRAV21*01\n",
      "TRAV17-01 TRAV17-01 TRAV17*01\n"
     ]
    }
   ],
   "source": [
    "clean_trav_dict = {}\n",
    "for origin_trav in main_df['alpha.v'].unique():\n",
    "    print_tag = 1\n",
    "    if (\"TRAV\" not in origin_trav) and (\"TRA\" in origin_trav):\n",
    "        print(origin_trav)\n",
    "        trav = origin_trav.replace(\"TRA\", \"TRAV\").strip()\n",
    "    else:\n",
    "        trav = origin_trav.strip()\n",
    "\n",
    "    if trav == '(UNK)':\n",
    "        clean_trav_dict[origin_trav] = trav\n",
    "    elif (\",\" in trav) or (\"?\" in trav) or (\"TRAV-\" in trav) or (\"TRB\" in trav):\n",
    "        clean_trav_dict[origin_trav] = '(UNK)'\n",
    "    elif \":0\" in trav:\n",
    "        clean_trav_dict[origin_trav] = trav.replace(\":0\", \"*0\")\n",
    "    elif \"-0\" in trav:\n",
    "        clean_trav_dict[origin_trav] = trav.replace(\"-0\", \"*0\")\n",
    "    elif \"-*0\" in trav:\n",
    "        clean_trav_dict[origin_trav] = trav.replace(\"-*0\", \"*0\")\n",
    "    elif \"V0\" in trav:\n",
    "        clean_trav_dict[origin_trav] = trav.replace(\"V0\", \"V\")\n",
    "    elif \" F\" in trav:\n",
    "        clean_trav_dict[origin_trav] = trav.replace(\" F\", \"\")\n",
    "    else:\n",
    "        clean_trav_dict[origin_trav] = trav\n",
    "        print_tag = 0\n",
    "    if print_tag:\n",
    "        print(origin_trav, trav, clean_trav_dict[origin_trav])"
   ]
  },
  {
   "cell_type": "code",
   "execution_count": 58,
   "metadata": {},
   "outputs": [
    {
     "data": {
      "text/plain": [
       "{'(UNK)',\n",
       " 'TRAV1',\n",
       " 'TRAV1*01',\n",
       " 'TRAV1-1',\n",
       " 'TRAV1-1*01',\n",
       " 'TRAV1-2',\n",
       " 'TRAV1-2*01',\n",
       " 'TRAV1-2*03',\n",
       " 'TRAV1-4',\n",
       " 'TRAV10',\n",
       " 'TRAV10*01',\n",
       " 'TRAV10*02',\n",
       " 'TRAV11',\n",
       " 'TRAV12*02',\n",
       " 'TRAV12-1',\n",
       " 'TRAV12-1*01',\n",
       " 'TRAV12-2',\n",
       " 'TRAV12-2*01',\n",
       " 'TRAV12-3',\n",
       " 'TRAV12-3*01',\n",
       " 'TRAV12-4',\n",
       " 'TRAV121',\n",
       " 'TRAV13-1',\n",
       " 'TRAV13-1*01',\n",
       " 'TRAV13-2',\n",
       " 'TRAV13-2*01',\n",
       " 'TRAV14',\n",
       " 'TRAV14/DV4',\n",
       " 'TRAV14/DV4*01',\n",
       " 'TRAV14/DV4*02',\n",
       " 'TRAV15',\n",
       " 'TRAV16',\n",
       " 'TRAV16*01',\n",
       " 'TRAV17',\n",
       " 'TRAV17*01',\n",
       " 'TRAV18',\n",
       " 'TRAV18*01',\n",
       " 'TRAV19',\n",
       " 'TRAV19*01',\n",
       " 'TRAV2',\n",
       " 'TRAV2*01',\n",
       " 'TRAV2*02',\n",
       " 'TRAV2-1',\n",
       " 'TRAV2-2',\n",
       " 'TRAV20',\n",
       " 'TRAV20*01',\n",
       " 'TRAV21',\n",
       " 'TRAV21*01',\n",
       " 'TRAV21-1',\n",
       " 'TRAV21-2',\n",
       " 'TRAV22',\n",
       " 'TRAV22*01',\n",
       " 'TRAV23',\n",
       " 'TRAV23/DV6',\n",
       " 'TRAV23/DV6*01',\n",
       " 'TRAV24',\n",
       " 'TRAV24*01',\n",
       " 'TRAV25',\n",
       " 'TRAV25*01',\n",
       " 'TRAV251',\n",
       " 'TRAV26',\n",
       " 'TRAV26-1',\n",
       " 'TRAV26-1*01',\n",
       " 'TRAV26-1*02',\n",
       " 'TRAV26-1*03',\n",
       " 'TRAV26-2',\n",
       " 'TRAV26-2*01',\n",
       " 'TRAV27',\n",
       " 'TRAV27*01',\n",
       " 'TRAV28',\n",
       " 'TRAV29',\n",
       " 'TRAV29-1',\n",
       " 'TRAV29/DV5',\n",
       " 'TRAV29/DV5*01',\n",
       " 'TRAV29/DV5*02',\n",
       " 'TRAV3',\n",
       " 'TRAV3*01',\n",
       " 'TRAV30',\n",
       " 'TRAV30*01',\n",
       " 'TRAV31',\n",
       " 'TRAV33',\n",
       " 'TRAV34',\n",
       " 'TRAV34*01',\n",
       " 'TRAV35',\n",
       " 'TRAV35*01',\n",
       " 'TRAV36/DV7*01',\n",
       " 'TRAV36/DV7*02',\n",
       " 'TRAV38-1',\n",
       " 'TRAV38-1*01',\n",
       " 'TRAV38-2',\n",
       " 'TRAV38-2/DV8',\n",
       " 'TRAV38-2/DV8*01',\n",
       " 'TRAV39',\n",
       " 'TRAV39*01',\n",
       " 'TRAV4',\n",
       " 'TRAV4*01',\n",
       " 'TRAV4-1',\n",
       " 'TRAV40',\n",
       " 'TRAV40*01',\n",
       " 'TRAV41',\n",
       " 'TRAV41*01',\n",
       " 'TRAV5',\n",
       " 'TRAV5*01',\n",
       " 'TRAV53',\n",
       " 'TRAV56',\n",
       " 'TRAV6',\n",
       " 'TRAV6*01',\n",
       " 'TRAV6*03',\n",
       " 'TRAV7*01',\n",
       " 'TRAV78',\n",
       " 'TRAV8',\n",
       " 'TRAV8-1',\n",
       " 'TRAV8-1*01',\n",
       " 'TRAV8-2',\n",
       " 'TRAV8-2*01',\n",
       " 'TRAV8-3',\n",
       " 'TRAV8-3*01',\n",
       " 'TRAV8-4',\n",
       " 'TRAV8-4*01',\n",
       " 'TRAV8-4*03',\n",
       " 'TRAV8-6',\n",
       " 'TRAV8-6*01',\n",
       " 'TRAV8-6*02',\n",
       " 'TRAV9',\n",
       " 'TRAV9-1*01',\n",
       " 'TRAV9-2',\n",
       " 'TRAV9-2*01'}"
      ]
     },
     "execution_count": 58,
     "metadata": {},
     "output_type": "execute_result"
    }
   ],
   "source": [
    "set(clean_trav_dict.values())"
   ]
  },
  {
   "cell_type": "code",
   "execution_count": 60,
   "metadata": {},
   "outputs": [
    {
     "data": {
      "text/plain": [
       "127"
      ]
     },
     "execution_count": 60,
     "metadata": {},
     "output_type": "execute_result"
    }
   ],
   "source": [
    "main_df['alpha.v'] = main_df['alpha.v'].apply(lambda x: clean_trav_dict[x])\n",
    "main_df['alpha.v'].nunique()"
   ]
  },
  {
   "cell_type": "markdown",
   "metadata": {},
   "source": [
    "- alpha.j"
   ]
  },
  {
   "cell_type": "code",
   "execution_count": 61,
   "metadata": {},
   "outputs": [
    {
     "data": {
      "text/plain": [
       "array(['TRAJ37*01', '(UNK)', 'TRAJ6*01', 'TRAJ13*01', 'TRAJ24*02',\n",
       "       'TRAJ34*01', 'TRAJ27*01', 'TRAJ53*01', 'TRAJ31*01', 'TRAJ23*01',\n",
       "       'TRAJ29*01', 'TRAJ12*01', 'TRAJ33*01', 'TRAJ28*01', 'TRAJ40*01',\n",
       "       'TRAJ22*01', 'TRAJ49*01', 'TRAJ43*01', 'TRAJ42*01', 'TRAJ52*01',\n",
       "       'TRAJ54*01', 'TRAJ39*01', 'TRAJ21*01', 'TRAJ41*01', 'TRAJ8*01',\n",
       "       'TRDJ1*01', 'TRAJ23*02', 'TRAJ11*01', 'TRDJ2*01', 'TRDJ4*01',\n",
       "       'TRAJ26*01', 'TRAJ48*01', 'TRAJ9*01', 'TRAJ15*01', 'TRAJ3*01',\n",
       "       'TRAJ30*01', 'TRAJ44*01', 'TRAJ5*01', 'TRAJ13*02', 'TRBJ1-1*01',\n",
       "       'TRAJ20*01', 'TRAJ32*02', 'TRAJ24*03', 'TRAJ18*01', 'TRAJ38*01',\n",
       "       'TRAJ45*01', 'TRAJ10*01', 'TRDJ3*01', 'TRAJ7*01', 'TRAJ57*01',\n",
       "       'TRAJ17*01', 'TRAJ24*01', 'TRAJ50*01', 'TRAJ47*01', 'TRAJ4*01',\n",
       "       'TRAJ56*01', 'TRAJ36*01', 'TRAJ32*01', 'TRAJ46*01', 'TRAJ14*01',\n",
       "       'TRAJ34', 'TRAJ45', 'TRAJ28', 'TRAJ14', 'TRAJ27', 'TRAJ9', 'TRAJ8',\n",
       "       'TRAJ40', 'TRAJ13', 'TRAJ60', 'TRAJ35', 'TRAJ4', 'TRAJ42',\n",
       "       'TRAJ47', 'TRAJ39', 'TRAJ5-1', 'TRAJ15', 'TRAJ2', 'TRAJ5',\n",
       "       'TRAJ49', 'TRAJ54', 'TRAJ21', 'TRAJ53', 'TRAJ36', 'TRAJ38',\n",
       "       'TRAJ26', 'TRAJ3', 'TRAJ37', 'TRAJ11', 'TRAJ31', 'TRAJ23',\n",
       "       'TRAJ16', 'TRAJ43', 'TRAJ44', 'TRAJ50', 'TRAJ20', 'TRAJ58',\n",
       "       'TRAJ6', 'TRAJ48', 'TRAJ57', 'TRAJ52', 'TRAJ33', 'TRAJ30',\n",
       "       'TRAJ32', 'TRAJ10', 'TRAJ24', 'TRAJ7', 'TRAJ41', 'TRAJ17',\n",
       "       'TRAJ22', 'TRAJ29', 'TRAJ12', 'TRAJ4-01', 'TRAJ5-01', 'TRAJ3-01',\n",
       "       'TRAJ1-01', 'TRAJ24:02', 'TRAJ2-01', 'TRAJ9-01', 'TRAJ6-01',\n",
       "       'TRAJ8-01', 'TRAJ13:02', 'TRAJ49:01', 'TRAJ20:01', 'TRAJ42:01',\n",
       "       'TRAJ24:01', 'TRAJ21:01', 'TRAJ53:01', 'TRAJ17:01', 'TRAJ54:01',\n",
       "       'TRAJ39:01', 'TRAJ', 'TRAJ53:02', 'TRAJ36:01', 'TRAJ2-1',\n",
       "       'TRAJ41:01', 'TRAJ3-1', 'TRAJ16:01', 'TRAJ31:01', 'TRAJ38:01',\n",
       "       'TRAJ37:01', 'TRAJ48:01', 'TRAJ9:01', 'TRAJ26:01', 'TRAJ52:01',\n",
       "       'TRAJ29:01', 'TRAJ56:01', 'TRAJ3:01', 'TRAJ34:01', 'TRAJ45:01',\n",
       "       'TRAJ11:01', 'TRAJ44:01', 'TRAJ27:01', 'TRAJ33:01', 'TRAJ37:02',\n",
       "       'TRAJ23:01', 'TRAJF', 'TRAJ36/DV7:02', 'TRAJ20-1', 'TRAJ34-1',\n",
       "       'TRAJ33-1', 'TRAJ31-1', 'TRAJ21-1', 'TRAJ32-1', 'TRAJ18'],\n",
       "      dtype=object)"
      ]
     },
     "execution_count": 61,
     "metadata": {},
     "output_type": "execute_result"
    }
   ],
   "source": [
    "test_df = main_df\n",
    "main_df['alpha.j'].unique()"
   ]
  },
  {
   "cell_type": "code",
   "execution_count": 73,
   "metadata": {},
   "outputs": [
    {
     "name": "stdout",
     "output_type": "stream",
     "text": [
      "(UNK) (UNK) (UNK)\n",
      "TRDJ1*01 TRDJ1*01 (UNK)\n",
      "TRDJ2*01 TRDJ2*01 (UNK)\n",
      "TRDJ4*01 TRDJ4*01 (UNK)\n",
      "TRBJ1-1*01 TRBJ1-1*01 (UNK)\n",
      "TRDJ3*01 TRDJ3*01 (UNK)\n",
      "TRAJ4-01 TRAJ4-01 TRAJ4*01\n",
      "TRAJ5-01 TRAJ5-01 TRAJ5*01\n",
      "TRAJ3-01 TRAJ3-01 TRAJ3*01\n",
      "TRAJ1-01 TRAJ1-01 TRAJ1*01\n",
      "TRAJ24:02 TRAJ24:02 TRAJ24*02\n",
      "TRAJ2-01 TRAJ2-01 TRAJ2*01\n",
      "TRAJ9-01 TRAJ9-01 TRAJ9*01\n",
      "TRAJ6-01 TRAJ6-01 TRAJ6*01\n",
      "TRAJ8-01 TRAJ8-01 TRAJ8*01\n",
      "TRAJ13:02 TRAJ13:02 TRAJ13*02\n",
      "TRAJ49:01 TRAJ49:01 TRAJ49*01\n",
      "TRAJ20:01 TRAJ20:01 TRAJ20*01\n",
      "TRAJ42:01 TRAJ42:01 TRAJ42*01\n",
      "TRAJ24:01 TRAJ24:01 TRAJ24*01\n",
      "TRAJ21:01 TRAJ21:01 TRAJ21*01\n",
      "TRAJ53:01 TRAJ53:01 TRAJ53*01\n",
      "TRAJ17:01 TRAJ17:01 TRAJ17*01\n",
      "TRAJ54:01 TRAJ54:01 TRAJ54*01\n",
      "TRAJ39:01 TRAJ39:01 TRAJ39*01\n",
      "TRAJ TRAJ (UNK)\n",
      "TRAJ53:02 TRAJ53:02 TRAJ53*02\n",
      "TRAJ36:01 TRAJ36:01 TRAJ36*01\n",
      "TRAJ41:01 TRAJ41:01 TRAJ41*01\n",
      "TRAJ16:01 TRAJ16:01 TRAJ16*01\n",
      "TRAJ31:01 TRAJ31:01 TRAJ31*01\n",
      "TRAJ38:01 TRAJ38:01 TRAJ38*01\n",
      "TRAJ37:01 TRAJ37:01 TRAJ37*01\n",
      "TRAJ48:01 TRAJ48:01 TRAJ48*01\n",
      "TRAJ9:01 TRAJ9:01 TRAJ9*01\n",
      "TRAJ26:01 TRAJ26:01 TRAJ26*01\n",
      "TRAJ52:01 TRAJ52:01 TRAJ52*01\n",
      "TRAJ29:01 TRAJ29:01 TRAJ29*01\n",
      "TRAJ56:01 TRAJ56:01 TRAJ56*01\n",
      "TRAJ3:01 TRAJ3:01 TRAJ3*01\n",
      "TRAJ34:01 TRAJ34:01 TRAJ34*01\n",
      "TRAJ45:01 TRAJ45:01 TRAJ45*01\n",
      "TRAJ11:01 TRAJ11:01 TRAJ11*01\n",
      "TRAJ44:01 TRAJ44:01 TRAJ44*01\n",
      "TRAJ27:01 TRAJ27:01 TRAJ27*01\n",
      "TRAJ33:01 TRAJ33:01 TRAJ33*01\n",
      "TRAJ37:02 TRAJ37:02 TRAJ37*02\n",
      "TRAJ23:01 TRAJ23:01 TRAJ23*01\n",
      "TRAJF TRAJF (UNK)\n",
      "TRAJ36/DV7:02 TRAJ36/DV7:02 TRAJ36/DV7*02\n"
     ]
    }
   ],
   "source": [
    "import re\n",
    "clean_traj_dict = {}\n",
    "for origin_traj in main_df['alpha.j'].unique():\n",
    "    print_tag = 1\n",
    "    if (\"TRAJ\" not in origin_traj) and (\"TRA\" in origin_traj):\n",
    "        print(origin_traj)\n",
    "        traj = origin_traj.replace(\"TRA\", \"TRAJ\").strip()\n",
    "    else:\n",
    "        traj = origin_traj.strip()\n",
    "\n",
    "    if traj == '(UNK)':\n",
    "        clean_traj_dict[origin_traj] = traj\n",
    "    elif (\",\" in traj) or (\"?\" in traj) or (\"TRAJ-\" in traj) or (\"TRA\" not in traj) or bool(re.match(r\"^[A-Z]*$\", traj)):\n",
    "        clean_traj_dict[origin_traj] = '(UNK)'\n",
    "    elif \":0\" in traj:\n",
    "        clean_traj_dict[origin_traj] = traj.replace(\":0\", \"*0\")\n",
    "    elif \"-0\" in traj:\n",
    "        clean_traj_dict[origin_traj] = traj.replace(\"-0\", \"*0\")\n",
    "    elif \"-*0\" in traj:\n",
    "        clean_traj_dict[origin_traj] = traj.replace(\"-*0\", \"*0\")\n",
    "    elif \"J0\" in traj:\n",
    "        clean_traj_dict[origin_traj] = traj.replace(\"J0\", \"J\")\n",
    "    elif \"F\" in traj:\n",
    "        clean_traj_dict[origin_traj] = traj.replace(\"F\", \"\")\n",
    "    else:\n",
    "        clean_traj_dict[origin_traj] = traj\n",
    "        print_tag = 0\n",
    "    if print_tag:\n",
    "        print(origin_traj, traj, clean_traj_dict[origin_traj])"
   ]
  },
  {
   "cell_type": "code",
   "execution_count": 74,
   "metadata": {},
   "outputs": [
    {
     "data": {
      "text/plain": [
       "{'(UNK)',\n",
       " 'TRAJ1*01',\n",
       " 'TRAJ10',\n",
       " 'TRAJ10*01',\n",
       " 'TRAJ11',\n",
       " 'TRAJ11*01',\n",
       " 'TRAJ12',\n",
       " 'TRAJ12*01',\n",
       " 'TRAJ13',\n",
       " 'TRAJ13*01',\n",
       " 'TRAJ13*02',\n",
       " 'TRAJ14',\n",
       " 'TRAJ14*01',\n",
       " 'TRAJ15',\n",
       " 'TRAJ15*01',\n",
       " 'TRAJ16',\n",
       " 'TRAJ16*01',\n",
       " 'TRAJ17',\n",
       " 'TRAJ17*01',\n",
       " 'TRAJ18',\n",
       " 'TRAJ18*01',\n",
       " 'TRAJ2',\n",
       " 'TRAJ2*01',\n",
       " 'TRAJ2-1',\n",
       " 'TRAJ20',\n",
       " 'TRAJ20*01',\n",
       " 'TRAJ20-1',\n",
       " 'TRAJ21',\n",
       " 'TRAJ21*01',\n",
       " 'TRAJ21-1',\n",
       " 'TRAJ22',\n",
       " 'TRAJ22*01',\n",
       " 'TRAJ23',\n",
       " 'TRAJ23*01',\n",
       " 'TRAJ23*02',\n",
       " 'TRAJ24',\n",
       " 'TRAJ24*01',\n",
       " 'TRAJ24*02',\n",
       " 'TRAJ24*03',\n",
       " 'TRAJ26',\n",
       " 'TRAJ26*01',\n",
       " 'TRAJ27',\n",
       " 'TRAJ27*01',\n",
       " 'TRAJ28',\n",
       " 'TRAJ28*01',\n",
       " 'TRAJ29',\n",
       " 'TRAJ29*01',\n",
       " 'TRAJ3',\n",
       " 'TRAJ3*01',\n",
       " 'TRAJ3-1',\n",
       " 'TRAJ30',\n",
       " 'TRAJ30*01',\n",
       " 'TRAJ31',\n",
       " 'TRAJ31*01',\n",
       " 'TRAJ31-1',\n",
       " 'TRAJ32',\n",
       " 'TRAJ32*01',\n",
       " 'TRAJ32*02',\n",
       " 'TRAJ32-1',\n",
       " 'TRAJ33',\n",
       " 'TRAJ33*01',\n",
       " 'TRAJ33-1',\n",
       " 'TRAJ34',\n",
       " 'TRAJ34*01',\n",
       " 'TRAJ34-1',\n",
       " 'TRAJ35',\n",
       " 'TRAJ36',\n",
       " 'TRAJ36*01',\n",
       " 'TRAJ36/DV7*02',\n",
       " 'TRAJ37',\n",
       " 'TRAJ37*01',\n",
       " 'TRAJ37*02',\n",
       " 'TRAJ38',\n",
       " 'TRAJ38*01',\n",
       " 'TRAJ39',\n",
       " 'TRAJ39*01',\n",
       " 'TRAJ4',\n",
       " 'TRAJ4*01',\n",
       " 'TRAJ40',\n",
       " 'TRAJ40*01',\n",
       " 'TRAJ41',\n",
       " 'TRAJ41*01',\n",
       " 'TRAJ42',\n",
       " 'TRAJ42*01',\n",
       " 'TRAJ43',\n",
       " 'TRAJ43*01',\n",
       " 'TRAJ44',\n",
       " 'TRAJ44*01',\n",
       " 'TRAJ45',\n",
       " 'TRAJ45*01',\n",
       " 'TRAJ46*01',\n",
       " 'TRAJ47',\n",
       " 'TRAJ47*01',\n",
       " 'TRAJ48',\n",
       " 'TRAJ48*01',\n",
       " 'TRAJ49',\n",
       " 'TRAJ49*01',\n",
       " 'TRAJ5',\n",
       " 'TRAJ5*01',\n",
       " 'TRAJ5-1',\n",
       " 'TRAJ50',\n",
       " 'TRAJ50*01',\n",
       " 'TRAJ52',\n",
       " 'TRAJ52*01',\n",
       " 'TRAJ53',\n",
       " 'TRAJ53*01',\n",
       " 'TRAJ53*02',\n",
       " 'TRAJ54',\n",
       " 'TRAJ54*01',\n",
       " 'TRAJ56*01',\n",
       " 'TRAJ57',\n",
       " 'TRAJ57*01',\n",
       " 'TRAJ58',\n",
       " 'TRAJ6',\n",
       " 'TRAJ6*01',\n",
       " 'TRAJ60',\n",
       " 'TRAJ7',\n",
       " 'TRAJ7*01',\n",
       " 'TRAJ8',\n",
       " 'TRAJ8*01',\n",
       " 'TRAJ9',\n",
       " 'TRAJ9*01'}"
      ]
     },
     "execution_count": 74,
     "metadata": {},
     "output_type": "execute_result"
    }
   ],
   "source": [
    "set(clean_traj_dict.values())"
   ]
  },
  {
   "cell_type": "code",
   "execution_count": 75,
   "metadata": {},
   "outputs": [
    {
     "data": {
      "text/plain": [
       "122"
      ]
     },
     "execution_count": 75,
     "metadata": {},
     "output_type": "execute_result"
    }
   ],
   "source": [
    "main_df['alpha.j'] = main_df['alpha.j'].apply(lambda x: clean_traj_dict[x])\n",
    "main_df['alpha.j'].nunique()"
   ]
  },
  {
   "cell_type": "code",
   "execution_count": 76,
   "metadata": {},
   "outputs": [
    {
     "name": "stdout",
     "output_type": "stream",
     "text": [
      "number of duplicated data: 174254\n",
      "File /data/lujd/TCRdata/collect/main_dataset_tcr_phla_cleaned_2.csv has been successfully saved.\n"
     ]
    }
   ],
   "source": [
    "main_df = main_df.drop_duplicates(ignore_index=True)\n",
    "print(f\"number of duplicated data: {len(main_df)}\")\n",
    "\n",
    "savepath = to_your_path + \"TCRdata/collect/\"\n",
    "savename = \"main_dataset_tcr_phla_cleaned_2.csv\"\n",
    "save_csv(main_df, savepath, savename)"
   ]
  },
  {
   "cell_type": "markdown",
   "metadata": {},
   "source": [
    "- beta.v"
   ]
  },
  {
   "cell_type": "code",
   "execution_count": 15,
   "metadata": {},
   "outputs": [
    {
     "name": "stdout",
     "output_type": "stream",
     "text": [
      "174254\n",
      "Index(['antigen.epitope', 'hla.allele', 'mhc.class', 'alpha.v', 'alpha.j',\n",
      "       'alpha.cdr1', 'alpha.cdr2', 'alpha.cdr3', 'alpha.vseq', 'beta.v',\n",
      "       'beta.d', 'beta.j', 'beta.cdr1', 'beta.cdr2', 'beta.cdr3', 'beta.vseq',\n",
      "       'dataset.tag', 'check'],\n",
      "      dtype='object')\n"
     ]
    }
   ],
   "source": [
    "import pandas as pd\n",
    "from utils import save_csv\n",
    "\n",
    "to_your_path = '/data/lujd/'\n",
    "datapath = to_your_path + \"TCRdata/collect/\"\n",
    "\n",
    "filename = \"main_dataset_tcr_phla_cleaned_2.csv\"\n",
    "main_df = pd.read_csv(datapath+filename, sep=',')\n",
    "print(len(main_df))\n",
    "print(main_df.columns)"
   ]
  },
  {
   "cell_type": "code",
   "execution_count": 16,
   "metadata": {},
   "outputs": [
    {
     "data": {
      "text/plain": [
       "array(['TRBV14*01', 'TRBV7-8*01', 'TRBV6-5*01', 'TRBV5-1*01',\n",
       "       'TRBV7-9*01', 'TRBV6-1*01', 'TRBV30*02', 'TRBV9*01', 'TRBV9*02',\n",
       "       'TRBV20-1*01', 'TRBV6-3*01', 'TRBV12-4*01', 'TRBV19*01',\n",
       "       'TRBV5-6*01', 'TRBV4-1*01', 'TRBV27*01', 'TRBV7-3*01',\n",
       "       'TRBV6-4*01', 'TRBV10-3*01', 'TRBV11-2*01', 'TRBV7-2*02',\n",
       "       'TRBV7-6*01', '(UNK)', 'TRBV25-1*01', 'TRBV28*01', 'TRBV10-2*02',\n",
       "       'TRBV4-3*01', 'TRBV18*01', 'TRBV5-4*01', 'TRBV12-3*01',\n",
       "       'TRBV7-9*03', 'TRBV6-6*02', 'TRBV2*01', 'TRBV7-2*01', 'TRBV3-1*01',\n",
       "       'TRBV15*02', 'TRBV24-1*01', 'TRBV6-6*01', 'TRBV5-5*01',\n",
       "       'TRBV13*01', 'TRBV4-2*01', 'TRBV16*01', 'TRBV10-1*01',\n",
       "       'TRBV7-7*01', 'TRBV11-3*01', 'TRBV6-2*01', 'TRBV15*01',\n",
       "       'TRBV11-1*01', 'TRBV30*01', 'TRBV29-1*01', 'TRBV10-2*01',\n",
       "       'TRBV12-5*01', 'TRBV7-2*03', 'TRBV5-8*01', 'TRBV7-4*01',\n",
       "       'TRBV6-9*01', 'TRBV6-8*01', 'TRBV10-3*02', 'TRBV20-1*02',\n",
       "       'TRBV7-8*02', 'TRBV19*02', 'TRBV6-4*02', 'TRBV27', 'TRBV4',\n",
       "       'TRBV12', 'TRBV6', 'TRBV7', 'TRBV2', 'TRBV11-01', 'TRBV28',\n",
       "       'TRBV7-08', 'TRBV9', 'TRBV25-01', 'TRBV20-01', 'TRBV14',\n",
       "       'TRBV29-01', 'TRBV6-01', 'TRBV12-03', 'TRBV2-01', 'TRBV8-2',\n",
       "       'TRBV21-03', 'TRBV6-04', 'TRBV6-05', 'TRBV3-01', 'TRBV4-01',\n",
       "       'TRBV18-01', 'TRBV7-03', 'TRBV16-01', 'TRBV1-01', 'TRBV16',\n",
       "       'TRBV8', 'TRBV15', 'TRBV20', 'TRBV1', 'TRBV13', 'TRBV3',\n",
       "       'TRBV6-03', 'TRBV23', 'TRBV6-02', 'TRBV10-02', 'TRBV12-04',\n",
       "       'TRBV7-06', 'TRBV18', 'TRBV7-02', 'TRBV6-02/3', 'TRBV30',\n",
       "       'TRBV7-09', 'TRBV19', 'TRBV5-04', 'TRBV5-01', 'TRBV5-06',\n",
       "       'TRBV5-08', 'TRBV6-06', 'TRBV24', 'TRBV24-01', 'TRBV10-03',\n",
       "       'TRBV11-02', 'TRBV28-01', 'TRBV25', 'TRBV5', 'TRBV10', 'TRBV29',\n",
       "       'TRBV4-02', 'TRBV5-05', 'TRBV5-07', 'TRBV10-01', 'TRBV3-02',\n",
       "       'TRBV11-03', 'TRBV13-2', 'TRBV4-03', 'TRBV13-06', 'TRBV6-09',\n",
       "       'TRBV21', 'TRBV1-05', 'TRBV7-07', 'TRBV12-02', 'TRBV1-04',\n",
       "       'TRBV6-02/TRBV6-03', 'TRBV23-01', 'TRBV21-01', 'TRBV19-01',\n",
       "       'TRBV9-01', 'TRBV2-03', 'TRBV12-03/4 ', 'TRBV12-03/4', 'TRBV12-05',\n",
       "       'TRBV14-01', 'TRBV2-05', 'TRBV27-01', 'TRBV12-04 ', 'TRBV6-03 ',\n",
       "       ' TRBV6-02', ' TRBV6-01', ' TRBV6-06', 'TRBV19:02', 'TRBV7-01',\n",
       "       'TRBV9-02', 'TRBV6-4:02', 'TRBV10-2', 'TRBV12-3', 'TRBV12-5',\n",
       "       'TRBV20-1', 'TRBV29-1', 'TRBV4-1', 'TRBV4-2', 'TRBV4-3', 'TRBV5-1',\n",
       "       'TRBV5-4', 'TRBV6-1', 'TRBV6-2', 'TRBV6-5', 'TRBV6-6', 'TRBV7-2',\n",
       "       'TRBV7-3', 'TRBV7-4', 'TRBV7-6', 'TRBV7-7', 'TRBV7-8', 'TRBV7-9',\n",
       "       'TRBV10-3', 'TRBV25-1', 'TRBV10-1', 'TRBV24-1', 'TRBV11-1',\n",
       "       'TRBV11-2', 'TRBV6-4', 'TRBV6-9', 'TRBV3-1', 'TRBV11-3', 'TRBV5-8',\n",
       "       'TRBV6-8', 'TRBV27:01', 'TRBV20-1:01', 'TRBV25-1:01', 'TRBV7-3:01',\n",
       "       'TRBV12-4:01', 'TRBV12-4', 'TRBV6-2/3', 'TRBV201-1', 'TRBV12-3/4',\n",
       "       'TRBV5-6', 'TRBV5-5', 'TRBV3-1:01', 'TRBV1-1', 'TRBV24-1:01',\n",
       "       'TRBV6-2:01', 'TRBV19:01', 'TRBV28:01', 'TRBV6-5:01',\n",
       "       'TRBV29/DV5:01', 'TRBV25:01', 'TRBV5-8:01', 'TRBV6-1:01',\n",
       "       'TRBV4-2:01', 'TRBV2-1', 'TRBV7-8:01', 'TRBV12-3:01',\n",
       "       'TRBV26-1:03', 'TRBV29-1:01', 'TRBV5-6:01', 'TRBV6-6:01',\n",
       "       'TRBV4:01', 'TRBV26-1:01', 'TRBV17:01', 'TRBV8-4:05', 'TRBV2-2:01',\n",
       "       'TRBV2-1:01', 'TRBV1-1:01', 'TRBV1-4:01', 'TRBV2-6:01', 'TRBV3:01',\n",
       "       'TRBV5-5:01', 'TRBV8-1:01', 'TRBV8-2:01', 'TRBV2-7:01',\n",
       "       'TRBV14:01', 'TRBV4-3:01', 'TRBV5-4:01', 'TRBV7-9:01', 'TRBV19:03',\n",
       "       'TRBV19:04', 'TRBV22:01', 'TRBV26-2:01', 'TRBV23/DV6:01',\n",
       "       'TRBV7-8:03', 'TRBV19:05', 'TRBV5-1:01', 'TRBV7-2:01',\n",
       "       'TRBV6-2,6-3', 'TRBV12-3,12-4', 'TRBV6-2/6-3', 'TRBV12-3/12-4',\n",
       "       'TRBV3-1/3-2', 'TRBV6-1/6-5/6-6', 'TRBV12-2', 'TRBV17', 'TRBV23-1',\n",
       "       'TRBV9-1', 'TRBV6-3', 'TRBV7-08*01'], dtype=object)"
      ]
     },
     "execution_count": 16,
     "metadata": {},
     "output_type": "execute_result"
    }
   ],
   "source": [
    "main_df['beta.v'].unique()"
   ]
  },
  {
   "cell_type": "code",
   "execution_count": 17,
   "metadata": {},
   "outputs": [
    {
     "name": "stdout",
     "output_type": "stream",
     "text": [
      "(UNK) (UNK) (UNK)\n",
      "TRBV11-01 TRBV11-01 TRBV11-1\n",
      "TRBV7-08 TRBV7-08 TRBV7-8\n",
      "TRBV25-01 TRBV25-01 TRBV25-1\n",
      "TRBV20-01 TRBV20-01 TRBV20-1\n",
      "TRBV29-01 TRBV29-01 TRBV29-1\n",
      "TRBV6-01 TRBV6-01 TRBV6-1\n",
      "TRBV12-03 TRBV12-03 TRBV12-3\n",
      "TRBV2-01 TRBV2-01 TRBV2-1\n",
      "TRBV21-03 TRBV21-03 TRBV21-3\n",
      "TRBV6-04 TRBV6-04 TRBV6-4\n",
      "TRBV6-05 TRBV6-05 TRBV6-5\n",
      "TRBV3-01 TRBV3-01 TRBV3-1\n",
      "TRBV4-01 TRBV4-01 TRBV4-1\n",
      "TRBV18-01 TRBV18-01 TRBV18-1\n",
      "TRBV7-03 TRBV7-03 TRBV7-3\n",
      "TRBV16-01 TRBV16-01 TRBV16-1\n",
      "TRBV1-01 TRBV1-01 TRBV1-1\n",
      "TRBV6-03 TRBV6-03 TRBV6-3\n",
      "TRBV6-02 TRBV6-02 TRBV6-2\n",
      "TRBV10-02 TRBV10-02 TRBV10-2\n",
      "TRBV12-04 TRBV12-04 TRBV12-4\n",
      "TRBV7-06 TRBV7-06 TRBV7-6\n",
      "TRBV7-02 TRBV7-02 TRBV7-2\n",
      "TRBV6-02/3 TRBV6-02/3 TRBV6-2/3\n",
      "TRBV7-09 TRBV7-09 TRBV7-9\n",
      "TRBV5-04 TRBV5-04 TRBV5-4\n",
      "TRBV5-01 TRBV5-01 TRBV5-1\n",
      "TRBV5-06 TRBV5-06 TRBV5-6\n",
      "TRBV5-08 TRBV5-08 TRBV5-8\n",
      "TRBV6-06 TRBV6-06 TRBV6-6\n",
      "TRBV24-01 TRBV24-01 TRBV24-1\n",
      "TRBV10-03 TRBV10-03 TRBV10-3\n",
      "TRBV11-02 TRBV11-02 TRBV11-2\n",
      "TRBV28-01 TRBV28-01 TRBV28-1\n",
      "TRBV4-02 TRBV4-02 TRBV4-2\n",
      "TRBV5-05 TRBV5-05 TRBV5-5\n",
      "TRBV5-07 TRBV5-07 TRBV5-7\n",
      "TRBV10-01 TRBV10-01 TRBV10-1\n",
      "TRBV3-02 TRBV3-02 TRBV3-2\n",
      "TRBV11-03 TRBV11-03 TRBV11-3\n",
      "TRBV4-03 TRBV4-03 TRBV4-3\n",
      "TRBV13-06 TRBV13-06 TRBV13-6\n",
      "TRBV6-09 TRBV6-09 TRBV6-9\n",
      "TRBV1-05 TRBV1-05 TRBV1-5\n",
      "TRBV7-07 TRBV7-07 TRBV7-7\n",
      "TRBV12-02 TRBV12-02 TRBV12-2\n",
      "TRBV1-04 TRBV1-04 TRBV1-4\n",
      "TRBV6-02/TRBV6-03 TRBV6-02/TRBV6-03 TRBV6-2/TRBV6-3\n",
      "TRBV23-01 TRBV23-01 TRBV23-1\n",
      "TRBV21-01 TRBV21-01 TRBV21-1\n",
      "TRBV19-01 TRBV19-01 TRBV19-1\n",
      "TRBV9-01 TRBV9-01 TRBV9-1\n",
      "TRBV2-03 TRBV2-03 TRBV2-3\n",
      "TRBV12-03/4  TRBV12-03/4 TRBV12-3/4\n",
      "TRBV12-03/4 TRBV12-03/4 TRBV12-3/4\n",
      "TRBV12-05 TRBV12-05 TRBV12-5\n",
      "TRBV14-01 TRBV14-01 TRBV14-1\n",
      "TRBV2-05 TRBV2-05 TRBV2-5\n",
      "TRBV27-01 TRBV27-01 TRBV27-1\n",
      "TRBV12-04  TRBV12-04 TRBV12-4\n",
      "TRBV6-03  TRBV6-03 TRBV6-3\n",
      " TRBV6-02 TRBV6-02 TRBV6-2\n",
      " TRBV6-01 TRBV6-01 TRBV6-1\n",
      " TRBV6-06 TRBV6-06 TRBV6-6\n",
      "TRBV19:02 TRBV19:02 TRBV19*02\n",
      "TRBV7-01 TRBV7-01 TRBV7-1\n",
      "TRBV9-02 TRBV9-02 TRBV9-2\n",
      "TRBV6-4:02 TRBV6-4:02 TRBV6-4*02\n",
      "TRBV27:01 TRBV27:01 TRBV27*01\n",
      "TRBV20-1:01 TRBV20-1:01 TRBV20-1*01\n",
      "TRBV25-1:01 TRBV25-1:01 TRBV25-1*01\n",
      "TRBV7-3:01 TRBV7-3:01 TRBV7-3*01\n",
      "TRBV12-4:01 TRBV12-4:01 TRBV12-4*01\n",
      "TRBV3-1:01 TRBV3-1:01 TRBV3-1*01\n",
      "TRBV24-1:01 TRBV24-1:01 TRBV24-1*01\n",
      "TRBV6-2:01 TRBV6-2:01 TRBV6-2*01\n",
      "TRBV19:01 TRBV19:01 TRBV19*01\n",
      "TRBV28:01 TRBV28:01 TRBV28*01\n",
      "TRBV6-5:01 TRBV6-5:01 TRBV6-5*01\n",
      "TRBV29/DV5:01 TRBV29/DV5:01 TRBV29/DV5*01\n",
      "TRBV25:01 TRBV25:01 TRBV25*01\n",
      "TRBV5-8:01 TRBV5-8:01 TRBV5-8*01\n",
      "TRBV6-1:01 TRBV6-1:01 TRBV6-1*01\n",
      "TRBV4-2:01 TRBV4-2:01 TRBV4-2*01\n",
      "TRBV7-8:01 TRBV7-8:01 TRBV7-8*01\n",
      "TRBV12-3:01 TRBV12-3:01 TRBV12-3*01\n",
      "TRBV26-1:03 TRBV26-1:03 TRBV26-1*03\n",
      "TRBV29-1:01 TRBV29-1:01 TRBV29-1*01\n",
      "TRBV5-6:01 TRBV5-6:01 TRBV5-6*01\n",
      "TRBV6-6:01 TRBV6-6:01 TRBV6-6*01\n",
      "TRBV4:01 TRBV4:01 TRBV4*01\n",
      "TRBV26-1:01 TRBV26-1:01 TRBV26-1*01\n",
      "TRBV17:01 TRBV17:01 TRBV17*01\n",
      "TRBV8-4:05 TRBV8-4:05 TRBV8-4*05\n",
      "TRBV2-2:01 TRBV2-2:01 TRBV2-2*01\n",
      "TRBV2-1:01 TRBV2-1:01 TRBV2-1*01\n",
      "TRBV1-1:01 TRBV1-1:01 TRBV1-1*01\n",
      "TRBV1-4:01 TRBV1-4:01 TRBV1-4*01\n",
      "TRBV2-6:01 TRBV2-6:01 TRBV2-6*01\n",
      "TRBV3:01 TRBV3:01 TRBV3*01\n",
      "TRBV5-5:01 TRBV5-5:01 TRBV5-5*01\n",
      "TRBV8-1:01 TRBV8-1:01 TRBV8-1*01\n",
      "TRBV8-2:01 TRBV8-2:01 TRBV8-2*01\n",
      "TRBV2-7:01 TRBV2-7:01 TRBV2-7*01\n",
      "TRBV14:01 TRBV14:01 TRBV14*01\n",
      "TRBV4-3:01 TRBV4-3:01 TRBV4-3*01\n",
      "TRBV5-4:01 TRBV5-4:01 TRBV5-4*01\n",
      "TRBV7-9:01 TRBV7-9:01 TRBV7-9*01\n",
      "TRBV19:03 TRBV19:03 TRBV19*03\n",
      "TRBV19:04 TRBV19:04 TRBV19*04\n",
      "TRBV22:01 TRBV22:01 TRBV22*01\n",
      "TRBV26-2:01 TRBV26-2:01 TRBV26-2*01\n",
      "TRBV23/DV6:01 TRBV23/DV6:01 TRBV23/DV6*01\n",
      "TRBV7-8:03 TRBV7-8:03 TRBV7-8*03\n",
      "TRBV19:05 TRBV19:05 TRBV19*05\n",
      "TRBV5-1:01 TRBV5-1:01 TRBV5-1*01\n",
      "TRBV7-2:01 TRBV7-2:01 TRBV7-2*01\n",
      "TRBV7-08*01 TRBV7-08*01 TRBV7-8*01\n"
     ]
    }
   ],
   "source": [
    "import re\n",
    "\n",
    "clean_trbv_dict = {}\n",
    "for origin_trbv in main_df['beta.v'].unique():\n",
    "    print_tag = 1\n",
    "    if (\"TRBV\" not in origin_trbv) and (\"TRB\" in origin_trbv):\n",
    "        print(origin_trbv)\n",
    "        trbv = origin_trbv.replace(\"TRB\", \"TRBV\").strip()\n",
    "    else:\n",
    "        trbv = origin_trbv.strip()\n",
    "\n",
    "    if trbv == '(UNK)':\n",
    "        clean_trbv_dict[origin_trbv] = trbv\n",
    "    elif (\"?\" in trbv) or (\"TRBV-\" in trbv) or (\"TRB\" not in trbv) or bool(re.match(r\"^[A-Z]*$\", trbv)):\n",
    "        clean_trbv_dict[origin_trbv] = '(UNK)'\n",
    "    elif \":0\" in trbv:\n",
    "        clean_trbv_dict[origin_trbv] = trbv.replace(\":0\", \"*0\")\n",
    "    elif \"-0\" in trbv:\n",
    "        clean_trbv_dict[origin_trbv] = trbv.replace(\"-0\", \"-\")\n",
    "    elif \"-*0\" in trbv:\n",
    "        clean_trbv_dict[origin_trbv] = trbv.replace(\"-*0\", \"*0\")\n",
    "    elif \"V0\" in trbv:\n",
    "        clean_trbv_dict[origin_trbv] = trbv.replace(\"V0\", \"V\")\n",
    "    elif \" F\" in trbv:\n",
    "        clean_trbv_dict[origin_trbv] = trbv.replace(\" F\", \"\")\n",
    "    else:\n",
    "        clean_trbv_dict[origin_trbv] = trbv\n",
    "        print_tag = 0\n",
    "    if print_tag:\n",
    "        print(origin_trbv, trbv, clean_trbv_dict[origin_trbv])"
   ]
  },
  {
   "cell_type": "code",
   "execution_count": 18,
   "metadata": {},
   "outputs": [
    {
     "data": {
      "text/plain": [
       "{'(UNK)',\n",
       " 'TRBV1',\n",
       " 'TRBV1-1',\n",
       " 'TRBV1-1*01',\n",
       " 'TRBV1-4',\n",
       " 'TRBV1-4*01',\n",
       " 'TRBV1-5',\n",
       " 'TRBV10',\n",
       " 'TRBV10-1',\n",
       " 'TRBV10-1*01',\n",
       " 'TRBV10-2',\n",
       " 'TRBV10-2*01',\n",
       " 'TRBV10-2*02',\n",
       " 'TRBV10-3',\n",
       " 'TRBV10-3*01',\n",
       " 'TRBV10-3*02',\n",
       " 'TRBV11-1',\n",
       " 'TRBV11-1*01',\n",
       " 'TRBV11-2',\n",
       " 'TRBV11-2*01',\n",
       " 'TRBV11-3',\n",
       " 'TRBV11-3*01',\n",
       " 'TRBV12',\n",
       " 'TRBV12-2',\n",
       " 'TRBV12-3',\n",
       " 'TRBV12-3*01',\n",
       " 'TRBV12-3,12-4',\n",
       " 'TRBV12-3/12-4',\n",
       " 'TRBV12-3/4',\n",
       " 'TRBV12-4',\n",
       " 'TRBV12-4*01',\n",
       " 'TRBV12-5',\n",
       " 'TRBV12-5*01',\n",
       " 'TRBV13',\n",
       " 'TRBV13*01',\n",
       " 'TRBV13-2',\n",
       " 'TRBV13-6',\n",
       " 'TRBV14',\n",
       " 'TRBV14*01',\n",
       " 'TRBV14-1',\n",
       " 'TRBV15',\n",
       " 'TRBV15*01',\n",
       " 'TRBV15*02',\n",
       " 'TRBV16',\n",
       " 'TRBV16*01',\n",
       " 'TRBV16-1',\n",
       " 'TRBV17',\n",
       " 'TRBV17*01',\n",
       " 'TRBV18',\n",
       " 'TRBV18*01',\n",
       " 'TRBV18-1',\n",
       " 'TRBV19',\n",
       " 'TRBV19*01',\n",
       " 'TRBV19*02',\n",
       " 'TRBV19*03',\n",
       " 'TRBV19*04',\n",
       " 'TRBV19*05',\n",
       " 'TRBV19-1',\n",
       " 'TRBV2',\n",
       " 'TRBV2*01',\n",
       " 'TRBV2-1',\n",
       " 'TRBV2-1*01',\n",
       " 'TRBV2-2*01',\n",
       " 'TRBV2-3',\n",
       " 'TRBV2-5',\n",
       " 'TRBV2-6*01',\n",
       " 'TRBV2-7*01',\n",
       " 'TRBV20',\n",
       " 'TRBV20-1',\n",
       " 'TRBV20-1*01',\n",
       " 'TRBV20-1*02',\n",
       " 'TRBV201-1',\n",
       " 'TRBV21',\n",
       " 'TRBV21-1',\n",
       " 'TRBV21-3',\n",
       " 'TRBV22*01',\n",
       " 'TRBV23',\n",
       " 'TRBV23-1',\n",
       " 'TRBV23/DV6*01',\n",
       " 'TRBV24',\n",
       " 'TRBV24-1',\n",
       " 'TRBV24-1*01',\n",
       " 'TRBV25',\n",
       " 'TRBV25*01',\n",
       " 'TRBV25-1',\n",
       " 'TRBV25-1*01',\n",
       " 'TRBV26-1*01',\n",
       " 'TRBV26-1*03',\n",
       " 'TRBV26-2*01',\n",
       " 'TRBV27',\n",
       " 'TRBV27*01',\n",
       " 'TRBV27-1',\n",
       " 'TRBV28',\n",
       " 'TRBV28*01',\n",
       " 'TRBV28-1',\n",
       " 'TRBV29',\n",
       " 'TRBV29-1',\n",
       " 'TRBV29-1*01',\n",
       " 'TRBV29/DV5*01',\n",
       " 'TRBV3',\n",
       " 'TRBV3*01',\n",
       " 'TRBV3-1',\n",
       " 'TRBV3-1*01',\n",
       " 'TRBV3-1/3-2',\n",
       " 'TRBV3-2',\n",
       " 'TRBV30',\n",
       " 'TRBV30*01',\n",
       " 'TRBV30*02',\n",
       " 'TRBV4',\n",
       " 'TRBV4*01',\n",
       " 'TRBV4-1',\n",
       " 'TRBV4-1*01',\n",
       " 'TRBV4-2',\n",
       " 'TRBV4-2*01',\n",
       " 'TRBV4-3',\n",
       " 'TRBV4-3*01',\n",
       " 'TRBV5',\n",
       " 'TRBV5-1',\n",
       " 'TRBV5-1*01',\n",
       " 'TRBV5-4',\n",
       " 'TRBV5-4*01',\n",
       " 'TRBV5-5',\n",
       " 'TRBV5-5*01',\n",
       " 'TRBV5-6',\n",
       " 'TRBV5-6*01',\n",
       " 'TRBV5-7',\n",
       " 'TRBV5-8',\n",
       " 'TRBV5-8*01',\n",
       " 'TRBV6',\n",
       " 'TRBV6-1',\n",
       " 'TRBV6-1*01',\n",
       " 'TRBV6-1/6-5/6-6',\n",
       " 'TRBV6-2',\n",
       " 'TRBV6-2*01',\n",
       " 'TRBV6-2,6-3',\n",
       " 'TRBV6-2/3',\n",
       " 'TRBV6-2/6-3',\n",
       " 'TRBV6-2/TRBV6-3',\n",
       " 'TRBV6-3',\n",
       " 'TRBV6-3*01',\n",
       " 'TRBV6-4',\n",
       " 'TRBV6-4*01',\n",
       " 'TRBV6-4*02',\n",
       " 'TRBV6-5',\n",
       " 'TRBV6-5*01',\n",
       " 'TRBV6-6',\n",
       " 'TRBV6-6*01',\n",
       " 'TRBV6-6*02',\n",
       " 'TRBV6-8',\n",
       " 'TRBV6-8*01',\n",
       " 'TRBV6-9',\n",
       " 'TRBV6-9*01',\n",
       " 'TRBV7',\n",
       " 'TRBV7-1',\n",
       " 'TRBV7-2',\n",
       " 'TRBV7-2*01',\n",
       " 'TRBV7-2*02',\n",
       " 'TRBV7-2*03',\n",
       " 'TRBV7-3',\n",
       " 'TRBV7-3*01',\n",
       " 'TRBV7-4',\n",
       " 'TRBV7-4*01',\n",
       " 'TRBV7-6',\n",
       " 'TRBV7-6*01',\n",
       " 'TRBV7-7',\n",
       " 'TRBV7-7*01',\n",
       " 'TRBV7-8',\n",
       " 'TRBV7-8*01',\n",
       " 'TRBV7-8*02',\n",
       " 'TRBV7-8*03',\n",
       " 'TRBV7-9',\n",
       " 'TRBV7-9*01',\n",
       " 'TRBV7-9*03',\n",
       " 'TRBV8',\n",
       " 'TRBV8-1*01',\n",
       " 'TRBV8-2',\n",
       " 'TRBV8-2*01',\n",
       " 'TRBV8-4*05',\n",
       " 'TRBV9',\n",
       " 'TRBV9*01',\n",
       " 'TRBV9*02',\n",
       " 'TRBV9-1',\n",
       " 'TRBV9-2'}"
      ]
     },
     "execution_count": 18,
     "metadata": {},
     "output_type": "execute_result"
    }
   ],
   "source": [
    "set(clean_trbv_dict.values())"
   ]
  },
  {
   "cell_type": "code",
   "execution_count": 19,
   "metadata": {},
   "outputs": [
    {
     "data": {
      "text/plain": [
       "183"
      ]
     },
     "execution_count": 19,
     "metadata": {},
     "output_type": "execute_result"
    }
   ],
   "source": [
    "main_df['beta.v'] = main_df['beta.v'].apply(lambda x: clean_trbv_dict[x])\n",
    "main_df['beta.v'].nunique()"
   ]
  },
  {
   "cell_type": "markdown",
   "metadata": {},
   "source": [
    "- beta.j"
   ]
  },
  {
   "cell_type": "code",
   "execution_count": 22,
   "metadata": {},
   "outputs": [
    {
     "data": {
      "text/plain": [
       "array(['TRBJ2-3*01', 'TRBJ2-7*01', 'TRBJ1-1*01', 'TRBJ2-1*01',\n",
       "       'TRBJ2-2*01', 'TRBJ1-2*01', 'TRBJ2-4*01', 'TRBJ1-5*01',\n",
       "       'TRBJ1-4*01', 'TRBJ2-5*01', '(UNK)', 'TRBJ1-3*01', 'TRBJ2-6*01',\n",
       "       'TRBJ1-6*02', 'TRBJ1-6*01', 'TRBJ2-1', 'TRBJ2-2', 'TRBJ1-3',\n",
       "       'TRBJ2-4', 'TRBJ1-5', 'TRBJ2-3', 'TRBJ2-7', 'TRBJ1-1', 'TRBJ1-2',\n",
       "       'TRBJ1-4', 'TRBJ2-5', 'TRBJ2-6', 'TRBJ1-6', 'TRBJ2', 'TRBJ1-7',\n",
       "       'TRBJ5-6', 'TRBJ2-7:01', 'TRBJ1-2:01', 'TRBJ2-1:01', 'TRBJ2-2:01',\n",
       "       'TRBJ2-5:01', 'TRBJ2-3:01', 'TRBJ1-5:01', 'TRBJ1-1:01',\n",
       "       'TRBJ2-4:01', 'TRBJ1-3:01', 'TRBJ1-4:01', 'TRBJ2-6:01', 'TRAJ30',\n",
       "       'TRAJ26', 'TRBJ53:01', 'TRBJ54:01', 'TRBJ3-1:01', 'TRBJ42:01',\n",
       "       'TRBJ39:01', 'TRBJ45:01', 'TRBJ1:01', 'TRBJ2:01', 'TRBJ31:01',\n",
       "       'TRBJ1-6:02', 'TRBJ43:01', 'TRBJ33:01', 'TRBJ27:01', 'TRBJ37:02',\n",
       "       'TRBJ8:01', 'TRBJ52:01', 'TRBJ9:01', 'TRBJ36:01', 'TRBJ2-7:02',\n",
       "       'Donor 13', 'TRBJ5-1', 'TRBJ10-1', 'TRBJ20-1', 'TRBJ19-1',\n",
       "       'TRBJ24-1', 'TRBJ21-1', 'TRBJ17-1', 'TRBJ38-2/DV8*01'],\n",
       "      dtype=object)"
      ]
     },
     "execution_count": 22,
     "metadata": {},
     "output_type": "execute_result"
    }
   ],
   "source": [
    "main_df['beta.j'].unique()"
   ]
  },
  {
   "cell_type": "code",
   "execution_count": 23,
   "metadata": {},
   "outputs": [
    {
     "name": "stdout",
     "output_type": "stream",
     "text": [
      "(UNK) (UNK) (UNK)\n",
      "TRBJ2-7:01 TRBJ2-7:01 TRBJ2-7*01\n",
      "TRBJ1-2:01 TRBJ1-2:01 TRBJ1-2*01\n",
      "TRBJ2-1:01 TRBJ2-1:01 TRBJ2-1*01\n",
      "TRBJ2-2:01 TRBJ2-2:01 TRBJ2-2*01\n",
      "TRBJ2-5:01 TRBJ2-5:01 TRBJ2-5*01\n",
      "TRBJ2-3:01 TRBJ2-3:01 TRBJ2-3*01\n",
      "TRBJ1-5:01 TRBJ1-5:01 TRBJ1-5*01\n",
      "TRBJ1-1:01 TRBJ1-1:01 TRBJ1-1*01\n",
      "TRBJ2-4:01 TRBJ2-4:01 TRBJ2-4*01\n",
      "TRBJ1-3:01 TRBJ1-3:01 TRBJ1-3*01\n",
      "TRBJ1-4:01 TRBJ1-4:01 TRBJ1-4*01\n",
      "TRBJ2-6:01 TRBJ2-6:01 TRBJ2-6*01\n",
      "TRAJ30 TRAJ30 (UNK)\n",
      "TRAJ26 TRAJ26 (UNK)\n",
      "TRBJ53:01 TRBJ53:01 TRBJ53*01\n",
      "TRBJ54:01 TRBJ54:01 TRBJ54*01\n",
      "TRBJ3-1:01 TRBJ3-1:01 TRBJ3-1*01\n",
      "TRBJ42:01 TRBJ42:01 TRBJ42*01\n",
      "TRBJ39:01 TRBJ39:01 TRBJ39*01\n",
      "TRBJ45:01 TRBJ45:01 TRBJ45*01\n",
      "TRBJ1:01 TRBJ1:01 TRBJ1*01\n",
      "TRBJ2:01 TRBJ2:01 TRBJ2*01\n",
      "TRBJ31:01 TRBJ31:01 TRBJ31*01\n",
      "TRBJ1-6:02 TRBJ1-6:02 TRBJ1-6*02\n",
      "TRBJ43:01 TRBJ43:01 TRBJ43*01\n",
      "TRBJ33:01 TRBJ33:01 TRBJ33*01\n",
      "TRBJ27:01 TRBJ27:01 TRBJ27*01\n",
      "TRBJ37:02 TRBJ37:02 TRBJ37*02\n",
      "TRBJ8:01 TRBJ8:01 TRBJ8*01\n",
      "TRBJ52:01 TRBJ52:01 TRBJ52*01\n",
      "TRBJ9:01 TRBJ9:01 TRBJ9*01\n",
      "TRBJ36:01 TRBJ36:01 TRBJ36*01\n",
      "TRBJ2-7:02 TRBJ2-7:02 TRBJ2-7*02\n",
      "Donor 13 Donor 13 (UNK)\n"
     ]
    }
   ],
   "source": [
    "import re\n",
    "\n",
    "clean_trbj_dict = {}\n",
    "for origin_trbj in main_df['beta.j'].unique():\n",
    "    print_tag = 1\n",
    "    if (\"TRBJ\" not in origin_trbj) and (\"TRB\" in origin_trbj):\n",
    "        print(origin_trbj)\n",
    "        trbj = origin_trbj.replace(\"TRB\", \"TRBJ\").strip()\n",
    "    else:\n",
    "        trbj = origin_trbj.strip()\n",
    "\n",
    "    if trbj == '(UNK)':\n",
    "        clean_trbj_dict[origin_trbj] = trbj\n",
    "    elif (\"?\" in trbj) or (\"TRBJ-\" in trbj) or (\"TRB\" not in trbj) or bool(re.match(r\"^[A-Z]*$\", trbj)):\n",
    "        clean_trbj_dict[origin_trbj] = '(UNK)'\n",
    "    elif \":0\" in trbj:\n",
    "        clean_trbj_dict[origin_trbj] = trbj.replace(\":0\", \"*0\")\n",
    "    elif \"-0\" in trbj:\n",
    "        clean_trbj_dict[origin_trbj] = trbj.replace(\"-0\", \"-\")\n",
    "    elif \"-*0\" in trbj:\n",
    "        clean_trbj_dict[origin_trbj] = trbj.replace(\"-*0\", \"*0\")\n",
    "    elif \"J0\" in trbj:\n",
    "        clean_trbj_dict[origin_trbj] = trbj.replace(\"J0\", \"J\")\n",
    "    elif \" F\" in trbj:\n",
    "        clean_trbj_dict[origin_trbj] = trbj.replace(\" F\", \"\")\n",
    "    else:\n",
    "        clean_trbj_dict[origin_trbj] = trbj\n",
    "        print_tag = 0\n",
    "    if print_tag:\n",
    "        print(origin_trbj, trbj, clean_trbj_dict[origin_trbj])"
   ]
  },
  {
   "cell_type": "code",
   "execution_count": 24,
   "metadata": {},
   "outputs": [
    {
     "data": {
      "text/plain": [
       "{'(UNK)',\n",
       " 'TRBJ1*01',\n",
       " 'TRBJ1-1',\n",
       " 'TRBJ1-1*01',\n",
       " 'TRBJ1-2',\n",
       " 'TRBJ1-2*01',\n",
       " 'TRBJ1-3',\n",
       " 'TRBJ1-3*01',\n",
       " 'TRBJ1-4',\n",
       " 'TRBJ1-4*01',\n",
       " 'TRBJ1-5',\n",
       " 'TRBJ1-5*01',\n",
       " 'TRBJ1-6',\n",
       " 'TRBJ1-6*01',\n",
       " 'TRBJ1-6*02',\n",
       " 'TRBJ1-7',\n",
       " 'TRBJ10-1',\n",
       " 'TRBJ17-1',\n",
       " 'TRBJ19-1',\n",
       " 'TRBJ2',\n",
       " 'TRBJ2*01',\n",
       " 'TRBJ2-1',\n",
       " 'TRBJ2-1*01',\n",
       " 'TRBJ2-2',\n",
       " 'TRBJ2-2*01',\n",
       " 'TRBJ2-3',\n",
       " 'TRBJ2-3*01',\n",
       " 'TRBJ2-4',\n",
       " 'TRBJ2-4*01',\n",
       " 'TRBJ2-5',\n",
       " 'TRBJ2-5*01',\n",
       " 'TRBJ2-6',\n",
       " 'TRBJ2-6*01',\n",
       " 'TRBJ2-7',\n",
       " 'TRBJ2-7*01',\n",
       " 'TRBJ2-7*02',\n",
       " 'TRBJ20-1',\n",
       " 'TRBJ21-1',\n",
       " 'TRBJ24-1',\n",
       " 'TRBJ27*01',\n",
       " 'TRBJ3-1*01',\n",
       " 'TRBJ31*01',\n",
       " 'TRBJ33*01',\n",
       " 'TRBJ36*01',\n",
       " 'TRBJ37*02',\n",
       " 'TRBJ38-2/DV8*01',\n",
       " 'TRBJ39*01',\n",
       " 'TRBJ42*01',\n",
       " 'TRBJ43*01',\n",
       " 'TRBJ45*01',\n",
       " 'TRBJ5-1',\n",
       " 'TRBJ5-6',\n",
       " 'TRBJ52*01',\n",
       " 'TRBJ53*01',\n",
       " 'TRBJ54*01',\n",
       " 'TRBJ8*01',\n",
       " 'TRBJ9*01'}"
      ]
     },
     "execution_count": 24,
     "metadata": {},
     "output_type": "execute_result"
    }
   ],
   "source": [
    "set(clean_trbj_dict.values())"
   ]
  },
  {
   "cell_type": "code",
   "execution_count": 25,
   "metadata": {},
   "outputs": [
    {
     "data": {
      "text/plain": [
       "57"
      ]
     },
     "execution_count": 25,
     "metadata": {},
     "output_type": "execute_result"
    }
   ],
   "source": [
    "main_df['beta.j'] = main_df['beta.j'].apply(lambda x: clean_trbj_dict[x])\n",
    "main_df['beta.j'].nunique()"
   ]
  },
  {
   "cell_type": "code",
   "execution_count": 26,
   "metadata": {},
   "outputs": [
    {
     "name": "stdout",
     "output_type": "stream",
     "text": [
      "number of duplicated data: 174249\n",
      "File /data/lujd/TCRdata/collect/main_dataset_tcr_phla_cleaned_2.csv has been successfully saved.\n"
     ]
    }
   ],
   "source": [
    "main_df = main_df.drop_duplicates(ignore_index=True)\n",
    "print(f\"number of duplicated data: {len(main_df)}\")\n",
    "\n",
    "savepath = to_your_path + \"TCRdata/collect/\"\n",
    "savename = \"main_dataset_tcr_phla_cleaned_2.csv\"\n",
    "save_csv(main_df, savepath, savename)"
   ]
  },
  {
   "cell_type": "markdown",
   "metadata": {},
   "source": [
    "---"
   ]
  },
  {
   "cell_type": "code",
   "execution_count": 83,
   "metadata": {},
   "outputs": [
    {
     "name": "stdout",
     "output_type": "stream",
     "text": [
      "174249\n",
      "Index(['antigen.epitope', 'hla.allele', 'mhc.class', 'alpha.v', 'alpha.j',\n",
      "       'alpha.cdr1', 'alpha.cdr2', 'alpha.cdr3', 'alpha.vseq', 'beta.v',\n",
      "       'beta.d', 'beta.j', 'beta.cdr1', 'beta.cdr2', 'beta.cdr3', 'beta.vseq',\n",
      "       'dataset.tag', 'check'],\n",
      "      dtype='object')\n"
     ]
    }
   ],
   "source": [
    "import pandas as pd\n",
    "from utils import save_csv\n",
    "\n",
    "to_your_path = '/data/lujd/'\n",
    "datapath = to_your_path + \"TCRdata/collect/\"\n",
    "\n",
    "filename = \"main_dataset_tcr_phla_cleaned_2.csv\"\n",
    "main_df = pd.read_csv(datapath+filename, sep=',')\n",
    "print(len(main_df))\n",
    "print(main_df.columns)"
   ]
  },
  {
   "cell_type": "code",
   "execution_count": 84,
   "metadata": {},
   "outputs": [
    {
     "name": "stdout",
     "output_type": "stream",
     "text": [
      "TRBV6-2,6-3 TRBV6-2,6-3 TRBV6-2/6-3\n",
      "TRBV12-3,12-4 TRBV12-3,12-4 TRBV12-3/12-4\n"
     ]
    }
   ],
   "source": [
    "clean_trbv_dict = {}\n",
    "for origin_trbv in main_df['beta.v'].unique():\n",
    "    print_tag = 1\n",
    "    trbv = origin_trbv.strip()\n",
    "    if \",\" in trbv:\n",
    "        clean_trbv_dict[origin_trbv] = trbv.replace(\",\", \"/\")\n",
    "    else:\n",
    "        clean_trbv_dict[origin_trbv] = trbv\n",
    "        print_tag = 0\n",
    "    if print_tag:\n",
    "        print(origin_trbv, trbv, clean_trbv_dict[origin_trbv])"
   ]
  },
  {
   "cell_type": "code",
   "execution_count": 85,
   "metadata": {},
   "outputs": [
    {
     "data": {
      "text/plain": [
       "181"
      ]
     },
     "execution_count": 85,
     "metadata": {},
     "output_type": "execute_result"
    }
   ],
   "source": [
    "main_df['beta.v'] = main_df['beta.v'].apply(lambda x: clean_trbv_dict[x])\n",
    "main_df['beta.v'].nunique()"
   ]
  },
  {
   "cell_type": "code",
   "execution_count": 86,
   "metadata": {},
   "outputs": [
    {
     "name": "stdout",
     "output_type": "stream",
     "text": [
      "54193\n",
      "52676\n",
      "28579\n",
      "27746\n"
     ]
    }
   ],
   "source": [
    "dup_df = main_df[main_df['beta.v']!='(UNK)']\n",
    "dup_df = dup_df.drop_duplicates(ignore_index=True, keep='first')\n",
    "print(len(dup_df))\n",
    "\n",
    "dup_df = dup_df[dup_df['beta.j']!='(UNK)']\n",
    "dup_df = dup_df.drop_duplicates(ignore_index=True, keep='first')\n",
    "print(len(dup_df))\n",
    "\n",
    "dup_df = dup_df[dup_df['alpha.v']!='(UNK)']\n",
    "dup_df = dup_df.drop_duplicates(ignore_index=True, keep='first')\n",
    "print(len(dup_df))\n",
    "\n",
    "dup_df = dup_df[dup_df['alpha.j']!='(UNK)']\n",
    "dup_df = dup_df.drop_duplicates(ignore_index=True, keep='first')\n",
    "print(len(dup_df))"
   ]
  },
  {
   "cell_type": "code",
   "execution_count": 87,
   "metadata": {},
   "outputs": [
    {
     "data": {
      "text/plain": [
       "array(['TRBV4', 'TRBV12', 'TRBV6', 'TRBV7', 'TRBV2', 'TRBV11-1',\n",
       "       'TRBV7-8', 'TRBV28', 'TRBV9', 'TRBV25-1', 'TRBV20-1', 'TRBV14',\n",
       "       'TRBV29-1', 'TRBV20', 'TRBV1', 'TRBV13', 'TRBV3', 'TRBV6-3',\n",
       "       'TRBV23', 'TRBV6-2', 'TRBV8', 'TRBV15', 'TRBV7-9', 'TRBV19',\n",
       "       'TRBV5-4', 'TRBV30', 'TRBV6-1', 'TRBV11-3', 'TRBV11-2', 'TRBV4-1',\n",
       "       'TRBV23-1', 'TRBV3-1', 'TRBV6-6', 'TRBV10-3', 'TRBV12-4',\n",
       "       'TRBV12-3', 'TRBV5-1', 'TRBV6-4', 'TRBV6-5', 'TRBV4-3', 'TRBV10-1',\n",
       "       'TRBV7-2', 'TRBV10-2', 'TRBV27', 'TRBV7-6', 'TRBV5-8', 'TRBV18',\n",
       "       'TRBV4-2', 'TRBV5-6', 'TRBV1-1', 'TRBV2-1', 'TRBV9-1', 'TRBV19*02',\n",
       "       'TRBV7-1', 'TRBV9-2', 'TRBV6-4*02', 'TRBV27*01', 'TRBV20-1*01',\n",
       "       'TRBV25-1*01', 'TRBV7-3*01', 'TRBV12-4*01', 'TRBV3-1*01',\n",
       "       'TRBV24-1*01', 'TRBV6-2*01', 'TRBV19*01', 'TRBV28*01',\n",
       "       'TRBV6-5*01', 'TRBV5-4*01', 'TRBV7-9*01', 'TRBV19*03', 'TRBV19*04',\n",
       "       'TRBV4-3*01', 'TRBV7-8*01', 'TRBV4-2*01', 'TRBV22*01',\n",
       "       'TRBV26-2*01', 'TRBV3*01', 'TRBV26-1*01', 'TRBV25*01',\n",
       "       'TRBV23/DV6*01', 'TRBV24-1'], dtype=object)"
      ]
     },
     "execution_count": 87,
     "metadata": {},
     "output_type": "execute_result"
    }
   ],
   "source": [
    "dup_df_mc = dup_df[dup_df['dataset.tag']=='mcpas']\n",
    "dup_df_mc['beta.v'].unique()"
   ]
  },
  {
   "cell_type": "code",
   "execution_count": 88,
   "metadata": {},
   "outputs": [
    {
     "data": {
      "text/plain": [
       "874"
      ]
     },
     "execution_count": 88,
     "metadata": {},
     "output_type": "execute_result"
    }
   ],
   "source": [
    "dup_df[dup_df['beta.v'].isin(['TRBV11-1',\n",
    "       'TRBV7-8', 'TRBV28', 'TRBV9', 'TRBV25-1', 'TRBV20-1', 'TRBV14',\n",
    "       'TRBV29-1', 'TRBV20', 'TRBV1', 'TRBV13', 'TRBV3', 'TRBV6-3',\n",
    "       'TRBV23', 'TRBV6-2', 'TRBV8', 'TRBV15', 'TRBV7-9', 'TRBV19',\n",
    "       'TRBV5-4', 'TRBV30', 'TRBV6-1', 'TRBV11-3', 'TRBV11-2', 'TRBV4-1',\n",
    "       'TRBV23-1', 'TRBV3-1', 'TRBV6-6', 'TRBV10-3', 'TRBV12-4',\n",
    "       'TRBV12-3', 'TRBV5-1', 'TRBV6-4', 'TRBV6-5', 'TRBV4-3', 'TRBV10-1',\n",
    "       'TRBV7-2', 'TRBV10-2', 'TRBV27', 'TRBV7-6', 'TRBV5-8', 'TRBV18',\n",
    "       'TRBV4-2', 'TRBV5-6', 'TRBV1-1', 'TRBV2-1', 'TRBV9-1'])].__len__()"
   ]
  },
  {
   "cell_type": "markdown",
   "metadata": {},
   "source": [
    "separate '/' in beta.v"
   ]
  },
  {
   "cell_type": "code",
   "execution_count": 89,
   "metadata": {},
   "outputs": [
    {
     "name": "stdout",
     "output_type": "stream",
     "text": [
      "TRBV6-2/3 TRBV6-2/3 TRBV6-2,TRBV3\n",
      "TRBV6-2/TRBV6-3 TRBV6-2/TRBV6-3 TRBV6-2,TRBV6-3\n",
      "TRBV12-3/4 TRBV12-3/4 TRBV12-3,TRBV4\n",
      "TRBV29/DV5*01 TRBV29/DV5*01 TRBV29/DV5*01\n",
      "TRBV23/DV6*01 TRBV23/DV6*01 TRBV23/DV6*01\n",
      "TRBV6-2/6-3 TRBV6-2/6-3 TRBV6-2,TRBV6-3\n",
      "TRBV12-3/12-4 TRBV12-3/12-4 TRBV12-3,TRBV12-4\n",
      "TRBV3-1/3-2 TRBV3-1/3-2 TRBV3-1,TRBV3-2\n",
      "TRBV6-1/6-5/6-6 TRBV6-1/6-5/6-6 TRBV6-1,TRBV6-5,TRBV6-6\n"
     ]
    }
   ],
   "source": [
    "clean_trbv_dict = {}\n",
    "for origin_trbv in main_df['beta.v'].unique():\n",
    "    print_tag = 1\n",
    "    trbv = origin_trbv.strip()\n",
    "    if \"/\" in trbv:\n",
    "        if 'DV' in trbv:\n",
    "            clean_trbv_dict[origin_trbv] = trbv\n",
    "        elif \"/TRBV\" in trbv:\n",
    "            clean_trbv_dict[origin_trbv] = trbv.replace(\"/TRBV\", \",TRBV\")\n",
    "        else:\n",
    "            clean_trbv_dict[origin_trbv] = trbv.replace(\"/\", \",TRBV\")\n",
    "    else:\n",
    "        clean_trbv_dict[origin_trbv] = trbv\n",
    "        print_tag = 0\n",
    "    if print_tag:\n",
    "        print(origin_trbv, trbv, clean_trbv_dict[origin_trbv])"
   ]
  },
  {
   "cell_type": "code",
   "execution_count": 90,
   "metadata": {},
   "outputs": [
    {
     "data": {
      "text/plain": [
       "180"
      ]
     },
     "execution_count": 90,
     "metadata": {},
     "output_type": "execute_result"
    }
   ],
   "source": [
    "main_df['beta.v'] = main_df['beta.v'].apply(lambda x: clean_trbv_dict[x])\n",
    "main_df['beta.v'].nunique()"
   ]
  },
  {
   "cell_type": "code",
   "execution_count": 91,
   "metadata": {},
   "outputs": [
    {
     "name": "stdout",
     "output_type": "stream",
     "text": [
      "TRBV6-2,TRBV3\n",
      "TRBV6-2,TRBV6-3\n",
      "TRBV12-3,TRBV4\n",
      "TRBV12-3,TRBV12-4\n",
      "TRBV3-1,TRBV3-2\n",
      "TRBV6-1,TRBV6-5,TRBV6-6\n"
     ]
    }
   ],
   "source": [
    "for i in main_df['beta.v'].unique():\n",
    "    if ',' in i:\n",
    "        print(i)"
   ]
  },
  {
   "cell_type": "code",
   "execution_count": 92,
   "metadata": {},
   "outputs": [
    {
     "data": {
      "text/plain": [
       "178"
      ]
     },
     "execution_count": 92,
     "metadata": {},
     "output_type": "execute_result"
    }
   ],
   "source": [
    "clean_trbv_dict = {'TRBV6-2,TRBV3':'TRBV6-2,TRBV6-3', 'TRBV12-3,TRBV4':'TRBV12-3,TRBV12-4'}\n",
    "main_df['beta.v'] = main_df['beta.v'].replace(clean_trbv_dict)\n",
    "main_df['beta.v'].nunique()"
   ]
  },
  {
   "cell_type": "code",
   "execution_count": 113,
   "metadata": {},
   "outputs": [
    {
     "data": {
      "text/plain": [
       "174674"
      ]
     },
     "execution_count": 113,
     "metadata": {},
     "output_type": "execute_result"
    }
   ],
   "source": [
    "split_df = main_df['beta.v'].str.split(',', expand=True)\n",
    "stacked_df = split_df.stack().reset_index(level=1, drop=True).to_frame(name='beta.v')\n",
    "main_df = main_df.drop(['beta.v'], axis=1).join(stacked_df).reset_index(drop=True)\n",
    "len(main_df)"
   ]
  },
  {
   "cell_type": "code",
   "execution_count": 115,
   "metadata": {},
   "outputs": [
    {
     "name": "stdout",
     "output_type": "stream",
     "text": [
      "Series([], Name: beta.vseq, dtype: object)\n",
      "Series([], Name: alpha.vseq, dtype: object)\n"
     ]
    }
   ],
   "source": [
    "import re\n",
    "def check_uppercase(text):\n",
    "    if text == '(UNK)':\n",
    "        return True\n",
    "    else:\n",
    "        pattern = \"^[A-Z]+$\"\n",
    "        return bool(re.match(pattern, text))\n",
    "\n",
    "main_df['check'] = main_df['beta.vseq'].apply(check_uppercase)\n",
    "print(main_df[main_df['check']==False]['beta.vseq'])\n",
    "\n",
    "main_df['check'] = main_df['alpha.vseq'].apply(check_uppercase)\n",
    "print(main_df[main_df['check']==False]['alpha.vseq'])"
   ]
  },
  {
   "cell_type": "code",
   "execution_count": 118,
   "metadata": {},
   "outputs": [
    {
     "name": "stdout",
     "output_type": "stream",
     "text": [
      "number of duplicated data: 174673\n",
      "File /data/lujd/TCRdata/collect/main_dataset_tcr_phla_cleaned.csv has been successfully saved.\n"
     ]
    }
   ],
   "source": [
    "main_df = main_df.drop_duplicates(ignore_index=True)\n",
    "print(f\"number of duplicated data: {len(main_df)}\")\n",
    "\n",
    "savepath = to_your_path + \"TCRdata/collect/\"\n",
    "savename = \"main_dataset_tcr_phla_cleaned.csv\"\n",
    "save_csv(main_df, savepath, savename)"
   ]
  },
  {
   "cell_type": "code",
   "execution_count": 120,
   "metadata": {},
   "outputs": [
    {
     "data": {
      "text/plain": [
       "(352, 383)"
      ]
     },
     "execution_count": 120,
     "metadata": {},
     "output_type": "execute_result"
    }
   ],
   "source": [
    "len(main_df[main_df['alpha.vseq']!='(UNK)']), len(main_df[main_df['beta.vseq']!='(UNK)'])"
   ]
  }
 ],
 "metadata": {
  "kernelspec": {
   "display_name": "of",
   "language": "python",
   "name": "python3"
  },
  "language_info": {
   "codemirror_mode": {
    "name": "ipython",
    "version": 3
   },
   "file_extension": ".py",
   "mimetype": "text/x-python",
   "name": "python",
   "nbconvert_exporter": "python",
   "pygments_lexer": "ipython3",
   "version": "3.9.18"
  }
 },
 "nbformat": 4,
 "nbformat_minor": 2
}
