{
 "cells": [
  {
   "cell_type": "markdown",
   "metadata": {},
   "source": [
    "# Data from pMTnet\n",
    "\n",
    "- download from: https://github.com/tianshilu/pMTnet/tree/master/data\n",
    "- 放在 ``TCRdata/raw/paper/pMTnet/``"
   ]
  },
  {
   "cell_type": "code",
   "execution_count": 1,
   "metadata": {},
   "outputs": [],
   "source": [
    "import pandas as pd\n",
    "from utils import save_csv\n",
    "\n",
    "to_your_path = '/data/lujd/'"
   ]
  },
  {
   "cell_type": "markdown",
   "metadata": {},
   "source": [
    "### ¶ Training set"
   ]
  },
  {
   "cell_type": "code",
   "execution_count": 2,
   "metadata": {},
   "outputs": [
    {
     "data": {
      "text/html": [
       "<div>\n",
       "<style scoped>\n",
       "    .dataframe tbody tr th:only-of-type {\n",
       "        vertical-align: middle;\n",
       "    }\n",
       "\n",
       "    .dataframe tbody tr th {\n",
       "        vertical-align: top;\n",
       "    }\n",
       "\n",
       "    .dataframe thead th {\n",
       "        text-align: right;\n",
       "    }\n",
       "</style>\n",
       "<table border=\"1\" class=\"dataframe\">\n",
       "  <thead>\n",
       "    <tr style=\"text-align: right;\">\n",
       "      <th></th>\n",
       "      <th>CDR3</th>\n",
       "      <th>Antigen</th>\n",
       "      <th>HLA</th>\n",
       "    </tr>\n",
       "  </thead>\n",
       "  <tbody>\n",
       "    <tr>\n",
       "      <th>0</th>\n",
       "      <td>CASSSRSSYEQYF</td>\n",
       "      <td>GILGFVFTL</td>\n",
       "      <td>A*02:01</td>\n",
       "    </tr>\n",
       "    <tr>\n",
       "      <th>1</th>\n",
       "      <td>CASSPVTGGIYGYTF</td>\n",
       "      <td>NLVPMVATV</td>\n",
       "      <td>A*02:01</td>\n",
       "    </tr>\n",
       "    <tr>\n",
       "      <th>2</th>\n",
       "      <td>CSARDGTGNGYTF</td>\n",
       "      <td>GLCTLVAML</td>\n",
       "      <td>A*02:01</td>\n",
       "    </tr>\n",
       "  </tbody>\n",
       "</table>\n",
       "</div>"
      ],
      "text/plain": [
       "              CDR3    Antigen      HLA\n",
       "0    CASSSRSSYEQYF  GILGFVFTL  A*02:01\n",
       "1  CASSPVTGGIYGYTF  NLVPMVATV  A*02:01\n",
       "2    CSARDGTGNGYTF  GLCTLVAML  A*02:01"
      ]
     },
     "execution_count": 2,
     "metadata": {},
     "output_type": "execute_result"
    }
   ],
   "source": [
    "import pandas as pd\n",
    "\n",
    "datapath = to_your_path + \"TCRdata/raw/paper/pMTnet/\"\n",
    "filename1 = \"training_data.csv\"\n",
    "\n",
    "df1 = pd.read_csv(datapath+filename1, sep=\",\")\n",
    "df1.head(3)"
   ]
  },
  {
   "cell_type": "code",
   "execution_count": 3,
   "metadata": {},
   "outputs": [
    {
     "name": "stdout",
     "output_type": "stream",
     "text": [
      "CDR3's number: 29226 \n",
      "Antigen's number: 428 \n",
      "HLA's number: 64 \n",
      "total number: 32044 \n"
     ]
    }
   ],
   "source": [
    "# statistic\n",
    "for col in df1.columns:\n",
    "    print(f\"{col}'s number: {df1[col].nunique()} \")\n",
    "\n",
    "print(f\"total number: {len(df1)} \")"
   ]
  },
  {
   "cell_type": "code",
   "execution_count": 4,
   "metadata": {},
   "outputs": [
    {
     "data": {
      "text/plain": [
       "429"
      ]
     },
     "execution_count": 4,
     "metadata": {},
     "output_type": "execute_result"
    }
   ],
   "source": [
    "len(df1[\"Antigen\"].unique()) # nan"
   ]
  },
  {
   "cell_type": "code",
   "execution_count": 6,
   "metadata": {},
   "outputs": [
    {
     "data": {
      "text/plain": [
       "29226"
      ]
     },
     "execution_count": 6,
     "metadata": {},
     "output_type": "execute_result"
    }
   ],
   "source": [
    "len(df1[\"CDR3\"].unique())"
   ]
  },
  {
   "cell_type": "code",
   "execution_count": 7,
   "metadata": {},
   "outputs": [
    {
     "name": "stdout",
     "output_type": "stream",
     "text": [
      "1799\n"
     ]
    }
   ],
   "source": [
    "sum = 0\n",
    "for cdr3 in df1[\"CDR3\"].unique():\n",
    "    if \";\" in cdr3:\n",
    "        sum += 1\n",
    "print(sum)"
   ]
  },
  {
   "cell_type": "markdown",
   "metadata": {},
   "source": [
    "- **The data's a little dirty.**"
   ]
  },
  {
   "cell_type": "code",
   "execution_count": 8,
   "metadata": {},
   "outputs": [
    {
     "data": {
      "text/plain": [
       "(428, 32041)"
      ]
     },
     "execution_count": 8,
     "metadata": {},
     "output_type": "execute_result"
    }
   ],
   "source": [
    "# remove nan from colum \"Antigen\"\n",
    "df1 = df1.dropna(axis=0, subset = [\"Antigen\"]).reset_index(drop=True)\n",
    "\n",
    "len(df1[\"Antigen\"].unique()), len(df1)"
   ]
  },
  {
   "cell_type": "code",
   "execution_count": 9,
   "metadata": {},
   "outputs": [
    {
     "name": "stdout",
     "output_type": "stream",
     "text": [
      "0 28621\n"
     ]
    }
   ],
   "source": [
    "def remove_semicolons(data):\n",
    "    return data.strip(';')\n",
    "\n",
    "df1['CDR3'] = df1['CDR3'].apply(remove_semicolons)\n",
    "\n",
    "sum = 0\n",
    "for cdr3 in df1[\"CDR3\"].unique():\n",
    "    if \";\" in cdr3:\n",
    "        sum += 1\n",
    "print(sum, df1[\"CDR3\"].nunique())"
   ]
  },
  {
   "cell_type": "markdown",
   "metadata": {},
   "source": [
    "### ¶ Testing set"
   ]
  },
  {
   "cell_type": "code",
   "execution_count": 10,
   "metadata": {},
   "outputs": [
    {
     "data": {
      "text/html": [
       "<div>\n",
       "<style scoped>\n",
       "    .dataframe tbody tr th:only-of-type {\n",
       "        vertical-align: middle;\n",
       "    }\n",
       "\n",
       "    .dataframe tbody tr th {\n",
       "        vertical-align: top;\n",
       "    }\n",
       "\n",
       "    .dataframe thead th {\n",
       "        text-align: right;\n",
       "    }\n",
       "</style>\n",
       "<table border=\"1\" class=\"dataframe\">\n",
       "  <thead>\n",
       "    <tr style=\"text-align: right;\">\n",
       "      <th></th>\n",
       "      <th>CDR3</th>\n",
       "      <th>Antigen</th>\n",
       "      <th>HLA</th>\n",
       "    </tr>\n",
       "  </thead>\n",
       "  <tbody>\n",
       "    <tr>\n",
       "      <th>0</th>\n",
       "      <td>CASSLSFGTEAFF</td>\n",
       "      <td>SMLGIGIYPV</td>\n",
       "      <td>A*02:01</td>\n",
       "    </tr>\n",
       "    <tr>\n",
       "      <th>1</th>\n",
       "      <td>CASSLSFGTEAFF</td>\n",
       "      <td>LMFDRGMSLL</td>\n",
       "      <td>A*02:01</td>\n",
       "    </tr>\n",
       "    <tr>\n",
       "      <th>2</th>\n",
       "      <td>CASSLSFGTEAFF</td>\n",
       "      <td>ILEDRGFNQV</td>\n",
       "      <td>A*02:01</td>\n",
       "    </tr>\n",
       "  </tbody>\n",
       "</table>\n",
       "</div>"
      ],
      "text/plain": [
       "            CDR3     Antigen      HLA\n",
       "0  CASSLSFGTEAFF  SMLGIGIYPV  A*02:01\n",
       "1  CASSLSFGTEAFF  LMFDRGMSLL  A*02:01\n",
       "2  CASSLSFGTEAFF  ILEDRGFNQV  A*02:01"
      ]
     },
     "execution_count": 10,
     "metadata": {},
     "output_type": "execute_result"
    }
   ],
   "source": [
    "filename2 = \"testing_data.csv\"\n",
    "df2 = pd.read_csv(datapath+filename2, sep=\",\")\n",
    "df2.head(3)"
   ]
  },
  {
   "cell_type": "code",
   "execution_count": 11,
   "metadata": {},
   "outputs": [
    {
     "name": "stdout",
     "output_type": "stream",
     "text": [
      "CDR3's number: 272 \n",
      "Antigen's number: 224 \n",
      "HLA's number: 24 \n",
      "total number: 619 \n"
     ]
    }
   ],
   "source": [
    "# statistic\n",
    "for col in df2.columns:\n",
    "    print(f\"{col}'s number: {df2[col].nunique()} \")\n",
    "\n",
    "print(f\"total number: {len(df2)} \")"
   ]
  },
  {
   "cell_type": "code",
   "execution_count": 12,
   "metadata": {},
   "outputs": [
    {
     "data": {
      "text/plain": [
       "224"
      ]
     },
     "execution_count": 12,
     "metadata": {},
     "output_type": "execute_result"
    }
   ],
   "source": [
    "len(df2[\"Antigen\"].unique())"
   ]
  },
  {
   "cell_type": "code",
   "execution_count": 13,
   "metadata": {},
   "outputs": [
    {
     "data": {
      "text/plain": [
       "array(['SMLGIGIYPV', 'LMFDRGMSLL', 'ILEDRGFNQV', 'MMWDRGLGMM',\n",
       "       'NLSNLGILPV', 'IMEDVGWLNV', 'NMGGLGIMPV', 'MMWDRGMGLL',\n",
       "       'SMAGIGIVDV', 'SMLGIGIVPV', 'ALDSRSEHFM', 'AMDSRADMFV',\n",
       "       'SMNSREEVFV', 'IMDSKSENFL', 'SMNSHSGTFL', 'ELAGIGILTV',\n",
       "       'AAGIGILTV', 'EAAGIGILTV', 'SLYNTVATL', 'GILGFVFTL',\n",
       "       'ELAGIGILTV\\xa0', 'ALFNTVATL', 'CLFNTVATL', 'DLFNTVATL',\n",
       "       'ELFNTVATL', 'FLFNTVATL', 'GLFNTVATL', 'HLFNTVATL', 'ILFNTVATL',\n",
       "       'KLFNTVATL'], dtype=object)"
      ]
     },
     "execution_count": 13,
     "metadata": {},
     "output_type": "execute_result"
    }
   ],
   "source": [
    "df2[\"Antigen\"].unique()[:30]"
   ]
  },
  {
   "cell_type": "markdown",
   "metadata": {},
   "source": [
    "unexpected antigen:\n",
    "- 'ELAGIGILTV\\xa0' --> 'ELAGIGILTV '\n",
    "- '\\xa0NEGVKAAW' --> ' NEGVKAAW'"
   ]
  },
  {
   "cell_type": "code",
   "execution_count": 14,
   "metadata": {},
   "outputs": [
    {
     "data": {
      "text/plain": [
       "array(['SMLGIGIYPV', 'LMFDRGMSLL', 'ILEDRGFNQV', 'MMWDRGLGMM',\n",
       "       'NLSNLGILPV', 'IMEDVGWLNV', 'NMGGLGIMPV', 'MMWDRGMGLL',\n",
       "       'SMAGIGIVDV', 'SMLGIGIVPV', 'ALDSRSEHFM', 'AMDSRADMFV',\n",
       "       'SMNSREEVFV', 'IMDSKSENFL', 'SMNSHSGTFL', 'ELAGIGILTV',\n",
       "       'AAGIGILTV', 'EAAGIGILTV', 'SLYNTVATL', 'GILGFVFTL', 'ALFNTVATL',\n",
       "       'CLFNTVATL', 'DLFNTVATL', 'ELFNTVATL', 'FLFNTVATL', 'GLFNTVATL',\n",
       "       'HLFNTVATL', 'ILFNTVATL', 'KLFNTVATL', 'LLFNTVATL'], dtype=object)"
      ]
     },
     "execution_count": 14,
     "metadata": {},
     "output_type": "execute_result"
    }
   ],
   "source": [
    "def remove_space(data):\n",
    "    return data.strip(' ')\n",
    "\n",
    "df2['Antigen'] = df2['Antigen'].apply(remove_space)\n",
    "\n",
    "df2[\"Antigen\"].unique()[:30]"
   ]
  },
  {
   "cell_type": "code",
   "execution_count": 15,
   "metadata": {},
   "outputs": [
    {
     "data": {
      "text/plain": [
       "True"
      ]
     },
     "execution_count": 15,
     "metadata": {},
     "output_type": "execute_result"
    }
   ],
   "source": [
    "'ELAGIGILTV' in df2[\"Antigen\"].unique()"
   ]
  },
  {
   "cell_type": "markdown",
   "metadata": {},
   "source": [
    "### ¶ concat"
   ]
  },
  {
   "cell_type": "code",
   "execution_count": 16,
   "metadata": {},
   "outputs": [
    {
     "name": "stdout",
     "output_type": "stream",
     "text": [
      "CDR3's number: 28864 \n",
      "Antigen's number: 602 \n",
      "HLA's number: 71 \n",
      "total number: 32660 \n"
     ]
    }
   ],
   "source": [
    "# Concatenate along rows (vertically)\n",
    "result = pd.concat([df1, df2], ignore_index=True)\n",
    "\n",
    "for col in result.columns:\n",
    "    print(f\"{col}'s number: {result[col].nunique()} \")\n",
    "\n",
    "print(f\"total number: {len(result)} \")"
   ]
  },
  {
   "cell_type": "code",
   "execution_count": 17,
   "metadata": {},
   "outputs": [
    {
     "data": {
      "text/html": [
       "<div>\n",
       "<style scoped>\n",
       "    .dataframe tbody tr th:only-of-type {\n",
       "        vertical-align: middle;\n",
       "    }\n",
       "\n",
       "    .dataframe tbody tr th {\n",
       "        vertical-align: top;\n",
       "    }\n",
       "\n",
       "    .dataframe thead th {\n",
       "        text-align: right;\n",
       "    }\n",
       "</style>\n",
       "<table border=\"1\" class=\"dataframe\">\n",
       "  <thead>\n",
       "    <tr style=\"text-align: right;\">\n",
       "      <th></th>\n",
       "      <th>CDR3b</th>\n",
       "      <th>peptide</th>\n",
       "      <th>HLA</th>\n",
       "    </tr>\n",
       "  </thead>\n",
       "  <tbody>\n",
       "    <tr>\n",
       "      <th>0</th>\n",
       "      <td>CASSSRSSYEQYF</td>\n",
       "      <td>GILGFVFTL</td>\n",
       "      <td>HLA-A*02:01</td>\n",
       "    </tr>\n",
       "    <tr>\n",
       "      <th>1</th>\n",
       "      <td>CASSPVTGGIYGYTF</td>\n",
       "      <td>NLVPMVATV</td>\n",
       "      <td>HLA-A*02:01</td>\n",
       "    </tr>\n",
       "    <tr>\n",
       "      <th>2</th>\n",
       "      <td>CSARDGTGNGYTF</td>\n",
       "      <td>GLCTLVAML</td>\n",
       "      <td>HLA-A*02:01</td>\n",
       "    </tr>\n",
       "  </tbody>\n",
       "</table>\n",
       "</div>"
      ],
      "text/plain": [
       "             CDR3b    peptide          HLA\n",
       "0    CASSSRSSYEQYF  GILGFVFTL  HLA-A*02:01\n",
       "1  CASSPVTGGIYGYTF  NLVPMVATV  HLA-A*02:01\n",
       "2    CSARDGTGNGYTF  GLCTLVAML  HLA-A*02:01"
      ]
     },
     "execution_count": 17,
     "metadata": {},
     "output_type": "execute_result"
    }
   ],
   "source": [
    "# Define a function to modify the HLA gane name\n",
    "def add_prefix(data):\n",
    "    return \"HLA-\" + data if \"HLA-\" not in data else data\n",
    "\n",
    "result['HLA'] = result['HLA'].apply(add_prefix)\n",
    "result = result.rename(columns={\"CDR3\":\"CDR3b\", \"Antigen\":\"peptide\"})\n",
    "\n",
    "result.head(3)"
   ]
  },
  {
   "cell_type": "code",
   "execution_count": 18,
   "metadata": {},
   "outputs": [
    {
     "data": {
      "text/plain": [
       "array(['HLA-A*02:01', 'HLA-A*01:01', 'HLA-B*07:02', 'HLA-A*02',\n",
       "       'HLA-A*01', 'HLA-A*11', 'HLA-B*08', 'HLA-B*44:05', 'HLA-B*57:01',\n",
       "       'HLA-B*57:03', 'HLA-B*08:01', 'HLA-B*57', 'HLA-B*15', 'HLA-B*27',\n",
       "       'HLA-B*27:05', 'HLA-B*42', 'HLA-B*35:01', 'HLA-A*24:02',\n",
       "       'HLA-A*11:01', 'HLA-B*35:02', 'HLA-B*42:01', 'HLA-A*02:02',\n",
       "       'HLA-A*02:03', 'HLA-A*02:04', 'HLA-A*02:05', 'HLA-A*02:06',\n",
       "       'HLA-A*02:07', 'HLA-A*02:08', 'HLA-A*02:09', 'HLA-A*02:10',\n",
       "       'HLA-A*02:11', 'HLA-A*02:12', 'HLA-A*02:13', 'HLA-A*02:14',\n",
       "       'HLA-A*02:15', 'HLA-A*02:16', 'HLA-A*02:17', 'HLA-B*18',\n",
       "       'HLA-A*02:01:59', 'HLA-A*02:01:48', 'HLA-B*08:01:29',\n",
       "       'HLA-A*02:256', 'HLA-B*35:08:01', 'HLA-E*01:01:01:03',\n",
       "       'HLA-B*35:42:01', 'HLA-B*57:06', 'HLA-B*44:05:01',\n",
       "       'HLA-A*02:01:98', 'HLA-A*24:02:84', 'HLA-B*27:05:31',\n",
       "       'HLA-B*51:193', 'HLA-A*02:01:110', 'HLA-B*51:01', 'HLA-B*07',\n",
       "       'HLA-B*81:01', 'HLA-B*35:08', 'HLA-B*35', 'HLA-B*44:03:08',\n",
       "       'HLA-B*58', 'HLA-A*03:01', 'HLA-B*12', 'HLA-A*03', 'HLA-C*16:01',\n",
       "       'HLA-C*07:02', 'HLA-B*44:03', 'HLA-B*53:01', 'HLA-A*24',\n",
       "       'HLA-B*81', 'HLA-C*05:01', 'HLA-C*08:02', 'HLA-B*38:01'],\n",
       "      dtype=object)"
      ]
     },
     "execution_count": 18,
     "metadata": {},
     "output_type": "execute_result"
    }
   ],
   "source": [
    "result[\"HLA\"].unique()"
   ]
  },
  {
   "cell_type": "code",
   "execution_count": 19,
   "metadata": {},
   "outputs": [
    {
     "data": {
      "text/html": [
       "<div>\n",
       "<style scoped>\n",
       "    .dataframe tbody tr th:only-of-type {\n",
       "        vertical-align: middle;\n",
       "    }\n",
       "\n",
       "    .dataframe tbody tr th {\n",
       "        vertical-align: top;\n",
       "    }\n",
       "\n",
       "    .dataframe thead th {\n",
       "        text-align: right;\n",
       "    }\n",
       "</style>\n",
       "<table border=\"1\" class=\"dataframe\">\n",
       "  <thead>\n",
       "    <tr style=\"text-align: right;\">\n",
       "      <th></th>\n",
       "      <th>CDR3b</th>\n",
       "      <th>peptide</th>\n",
       "      <th>binder</th>\n",
       "      <th>HLA</th>\n",
       "    </tr>\n",
       "  </thead>\n",
       "  <tbody>\n",
       "    <tr>\n",
       "      <th>0</th>\n",
       "      <td>CASSSRSSYEQYF</td>\n",
       "      <td>GILGFVFTL</td>\n",
       "      <td>1</td>\n",
       "      <td>HLA-A*02:01</td>\n",
       "    </tr>\n",
       "    <tr>\n",
       "      <th>1</th>\n",
       "      <td>CASSPVTGGIYGYTF</td>\n",
       "      <td>NLVPMVATV</td>\n",
       "      <td>1</td>\n",
       "      <td>HLA-A*02:01</td>\n",
       "    </tr>\n",
       "    <tr>\n",
       "      <th>2</th>\n",
       "      <td>CSARDGTGNGYTF</td>\n",
       "      <td>GLCTLVAML</td>\n",
       "      <td>1</td>\n",
       "      <td>HLA-A*02:01</td>\n",
       "    </tr>\n",
       "  </tbody>\n",
       "</table>\n",
       "</div>"
      ],
      "text/plain": [
       "             CDR3b    peptide  binder          HLA\n",
       "0    CASSSRSSYEQYF  GILGFVFTL       1  HLA-A*02:01\n",
       "1  CASSPVTGGIYGYTF  NLVPMVATV       1  HLA-A*02:01\n",
       "2    CSARDGTGNGYTF  GLCTLVAML       1  HLA-A*02:01"
      ]
     },
     "execution_count": 19,
     "metadata": {},
     "output_type": "execute_result"
    }
   ],
   "source": [
    "# All positive samples\n",
    "# Add a new column with all elements as 1 between columns 'peptide' and 'HLA'\n",
    "position = result.columns.get_loc('HLA')  # Get the index of 'HLA' column\n",
    "result.insert(position, 'binder', [1]*len(result))\n",
    "\n",
    "result.head(3)"
   ]
  },
  {
   "cell_type": "markdown",
   "metadata": {},
   "source": [
    "- Save data to ``TCRdata/otherpapers/``"
   ]
  },
  {
   "cell_type": "code",
   "execution_count": 20,
   "metadata": {},
   "outputs": [
    {
     "name": "stdout",
     "output_type": "stream",
     "text": [
      "number of brief data: 32660\n",
      "number of duplicated brief data: 32070\n",
      "File /data/lujd/TCRdata/otherpapers/pMTnet.csv has been successfully saved.\n"
     ]
    }
   ],
   "source": [
    "# save\n",
    "print(f\"number of brief data: {len(result)}\")\n",
    "\n",
    "result = result.drop_duplicates(ignore_index=True)\n",
    "print(f\"number of duplicated brief data: {len(result)}\")\n",
    "\n",
    "savepath = to_your_path + \"TCRdata/otherpapers/\"\n",
    "savename = \"pMTnet.csv\"\n",
    "save_csv(result, savepath, savename)"
   ]
  }
 ],
 "metadata": {
  "kernelspec": {
   "display_name": "dock",
   "language": "python",
   "name": "python3"
  },
  "language_info": {
   "codemirror_mode": {
    "name": "ipython",
    "version": 3
   },
   "file_extension": ".py",
   "mimetype": "text/x-python",
   "name": "python",
   "nbconvert_exporter": "python",
   "pygments_lexer": "ipython3",
   "version": "3.9.18"
  },
  "orig_nbformat": 4
 },
 "nbformat": 4,
 "nbformat_minor": 2
}
