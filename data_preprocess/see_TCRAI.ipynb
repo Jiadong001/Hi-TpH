{
 "cells": [
  {
   "cell_type": "markdown",
   "metadata": {},
   "source": [
    "# Data from TCRAI\n",
    "\n",
    "- download from: https://github.com/regeneron-mpds/TCRAI/tree/main/data\n",
    "- 放在 ``TCRdata/raw/paper/TCRAI/``"
   ]
  },
  {
   "cell_type": "code",
   "execution_count": 1,
   "metadata": {},
   "outputs": [],
   "source": [
    "import pandas as pd\n",
    "\n",
    "to_your_path = '/data/lujd/'"
   ]
  },
  {
   "cell_type": "markdown",
   "metadata": {},
   "source": [
    "### ¶ CNN...csv"
   ]
  },
  {
   "cell_type": "code",
   "execution_count": 6,
   "metadata": {},
   "outputs": [
    {
     "data": {
      "text/html": [
       "<div>\n",
       "<style scoped>\n",
       "    .dataframe tbody tr th:only-of-type {\n",
       "        vertical-align: middle;\n",
       "    }\n",
       "\n",
       "    .dataframe tbody tr th {\n",
       "        vertical-align: top;\n",
       "    }\n",
       "\n",
       "    .dataframe thead th {\n",
       "        text-align: right;\n",
       "    }\n",
       "</style>\n",
       "<table border=\"1\" class=\"dataframe\">\n",
       "  <thead>\n",
       "    <tr style=\"text-align: right;\">\n",
       "      <th></th>\n",
       "      <th>TRB_cdr3</th>\n",
       "      <th>TRB_v_gene</th>\n",
       "      <th>TRB_d_gene</th>\n",
       "      <th>TRB_j_gene</th>\n",
       "      <th>TRA_cdr3</th>\n",
       "      <th>TRA_v_gene</th>\n",
       "      <th>TRA_d_gene</th>\n",
       "      <th>TRA_j_gene</th>\n",
       "      <th>Clonality</th>\n",
       "      <th>pmhc_code</th>\n",
       "      <th>id</th>\n",
       "      <th>binds</th>\n",
       "      <th>TCR_id</th>\n",
       "    </tr>\n",
       "  </thead>\n",
       "  <tbody>\n",
       "    <tr>\n",
       "      <th>0</th>\n",
       "      <td>CASSFGSGLAGGNFYNEQFF</td>\n",
       "      <td>TRBV12-4</td>\n",
       "      <td>na</td>\n",
       "      <td>TRBJ2-1</td>\n",
       "      <td>CAMRDWTGNQFYF</td>\n",
       "      <td>TRAV14/DV4</td>\n",
       "      <td>na</td>\n",
       "      <td>TRAJ49</td>\n",
       "      <td>na</td>\n",
       "      <td>IPSINVHHY_pp65_CMV_binders</td>\n",
       "      <td>IPSINVHHY</td>\n",
       "      <td>1</td>\n",
       "      <td>0</td>\n",
       "    </tr>\n",
       "    <tr>\n",
       "      <th>1</th>\n",
       "      <td>CSVESGRTDEQYF</td>\n",
       "      <td>TRBV29-1</td>\n",
       "      <td>na</td>\n",
       "      <td>TRBJ2-7</td>\n",
       "      <td>CAVSGDYGQNFVF</td>\n",
       "      <td>TRAV8-4</td>\n",
       "      <td>na</td>\n",
       "      <td>TRAJ26</td>\n",
       "      <td>na</td>\n",
       "      <td>IPSINVHHY_pp65_CMV_binders</td>\n",
       "      <td>IPSINVHHY</td>\n",
       "      <td>1</td>\n",
       "      <td>1</td>\n",
       "    </tr>\n",
       "    <tr>\n",
       "      <th>2</th>\n",
       "      <td>CSVVTFYYEQYF</td>\n",
       "      <td>TRBV29-1</td>\n",
       "      <td>na</td>\n",
       "      <td>TRBJ2-7</td>\n",
       "      <td>CAVVGSGTYKYIF</td>\n",
       "      <td>TRAV21</td>\n",
       "      <td>na</td>\n",
       "      <td>TRAJ40</td>\n",
       "      <td>na</td>\n",
       "      <td>IPSINVHHY_pp65_CMV_binders</td>\n",
       "      <td>IPSINVHHY</td>\n",
       "      <td>1</td>\n",
       "      <td>2</td>\n",
       "    </tr>\n",
       "    <tr>\n",
       "      <th>3</th>\n",
       "      <td>CSVEGSEDYGYTF</td>\n",
       "      <td>TRBV29-1</td>\n",
       "      <td>na</td>\n",
       "      <td>TRBJ1-2</td>\n",
       "      <td>CIAPVPLNFNKFYF</td>\n",
       "      <td>TRAV26-1</td>\n",
       "      <td>na</td>\n",
       "      <td>TRAJ21</td>\n",
       "      <td>na</td>\n",
       "      <td>IPSINVHHY_pp65_CMV_binders</td>\n",
       "      <td>IPSINVHHY</td>\n",
       "      <td>1</td>\n",
       "      <td>3</td>\n",
       "    </tr>\n",
       "    <tr>\n",
       "      <th>4</th>\n",
       "      <td>CSVEWLNNEQFF</td>\n",
       "      <td>TRBV29-1</td>\n",
       "      <td>na</td>\n",
       "      <td>TRBJ2-1</td>\n",
       "      <td>CLVGGGTGGFKTIF</td>\n",
       "      <td>TRAV4</td>\n",
       "      <td>na</td>\n",
       "      <td>TRAJ9</td>\n",
       "      <td>na</td>\n",
       "      <td>IPSINVHHY_pp65_CMV_binders</td>\n",
       "      <td>IPSINVHHY</td>\n",
       "      <td>1</td>\n",
       "      <td>4</td>\n",
       "    </tr>\n",
       "  </tbody>\n",
       "</table>\n",
       "</div>"
      ],
      "text/plain": [
       "               TRB_cdr3 TRB_v_gene TRB_d_gene TRB_j_gene        TRA_cdr3  \\\n",
       "0  CASSFGSGLAGGNFYNEQFF   TRBV12-4         na    TRBJ2-1   CAMRDWTGNQFYF   \n",
       "1         CSVESGRTDEQYF   TRBV29-1         na    TRBJ2-7   CAVSGDYGQNFVF   \n",
       "2          CSVVTFYYEQYF   TRBV29-1         na    TRBJ2-7   CAVVGSGTYKYIF   \n",
       "3         CSVEGSEDYGYTF   TRBV29-1         na    TRBJ1-2  CIAPVPLNFNKFYF   \n",
       "4          CSVEWLNNEQFF   TRBV29-1         na    TRBJ2-1  CLVGGGTGGFKTIF   \n",
       "\n",
       "   TRA_v_gene TRA_d_gene TRA_j_gene Clonality                   pmhc_code  \\\n",
       "0  TRAV14/DV4         na     TRAJ49        na  IPSINVHHY_pp65_CMV_binders   \n",
       "1     TRAV8-4         na     TRAJ26        na  IPSINVHHY_pp65_CMV_binders   \n",
       "2      TRAV21         na     TRAJ40        na  IPSINVHHY_pp65_CMV_binders   \n",
       "3    TRAV26-1         na     TRAJ21        na  IPSINVHHY_pp65_CMV_binders   \n",
       "4       TRAV4         na      TRAJ9        na  IPSINVHHY_pp65_CMV_binders   \n",
       "\n",
       "          id  binds  TCR_id  \n",
       "0  IPSINVHHY      1       0  \n",
       "1  IPSINVHHY      1       1  \n",
       "2  IPSINVHHY      1       2  \n",
       "3  IPSINVHHY      1       3  \n",
       "4  IPSINVHHY      1       4  "
      ]
     },
     "execution_count": 6,
     "metadata": {},
     "output_type": "execute_result"
    }
   ],
   "source": [
    "datapath = to_your_path + \"TCRdata/raw/paper/TCRAI/\"\n",
    "filename1 = \"CNN-prediction-with-REGN-pilot-version-2.csv\"\n",
    "\n",
    "df1 = pd.read_csv(datapath+filename1, sep=\",\")\n",
    "df1.head(5)"
   ]
  },
  {
   "cell_type": "code",
   "execution_count": 9,
   "metadata": {},
   "outputs": [
    {
     "data": {
      "text/html": [
       "<div>\n",
       "<style scoped>\n",
       "    .dataframe tbody tr th:only-of-type {\n",
       "        vertical-align: middle;\n",
       "    }\n",
       "\n",
       "    .dataframe tbody tr th {\n",
       "        vertical-align: top;\n",
       "    }\n",
       "\n",
       "    .dataframe thead th {\n",
       "        text-align: right;\n",
       "    }\n",
       "</style>\n",
       "<table border=\"1\" class=\"dataframe\">\n",
       "  <thead>\n",
       "    <tr style=\"text-align: right;\">\n",
       "      <th></th>\n",
       "      <th>id</th>\n",
       "    </tr>\n",
       "  </thead>\n",
       "  <tbody>\n",
       "    <tr>\n",
       "      <th>0</th>\n",
       "      <td>IPSINVHHY</td>\n",
       "    </tr>\n",
       "    <tr>\n",
       "      <th>1</th>\n",
       "      <td>AVFDRKSDAK</td>\n",
       "    </tr>\n",
       "    <tr>\n",
       "      <th>2</th>\n",
       "      <td>GILGFVFTL</td>\n",
       "    </tr>\n",
       "    <tr>\n",
       "      <th>3</th>\n",
       "      <td>NLVPMVATV</td>\n",
       "    </tr>\n",
       "    <tr>\n",
       "      <th>4</th>\n",
       "      <td>IVTDFSVIK</td>\n",
       "    </tr>\n",
       "    <tr>\n",
       "      <th>5</th>\n",
       "      <td>RAKFKQLL</td>\n",
       "    </tr>\n",
       "    <tr>\n",
       "      <th>6</th>\n",
       "      <td>GLCTLVAML</td>\n",
       "    </tr>\n",
       "    <tr>\n",
       "      <th>7</th>\n",
       "      <td>ELAGIGILTV</td>\n",
       "    </tr>\n",
       "    <tr>\n",
       "      <th>8</th>\n",
       "      <td>KLGGALQAK</td>\n",
       "    </tr>\n",
       "  </tbody>\n",
       "</table>\n",
       "</div>"
      ],
      "text/plain": [
       "           id\n",
       "0   IPSINVHHY\n",
       "1  AVFDRKSDAK\n",
       "2   GILGFVFTL\n",
       "3   NLVPMVATV\n",
       "4   IVTDFSVIK\n",
       "5    RAKFKQLL\n",
       "6   GLCTLVAML\n",
       "7  ELAGIGILTV\n",
       "8   KLGGALQAK"
      ]
     },
     "execution_count": 9,
     "metadata": {},
     "output_type": "execute_result"
    }
   ],
   "source": [
    "filename1_id = \"CNN-prediction-with-REGN-pilot-version-2_id_df.csv\"\n",
    "df1_pep_id = pd.read_csv(datapath+filename1_id, sep=\",\")\n",
    "df1_pep_id"
   ]
  },
  {
   "cell_type": "code",
   "execution_count": 8,
   "metadata": {},
   "outputs": [
    {
     "name": "stdout",
     "output_type": "stream",
     "text": [
      "TRB_cdr3's number: 4432 \n",
      "TRB_v_gene's number: 49 \n",
      "TRB_d_gene's number: 1 \n",
      "TRB_j_gene's number: 13 \n",
      "TRA_cdr3's number: 4384 \n",
      "TRA_v_gene's number: 47 \n",
      "TRA_d_gene's number: 1 \n",
      "TRA_j_gene's number: 52 \n",
      "Clonality's number: 1 \n",
      "pmhc_code's number: 18 \n",
      "id's number: 9 \n",
      "binds's number: 2 \n",
      "TCR_id's number: 51750 \n",
      "total number: 51750 \n"
     ]
    }
   ],
   "source": [
    "# statistic\n",
    "for col in df1.columns:\n",
    "    print(f\"{col}'s number: {df1[col].nunique()} \")\n",
    "\n",
    "print(f\"total number: {len(df1)} \")"
   ]
  },
  {
   "cell_type": "code",
   "execution_count": 10,
   "metadata": {},
   "outputs": [
    {
     "data": {
      "text/plain": [
       "array(['na'], dtype=object)"
      ]
     },
     "execution_count": 10,
     "metadata": {},
     "output_type": "execute_result"
    }
   ],
   "source": [
    "df1['TRB_d_gene'].unique()"
   ]
  },
  {
   "cell_type": "code",
   "execution_count": 23,
   "metadata": {},
   "outputs": [],
   "source": [
    "assert 'na' not in df1['TRB_v_gene'].unique()\n",
    "assert 'na' not in df1['TRB_j_gene'].unique()\n",
    "assert 'na' not in df1['TRA_v_gene'].unique()\n",
    "assert 'na' not in df1['TRA_j_gene'].unique()\n",
    "\n",
    "# NAN\n",
    "assert df1['TRB_v_gene'].nunique() == len(df1['TRB_v_gene'].unique())\n",
    "assert df1['TRB_j_gene'].nunique() == len(df1['TRB_j_gene'].unique())\n",
    "assert df1['TRA_v_gene'].nunique() == len(df1['TRA_v_gene'].unique())\n",
    "assert df1['TRA_j_gene'].nunique() == len(df1['TRA_j_gene'].unique())"
   ]
  },
  {
   "cell_type": "code",
   "execution_count": 11,
   "metadata": {},
   "outputs": [
    {
     "data": {
      "text/plain": [
       "array(['IPSINVHHY_pp65_CMV_binders', 'AVFDRKSDAK_EBNA-3B_EBV_binders',\n",
       "       'GILGFVFTL_Flu-MP_Influenza_binders', 'NLVPMVATV_pp65_CMV_binders',\n",
       "       'IVTDFSVIK_EBNA-3B_EBV_binders', 'RAKFKQLL_BZLF1_EBV_binders',\n",
       "       'GLCTLVAML_BMLF1_EBV_binders', 'ELAGIGILTV_MART-1_Cancer_binders',\n",
       "       'KLGGALQAK_IE-1_CMV_binders', 'IPSINVHHY_pp65_CMV_nonbinders',\n",
       "       'AVFDRKSDAK_EBNA-3B_EBV_nonbinders',\n",
       "       'GILGFVFTL_Flu-MP_Influenza_nonbinders',\n",
       "       'NLVPMVATV_pp65_CMV_nonbinders',\n",
       "       'IVTDFSVIK_EBNA-3B_EBV_nonbinders',\n",
       "       'RAKFKQLL_BZLF1_EBV_nonbinders', 'GLCTLVAML_BMLF1_EBV_nonbinders',\n",
       "       'ELAGIGILTV_MART-1_Cancer_nonbinders',\n",
       "       'KLGGALQAK_IE-1_CMV_nonbinders'], dtype=object)"
      ]
     },
     "execution_count": 11,
     "metadata": {},
     "output_type": "execute_result"
    }
   ],
   "source": [
    "df1['pmhc_code'].unique()   # binder/nonbinder, so pmhc_code's number = 2 * id's number"
   ]
  },
  {
   "cell_type": "code",
   "execution_count": 7,
   "metadata": {},
   "outputs": [
    {
     "data": {
      "text/html": [
       "<div>\n",
       "<style scoped>\n",
       "    .dataframe tbody tr th:only-of-type {\n",
       "        vertical-align: middle;\n",
       "    }\n",
       "\n",
       "    .dataframe tbody tr th {\n",
       "        vertical-align: top;\n",
       "    }\n",
       "\n",
       "    .dataframe thead th {\n",
       "        text-align: right;\n",
       "    }\n",
       "</style>\n",
       "<table border=\"1\" class=\"dataframe\">\n",
       "  <thead>\n",
       "    <tr style=\"text-align: right;\">\n",
       "      <th></th>\n",
       "      <th>TRB_cdr3</th>\n",
       "      <th>TRB_v_gene</th>\n",
       "      <th>TRB_d_gene</th>\n",
       "      <th>TRB_j_gene</th>\n",
       "      <th>TRA_cdr3</th>\n",
       "      <th>TRA_v_gene</th>\n",
       "      <th>TRA_d_gene</th>\n",
       "      <th>TRA_j_gene</th>\n",
       "      <th>Clonality</th>\n",
       "      <th>pmhc_code</th>\n",
       "      <th>id</th>\n",
       "      <th>binds</th>\n",
       "      <th>TCR_id</th>\n",
       "    </tr>\n",
       "  </thead>\n",
       "  <tbody>\n",
       "    <tr>\n",
       "      <th>0</th>\n",
       "      <td>CASSFGSGLAGGNFYNEQFF</td>\n",
       "      <td>TRBV12-4</td>\n",
       "      <td>na</td>\n",
       "      <td>TRBJ2-1</td>\n",
       "      <td>CAMRDWTGNQFYF</td>\n",
       "      <td>TRAV14/DV4</td>\n",
       "      <td>na</td>\n",
       "      <td>TRAJ49</td>\n",
       "      <td>na</td>\n",
       "      <td>B*35:01_IPSINVHHY_ pp65_CMV</td>\n",
       "      <td>IPSINVHHY</td>\n",
       "      <td>1</td>\n",
       "      <td>0</td>\n",
       "    </tr>\n",
       "    <tr>\n",
       "      <th>1</th>\n",
       "      <td>CSVESGRTDEQYF</td>\n",
       "      <td>TRBV29-1</td>\n",
       "      <td>na</td>\n",
       "      <td>TRBJ2-7</td>\n",
       "      <td>CAVSGDYGQNFVF</td>\n",
       "      <td>TRAV8-4</td>\n",
       "      <td>na</td>\n",
       "      <td>TRAJ26</td>\n",
       "      <td>na</td>\n",
       "      <td>B*35:01_IPSINVHHY_ pp65_CMV</td>\n",
       "      <td>IPSINVHHY</td>\n",
       "      <td>1</td>\n",
       "      <td>1</td>\n",
       "    </tr>\n",
       "    <tr>\n",
       "      <th>2</th>\n",
       "      <td>CSVVTFYYEQYF</td>\n",
       "      <td>TRBV29-1</td>\n",
       "      <td>na</td>\n",
       "      <td>TRBJ2-7</td>\n",
       "      <td>CAVVGSGTYKYIF</td>\n",
       "      <td>TRAV21</td>\n",
       "      <td>na</td>\n",
       "      <td>TRAJ40</td>\n",
       "      <td>na</td>\n",
       "      <td>B*35:01_IPSINVHHY_ pp65_CMV</td>\n",
       "      <td>IPSINVHHY</td>\n",
       "      <td>1</td>\n",
       "      <td>2</td>\n",
       "    </tr>\n",
       "  </tbody>\n",
       "</table>\n",
       "</div>"
      ],
      "text/plain": [
       "               TRB_cdr3 TRB_v_gene TRB_d_gene TRB_j_gene       TRA_cdr3  \\\n",
       "0  CASSFGSGLAGGNFYNEQFF   TRBV12-4         na    TRBJ2-1  CAMRDWTGNQFYF   \n",
       "1         CSVESGRTDEQYF   TRBV29-1         na    TRBJ2-7  CAVSGDYGQNFVF   \n",
       "2          CSVVTFYYEQYF   TRBV29-1         na    TRBJ2-7  CAVVGSGTYKYIF   \n",
       "\n",
       "   TRA_v_gene TRA_d_gene TRA_j_gene Clonality                    pmhc_code  \\\n",
       "0  TRAV14/DV4         na     TRAJ49        na  B*35:01_IPSINVHHY_ pp65_CMV   \n",
       "1     TRAV8-4         na     TRAJ26        na  B*35:01_IPSINVHHY_ pp65_CMV   \n",
       "2      TRAV21         na     TRAJ40        na  B*35:01_IPSINVHHY_ pp65_CMV   \n",
       "\n",
       "          id  binds  TCR_id  \n",
       "0  IPSINVHHY      1       0  \n",
       "1  IPSINVHHY      1       1  \n",
       "2  IPSINVHHY      1       2  "
      ]
     },
     "execution_count": 7,
     "metadata": {},
     "output_type": "execute_result"
    }
   ],
   "source": [
    "pmhc_map_dict = {\n",
    "    'IPSINVHHY_pp65_CMV_binders':'B*35:01_IPSINVHHY_ pp65_CMV',\n",
    "    'IPSINVHHY_pp65_CMV_nonbinders':'B*35:01_IPSINVHHY_ pp65_CMV',\n",
    "    'AVFDRKSDAK_EBNA-3B_EBV_binders':'A*11:01_AVFDRKSDAK_EBNA-3B_EBV',\n",
    "    'AVFDRKSDAK_EBNA-3B_EBV_nonbinders':'A*11:01_AVFDRKSDAK_EBNA-3B_EBV',\n",
    "    'GILGFVFTL_Flu-MP_Influenza_binders':'A*02:01_GILGFVFTL_Flu-MP_Influenza',\n",
    "    'GILGFVFTL_Flu-MP_Influenza_nonbinders':'A*02:01_GILGFVFTL_Flu-MP_Influenza',\n",
    "    'NLVPMVATV_pp65_CMV_binders':'A*02:01_NLVPMVATV_pp65_CMV',\n",
    "    'NLVPMVATV_pp65_CMV_nonbinders':'A*02:01_NLVPMVATV_pp65_CMV',\n",
    "    'IVTDFSVIK_EBNA-3B_EBV_binders':'A*11:01_IVTDFSVIK_ EBNA-3B_EBV',\n",
    "    'IVTDFSVIK_EBNA-3B_EBV_nonbinders':'A*11:01_IVTDFSVIK_ EBNA-3B_EBV', \n",
    "    'RAKFKQLL_BZLF1_EBV_binders':'B*08:01_RAKFKQLL_BZLF1_EBV',\n",
    "    'RAKFKQLL_BZLF1_EBV_nonbinders':'B*08:01_RAKFKQLL_BZLF1_EBV',\n",
    "    'GLCTLVAML_BMLF1_EBV_binders':'A*02:01_GLCTLVAML_BMLF1_ EBV', \n",
    "    'GLCTLVAML_BMLF1_EBV_nonbinders':'A*02:01_GLCTLVAML_BMLF1_ EBV', \n",
    "    'ELAGIGILTV_MART-1_Cancer_binders':'A*02:01_ELAGIGILTV_MART-1_Cancer',\n",
    "    'ELAGIGILTV_MART-1_Cancer_nonbinders':'A*02:01_ELAGIGILTV_MART-1_Cancer',\n",
    "    'KLGGALQAK_IE-1_CMV_binders':'A*03:01_KLGGALQAK_IE-1_CMV',\n",
    "    'KLGGALQAK_IE-1_CMV_nonbinders':'A*03:01_KLGGALQAK_IE-1_CMV',\n",
    "}\n",
    "\n",
    "def rename_code(data):\n",
    "    return pmhc_map_dict[data]\n",
    "\n",
    "df1['pmhc_code'] = df1['pmhc_code'].apply(rename_code)\n",
    "df1.head(3)"
   ]
  },
  {
   "cell_type": "code",
   "execution_count": 8,
   "metadata": {},
   "outputs": [],
   "source": [
    "def add_HLA(data):\n",
    "    return 'HLA-' + data.split('_')[0]\n",
    "\n",
    "df1['HLA'] = df1['pmhc_code'].apply(add_HLA)"
   ]
  },
  {
   "cell_type": "code",
   "execution_count": 9,
   "metadata": {},
   "outputs": [
    {
     "data": {
      "text/plain": [
       "array(['HLA-B*35:01', 'HLA-A*11:01', 'HLA-A*02:01', 'HLA-B*08:01',\n",
       "       'HLA-A*03:01'], dtype=object)"
      ]
     },
     "execution_count": 9,
     "metadata": {},
     "output_type": "execute_result"
    }
   ],
   "source": [
    "df1['HLA'].unique()"
   ]
  },
  {
   "cell_type": "markdown",
   "metadata": {},
   "source": [
    "### ¶ Public.csv"
   ]
  },
  {
   "cell_type": "code",
   "execution_count": 10,
   "metadata": {},
   "outputs": [
    {
     "data": {
      "text/html": [
       "<div>\n",
       "<style scoped>\n",
       "    .dataframe tbody tr th:only-of-type {\n",
       "        vertical-align: middle;\n",
       "    }\n",
       "\n",
       "    .dataframe tbody tr th {\n",
       "        vertical-align: top;\n",
       "    }\n",
       "\n",
       "    .dataframe thead th {\n",
       "        text-align: right;\n",
       "    }\n",
       "</style>\n",
       "<table border=\"1\" class=\"dataframe\">\n",
       "  <thead>\n",
       "    <tr style=\"text-align: right;\">\n",
       "      <th></th>\n",
       "      <th>TRA_cdr3</th>\n",
       "      <th>TRA_v_gene</th>\n",
       "      <th>TRA_d_gene</th>\n",
       "      <th>TRA_j_gene</th>\n",
       "      <th>TRB_cdr3</th>\n",
       "      <th>TRB_v_gene</th>\n",
       "      <th>TRB_d_gene</th>\n",
       "      <th>TRB_j_gene</th>\n",
       "      <th>clonality</th>\n",
       "      <th>pmhc_code</th>\n",
       "      <th>id</th>\n",
       "      <th>binds</th>\n",
       "      <th>TCR_id</th>\n",
       "    </tr>\n",
       "  </thead>\n",
       "  <tbody>\n",
       "    <tr>\n",
       "      <th>0</th>\n",
       "      <td>CAAADDKIIF</td>\n",
       "      <td>TRAV12-2</td>\n",
       "      <td>NaN</td>\n",
       "      <td>TRAJ30</td>\n",
       "      <td>CASSQGTISYEQYF</td>\n",
       "      <td>TRBV14</td>\n",
       "      <td>NaN</td>\n",
       "      <td>TRBJ2-7</td>\n",
       "      <td>1</td>\n",
       "      <td>bind_HLA-A02_YellowFeverVirus_YFV_LLWNGPMAV</td>\n",
       "      <td>LLWNGPMAV</td>\n",
       "      <td>1</td>\n",
       "      <td>0</td>\n",
       "    </tr>\n",
       "    <tr>\n",
       "      <th>1</th>\n",
       "      <td>CAACAEYGNKLVF</td>\n",
       "      <td>TRAV27</td>\n",
       "      <td>NaN</td>\n",
       "      <td>TRAJ47</td>\n",
       "      <td>CASSVGGVTYNEQFF</td>\n",
       "      <td>TRBV9</td>\n",
       "      <td>NaN</td>\n",
       "      <td>TRBJ2-1</td>\n",
       "      <td>1</td>\n",
       "      <td>bind_HLA-A02_YellowFeverVirus_YFV_LLWNGPMAV</td>\n",
       "      <td>LLWNGPMAV</td>\n",
       "      <td>1</td>\n",
       "      <td>1</td>\n",
       "    </tr>\n",
       "    <tr>\n",
       "      <th>2</th>\n",
       "      <td>CAAIDDKIIF</td>\n",
       "      <td>TRAV12-2</td>\n",
       "      <td>NaN</td>\n",
       "      <td>TRAJ30</td>\n",
       "      <td>CASTDGGDSYTQYF</td>\n",
       "      <td>TRBV6-3</td>\n",
       "      <td>NaN</td>\n",
       "      <td>TRBJ2-3</td>\n",
       "      <td>1</td>\n",
       "      <td>bind_HLA-A02_YellowFeverVirus_YFV_LLWNGPMAV</td>\n",
       "      <td>LLWNGPMAV</td>\n",
       "      <td>1</td>\n",
       "      <td>2</td>\n",
       "    </tr>\n",
       "    <tr>\n",
       "      <th>3</th>\n",
       "      <td>CAAKDDKIIF</td>\n",
       "      <td>TRAV12-2</td>\n",
       "      <td>NaN</td>\n",
       "      <td>TRAJ30</td>\n",
       "      <td>CATGAASSYEQYF</td>\n",
       "      <td>TRBV15</td>\n",
       "      <td>NaN</td>\n",
       "      <td>TRBJ2-7</td>\n",
       "      <td>1</td>\n",
       "      <td>bind_HLA-A02_YellowFeverVirus_YFV_LLWNGPMAV</td>\n",
       "      <td>LLWNGPMAV</td>\n",
       "      <td>1</td>\n",
       "      <td>3</td>\n",
       "    </tr>\n",
       "    <tr>\n",
       "      <th>4</th>\n",
       "      <td>CAALDDKIIF</td>\n",
       "      <td>TRAV12-2</td>\n",
       "      <td>NaN</td>\n",
       "      <td>TRAJ30</td>\n",
       "      <td>CASSQEGTPISYEQYF</td>\n",
       "      <td>TRBV14</td>\n",
       "      <td>NaN</td>\n",
       "      <td>TRBJ2-7</td>\n",
       "      <td>1</td>\n",
       "      <td>bind_HLA-A02_YellowFeverVirus_YFV_LLWNGPMAV</td>\n",
       "      <td>LLWNGPMAV</td>\n",
       "      <td>1</td>\n",
       "      <td>4</td>\n",
       "    </tr>\n",
       "  </tbody>\n",
       "</table>\n",
       "</div>"
      ],
      "text/plain": [
       "        TRA_cdr3 TRA_v_gene  TRA_d_gene TRA_j_gene          TRB_cdr3  \\\n",
       "0     CAAADDKIIF   TRAV12-2         NaN     TRAJ30    CASSQGTISYEQYF   \n",
       "1  CAACAEYGNKLVF     TRAV27         NaN     TRAJ47   CASSVGGVTYNEQFF   \n",
       "2     CAAIDDKIIF   TRAV12-2         NaN     TRAJ30    CASTDGGDSYTQYF   \n",
       "3     CAAKDDKIIF   TRAV12-2         NaN     TRAJ30     CATGAASSYEQYF   \n",
       "4     CAALDDKIIF   TRAV12-2         NaN     TRAJ30  CASSQEGTPISYEQYF   \n",
       "\n",
       "  TRB_v_gene TRB_d_gene TRB_j_gene  clonality  \\\n",
       "0     TRBV14        NaN    TRBJ2-7          1   \n",
       "1      TRBV9        NaN    TRBJ2-1          1   \n",
       "2    TRBV6-3        NaN    TRBJ2-3          1   \n",
       "3     TRBV15        NaN    TRBJ2-7          1   \n",
       "4     TRBV14        NaN    TRBJ2-7          1   \n",
       "\n",
       "                                     pmhc_code         id  binds  TCR_id  \n",
       "0  bind_HLA-A02_YellowFeverVirus_YFV_LLWNGPMAV  LLWNGPMAV      1       0  \n",
       "1  bind_HLA-A02_YellowFeverVirus_YFV_LLWNGPMAV  LLWNGPMAV      1       1  \n",
       "2  bind_HLA-A02_YellowFeverVirus_YFV_LLWNGPMAV  LLWNGPMAV      1       2  \n",
       "3  bind_HLA-A02_YellowFeverVirus_YFV_LLWNGPMAV  LLWNGPMAV      1       3  \n",
       "4  bind_HLA-A02_YellowFeverVirus_YFV_LLWNGPMAV  LLWNGPMAV      1       4  "
      ]
     },
     "execution_count": 10,
     "metadata": {},
     "output_type": "execute_result"
    }
   ],
   "source": [
    "filename2 = \"public_TCRs.csv\"\n",
    "\n",
    "df2 = pd.read_csv(datapath+filename2, sep=\",\")\n",
    "df2.head(5)"
   ]
  },
  {
   "cell_type": "code",
   "execution_count": 13,
   "metadata": {},
   "outputs": [
    {
     "data": {
      "text/html": [
       "<div>\n",
       "<style scoped>\n",
       "    .dataframe tbody tr th:only-of-type {\n",
       "        vertical-align: middle;\n",
       "    }\n",
       "\n",
       "    .dataframe tbody tr th {\n",
       "        vertical-align: top;\n",
       "    }\n",
       "\n",
       "    .dataframe thead th {\n",
       "        text-align: right;\n",
       "    }\n",
       "</style>\n",
       "<table border=\"1\" class=\"dataframe\">\n",
       "  <thead>\n",
       "    <tr style=\"text-align: right;\">\n",
       "      <th></th>\n",
       "      <th>id</th>\n",
       "    </tr>\n",
       "  </thead>\n",
       "  <tbody>\n",
       "    <tr>\n",
       "      <th>0</th>\n",
       "      <td>LLWNGPMAV</td>\n",
       "    </tr>\n",
       "    <tr>\n",
       "      <th>1</th>\n",
       "      <td>RPRGEVRFL</td>\n",
       "    </tr>\n",
       "    <tr>\n",
       "      <th>2</th>\n",
       "      <td>RYPLTFGWCF</td>\n",
       "    </tr>\n",
       "    <tr>\n",
       "      <th>3</th>\n",
       "      <td>NLVPMVATV</td>\n",
       "    </tr>\n",
       "    <tr>\n",
       "      <th>4</th>\n",
       "      <td>GILGFVFTL</td>\n",
       "    </tr>\n",
       "    <tr>\n",
       "      <th>5</th>\n",
       "      <td>GLCTLVAML</td>\n",
       "    </tr>\n",
       "    <tr>\n",
       "      <th>6</th>\n",
       "      <td>CINGVCWTV</td>\n",
       "    </tr>\n",
       "    <tr>\n",
       "      <th>7</th>\n",
       "      <td>AVFDRKSDAK</td>\n",
       "    </tr>\n",
       "    <tr>\n",
       "      <th>8</th>\n",
       "      <td>ELAGIGILTV</td>\n",
       "    </tr>\n",
       "    <tr>\n",
       "      <th>9</th>\n",
       "      <td>KAFSPEVIPMF</td>\n",
       "    </tr>\n",
       "    <tr>\n",
       "      <th>10</th>\n",
       "      <td>IVTDFSVIK</td>\n",
       "    </tr>\n",
       "    <tr>\n",
       "      <th>11</th>\n",
       "      <td>KLVALGINAV</td>\n",
       "    </tr>\n",
       "    <tr>\n",
       "      <th>12</th>\n",
       "      <td>PKYVKQNTLKLAT</td>\n",
       "    </tr>\n",
       "  </tbody>\n",
       "</table>\n",
       "</div>"
      ],
      "text/plain": [
       "               id\n",
       "0       LLWNGPMAV\n",
       "1       RPRGEVRFL\n",
       "2      RYPLTFGWCF\n",
       "3       NLVPMVATV\n",
       "4       GILGFVFTL\n",
       "5       GLCTLVAML\n",
       "6       CINGVCWTV\n",
       "7      AVFDRKSDAK\n",
       "8      ELAGIGILTV\n",
       "9     KAFSPEVIPMF\n",
       "10      IVTDFSVIK\n",
       "11     KLVALGINAV\n",
       "12  PKYVKQNTLKLAT"
      ]
     },
     "execution_count": 13,
     "metadata": {},
     "output_type": "execute_result"
    }
   ],
   "source": [
    "filename2_id = \"public_TCRs_id_df.csv\"\n",
    "df2_pep_id = pd.read_csv(datapath+filename2_id, sep=\",\")\n",
    "df2_pep_id"
   ]
  },
  {
   "cell_type": "code",
   "execution_count": 20,
   "metadata": {},
   "outputs": [
    {
     "data": {
      "text/plain": [
       "{'AVFDRKSDAK',\n",
       " 'ELAGIGILTV',\n",
       " 'GILGFVFTL',\n",
       " 'GLCTLVAML',\n",
       " 'IVTDFSVIK',\n",
       " 'NLVPMVATV'}"
      ]
     },
     "execution_count": 20,
     "metadata": {},
     "output_type": "execute_result"
    }
   ],
   "source": [
    "set(df1_pep_id[\"id\"]) & set(df2_pep_id[\"id\"])"
   ]
  },
  {
   "cell_type": "code",
   "execution_count": 14,
   "metadata": {},
   "outputs": [
    {
     "name": "stdout",
     "output_type": "stream",
     "text": [
      "TRA_cdr3's number: 1628 \n",
      "TRA_v_gene's number: 82 \n",
      "TRA_d_gene's number: 0 \n",
      "TRA_j_gene's number: 84 \n",
      "TRB_cdr3's number: 1678 \n",
      "TRB_v_gene's number: 112 \n",
      "TRB_d_gene's number: 5 \n",
      "TRB_j_gene's number: 15 \n",
      "clonality's number: 1 \n",
      "pmhc_code's number: 26 \n",
      "id's number: 13 \n",
      "binds's number: 2 \n",
      "TCR_id's number: 38995 \n",
      "total number: 38995 \n"
     ]
    }
   ],
   "source": [
    "# statistic\n",
    "for col in df2.columns:\n",
    "    print(f\"{col}'s number: {df2[col].nunique()} \")\n",
    "print(f\"total number: {len(df2)} \")"
   ]
  },
  {
   "cell_type": "code",
   "execution_count": 21,
   "metadata": {},
   "outputs": [
    {
     "ename": "AssertionError",
     "evalue": "",
     "output_type": "error",
     "traceback": [
      "\u001b[0;31m---------------------------------------------------------------------------\u001b[0m",
      "\u001b[0;31mAssertionError\u001b[0m                            Traceback (most recent call last)",
      "\u001b[1;32m/home/lujd/TCR_pHLA_binding/data_process/notebooks/prec_TCRAI.ipynb Cell 13\u001b[0m line \u001b[0;36m2\n\u001b[1;32m      <a href='vscode-notebook-cell://ssh-remote%2B7b22686f73744e616d65223a225375695f34227d/home/lujd/TCR_pHLA_binding/data_process/notebooks/prec_TCRAI.ipynb#X16sdnNjb2RlLXJlbW90ZQ%3D%3D?line=0'>1</a>\u001b[0m \u001b[39m# NAN\u001b[39;00m\n\u001b[0;32m----> <a href='vscode-notebook-cell://ssh-remote%2B7b22686f73744e616d65223a225375695f34227d/home/lujd/TCR_pHLA_binding/data_process/notebooks/prec_TCRAI.ipynb#X16sdnNjb2RlLXJlbW90ZQ%3D%3D?line=1'>2</a>\u001b[0m \u001b[39massert\u001b[39;00m df2[\u001b[39m'\u001b[39m\u001b[39mTRB_v_gene\u001b[39m\u001b[39m'\u001b[39m]\u001b[39m.\u001b[39mnunique() \u001b[39m==\u001b[39m \u001b[39mlen\u001b[39m(df2[\u001b[39m'\u001b[39m\u001b[39mTRB_v_gene\u001b[39m\u001b[39m'\u001b[39m]\u001b[39m.\u001b[39munique())\n\u001b[1;32m      <a href='vscode-notebook-cell://ssh-remote%2B7b22686f73744e616d65223a225375695f34227d/home/lujd/TCR_pHLA_binding/data_process/notebooks/prec_TCRAI.ipynb#X16sdnNjb2RlLXJlbW90ZQ%3D%3D?line=2'>3</a>\u001b[0m \u001b[39massert\u001b[39;00m df2[\u001b[39m'\u001b[39m\u001b[39mTRB_j_gene\u001b[39m\u001b[39m'\u001b[39m]\u001b[39m.\u001b[39mnunique() \u001b[39m==\u001b[39m \u001b[39mlen\u001b[39m(df2[\u001b[39m'\u001b[39m\u001b[39mTRB_j_gene\u001b[39m\u001b[39m'\u001b[39m]\u001b[39m.\u001b[39munique())\n\u001b[1;32m      <a href='vscode-notebook-cell://ssh-remote%2B7b22686f73744e616d65223a225375695f34227d/home/lujd/TCR_pHLA_binding/data_process/notebooks/prec_TCRAI.ipynb#X16sdnNjb2RlLXJlbW90ZQ%3D%3D?line=3'>4</a>\u001b[0m \u001b[39massert\u001b[39;00m df2[\u001b[39m'\u001b[39m\u001b[39mTRA_v_gene\u001b[39m\u001b[39m'\u001b[39m]\u001b[39m.\u001b[39mnunique() \u001b[39m==\u001b[39m \u001b[39mlen\u001b[39m(df2[\u001b[39m'\u001b[39m\u001b[39mTRA_v_gene\u001b[39m\u001b[39m'\u001b[39m]\u001b[39m.\u001b[39munique())\n",
      "\u001b[0;31mAssertionError\u001b[0m: "
     ]
    }
   ],
   "source": [
    "# NAN\n",
    "assert df2['TRB_v_gene'].nunique() == len(df2['TRB_v_gene'].unique())\n",
    "assert df2['TRB_j_gene'].nunique() == len(df2['TRB_j_gene'].unique())\n",
    "assert df2['TRA_v_gene'].nunique() == len(df2['TRA_v_gene'].unique())\n",
    "assert df2['TRA_j_gene'].nunique() == len(df2['TRA_j_gene'].unique())"
   ]
  },
  {
   "cell_type": "code",
   "execution_count": 22,
   "metadata": {},
   "outputs": [
    {
     "data": {
      "text/plain": [
       "(112, 113)"
      ]
     },
     "execution_count": 22,
     "metadata": {},
     "output_type": "execute_result"
    }
   ],
   "source": [
    "df2['TRB_v_gene'].nunique(), len(df2['TRB_v_gene'].unique())"
   ]
  },
  {
   "cell_type": "code",
   "execution_count": 24,
   "metadata": {},
   "outputs": [
    {
     "name": "stdout",
     "output_type": "stream",
     "text": [
      "TRA_cdr3's number: 1352 \n",
      "TRA_v_gene's number: 74 \n",
      "TRA_d_gene's number: 0 \n",
      "TRA_j_gene's number: 84 \n",
      "TRB_cdr3's number: 1366 \n",
      "TRB_v_gene's number: 90 \n",
      "TRB_d_gene's number: 5 \n",
      "TRB_j_gene's number: 15 \n",
      "clonality's number: 1 \n",
      "pmhc_code's number: 26 \n",
      "id's number: 13 \n",
      "binds's number: 2 \n",
      "TCR_id's number: 31141 \n",
      "total number: 31141 \n"
     ]
    }
   ],
   "source": [
    "verified_df2 = df2.dropna(axis=0, subset = [\"TRB_v_gene\", \"TRB_j_gene\",\n",
    "                                            \"TRA_v_gene\", \"TRA_j_gene\"]\n",
    "                                        ).reset_index(drop=True)\n",
    "\n",
    "# statistic\n",
    "for col in verified_df2.columns:\n",
    "    print(f\"{col}'s number: {verified_df2[col].nunique()} \")\n",
    "print(f\"total number: {len(verified_df2)} \")"
   ]
  },
  {
   "cell_type": "code",
   "execution_count": 31,
   "metadata": {},
   "outputs": [
    {
     "data": {
      "text/plain": [
       "array(['bind_HLA-A02_YellowFeverVirus_YFV_LLWNGPMAV',\n",
       "       'bind_HLA-B0702_HSV2__RPRGEVRFL', 'bind_HLA-A2402_HIV__RYPLTFGWCF',\n",
       "       'bind_HLA-A02_CMV_pp65_NLVPMVATV',\n",
       "       'bind_HLA-A02_InfluenzaA_M_GILGFVFTL',\n",
       "       'bind_HLA-A02_EBV_BMLF1_GLCTLVAML',\n",
       "       'bind_HLA-A0201_HCV_NS3_CINGVCWTV',\n",
       "       'bind_HLA-A01_EBV_EBNA-4_AVFDRKSDAK',\n",
       "       'bind_HLA-A02_HomoSapiens_MLANA_ELAGIGILTV',\n",
       "       'bind_HLA-B57_HIV_Gag_KAFSPEVIPMF',\n",
       "       'bind_HLA-A11_EBV_EBNA4_IVTDFSVIK',\n",
       "       'bind_HLA-A02_HCV_NS3_KLVALGINAV',\n",
       "       'bind_HLA-DRA01_InfluenzaA_HA_PKYVKQNTLKLAT',\n",
       "       'nobind_HLA-A02_YellowFeverVirus_YFV_LLWNGPMAV',\n",
       "       'nobind_HLA-B0702_HSV2__RPRGEVRFL',\n",
       "       'nobind_HLA-A2402_HIV__RYPLTFGWCF',\n",
       "       'nobind_HLA-A02_CMV_pp65_NLVPMVATV',\n",
       "       'nobind_HLA-A02_InfluenzaA_M_GILGFVFTL',\n",
       "       'nobind_HLA-A02_EBV_BMLF1_GLCTLVAML',\n",
       "       'nobind_HLA-A0201_HCV_NS3_CINGVCWTV',\n",
       "       'nobind_HLA-A01_EBV_EBNA-4_AVFDRKSDAK',\n",
       "       'nobind_HLA-A02_HomoSapiens_MLANA_ELAGIGILTV',\n",
       "       'nobind_HLA-B57_HIV_Gag_KAFSPEVIPMF',\n",
       "       'nobind_HLA-A11_EBV_EBNA4_IVTDFSVIK',\n",
       "       'nobind_HLA-A02_HCV_NS3_KLVALGINAV',\n",
       "       'nobind_HLA-DRA01_InfluenzaA_HA_PKYVKQNTLKLAT'], dtype=object)"
      ]
     },
     "execution_count": 31,
     "metadata": {},
     "output_type": "execute_result"
    }
   ],
   "source": [
    "df2['pmhc_code'].unique()"
   ]
  },
  {
   "cell_type": "code",
   "execution_count": 11,
   "metadata": {},
   "outputs": [
    {
     "data": {
      "text/html": [
       "<div>\n",
       "<style scoped>\n",
       "    .dataframe tbody tr th:only-of-type {\n",
       "        vertical-align: middle;\n",
       "    }\n",
       "\n",
       "    .dataframe tbody tr th {\n",
       "        vertical-align: top;\n",
       "    }\n",
       "\n",
       "    .dataframe thead th {\n",
       "        text-align: right;\n",
       "    }\n",
       "</style>\n",
       "<table border=\"1\" class=\"dataframe\">\n",
       "  <thead>\n",
       "    <tr style=\"text-align: right;\">\n",
       "      <th></th>\n",
       "      <th>TRA_cdr3</th>\n",
       "      <th>TRA_v_gene</th>\n",
       "      <th>TRA_d_gene</th>\n",
       "      <th>TRA_j_gene</th>\n",
       "      <th>TRB_cdr3</th>\n",
       "      <th>TRB_v_gene</th>\n",
       "      <th>TRB_d_gene</th>\n",
       "      <th>TRB_j_gene</th>\n",
       "      <th>clonality</th>\n",
       "      <th>pmhc_code</th>\n",
       "      <th>id</th>\n",
       "      <th>binds</th>\n",
       "      <th>TCR_id</th>\n",
       "    </tr>\n",
       "  </thead>\n",
       "  <tbody>\n",
       "    <tr>\n",
       "      <th>0</th>\n",
       "      <td>CAAADDKIIF</td>\n",
       "      <td>TRAV12-2</td>\n",
       "      <td>NaN</td>\n",
       "      <td>TRAJ30</td>\n",
       "      <td>CASSQGTISYEQYF</td>\n",
       "      <td>TRBV14</td>\n",
       "      <td>NaN</td>\n",
       "      <td>TRBJ2-7</td>\n",
       "      <td>1</td>\n",
       "      <td>HLA-A02_YellowFeverVirus_YFV_LLWNGPMAV</td>\n",
       "      <td>LLWNGPMAV</td>\n",
       "      <td>1</td>\n",
       "      <td>0</td>\n",
       "    </tr>\n",
       "    <tr>\n",
       "      <th>1</th>\n",
       "      <td>CAACAEYGNKLVF</td>\n",
       "      <td>TRAV27</td>\n",
       "      <td>NaN</td>\n",
       "      <td>TRAJ47</td>\n",
       "      <td>CASSVGGVTYNEQFF</td>\n",
       "      <td>TRBV9</td>\n",
       "      <td>NaN</td>\n",
       "      <td>TRBJ2-1</td>\n",
       "      <td>1</td>\n",
       "      <td>HLA-A02_YellowFeverVirus_YFV_LLWNGPMAV</td>\n",
       "      <td>LLWNGPMAV</td>\n",
       "      <td>1</td>\n",
       "      <td>1</td>\n",
       "    </tr>\n",
       "    <tr>\n",
       "      <th>2</th>\n",
       "      <td>CAAIDDKIIF</td>\n",
       "      <td>TRAV12-2</td>\n",
       "      <td>NaN</td>\n",
       "      <td>TRAJ30</td>\n",
       "      <td>CASTDGGDSYTQYF</td>\n",
       "      <td>TRBV6-3</td>\n",
       "      <td>NaN</td>\n",
       "      <td>TRBJ2-3</td>\n",
       "      <td>1</td>\n",
       "      <td>HLA-A02_YellowFeverVirus_YFV_LLWNGPMAV</td>\n",
       "      <td>LLWNGPMAV</td>\n",
       "      <td>1</td>\n",
       "      <td>2</td>\n",
       "    </tr>\n",
       "  </tbody>\n",
       "</table>\n",
       "</div>"
      ],
      "text/plain": [
       "        TRA_cdr3 TRA_v_gene  TRA_d_gene TRA_j_gene         TRB_cdr3  \\\n",
       "0     CAAADDKIIF   TRAV12-2         NaN     TRAJ30   CASSQGTISYEQYF   \n",
       "1  CAACAEYGNKLVF     TRAV27         NaN     TRAJ47  CASSVGGVTYNEQFF   \n",
       "2     CAAIDDKIIF   TRAV12-2         NaN     TRAJ30   CASTDGGDSYTQYF   \n",
       "\n",
       "  TRB_v_gene TRB_d_gene TRB_j_gene  clonality  \\\n",
       "0     TRBV14        NaN    TRBJ2-7          1   \n",
       "1      TRBV9        NaN    TRBJ2-1          1   \n",
       "2    TRBV6-3        NaN    TRBJ2-3          1   \n",
       "\n",
       "                                pmhc_code         id  binds  TCR_id  \n",
       "0  HLA-A02_YellowFeverVirus_YFV_LLWNGPMAV  LLWNGPMAV      1       0  \n",
       "1  HLA-A02_YellowFeverVirus_YFV_LLWNGPMAV  LLWNGPMAV      1       1  \n",
       "2  HLA-A02_YellowFeverVirus_YFV_LLWNGPMAV  LLWNGPMAV      1       2  "
      ]
     },
     "execution_count": 11,
     "metadata": {},
     "output_type": "execute_result"
    }
   ],
   "source": [
    "def rename_code(data):\n",
    "    return '_'.join(data.split('_')[1:])\n",
    "\n",
    "df2['pmhc_code'] = df2['pmhc_code'].apply(rename_code)\n",
    "df2.head(3)"
   ]
  },
  {
   "cell_type": "code",
   "execution_count": 12,
   "metadata": {},
   "outputs": [
    {
     "data": {
      "text/plain": [
       "array(['HLA-A02', 'HLA-B0702', 'HLA-A2402', 'HLA-A0201', 'HLA-A01',\n",
       "       'HLA-B57', 'HLA-A11', 'HLA-DRA01'], dtype=object)"
      ]
     },
     "execution_count": 12,
     "metadata": {},
     "output_type": "execute_result"
    }
   ],
   "source": [
    "def add_HLA(data):\n",
    "    return data.split('_')[0]\n",
    "\n",
    "df2['HLA'] = df2['pmhc_code'].apply(add_HLA)\n",
    "df2['HLA'].unique()"
   ]
  },
  {
   "cell_type": "code",
   "execution_count": 13,
   "metadata": {},
   "outputs": [
    {
     "data": {
      "text/plain": [
       "array(['HLA-A*02', 'HLA-B*07:02', 'HLA-A*24:02', 'HLA-A*02:01',\n",
       "       'HLA-A*01', 'HLA-B*57', 'HLA-A*11', 'HLA-DRA*01'], dtype=object)"
      ]
     },
     "execution_count": 13,
     "metadata": {},
     "output_type": "execute_result"
    }
   ],
   "source": [
    "HLA_map_dict = {\n",
    "    'HLA-A02':'HLA-A*02',\n",
    "    'HLA-B0702':'HLA-B*07:02', \n",
    "    'HLA-A2402':'HLA-A*24:02', \n",
    "    'HLA-A0201':'HLA-A*02:01', \n",
    "    'HLA-A01':'HLA-A*01',\n",
    "    'HLA-B57':'HLA-B*57', \n",
    "    'HLA-A11':'HLA-A*11', \n",
    "    'HLA-DRA01':'HLA-DRA*01'\n",
    "}\n",
    "\n",
    "def rename_HLA(data):\n",
    "    return HLA_map_dict[data]\n",
    "\n",
    "df2['HLA'] = df2['HLA'].apply(rename_HLA)\n",
    "df2['HLA'].unique()"
   ]
  },
  {
   "cell_type": "markdown",
   "metadata": {},
   "source": [
    "Full information: ~82k"
   ]
  },
  {
   "cell_type": "code",
   "execution_count": 16,
   "metadata": {},
   "outputs": [
    {
     "data": {
      "text/plain": [
       "Index(['TRB_cdr3', 'TRB_v_gene', 'TRB_d_gene', 'TRB_j_gene', 'TRA_cdr3',\n",
       "       'TRA_v_gene', 'TRA_d_gene', 'TRA_j_gene', 'Clonality', 'pmhc_code',\n",
       "       'id', 'binds', 'TCR_id', 'HLA', 'clonality'],\n",
       "      dtype='object')"
      ]
     },
     "execution_count": 16,
     "metadata": {},
     "output_type": "execute_result"
    }
   ],
   "source": [
    "df = pd.concat([df1, df2], axis=0).reset_index(drop=True)\n",
    "df.columns"
   ]
  },
  {
   "cell_type": "code",
   "execution_count": 17,
   "metadata": {},
   "outputs": [
    {
     "data": {
      "text/plain": [
       "8171"
      ]
     },
     "execution_count": 17,
     "metadata": {},
     "output_type": "execute_result"
    }
   ],
   "source": [
    "df = df[['TRB_cdr3', 'TRB_v_gene', 'TRB_d_gene', 'TRB_j_gene', \n",
    "         'TRA_cdr3', 'TRA_v_gene', 'TRA_d_gene', 'TRA_j_gene',\n",
    "       'id', 'binds', 'HLA']]\n",
    "df = df[df['binds']==1]\n",
    "len(df)"
   ]
  },
  {
   "cell_type": "code",
   "execution_count": 22,
   "metadata": {},
   "outputs": [
    {
     "name": "stdout",
     "output_type": "stream",
     "text": [
      "samples: 8130\n",
      "TCRs:    8101\n",
      "peptides:16\n"
     ]
    }
   ],
   "source": [
    "df = df.drop_duplicates(ignore_index=True)\n",
    "\n",
    "print(f\"samples: {len(df)}\")\n",
    "print(f\"TCRs:    {len(df.drop_duplicates(subset=['TRB_cdr3', 'TRB_v_gene', 'TRB_d_gene', 'TRB_j_gene', 'TRA_cdr3', 'TRA_v_gene', 'TRA_d_gene', 'TRA_j_gene',]))}\")\n",
    "print(f\"peptides:{df['id'].nunique()}\")"
   ]
  },
  {
   "cell_type": "code",
   "execution_count": 24,
   "metadata": {},
   "outputs": [
    {
     "data": {
      "text/plain": [
       "(5354, 5354)"
      ]
     },
     "execution_count": 24,
     "metadata": {},
     "output_type": "execute_result"
    }
   ],
   "source": [
    "df['TRA_cdr3'].nunique(), len(df['TRA_cdr3'].unique())"
   ]
  },
  {
   "cell_type": "code",
   "execution_count": 30,
   "metadata": {},
   "outputs": [
    {
     "data": {
      "text/plain": [
       "2302"
      ]
     },
     "execution_count": 30,
     "metadata": {},
     "output_type": "execute_result"
    }
   ],
   "source": [
    "sum(df['TRB_d_gene'].isnull())"
   ]
  }
 ],
 "metadata": {
  "kernelspec": {
   "display_name": "dock",
   "language": "python",
   "name": "python3"
  },
  "language_info": {
   "codemirror_mode": {
    "name": "ipython",
    "version": 3
   },
   "file_extension": ".py",
   "mimetype": "text/x-python",
   "name": "python",
   "nbconvert_exporter": "python",
   "pygments_lexer": "ipython3",
   "version": "3.9.18"
  },
  "orig_nbformat": 4
 },
 "nbformat": 4,
 "nbformat_minor": 2
}
