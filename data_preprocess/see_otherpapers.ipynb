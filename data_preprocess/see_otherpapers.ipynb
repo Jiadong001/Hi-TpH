{
 "cells": [
  {
   "cell_type": "code",
   "execution_count": 1,
   "metadata": {},
   "outputs": [],
   "source": [
    "import pandas as pd\n",
    "\n",
    "to_your_path = '/data/lujd/'"
   ]
  },
  {
   "cell_type": "markdown",
   "metadata": {},
   "source": [
    "epiTCR"
   ]
  },
  {
   "cell_type": "code",
   "execution_count": 11,
   "metadata": {},
   "outputs": [
    {
     "name": "stdout",
     "output_type": "stream",
     "text": [
      "samples: 66471\n",
      "TCRs:    61159\n",
      "peptides:1391\n"
     ]
    }
   ],
   "source": [
    "datapath = to_your_path + \"TCRdata/otherpapers/\"\n",
    "filename = \"epiTCR_wHLA.csv\"\n",
    "df = pd.read_csv(datapath+filename, sep=\",\")\n",
    "df = df[df[\"binder\"]==1].drop_duplicates(ignore_index=True)\n",
    "\n",
    "print(f\"samples: {len(df)}\")\n",
    "print(f\"TCRs:    {df['CDR3b'].nunique()}\")\n",
    "print(f\"peptides:{df['peptide'].nunique()}\")"
   ]
  },
  {
   "cell_type": "code",
   "execution_count": 16,
   "metadata": {},
   "outputs": [
    {
     "name": "stdout",
     "output_type": "stream",
     "text": [
      "samples: 106576\n",
      "TCRs:    99511\n",
      "peptides:1651\n"
     ]
    }
   ],
   "source": [
    "datapath = to_your_path + \"TCRdata/otherpapers/\"\n",
    "filename = \"epiTCR_woHLA.csv\"\n",
    "df = pd.read_csv(datapath+filename, sep=\",\")\n",
    "df = df[df[\"binder\"]==1].drop_duplicates(ignore_index=True)\n",
    "\n",
    "print(f\"samples: {len(df)}\")\n",
    "print(f\"TCRs:    {df['CDR3b'].nunique()}\")\n",
    "print(f\"peptides:{df['peptide'].nunique()}\")"
   ]
  },
  {
   "cell_type": "markdown",
   "metadata": {},
   "source": [
    "pMTnet"
   ]
  },
  {
   "cell_type": "code",
   "execution_count": 14,
   "metadata": {},
   "outputs": [
    {
     "name": "stdout",
     "output_type": "stream",
     "text": [
      "samples: 32070\n",
      "TCRs:    28864\n",
      "peptides:602\n"
     ]
    }
   ],
   "source": [
    "datapath = to_your_path + \"TCRdata/otherpapers/\"\n",
    "filename = \"pMTnet.csv\"\n",
    "df = pd.read_csv(datapath+filename, sep=\",\")\n",
    "df = df[df[\"binder\"]==1].drop_duplicates(ignore_index=True)\n",
    "\n",
    "print(f\"samples: {len(df)}\")\n",
    "print(f\"TCRs:    {df['CDR3b'].nunique()}\")\n",
    "print(f\"peptides:{df['peptide'].nunique()}\")"
   ]
  },
  {
   "cell_type": "markdown",
   "metadata": {},
   "source": [
    "panpep\n",
    "- https://github.com/bm2-lab/PanPep/blob/main/Data/"
   ]
  },
  {
   "cell_type": "code",
   "execution_count": 5,
   "metadata": {},
   "outputs": [
    {
     "name": "stdout",
     "output_type": "stream",
     "text": [
      "samples: 32080\n",
      "TCRs:    29467\n",
      "peptides:699\n"
     ]
    }
   ],
   "source": [
    "datapath = to_your_path + \"TCRdata/raw/paper/panpep/\"\n",
    "filename = \"base_dataset.csv\"\n",
    "df = pd.read_csv(datapath+filename, sep=\",\")\n",
    "df = df[df[\"label\"]==1].drop_duplicates(ignore_index=True)\n",
    "\n",
    "print(f\"samples: {len(df)}\")\n",
    "print(f\"TCRs:    {df['binding_TCR'].nunique()}\")\n",
    "print(f\"peptides:{df['peptide'].nunique()}\")"
   ]
  },
  {
   "cell_type": "markdown",
   "metadata": {},
   "source": [
    "teim\n",
    "- https://github.com/pengxingang/TEIM/tree/main/data/binding_data"
   ]
  },
  {
   "cell_type": "code",
   "execution_count": 14,
   "metadata": {},
   "outputs": [
    {
     "name": "stdout",
     "output_type": "stream",
     "text": [
      "samples: 45481\n",
      "TCRs:    44227\n",
      "peptides:355\n"
     ]
    }
   ],
   "source": [
    "datapath = to_your_path + \"TCRdata/raw/paper/teim/\"\n",
    "filenames = ['mcpas_seen.tsv','mcpas_unseen.tsv','ncov_seen.tsv','ncov_unseen.tsv','vdj_all.tsv']\n",
    "dfs = []\n",
    "for filename in filenames:\n",
    "    df = pd.read_csv(datapath+filename, sep=\"\\t\")\n",
    "    dfs.append(df[['cdr3', 'epitope', 'label']])\n",
    "\n",
    "df = pd.concat(dfs, axis=0).reset_index(drop=True)\n",
    "df = df[df[\"label\"]==1].drop_duplicates(ignore_index=True)\n",
    "\n",
    "print(f\"samples: {len(df)}\")\n",
    "print(f\"TCRs:    {df['cdr3'].nunique()}\")\n",
    "print(f\"peptides:{df['epitope'].nunique()}\")"
   ]
  },
  {
   "cell_type": "markdown",
   "metadata": {},
   "source": [
    "nettcr\n",
    "- https://github.com/mnielLab/NetTCR-2.0/tree/main/data"
   ]
  },
  {
   "cell_type": "code",
   "execution_count": 74,
   "metadata": {},
   "outputs": [
    {
     "name": "stdout",
     "output_type": "stream",
     "text": [
      "samples: 11431\n",
      "TCRs:    11425\n",
      "peptides:17\n"
     ]
    }
   ],
   "source": [
    "datapath = to_your_path + \"TCRdata/raw/paper/nettcr2/\"\n",
    "filename = \"train_ab_95_alphabeta.csv\"\n",
    "df = pd.read_csv(datapath+filename, sep=\",\")\n",
    "df = df[df[\"binder\"]==1].drop_duplicates(subset=['CDR3a', 'CDR3b', 'peptide'], ignore_index=True)\n",
    "\n",
    "filename = \"train_beta_99.csv\"\n",
    "df2 = pd.read_csv(datapath+filename, sep=\",\")\n",
    "df2 = df2[df2[\"binder\"]==1].drop_duplicates(ignore_index=True)\n",
    "df2['CDR3a'] = 'X'\n",
    "df2 = df2[['CDR3a', 'CDR3b', 'peptide', 'partition', 'binder']]\n",
    "\n",
    "df = pd.concat([df, df2], axis=0).reset_index(drop=True)\n",
    "# df = df.drop_duplicates(subset=['CDR3b', 'peptide'])\n",
    "dup_row = df.duplicated(subset=['CDR3b', 'peptide'])\n",
    "df.insert(0, 'is_dup', dup_row)\n",
    "df = df[(df['is_dup']==False)|(df['CDR3a']!='X')]        # remove 'is_dup=True' & 'CDR3a=X'\n",
    "df = df.reset_index(drop=True)\n",
    "\n",
    "print(f\"samples: {len(df)}\")\n",
    "print(f\"TCRs:    {len(df.drop_duplicates(subset=['CDR3a', 'CDR3b']))}\")\n",
    "print(f\"peptides:{df['peptide'].nunique()}\")"
   ]
  },
  {
   "cell_type": "markdown",
   "metadata": {},
   "source": [
    "DLpTCR\n",
    "- http://jianglab.org.cn/DLpTCR/Download"
   ]
  },
  {
   "cell_type": "code",
   "execution_count": 94,
   "metadata": {},
   "outputs": [
    {
     "name": "stdout",
     "output_type": "stream",
     "text": [
      "samples: 13248\n",
      "TCRs:    12089 5507 6584\n",
      "peptides:321\n"
     ]
    }
   ],
   "source": [
    "datapath = to_your_path + \"TCRdata/raw/paper/dlptcr/\"\n",
    "filenames = ['TCRA_test.csv','TCRA_train.csv','TCRB_test.csv','TCRB_train.csv']\n",
    "dfs = []\n",
    "for filename in filenames:\n",
    "    df = pd.read_csv(datapath+filename, sep=\",\")\n",
    "    if 'TCRA' in filename:\n",
    "        df = df.rename(columns={'CDR3':'CDR3a'})\n",
    "        df['CDR3b'] = 'X'\n",
    "    elif 'TCRB' in filename:\n",
    "        df = df.rename(columns={'CDR3':'CDR3b'})\n",
    "        df['CDR3a'] = 'X'\n",
    "    dfs.append(df[['Class_label', 'CDR3a', 'CDR3b', 'Epitope']])\n",
    "\n",
    "df = pd.concat(dfs, axis=0).reset_index(drop=True)\n",
    "df = df[df[\"Class_label\"]==1].drop_duplicates(ignore_index=True)\n",
    "\n",
    "print(f\"samples: {len(df)}\")\n",
    "print(f\"TCRs:    {len(df.drop_duplicates(subset=['CDR3a', 'CDR3b']))} {df['CDR3a'].nunique()} {df['CDR3b'].nunique()}\")\n",
    "print(f\"peptides:{df['Epitope'].nunique()}\")"
   ]
  },
  {
   "cell_type": "markdown",
   "metadata": {},
   "source": [
    "ERGO\n",
    "- https://github.com/IdoSpringer/ERGO-II/tree/master/Samples"
   ]
  },
  {
   "cell_type": "code",
   "execution_count": 119,
   "metadata": {},
   "outputs": [
    {
     "name": "stdout",
     "output_type": "stream",
     "text": [
      "tcra 25591\n",
      "tcrb 0\n",
      "va 25402\n",
      "ja 26769\n",
      "vb 191\n",
      "jb 1573\n",
      "peptide 0\n",
      "mhc 126\n",
      "sign 0\n",
      "samples: 33386\n",
      "TCRs:    32597 3645 24895\n",
      "peptides:461\n"
     ]
    }
   ],
   "source": [
    "import pickle\n",
    "\n",
    "datapath = to_your_path + \"TCRdata/raw/paper/ergoii/\"\n",
    "filenames = ['mcpas', 'vdjdb_no10x']\n",
    "dfs = []\n",
    "for filename in filenames:\n",
    "    with open(datapath + filename + '_test_samples.pickle', 'rb') as handle:\n",
    "        test = pickle.load(handle)\n",
    "    test_df = pd.DataFrame(test)\n",
    "    dfs.append(test_df[['tcra', 'tcrb', 'va', 'ja', 'vb', 'jb', 'peptide', 'mhc', 'sign']])\n",
    "\n",
    "    with open(datapath + filename + '_train_samples.pickle', 'rb') as handle:\n",
    "        train = pickle.load(handle)\n",
    "    train_df = pd.DataFrame(train)\n",
    "    dfs.append(train_df[['tcra', 'tcrb', 'va', 'ja', 'vb', 'jb', 'peptide', 'mhc', 'sign']])\n",
    "\n",
    "df = pd.concat(dfs, axis=0).reset_index(drop=True)\n",
    "df = df[df[\"sign\"]==1].drop_duplicates(ignore_index=True)\n",
    "\n",
    "for col in df.columns:\n",
    "    print(col, sum(df[col].isnull())+sum(df[col]=='UNK'))\n",
    "\n",
    "print(f\"samples: {len(df)}\")\n",
    "print(f\"TCRs:    {len(df.drop_duplicates(subset=['tcra', 'tcrb', 'va', 'ja', 'vb', 'jb']))} {df['tcra'].nunique()} {df['tcrb'].nunique()}\")\n",
    "print(f\"peptides:{df['peptide'].nunique()}\")"
   ]
  },
  {
   "cell_type": "code",
   "execution_count": 126,
   "metadata": {},
   "outputs": [
    {
     "name": "stdout",
     "output_type": "stream",
     "text": [
      "samples: 6304\n",
      "TCRs:    6219 2561 2629\n",
      "peptides:121\n"
     ]
    }
   ],
   "source": [
    "drop_df = df.dropna(axis=0)\n",
    "for col in df.columns:\n",
    "    drop_df = drop_df[drop_df[col]!='UNK']\n",
    "\n",
    "print(f\"samples: {len(drop_df)}\")\n",
    "print(f\"TCRs:    {len(drop_df.drop_duplicates(subset=['tcra', 'tcrb', 'va', 'ja', 'vb', 'jb']))} {drop_df['tcra'].nunique()} {drop_df['tcrb'].nunique()}\")\n",
    "print(f\"peptides:{drop_df['peptide'].nunique()}\")"
   ]
  },
  {
   "cell_type": "markdown",
   "metadata": {},
   "source": [
    "STAPLER\n",
    "- https://files.aiforoncology.nl/stapler/data/"
   ]
  },
  {
   "cell_type": "code",
   "execution_count": 12,
   "metadata": {},
   "outputs": [
    {
     "name": "stdout",
     "output_type": "stream",
     "text": [
      "26984\n",
      "26984\n",
      "4497\n",
      "samples: 4457\n",
      "TCRs:    4253\n",
      "peptides:604\n"
     ]
    }
   ],
   "source": [
    "datapath = to_your_path + \"TCRdata/raw/paper/stapler/\"\n",
    "filenames = ['train/train-set_full-seq.csv', 'test/vdjdb_internal_negatives_data.csv']       # vdjdb_internal_negatives_data.csv\n",
    "dfs = []\n",
    "for filename in filenames:\n",
    "    df = pd.read_csv(datapath+filename, sep=\",\")\n",
    "    dfs.append(df)\n",
    "\n",
    "df = pd.concat(dfs, axis=0).reset_index(drop=True)\n",
    "print(len(df))\n",
    "df = df[df['mhc_derived_from_hla']=='MHC-I'].reset_index(drop=True)\n",
    "print(len(df))\n",
    "pos_df = df[df[\"label_true_pair\"]==1].drop_duplicates(ignore_index=True)\n",
    "print(len(pos_df))\n",
    "\n",
    "pos_df = pos_df.dropna(axis=0, subset=['cdr3_alpha_aa', 'cdr3_beta_aa', 'TRAV_IMGT', 'TRAJ_IMGT', 'TRBV_IMGT', 'TRBJ_IMGT', 'hla_long', \n",
    "                                       'full_seq_reconstruct_alpha_aa', 'full_seq_reconstruct_beta_aa', 'epitope_aa', 'label_true_pair'])\n",
    "tcr_cols = ['cdr3_alpha_aa', 'cdr3_beta_aa', 'TRAV_IMGT', 'TRAJ_IMGT', 'TRBV_IMGT', 'TRBJ_IMGT', 'full_seq_reconstruct_alpha_aa', 'full_seq_reconstruct_beta_aa',]\n",
    "print(f\"samples: {len(pos_df)}\")\n",
    "print(f\"TCRs:    {len(pos_df.drop_duplicates(subset=tcr_cols))}\")\n",
    "print(f\"peptides:{pos_df['epitope_aa'].nunique()}\")"
   ]
  },
  {
   "cell_type": "code",
   "execution_count": 13,
   "metadata": {},
   "outputs": [
    {
     "name": "stdout",
     "output_type": "stream",
     "text": [
      "3162    B18*:01\n",
      "Name: hla_long, dtype: object\n",
      "Series([], Name: hla_long, dtype: object)\n"
     ]
    }
   ],
   "source": [
    "import re\n",
    "def check_uppercase(text):\n",
    "    pattern = r\"^[A-Z]\\*\"\n",
    "    return bool(re.match(pattern, text))\n",
    "\n",
    "pos_df['check'] = pos_df['hla_long'].apply(check_uppercase)\n",
    "print(pos_df[pos_df['check']==False]['hla_long'])\n",
    "\n",
    "pos_df['hla_long'].replace({'B18*:01':'B*18:01'}, inplace=True)\n",
    "pos_df['check'] = pos_df['hla_long'].apply(check_uppercase)\n",
    "print(pos_df[pos_df['check']==False]['hla_long'])\n",
    "pos_df = pos_df.drop(columns=['check'])"
   ]
  },
  {
   "cell_type": "code",
   "execution_count": 8,
   "metadata": {},
   "outputs": [
    {
     "data": {
      "text/plain": [
       "array(['A*02:01', 'A*01:01', 'A*24:02', 'A*03:01', 'B*35:01', 'B*07:02',\n",
       "       'B*18:01', 'B*08:01', 'B*44:05:01'], dtype=object)"
      ]
     },
     "execution_count": 8,
     "metadata": {},
     "output_type": "execute_result"
    }
   ],
   "source": [
    "pos_df['hla_long'].unique()"
   ]
  },
  {
   "cell_type": "code",
   "execution_count": 10,
   "metadata": {},
   "outputs": [
    {
     "data": {
      "text/plain": [
       "array(['TRBJ2-7*01', 'TRBJ1-2*01', 'TRBJ1-3*01', 'TRBJ2-3*01',\n",
       "       'TRBJ1-6*01', 'TRBJ2-1*01', 'TRBJ2-6*01', 'TRBJ1-4*01',\n",
       "       'TRBJ1-5*01', 'TRBJ1-1*01', 'TRBJ2-5*01', 'TRBJ2-4*01',\n",
       "       'TRBJ2-2*01'], dtype=object)"
      ]
     },
     "execution_count": 10,
     "metadata": {},
     "output_type": "execute_result"
    }
   ],
   "source": [
    "pos_df['TRBJ_IMGT'].unique()"
   ]
  },
  {
   "cell_type": "code",
   "execution_count": 14,
   "metadata": {},
   "outputs": [
    {
     "name": "stdout",
     "output_type": "stream",
     "text": [
      "number of duplicated data: 4457\n",
      "File /data/lujd/TCRdata/otherpapers/stapler.csv has been successfully saved.\n"
     ]
    }
   ],
   "source": [
    "from utils import save_csv\n",
    "\n",
    "pos_df = pos_df.drop_duplicates(ignore_index=True)\n",
    "print(f\"number of duplicated data: {len(pos_df)}\")\n",
    "\n",
    "savepath = to_your_path + \"TCRdata/otherpapers/\"\n",
    "savename = \"stapler.csv\"\n",
    "save_csv(pos_df, savepath, savename)"
   ]
  },
  {
   "cell_type": "code",
   "execution_count": 16,
   "metadata": {},
   "outputs": [
    {
     "data": {
      "text/plain": [
       "Index(['cdr3_alpha_aa', 'cdr3_beta_aa', 'data_origin', 'epitope_aa',\n",
       "       'TRAV_IMGT', 'TRAJ_IMGT', 'TRBV_IMGT', 'TRBJ_IMGT', 'hla_long',\n",
       "       'cd4_or_cd8', 'mhc_derived_from_hla', 'naive', 'label_true_pair',\n",
       "       'full_seq_reconstruct_alpha_aa', 'full_seq_reconstruct_beta_aa',\n",
       "       'redundancy_0.9', 'redundancy_0.7', 'reference_id'],\n",
       "      dtype='object')"
      ]
     },
     "execution_count": 16,
     "metadata": {},
     "output_type": "execute_result"
    }
   ],
   "source": [
    "pos_df.columns"
   ]
  },
  {
   "cell_type": "code",
   "execution_count": 20,
   "metadata": {},
   "outputs": [
    {
     "name": "stdout",
     "output_type": "stream",
     "text": [
      "Series([], Name: full_seq_reconstruct_beta_aa, dtype: object)\n"
     ]
    }
   ],
   "source": [
    "import re\n",
    "def check_uppercase(text):\n",
    "    pattern = \"^[A-Z]+$\"\n",
    "    return bool(re.match(pattern, text))\n",
    "\n",
    "col = 'full_seq_reconstruct_beta_aa'\n",
    "pos_df['check'] = pos_df[col].apply(check_uppercase)\n",
    "print(pos_df[pos_df['check']==False][col])"
   ]
  }
 ],
 "metadata": {
  "kernelspec": {
   "display_name": "of",
   "language": "python",
   "name": "python3"
  },
  "language_info": {
   "codemirror_mode": {
    "name": "ipython",
    "version": 3
   },
   "file_extension": ".py",
   "mimetype": "text/x-python",
   "name": "python",
   "nbconvert_exporter": "python",
   "pygments_lexer": "ipython3",
   "version": "3.9.18"
  }
 },
 "nbformat": 4,
 "nbformat_minor": 2
}
