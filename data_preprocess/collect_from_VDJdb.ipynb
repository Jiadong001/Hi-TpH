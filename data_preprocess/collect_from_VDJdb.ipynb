{
 "cells": [
  {
   "cell_type": "markdown",
   "metadata": {},
   "source": [
    "# Collect data from VDJdb\n",
    "\n",
    "首先在 https://github.com/antigenomics/vdjdb-db/releases 上下载 release 的 zip 数据，解压放在 ``TCRdata/raw/database/VDJdb/`` 文件夹下。示例：\n",
    "- vdjdb-2023-06-01.zip\n",
    "  - main data: \n",
    "    - vdjdb.txt\n",
    "    - vdjdb_full.txt\n",
    "  - vdjdb_summary_embed.html: statistics"
   ]
  },
  {
   "cell_type": "code",
   "execution_count": 1,
   "metadata": {},
   "outputs": [],
   "source": [
    "import os\n",
    "import pandas as pd\n",
    "from utils import save_csv, plot_non_empty_percentage\n",
    "\n",
    "to_your_path = '/data/lujd/'"
   ]
  },
  {
   "cell_type": "markdown",
   "metadata": {},
   "source": [
    "### ¶ prepare data\n",
    "\n",
    "#### What is vdjdb.txt?"
   ]
  },
  {
   "cell_type": "code",
   "execution_count": 20,
   "metadata": {},
   "outputs": [
    {
     "name": "stdout",
     "output_type": "stream",
     "text": [
      "number of rows: 92651\n"
     ]
    }
   ],
   "source": [
    "''' \n",
    "Instructions:\n",
    "    vdjdb-2023-06-01: latest releadse version\n",
    "        main data: vdjdb.txt, vdjdb_full.txt\n",
    "        vdjdb_summary_embed.html: statistics\n",
    "'''\n",
    "\n",
    "datapath = to_your_path + \"TCRdata/raw/database/VDJdb/vdjdb-2023-06-01/\"\n",
    "vdjdb_filename = \"vdjdb.txt\"\n",
    "vdjdb_df = pd.read_csv(datapath+vdjdb_filename, sep=\"\\t\")\n",
    "vdjdb_df.drop_duplicates(inplace=True, ignore_index=True)\n",
    "\n",
    "print(f\"number of rows: {len(vdjdb_df)}\")"
   ]
  },
  {
   "cell_type": "markdown",
   "metadata": {},
   "source": [
    "#### What is vdjdb_full.txt?"
   ]
  },
  {
   "cell_type": "code",
   "execution_count": 21,
   "metadata": {},
   "outputs": [
    {
     "name": "stdout",
     "output_type": "stream",
     "text": [
      "number of rows: 61636\n"
     ]
    }
   ],
   "source": [
    "vdjdb_full_filename = \"vdjdb_full.txt\"\n",
    "vdjdb_full_df = pd.read_csv(datapath+vdjdb_full_filename, sep=\"\\t\", low_memory=False)\n",
    "vdjdb_full_df.drop_duplicates(inplace=True, ignore_index=True)\n",
    "\n",
    "print(f\"number of rows: {len(vdjdb_full_df)}\")"
   ]
  },
  {
   "cell_type": "markdown",
   "metadata": {},
   "source": [
    "- `vdjdb.txt`: TRA-pHLA, TRB-pHLA\n",
    "- `vdjdb_full.txt`: (TRA TRB pair)-pHLA\n",
    "\n",
    "- No. cdr3 in vdjdb.txt == No. cdr3.alpha + No. cdr3.beta in vdjdb_full.txt\n",
    "    - if don't use `drop_duplicates()`"
   ]
  },
  {
   "cell_type": "markdown",
   "metadata": {},
   "source": [
    "#### what does each column mean?"
   ]
  },
  {
   "cell_type": "code",
   "execution_count": 22,
   "metadata": {},
   "outputs": [
    {
     "data": {
      "text/html": [
       "<div>\n",
       "<style scoped>\n",
       "    .dataframe tbody tr th:only-of-type {\n",
       "        vertical-align: middle;\n",
       "    }\n",
       "\n",
       "    .dataframe tbody tr th {\n",
       "        vertical-align: top;\n",
       "    }\n",
       "\n",
       "    .dataframe thead th {\n",
       "        text-align: right;\n",
       "    }\n",
       "</style>\n",
       "<table border=\"1\" class=\"dataframe\">\n",
       "  <thead>\n",
       "    <tr style=\"text-align: right;\">\n",
       "      <th></th>\n",
       "      <th>name</th>\n",
       "      <th>comment</th>\n",
       "    </tr>\n",
       "  </thead>\n",
       "  <tbody>\n",
       "    <tr>\n",
       "      <th>0</th>\n",
       "      <td>complex.id</td>\n",
       "      <td>TCR alpha and beta chain records having the sa...</td>\n",
       "    </tr>\n",
       "    <tr>\n",
       "      <th>1</th>\n",
       "      <td>gene</td>\n",
       "      <td>TCR chain: alpha or beta.</td>\n",
       "    </tr>\n",
       "    <tr>\n",
       "      <th>2</th>\n",
       "      <td>cdr3</td>\n",
       "      <td>TCR complementarity determining region 3 (CDR3...</td>\n",
       "    </tr>\n",
       "    <tr>\n",
       "      <th>3</th>\n",
       "      <td>v.segm</td>\n",
       "      <td>TCR Variable segment allele.</td>\n",
       "    </tr>\n",
       "    <tr>\n",
       "      <th>4</th>\n",
       "      <td>j.segm</td>\n",
       "      <td>TCR Joining segment allele.</td>\n",
       "    </tr>\n",
       "    <tr>\n",
       "      <th>5</th>\n",
       "      <td>species</td>\n",
       "      <td>TCR parent species.</td>\n",
       "    </tr>\n",
       "    <tr>\n",
       "      <th>6</th>\n",
       "      <td>mhc.a</td>\n",
       "      <td>First MHC chain allele.</td>\n",
       "    </tr>\n",
       "    <tr>\n",
       "      <th>7</th>\n",
       "      <td>mhc.b</td>\n",
       "      <td>Second MHC chain allele (defaults to Beta2Micr...</td>\n",
       "    </tr>\n",
       "    <tr>\n",
       "      <th>8</th>\n",
       "      <td>mhc.class</td>\n",
       "      <td>MHC class (I or II).</td>\n",
       "    </tr>\n",
       "    <tr>\n",
       "      <th>9</th>\n",
       "      <td>antigen.epitope</td>\n",
       "      <td>Amino acid sequence of the epitope.</td>\n",
       "    </tr>\n",
       "    <tr>\n",
       "      <th>10</th>\n",
       "      <td>antigen.gene</td>\n",
       "      <td>Representative parent gene of the epitope.</td>\n",
       "    </tr>\n",
       "    <tr>\n",
       "      <th>11</th>\n",
       "      <td>antigen.species</td>\n",
       "      <td>Representative parent species of the epitope.</td>\n",
       "    </tr>\n",
       "    <tr>\n",
       "      <th>12</th>\n",
       "      <td>reference.id</td>\n",
       "      <td>Pubmed reference / URL / or submitter details ...</td>\n",
       "    </tr>\n",
       "    <tr>\n",
       "      <th>13</th>\n",
       "      <td>method</td>\n",
       "      <td>Details on method used to assay TCR specificity.</td>\n",
       "    </tr>\n",
       "    <tr>\n",
       "      <th>14</th>\n",
       "      <td>meta</td>\n",
       "      <td>Various meta-information: cell subset, donor s...</td>\n",
       "    </tr>\n",
       "    <tr>\n",
       "      <th>15</th>\n",
       "      <td>cdr3fix</td>\n",
       "      <td>Details on CDR3 sequence fixing (if applied) a...</td>\n",
       "    </tr>\n",
       "    <tr>\n",
       "      <th>16</th>\n",
       "      <td>vdjdb.score</td>\n",
       "      <td>VDJdb confidence score, the higher is the scor...</td>\n",
       "    </tr>\n",
       "    <tr>\n",
       "      <th>17</th>\n",
       "      <td>web.method</td>\n",
       "      <td>Internal</td>\n",
       "    </tr>\n",
       "    <tr>\n",
       "      <th>18</th>\n",
       "      <td>web.method.seq</td>\n",
       "      <td>Internal</td>\n",
       "    </tr>\n",
       "    <tr>\n",
       "      <th>19</th>\n",
       "      <td>web.cdr3fix.nc</td>\n",
       "      <td>Internal</td>\n",
       "    </tr>\n",
       "    <tr>\n",
       "      <th>20</th>\n",
       "      <td>web.cdr3fix.unmp</td>\n",
       "      <td>Internal</td>\n",
       "    </tr>\n",
       "  </tbody>\n",
       "</table>\n",
       "</div>"
      ],
      "text/plain": [
       "                name                                            comment\n",
       "0         complex.id  TCR alpha and beta chain records having the sa...\n",
       "1               gene                          TCR chain: alpha or beta.\n",
       "2               cdr3  TCR complementarity determining region 3 (CDR3...\n",
       "3             v.segm                       TCR Variable segment allele.\n",
       "4             j.segm                        TCR Joining segment allele.\n",
       "5            species                                TCR parent species.\n",
       "6              mhc.a                            First MHC chain allele.\n",
       "7              mhc.b  Second MHC chain allele (defaults to Beta2Micr...\n",
       "8          mhc.class                               MHC class (I or II).\n",
       "9    antigen.epitope                Amino acid sequence of the epitope.\n",
       "10      antigen.gene         Representative parent gene of the epitope.\n",
       "11   antigen.species      Representative parent species of the epitope.\n",
       "12      reference.id  Pubmed reference / URL / or submitter details ...\n",
       "13            method   Details on method used to assay TCR specificity.\n",
       "14              meta  Various meta-information: cell subset, donor s...\n",
       "15           cdr3fix  Details on CDR3 sequence fixing (if applied) a...\n",
       "16       vdjdb.score  VDJdb confidence score, the higher is the scor...\n",
       "17        web.method                                           Internal\n",
       "18    web.method.seq                                           Internal\n",
       "19    web.cdr3fix.nc                                           Internal\n",
       "20  web.cdr3fix.unmp                                           Internal"
      ]
     },
     "execution_count": 22,
     "metadata": {},
     "output_type": "execute_result"
    }
   ],
   "source": [
    "meta_filename = \"vdjdb.meta.txt\"\n",
    "meta_df = pd.read_csv(datapath+meta_filename, sep=\"\\t\")\n",
    "meta_df[[\"name\", \"comment\"]]"
   ]
  },
  {
   "cell_type": "markdown",
   "metadata": {},
   "source": [
    "- **vdjdb.score**"
   ]
  },
  {
   "cell_type": "code",
   "execution_count": 23,
   "metadata": {},
   "outputs": [
    {
     "data": {
      "text/plain": [
       "'VDJdb confidence score, the higher is the score the more confidence we have in the antigen specificity annotation of a given TCR clonotype/clone. Zero score indicates that there are insufficient method details to draw any conclusion.'"
      ]
     },
     "execution_count": 23,
     "metadata": {},
     "output_type": "execute_result"
    }
   ],
   "source": [
    "meta_df.loc[16, 'comment']"
   ]
  },
  {
   "cell_type": "markdown",
   "metadata": {},
   "source": [
    "### ¶ Process `vdjdb_full.txt` only"
   ]
  },
  {
   "cell_type": "code",
   "execution_count": 24,
   "metadata": {},
   "outputs": [
    {
     "data": {
      "text/html": [
       "<div>\n",
       "<style scoped>\n",
       "    .dataframe tbody tr th:only-of-type {\n",
       "        vertical-align: middle;\n",
       "    }\n",
       "\n",
       "    .dataframe tbody tr th {\n",
       "        vertical-align: top;\n",
       "    }\n",
       "\n",
       "    .dataframe thead th {\n",
       "        text-align: right;\n",
       "    }\n",
       "</style>\n",
       "<table border=\"1\" class=\"dataframe\">\n",
       "  <thead>\n",
       "    <tr style=\"text-align: right;\">\n",
       "      <th></th>\n",
       "      <th>antigen.epitope</th>\n",
       "      <th>antigen.gene</th>\n",
       "      <th>antigen.species</th>\n",
       "      <th>mhc.a</th>\n",
       "      <th>mhc.b</th>\n",
       "      <th>mhc.class</th>\n",
       "      <th>alpha.v</th>\n",
       "      <th>alpha.j</th>\n",
       "      <th>alpha.cdr3</th>\n",
       "      <th>beta.v</th>\n",
       "      <th>beta.d</th>\n",
       "      <th>beta.j</th>\n",
       "      <th>beta.cdr3</th>\n",
       "      <th>vdjdb.score</th>\n",
       "      <th>species</th>\n",
       "      <th>tissue</th>\n",
       "      <th>pdb.id</th>\n",
       "    </tr>\n",
       "  </thead>\n",
       "  <tbody>\n",
       "    <tr>\n",
       "      <th>0</th>\n",
       "      <td>FLKEKGGL</td>\n",
       "      <td>Nef</td>\n",
       "      <td>HIV-1</td>\n",
       "      <td>HLA-B*08</td>\n",
       "      <td>B2M</td>\n",
       "      <td>MHCI</td>\n",
       "      <td>TRAV26-1*01</td>\n",
       "      <td>TRAJ43*01</td>\n",
       "      <td>CIVRAPGRADMRF</td>\n",
       "      <td>TRBV13*01</td>\n",
       "      <td>NaN</td>\n",
       "      <td>TRBJ1-5*01</td>\n",
       "      <td>CASSYLPGQGDHYSNQPQHF</td>\n",
       "      <td>2</td>\n",
       "      <td>HomoSapiens</td>\n",
       "      <td>PBMC</td>\n",
       "      <td>NaN</td>\n",
       "    </tr>\n",
       "    <tr>\n",
       "      <th>1</th>\n",
       "      <td>FLKEKGGL</td>\n",
       "      <td>Nef</td>\n",
       "      <td>HIV-1</td>\n",
       "      <td>HLA-B*08</td>\n",
       "      <td>B2M</td>\n",
       "      <td>MHCI</td>\n",
       "      <td>NaN</td>\n",
       "      <td>NaN</td>\n",
       "      <td>NaN</td>\n",
       "      <td>TRBV13*01</td>\n",
       "      <td>NaN</td>\n",
       "      <td>TRBJ1-5*01</td>\n",
       "      <td>CASSFEAGQGFFSNQPQHF</td>\n",
       "      <td>2</td>\n",
       "      <td>HomoSapiens</td>\n",
       "      <td>PBMC</td>\n",
       "      <td>NaN</td>\n",
       "    </tr>\n",
       "  </tbody>\n",
       "</table>\n",
       "</div>"
      ],
      "text/plain": [
       "  antigen.epitope antigen.gene antigen.species     mhc.a mhc.b mhc.class  \\\n",
       "0        FLKEKGGL          Nef           HIV-1  HLA-B*08   B2M      MHCI   \n",
       "1        FLKEKGGL          Nef           HIV-1  HLA-B*08   B2M      MHCI   \n",
       "\n",
       "       alpha.v    alpha.j     alpha.cdr3     beta.v beta.d      beta.j  \\\n",
       "0  TRAV26-1*01  TRAJ43*01  CIVRAPGRADMRF  TRBV13*01    NaN  TRBJ1-5*01   \n",
       "1          NaN        NaN            NaN  TRBV13*01    NaN  TRBJ1-5*01   \n",
       "\n",
       "              beta.cdr3  vdjdb.score      species tissue pdb.id  \n",
       "0  CASSYLPGQGDHYSNQPQHF            2  HomoSapiens   PBMC    NaN  \n",
       "1   CASSFEAGQGFFSNQPQHF            2  HomoSapiens   PBMC    NaN  "
      ]
     },
     "execution_count": 24,
     "metadata": {},
     "output_type": "execute_result"
    }
   ],
   "source": [
    "brief_vdjdb_full_df = vdjdb_full_df[[\n",
    "    'antigen.epitope', 'antigen.gene', 'antigen.species', \n",
    "    'mhc.a', 'mhc.b', 'mhc.class',\n",
    "    'v.alpha', 'j.alpha', 'cdr3.alpha', 'v.beta', 'd.beta', 'j.beta', 'cdr3.beta', \n",
    "    'vdjdb.score', \n",
    "    'species', 'meta.tissue', 'meta.structure.id'\n",
    "]]\n",
    "\n",
    "brief_vdjdb_full_df = brief_vdjdb_full_df.rename(\n",
    "                                        columns={\n",
    "                                                'v.alpha':'alpha.v', \n",
    "                                                'j.alpha':'alpha.j', \n",
    "                                                'cdr3.alpha':'alpha.cdr3',\n",
    "                                                'v.beta':'beta.v', \n",
    "                                                'd.beta':'beta.d', \n",
    "                                                'j.beta':'beta.j', \n",
    "                                                'cdr3.beta':'beta.cdr3',\n",
    "                                                'meta.tissue':'tissue',\n",
    "                                                'meta.structure.id':'pdb.id'})\n",
    "\n",
    "brief_vdjdb_full_df.head(2)"
   ]
  },
  {
   "cell_type": "markdown",
   "metadata": {},
   "source": [
    "### ¶ Save data to ``TCRdata/collect/``"
   ]
  },
  {
   "cell_type": "code",
   "execution_count": 25,
   "metadata": {},
   "outputs": [
    {
     "name": "stdout",
     "output_type": "stream",
     "text": [
      "number of processed data: 61636\n",
      "number of duplicated processed data: 57551\n",
      "File /data/lujd/TCRdata/collect/VDJdb_pair.csv has been successfully saved.\n"
     ]
    }
   ],
   "source": [
    "print(f\"number of processed data: {len(brief_vdjdb_full_df)}\")\n",
    "\n",
    "final_vdjdb_df = brief_vdjdb_full_df.drop_duplicates(ignore_index=True)\n",
    "print(f\"number of duplicated processed data: {len(final_vdjdb_df)}\")\n",
    "\n",
    "savepath = to_your_path + \"TCRdata/collect/\"\n",
    "savename = \"VDJdb_pair.csv\"\n",
    "save_csv(final_vdjdb_df, savepath, savename)"
   ]
  },
  {
   "cell_type": "markdown",
   "metadata": {},
   "source": [
    "---\n",
    "### ¶ Barplot to see how many elements are missing?"
   ]
  },
  {
   "cell_type": "code",
   "execution_count": 26,
   "metadata": {},
   "outputs": [
    {
     "data": {
      "image/png": "[encoded data removed]",
      "text/plain": [
       "<Figure size 1000x600 with 1 Axes>"
      ]
     },
     "metadata": {},
     "output_type": "display_data"
    }
   ],
   "source": [
    "from utils import plot_non_empty_percentage\n",
    "\n",
    "database = \"VDjdb_pair\"\n",
    "plot_non_empty_percentage(final_vdjdb_df, database)"
   ]
  }
 ],
 "metadata": {
  "kernelspec": {
   "display_name": "dock",
   "language": "python",
   "name": "python3"
  },
  "language_info": {
   "codemirror_mode": {
    "name": "ipython",
    "version": 3
   },
   "file_extension": ".py",
   "mimetype": "text/x-python",
   "name": "python",
   "nbconvert_exporter": "python",
   "pygments_lexer": "ipython3",
   "version": "3.9.18"
  },
  "orig_nbformat": 4
 },
 "nbformat": 4,
 "nbformat_minor": 2
}
