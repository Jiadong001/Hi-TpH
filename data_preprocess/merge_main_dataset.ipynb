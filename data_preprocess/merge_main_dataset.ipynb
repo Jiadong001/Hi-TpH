{
 "cells": [
  {
   "cell_type": "markdown",
   "metadata": {},
   "source": [
    "# Merge collected data\n",
    "\n",
    "- ``IEDB.csv``, ``VDJdb_pair.csv``, ``McPAS-TCR.csv``\n",
    "\n",
    "- peptide-HLA-TCR\n",
    "\n",
    "  - TCR with alpha/beta chain, v/j-gene, cdr3 \n",
    "\n",
    "- human(HLA)"
   ]
  },
  {
   "cell_type": "code",
   "execution_count": 2,
   "metadata": {},
   "outputs": [],
   "source": [
    "import os\n",
    "import pandas as pd\n",
    "from utils import save_csv, plot_non_empty_percentage\n",
    "\n",
    "to_your_path = '/data/lujd/'\n",
    "datapath = to_your_path + \"TCRdata/collect/\""
   ]
  },
  {
   "cell_type": "markdown",
   "metadata": {},
   "source": [
    "### ¶ read collected data"
   ]
  },
  {
   "cell_type": "code",
   "execution_count": 50,
   "metadata": {},
   "outputs": [
    {
     "name": "stdout",
     "output_type": "stream",
     "text": [
      "205670 57551 15566\n",
      "205670 53337 12737\n"
     ]
    }
   ],
   "source": [
    "iedb_fn = \"IEDB.csv\"\n",
    "iedb_df = pd.read_csv(datapath+iedb_fn,  sep=\",\", low_memory=False)\n",
    "vdjdb_fn = \"VDJdb_pair.csv\"\n",
    "vdjdb_df = pd.read_csv(datapath+vdjdb_fn,  sep=\",\", low_memory=False)\n",
    "mcpas_fn = \"McPAS-TCR.csv\"\n",
    "mcpas_df = pd.read_csv(datapath+mcpas_fn,  sep=\",\", low_memory=False)\n",
    "print(len(iedb_df), len(vdjdb_df), len(mcpas_df))\n",
    "\n",
    "# human\n",
    "vdjdb_df = vdjdb_df[vdjdb_df['species'] == 'HomoSapiens']\n",
    "# vdjdb_df = vdjdb_df[vdjdb_df['vdjdb.score'] >= 1]\n",
    "mcpas_df = mcpas_df[mcpas_df['Species'] == 'Human']\n",
    "print(len(iedb_df), len(vdjdb_df), len(mcpas_df))"
   ]
  },
  {
   "cell_type": "code",
   "execution_count": 51,
   "metadata": {},
   "outputs": [
    {
     "data": {
      "text/plain": [
       "vdjdb.score\n",
       "0    47562\n",
       "1     3722\n",
       "2     1383\n",
       "3      670\n",
       "Name: count, dtype: int64"
      ]
     },
     "execution_count": 51,
     "metadata": {},
     "output_type": "execute_result"
    }
   ],
   "source": [
    "vdjdb_df['vdjdb.score'].value_counts()"
   ]
  },
  {
   "cell_type": "markdown",
   "metadata": {},
   "source": [
    "### ¶ alignment\n",
    "\n",
    "- IEDB/McPAS-TCR: Get MHC class"
   ]
  },
  {
   "cell_type": "code",
   "execution_count": 52,
   "metadata": {},
   "outputs": [
    {
     "name": "stdout",
     "output_type": "stream",
     "text": [
      "['HLA-A*02:01', 'HLA-A*02:01 K66A', 'E63Q mutant']\n",
      "['HLA-A*02:01']\n",
      "['HLA-A2']\n",
      "['HLA-B*27:05']\n",
      "['HLA-B*35:01']\n",
      "['HLA-DRB1*04:01']\n",
      "['HLA-DRB1*01:01']\n",
      "['HLA-B*44:02', 'HLA-B*44:03', 'HLA-B*44:05']\n",
      "['HLA-A*02:01 K66A', 'E63Q mutant']\n",
      "['HLA-A*02:01 K66A mutant']\n"
     ]
    }
   ],
   "source": [
    "for mhc in iedb_df[\"mhc.allele\"].unique()[7:17]:\n",
    "    print(mhc.split(', '))"
   ]
  },
  {
   "cell_type": "code",
   "execution_count": 53,
   "metadata": {},
   "outputs": [
    {
     "name": "stdout",
     "output_type": "stream",
     "text": [
      "205871\n"
     ]
    }
   ],
   "source": [
    "def split_mhc_allele(df):\n",
    "    # split the lines based on the delimiter \";\" and expand them into separate columns\n",
    "    split_df = df['mhc.allele'].str.split(', ', expand=True)\n",
    "\n",
    "    # Stack the split lines into multiple rows, reset index at level 1 and drop none element\n",
    "    stacked_df = split_df.stack().reset_index(level=1, drop=True).to_frame(name='mhc.allele')\n",
    "\n",
    "    # Concatenate it with the original DataFrame and reset the index for the final DataFrame\n",
    "    # result_df = pd.concat([df.drop(['Amino Acids'], axis=1), stacked_df], axis=1).reset_index(drop=True)\n",
    "    result_df = df.drop(['mhc.allele'], axis=1).join(stacked_df).reset_index(drop=True)\n",
    "\n",
    "    return result_df\n",
    "\n",
    "iedb_df = split_mhc_allele(iedb_df)\n",
    "iedb_df.drop_duplicates(inplace=True, ignore_index=True)\n",
    "print(len(iedb_df))"
   ]
  },
  {
   "cell_type": "code",
   "execution_count": 54,
   "metadata": {},
   "outputs": [
    {
     "data": {
      "text/plain": [
       "150"
      ]
     },
     "execution_count": 54,
     "metadata": {},
     "output_type": "execute_result"
    }
   ],
   "source": [
    "iedb_df['mhc.allele'].nunique()"
   ]
  },
  {
   "cell_type": "code",
   "execution_count": 55,
   "metadata": {},
   "outputs": [
    {
     "name": "stdout",
     "output_type": "stream",
     "text": [
      "MHCI HLA-E*01:01\n",
      "MHCI HLA-E*01:03\n",
      "MHCI HLA-B8\n",
      "MHCI HLA-B*44:05\n",
      "MHCI HLA-B*08:01\n",
      "MHCI HLA-B*44:02\n",
      "(UNK) nan\n",
      "MHCI HLA-A*02:01\n",
      "MHCI HLA-A*02:01 K66A\n",
      "MHCI E63Q mutant\n",
      "MHCI HLA-A2\n",
      "MHCI HLA-B*27:05\n",
      "MHCI HLA-B*35:01\n",
      "MHCII HLA-DRB1*04:01\n",
      "MHCII HLA-DRB1*01:01\n",
      "MHCI HLA-B*44:03\n",
      "MHCI HLA-A*02:01 K66A mutant\n",
      "MHCI HLA-A*02:01 A150P mutant\n",
      "MHCI HLA-B*35:08\n",
      "MHCI HLA-B*35:08 Q65A\n",
      "MHCI T69A\n",
      "MHCI Q155A mutant\n",
      "MHCII HLA-DRA*01:01/DRB1*15:01\n",
      "MHCII HLA-DRA*01:01/DRB1*04:01\n",
      "MHCII HLA-DQ1\n",
      "MHCII HLA-DQA1*01:02/DQB1*05:02\n",
      "MHCII HLA-DRB3*03:01\n",
      "MHCII HLA-DR\n",
      "MHCII HLA-DRB1*04:04\n",
      "MHCII HLA-DRB1*08:03\n",
      "MHCII HLA-DRB1*09:01\n",
      "MHCII HLA-DRB1*15:01\n",
      "MHCII HLA-DRB1*15:03\n",
      "MHCII HLA-DRB1*13:02\n",
      "MHCI HLA-B*57:01\n",
      "MHCI HLA-B*57:03\n",
      "MHCI HLA-A*24:02\n",
      "MHCII HLA-DQA1*05:01/DQB1*02:01\n",
      "MHCI HLA-B*51:01\n",
      "MHCII HLA-DPB1*02:01\n",
      "MHCII HLA-DQA1*03:01/DQB1*03:02\n",
      "MHCI HLA-A*01:01\n",
      "MHCII HLA class II\n",
      "MHCII HLA-DQA1*05:01/DQB1*03:02\n",
      "MHCII HLA-DR2\n",
      "MHCII H2 class II\n",
      "MHCII HLA-DRB3*01:01\n",
      "MHCI HLA-A11\n",
      "MHCI HLA-B*07:02\n",
      "MHCI HLA-B7\n",
      "MHCI HLA-A*11:01\n",
      "MHCI HLA-A*02:01 A69G mutant\n",
      "MHCI HLA-A*02:01 E166A mutant\n",
      "MHCI HLA-A*02:01 R65A mutant\n",
      "MHCI HLA-A*02:01 T163A mutant\n",
      "MHCI HLA-A*02:01 W167A mutant\n",
      "MHCI HLA-B*35:08 Q155A mutant\n",
      "MHCII HLA-DR3\n",
      "MHCI HLA class I\n",
      "MHCI HLA-B*15:01\n",
      "MHCII HLA-DRB3*02:02\n",
      "MHCI HLA-B27\n",
      "MHCI HLA-A1\n",
      "MHCII HLA-DRA*01:01/DRB5*01:01\n",
      "MHCII HLA-DRB1*03:01\n",
      "MHCII HLA-DRB5*01:01\n",
      "MHCII HLA-DQA1*01:02/DQB1*06:02\n",
      "MHCII HLA-DRB1*11:01\n",
      "MHCI HLA-B*38:01\n",
      "MHCI HLA-C*14:02\n",
      "MHCI HLA-B57\n",
      "MHCI HLA-B18\n",
      "MHCII HLA-DQB1*03:02\n",
      "MHCII HLA-DQA1*03:01/DQB1*02:01\n",
      "MHCII HLA-DPA1*01:03/DPB1*02:01\n",
      "MHCII HLA-DRB1*14:02\n",
      "MHCII HLA-DRB1\n",
      "MHCII HLA-DRA*01:01/DRB1*01:01\n",
      "MHCII HLA-DR1\n",
      "MHCI HLA-Cw3\n",
      "MHCII HLA-DRB1*08:18\n",
      "MHCII HLA-DRB1*16:02\n",
      "MHCI HLA-B*37:01\n",
      "MHCI HLA-C*07:02\n",
      "MHCII HLA-DQA1*02:01/DQB1*02:02\n",
      "MHCII HLA-DQ2\n",
      "MHCI HLA-B35\n",
      "MHCII HLA-DRB1*07:01\n",
      "MHCII HLA-DRB1*15:02\n",
      "MHCII HLA-DQB1*06:02\n",
      "MHCII HLA-DP\n",
      "MHCII HLA-DQ\n",
      "MHCI HLA-A*68:01\n",
      "MHCI HLA-A*30:01\n",
      "MHCI HLA-A*03:01\n",
      "MHCII HLA-DRB1*04:02\n",
      "MHCII HLA-DRB1*04:05\n",
      "MHCII HLA-DRB4*01:01\n",
      "MHCII HLA-DRB1*04:03\n",
      "MHCII HLA-DRA*01:01/DRB1*03:01\n",
      "MHCII HLA-DR4\n",
      "MHCI HLA-B*40:01\n",
      "MHCI HLA-B*18:01\n",
      "MHCI HLA-C*06:02\n",
      "MHCI HLA-C*07:01\n",
      "MHCI HLA-C*05:01\n",
      "MHCII HLA-DPA1*02:01/DPB1*13:01\n",
      "MHCII HLA-DRB3*02:01\n",
      "MHCI HLA-A*80:01\n",
      "MHCI HLA-A*30:02\n",
      "MHCI HLA-A*29:02\n",
      "MHCI HLA-B*44:08\n",
      "MHCII HLA-DQ6\n",
      "MHCII HLA-DR7\n",
      "MHCI HLA-C*08:02\n",
      "MHCII HLA-DRA*01:01/DRB1*07:01\n",
      "MHCII HLA-DPA1*01:03/DPB1*04:01\n",
      "MHCI HLA-C*03:03\n",
      "MHCII HLA-DQA1*05:01/DQB1*02:02\n",
      "MHCII HLA-DPw2\n",
      "MHCI HLA-C*03:04\n",
      "MHCI HLA-B*41:02\n",
      "MHCI HLA-B*50:01\n",
      "MHCII HLA-DPB1*04:01\n",
      "MHCII HLA-DR11\n",
      "MHCII HLA-DQB1*05:01\n",
      "MHCII HLA-DQB1*05:02\n",
      "MHCII HLA-DRA*01:01/DRB3*02:02\n",
      "MHCII HLA-DR15\n",
      "MHCI HLA-B*48:01\n",
      "MHCII HLA-DPA1*02:02/DPB1*05:01\n",
      "MHCII HLA-DRB1*14:05\n",
      "MHCII HLA-DRB1*15:04\n",
      "MHCI HLA-A*32:01\n",
      "MHCII HLA-DRB4*01:03\n",
      "MHCII HLA-DQA1*01:01/DQB1*05:01\n",
      "MHCII HLA-DRA*01:01/DRB3*01:01\n",
      "MHCII HLA-DQB1*06:01\n",
      "MHCI HLA-B*27:09\n",
      "MHCII HLA-DRA*01:01/DRB1*11:01\n",
      "MHCI HLA-A*02:06\n",
      "MHCII HLA-DPw4\n",
      "MHCI HLA-C*12:02\n",
      "MHCI HLA-B*39:01\n",
      "MHCI HLA-C*04:01\n",
      "MHCI HLA-A*02:10\n",
      "MHCI HLA-C*08:01\n",
      "MHCII HLA-DRB1*12:01\n",
      "MHCI HLA-A*23:01\n",
      "MHCII HLA-DRB1*13:01\n",
      "MHCI HLA-A*02:05\n",
      "HLA-E*01:01 HLA-E*01:01\n",
      "HLA-E*01:03 HLA-E*01:03\n",
      "HLA-B8 HLA-B8\n",
      "HLA-B*44:05 HLA-B*44:05\n",
      "HLA-B*08:01 HLA-B*08:01\n",
      "HLA-B*44:02 HLA-B*44:02\n",
      "(UNK) nan\n",
      "HLA-A*02:01 HLA-A*02:01\n",
      "HLA-A*02:01 K66A HLA-A*02:01 K66A\n",
      "E63Q mutant E63Q mutant\n",
      "HLA-A2 HLA-A2\n",
      "HLA-B*27:05 HLA-B*27:05\n",
      "HLA-B*35:01 HLA-B*35:01\n",
      "HLA-DRB1*04:01 HLA-DRB1*04:01\n",
      "HLA-DRB1*01:01 HLA-DRB1*01:01\n",
      "HLA-B*44:03 HLA-B*44:03\n",
      "HLA-A*02:01 K66A mutant HLA-A*02:01 K66A mutant\n",
      "HLA-A*02:01 A150P mutant HLA-A*02:01 A150P mutant\n",
      "HLA-B*35:08 HLA-B*35:08\n",
      "HLA-B*35:08 Q65A HLA-B*35:08 Q65A\n",
      "T69A T69A\n",
      "Q155A mutant Q155A mutant\n",
      "HLA-DRA*01:01/DRB1*15:01 HLA-DRA*01:01/DRB1*15:01\n",
      "HLA-DRA*01:01/DRB1*04:01 HLA-DRA*01:01/DRB1*04:01\n",
      "HLA-DQ1 HLA-DQ1\n",
      "HLA-DQA1*01:02/DQB1*05:02 HLA-DQA1*01:02/DQB1*05:02\n",
      "HLA-DRB3*03:01 HLA-DRB3*03:01\n",
      "HLA-DR HLA-DR\n",
      "HLA-DRB1*04:04 HLA-DRB1*04:04\n",
      "HLA-DRB1*08:03 HLA-DRB1*08:03\n",
      "HLA-DRB1*09:01 HLA-DRB1*09:01\n",
      "HLA-DRB1*15:01 HLA-DRB1*15:01\n",
      "HLA-DRB1*15:03 HLA-DRB1*15:03\n",
      "HLA-DRB1*13:02 HLA-DRB1*13:02\n",
      "HLA-B*57:01 HLA-B*57:01\n",
      "HLA-B*57:03 HLA-B*57:03\n",
      "HLA-A*24:02 HLA-A*24:02\n",
      "HLA-DQA1*05:01/DQB1*02:01 HLA-DQA1*05:01/DQB1*02:01\n",
      "HLA-B*51:01 HLA-B*51:01\n",
      "HLA-DPB1*02:01 HLA-DPB1*02:01\n",
      "HLA-DQA1*03:01/DQB1*03:02 HLA-DQA1*03:01/DQB1*03:02\n",
      "HLA-A*01:01 HLA-A*01:01\n",
      "(UNK) HLA class II\n",
      "HLA-DQA1*05:01/DQB1*03:02 HLA-DQA1*05:01/DQB1*03:02\n",
      "HLA-DR2 HLA-DR2\n",
      "(UNK) H2 class II\n",
      "HLA-DRB3*01:01 HLA-DRB3*01:01\n",
      "HLA-A11 HLA-A11\n",
      "HLA-B*07:02 HLA-B*07:02\n",
      "HLA-B7 HLA-B7\n",
      "HLA-A*11:01 HLA-A*11:01\n",
      "HLA-A*02:01 A69G mutant HLA-A*02:01 A69G mutant\n",
      "HLA-A*02:01 E166A mutant HLA-A*02:01 E166A mutant\n",
      "HLA-A*02:01 R65A mutant HLA-A*02:01 R65A mutant\n",
      "HLA-A*02:01 T163A mutant HLA-A*02:01 T163A mutant\n",
      "HLA-A*02:01 W167A mutant HLA-A*02:01 W167A mutant\n",
      "HLA-B*35:08 Q155A mutant HLA-B*35:08 Q155A mutant\n",
      "HLA-DR3 HLA-DR3\n",
      "(UNK) HLA class I\n",
      "HLA-B*15:01 HLA-B*15:01\n",
      "HLA-DRB3*02:02 HLA-DRB3*02:02\n",
      "HLA-B27 HLA-B27\n",
      "HLA-A1 HLA-A1\n",
      "HLA-DRA*01:01/DRB5*01:01 HLA-DRA*01:01/DRB5*01:01\n",
      "HLA-DRB1*03:01 HLA-DRB1*03:01\n",
      "HLA-DRB5*01:01 HLA-DRB5*01:01\n",
      "HLA-DQA1*01:02/DQB1*06:02 HLA-DQA1*01:02/DQB1*06:02\n",
      "HLA-DRB1*11:01 HLA-DRB1*11:01\n",
      "HLA-B*38:01 HLA-B*38:01\n",
      "HLA-C*14:02 HLA-C*14:02\n",
      "HLA-B57 HLA-B57\n",
      "HLA-B18 HLA-B18\n",
      "HLA-DQB1*03:02 HLA-DQB1*03:02\n",
      "HLA-DQA1*03:01/DQB1*02:01 HLA-DQA1*03:01/DQB1*02:01\n",
      "HLA-DPA1*01:03/DPB1*02:01 HLA-DPA1*01:03/DPB1*02:01\n",
      "HLA-DRB1*14:02 HLA-DRB1*14:02\n",
      "HLA-DRB1 HLA-DRB1\n",
      "HLA-DRA*01:01/DRB1*01:01 HLA-DRA*01:01/DRB1*01:01\n",
      "HLA-DR1 HLA-DR1\n",
      "HLA-Cw3 HLA-Cw3\n",
      "HLA-DRB1*08:18 HLA-DRB1*08:18\n",
      "HLA-DRB1*16:02 HLA-DRB1*16:02\n",
      "HLA-B*37:01 HLA-B*37:01\n",
      "HLA-C*07:02 HLA-C*07:02\n",
      "HLA-DQA1*02:01/DQB1*02:02 HLA-DQA1*02:01/DQB1*02:02\n",
      "HLA-DQ2 HLA-DQ2\n",
      "HLA-B35 HLA-B35\n",
      "HLA-DRB1*07:01 HLA-DRB1*07:01\n",
      "HLA-DRB1*15:02 HLA-DRB1*15:02\n",
      "HLA-DQB1*06:02 HLA-DQB1*06:02\n",
      "HLA-DP HLA-DP\n",
      "HLA-DQ HLA-DQ\n",
      "HLA-A*68:01 HLA-A*68:01\n",
      "HLA-A*30:01 HLA-A*30:01\n",
      "HLA-A*03:01 HLA-A*03:01\n",
      "HLA-DRB1*04:02 HLA-DRB1*04:02\n",
      "HLA-DRB1*04:05 HLA-DRB1*04:05\n",
      "HLA-DRB4*01:01 HLA-DRB4*01:01\n",
      "HLA-DRB1*04:03 HLA-DRB1*04:03\n",
      "HLA-DRA*01:01/DRB1*03:01 HLA-DRA*01:01/DRB1*03:01\n",
      "HLA-DR4 HLA-DR4\n",
      "HLA-B*40:01 HLA-B*40:01\n",
      "HLA-B*18:01 HLA-B*18:01\n",
      "HLA-C*06:02 HLA-C*06:02\n",
      "HLA-C*07:01 HLA-C*07:01\n",
      "HLA-C*05:01 HLA-C*05:01\n",
      "HLA-DPA1*02:01/DPB1*13:01 HLA-DPA1*02:01/DPB1*13:01\n",
      "HLA-DRB3*02:01 HLA-DRB3*02:01\n",
      "HLA-A*80:01 HLA-A*80:01\n",
      "HLA-A*30:02 HLA-A*30:02\n",
      "HLA-A*29:02 HLA-A*29:02\n",
      "HLA-B*44:08 HLA-B*44:08\n",
      "HLA-DQ6 HLA-DQ6\n",
      "HLA-DR7 HLA-DR7\n",
      "HLA-C*08:02 HLA-C*08:02\n",
      "HLA-DRA*01:01/DRB1*07:01 HLA-DRA*01:01/DRB1*07:01\n",
      "HLA-DPA1*01:03/DPB1*04:01 HLA-DPA1*01:03/DPB1*04:01\n",
      "HLA-C*03:03 HLA-C*03:03\n",
      "HLA-DQA1*05:01/DQB1*02:02 HLA-DQA1*05:01/DQB1*02:02\n",
      "HLA-DPw2 HLA-DPw2\n",
      "HLA-C*03:04 HLA-C*03:04\n",
      "HLA-B*41:02 HLA-B*41:02\n",
      "HLA-B*50:01 HLA-B*50:01\n",
      "HLA-DPB1*04:01 HLA-DPB1*04:01\n",
      "HLA-DR11 HLA-DR11\n",
      "HLA-DQB1*05:01 HLA-DQB1*05:01\n",
      "HLA-DQB1*05:02 HLA-DQB1*05:02\n",
      "HLA-DRA*01:01/DRB3*02:02 HLA-DRA*01:01/DRB3*02:02\n",
      "HLA-DR15 HLA-DR15\n",
      "HLA-B*48:01 HLA-B*48:01\n",
      "HLA-DPA1*02:02/DPB1*05:01 HLA-DPA1*02:02/DPB1*05:01\n",
      "HLA-DRB1*14:05 HLA-DRB1*14:05\n",
      "HLA-DRB1*15:04 HLA-DRB1*15:04\n",
      "HLA-A*32:01 HLA-A*32:01\n",
      "HLA-DRB4*01:03 HLA-DRB4*01:03\n",
      "HLA-DQA1*01:01/DQB1*05:01 HLA-DQA1*01:01/DQB1*05:01\n",
      "HLA-DRA*01:01/DRB3*01:01 HLA-DRA*01:01/DRB3*01:01\n",
      "HLA-DQB1*06:01 HLA-DQB1*06:01\n",
      "HLA-B*27:09 HLA-B*27:09\n",
      "HLA-DRA*01:01/DRB1*11:01 HLA-DRA*01:01/DRB1*11:01\n",
      "HLA-A*02:06 HLA-A*02:06\n",
      "HLA-DPw4 HLA-DPw4\n",
      "HLA-C*12:02 HLA-C*12:02\n",
      "HLA-B*39:01 HLA-B*39:01\n",
      "HLA-C*04:01 HLA-C*04:01\n",
      "HLA-A*02:10 HLA-A*02:10\n",
      "HLA-C*08:01 HLA-C*08:01\n",
      "HLA-DRB1*12:01 HLA-DRB1*12:01\n",
      "HLA-A*23:01 HLA-A*23:01\n",
      "HLA-DRB1*13:01 HLA-DRB1*13:01\n",
      "HLA-A*02:05 HLA-A*02:05\n"
     ]
    }
   ],
   "source": [
    "def mhc_allele2class(data):\n",
    "    if str(data) != 'nan':\n",
    "        return 'MHCII' if ('D' in str(data)) or ('II' in str(data)) else 'MHCI'\n",
    "    else:\n",
    "        return '(UNK)'\n",
    "\n",
    "def check_mhc_allele(data):\n",
    "    if (str(data) == 'nan') or ('class' in str(data)):\n",
    "        return '(UNK)'\n",
    "    else:\n",
    "        return data\n",
    "\n",
    "for mhc in iedb_df['mhc.allele'].unique():\n",
    "    print(mhc_allele2class(mhc), mhc)\n",
    "for mhc in iedb_df['mhc.allele'].unique():\n",
    "    print(check_mhc_allele(mhc), mhc)"
   ]
  },
  {
   "cell_type": "code",
   "execution_count": 56,
   "metadata": {},
   "outputs": [],
   "source": [
    "iedb_df['mhc.class'] = iedb_df['mhc.allele'].apply(mhc_allele2class)\n",
    "iedb_df['mhc.allele'] = iedb_df['mhc.allele'].apply(check_mhc_allele)\n",
    "\n",
    "vdjdb_df = vdjdb_df.rename(columns={'mhc.a':'mhc.allele'})\n",
    "\n",
    "mcpas_df['mhc.class'] = mcpas_df['mhc.allele'].apply(mhc_allele2class)\n",
    "mcpas_df['mhc.allele'] = mcpas_df['mhc.allele'].apply(check_mhc_allele)"
   ]
  },
  {
   "cell_type": "markdown",
   "metadata": {},
   "source": [
    "### ¶ add dataset.tag"
   ]
  },
  {
   "cell_type": "code",
   "execution_count": 59,
   "metadata": {},
   "outputs": [],
   "source": [
    "iedb_df['dataset.tag'] = 'iedb'\n",
    "vdjdb_df['dataset.tag'] = 'vdjdb'\n",
    "mcpas_df['dataset.tag'] = 'mcpas'"
   ]
  },
  {
   "cell_type": "markdown",
   "metadata": {},
   "source": [
    "### ¶ replace empty-value with (UNK)"
   ]
  },
  {
   "cell_type": "code",
   "execution_count": 60,
   "metadata": {},
   "outputs": [],
   "source": [
    "iedb_df = iedb_df.fillna(value='(UNK)')\n",
    "vdjdb_df = vdjdb_df.fillna(value='(UNK)')\n",
    "mcpas_df = mcpas_df.fillna(value='(UNK)')\n",
    "\n",
    "vdjdb_df['alpha.cdr1'] = '(UNK)'\n",
    "vdjdb_df['alpha.cdr2'] = '(UNK)'\n",
    "vdjdb_df['alpha.vseq'] = '(UNK)'\n",
    "vdjdb_df['beta.cdr1'] = '(UNK)'\n",
    "vdjdb_df['beta.cdr2'] = '(UNK)'\n",
    "vdjdb_df['beta.vseq'] = '(UNK)'\n",
    "\n",
    "mcpas_df['alpha.cdr1'] = '(UNK)'\n",
    "mcpas_df['alpha.cdr2'] = '(UNK)'\n",
    "mcpas_df['alpha.vseq'] = '(UNK)'\n",
    "mcpas_df['beta.cdr1'] = '(UNK)'\n",
    "mcpas_df['beta.cdr2'] = '(UNK)'\n",
    "mcpas_df['beta.vseq'] = '(UNK)'"
   ]
  },
  {
   "cell_type": "markdown",
   "metadata": {},
   "source": [
    "### ¶ merge peptide-HLA-TCR data\n",
    "\n",
    "- TCR with alpha/beta chain, v/j-gene, cdr3 "
   ]
  },
  {
   "cell_type": "code",
   "execution_count": 63,
   "metadata": {},
   "outputs": [
    {
     "name": "stdout",
     "output_type": "stream",
     "text": [
      "193800\n"
     ]
    }
   ],
   "source": [
    "main_cols = ['antigen.epitope','mhc.allele','mhc.class',\n",
    "             'alpha.v','alpha.j','alpha.cdr1','alpha.cdr2','alpha.cdr3','alpha.vseq',\n",
    "             'beta.v','beta.d','beta.j','beta.cdr1','beta.cdr2','beta.cdr3','beta.vseq',\n",
    "             'dataset.tag']\n",
    "\n",
    "iedb_df_ab_vdj = iedb_df[main_cols]\n",
    "vdjdb_df_ab_vdj = vdjdb_df[main_cols]\n",
    "mcpas_df_ab_vdj = mcpas_df[main_cols]\n",
    "\n",
    "df_ab_vdj = pd.concat([iedb_df_ab_vdj, vdjdb_df_ab_vdj, mcpas_df_ab_vdj]\n",
    "                        ).drop_duplicates(subset=['antigen.epitope','mhc.allele','mhc.class',\n",
    "                                                  'alpha.v','alpha.j','alpha.cdr1','alpha.cdr2','alpha.cdr3','alpha.vseq',\n",
    "                                                  'beta.v','beta.d','beta.j','beta.cdr1','beta.cdr2','beta.cdr3','beta.vseq'], keep='first'\n",
    "                        ).reset_index(drop=True)\n",
    "print(len(df_ab_vdj))       # 193692 if only use drop_duplicates()"
   ]
  },
  {
   "cell_type": "markdown",
   "metadata": {},
   "source": [
    "### ¶ Save data to ``TCRdata/collect/``"
   ]
  },
  {
   "cell_type": "code",
   "execution_count": 64,
   "metadata": {},
   "outputs": [
    {
     "name": "stdout",
     "output_type": "stream",
     "text": [
      "number of brief data: 193800\n",
      "number of duplicated brief data: 193800\n",
      "File /data/lujd/TCRdata/collect/main_dataset_tcr_phla.csv has been successfully saved.\n"
     ]
    }
   ],
   "source": [
    "# save\n",
    "print(f\"number of brief data: {len(df_ab_vdj)}\")\n",
    "\n",
    "df_ab_vdj = df_ab_vdj.drop_duplicates(ignore_index=True)\n",
    "print(f\"number of duplicated brief data: {len(df_ab_vdj)}\")\n",
    "\n",
    "savepath = to_your_path + \"TCRdata/collect/\"\n",
    "savename = \"main_dataset_tcr_phla.csv\"\n",
    "save_csv(df_ab_vdj, savepath, savename)"
   ]
  }
 ],
 "metadata": {
  "kernelspec": {
   "display_name": "dock",
   "language": "python",
   "name": "python3"
  },
  "language_info": {
   "codemirror_mode": {
    "name": "ipython",
    "version": 3
   },
   "file_extension": ".py",
   "mimetype": "text/x-python",
   "name": "python",
   "nbconvert_exporter": "python",
   "pygments_lexer": "ipython3",
   "version": "3.9.18"
  },
  "orig_nbformat": 4
 },
 "nbformat": 4,
 "nbformat_minor": 2
}
