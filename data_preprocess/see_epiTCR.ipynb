{
 "cells": [
  {
   "cell_type": "markdown",
   "metadata": {},
   "source": [
    "# Data from epiTCR\n",
    "\n",
    "- download from: https://github.com/ddiem-ri-4D/epiTCR/tree/main/data/finalData\n",
    "- 放在 ``TCRdata/raw/paper/epiTCR/``"
   ]
  },
  {
   "cell_type": "code",
   "execution_count": 1,
   "metadata": {},
   "outputs": [],
   "source": [
    "import pandas as pd\n",
    "from utils import save_csv\n",
    "\n",
    "to_your_path = '/data/lujd/'"
   ]
  },
  {
   "cell_type": "markdown",
   "metadata": {},
   "source": [
    "### ¶ with HLA"
   ]
  },
  {
   "cell_type": "code",
   "execution_count": 2,
   "metadata": {},
   "outputs": [],
   "source": [
    "datapath = to_your_path + \"TCRdata/raw/paper/epiTCR/\"\n",
    "filename = \"finalWithHLAConverted.csv\"\n",
    "\n",
    "df = pd.read_csv(datapath+filename, sep=\",\")\n",
    "df.head(3)"
   ]
  },
  {
   "cell_type": "code",
   "execution_count": 16,
   "metadata": {},
   "outputs": [
    {
     "name": "stdout",
     "output_type": "stream",
     "text": [
      "CDR3b's number: 108412 \n",
      "epitope's number: 1398 \n",
      "binder's number: 2 \n",
      "dataset's number: 5 \n",
      "HLA's number: 52 \n",
      "CDR3b.length's number: 12 \n",
      "epitope.length's number: 4 \n",
      "MHC's number: 43 \n",
      "total number: 3214984 \n"
     ]
    }
   ],
   "source": [
    "# statistic\n",
    "for col in df.columns:\n",
    "    print(f\"{col}'s number: {df[col].nunique()} \")\n",
    "\n",
    "print(f\"total number: {len(df)} \")"
   ]
  },
  {
   "cell_type": "code",
   "execution_count": 17,
   "metadata": {},
   "outputs": [
    {
     "data": {
      "text/plain": [
       "66137"
      ]
     },
     "execution_count": 17,
     "metadata": {},
     "output_type": "execute_result"
    }
   ],
   "source": [
    "len(df) - len(df[df['dataset']=='10X'])"
   ]
  },
  {
   "cell_type": "code",
   "execution_count": 4,
   "metadata": {},
   "outputs": [
    {
     "data": {
      "text/plain": [
       "array(['A*11:01:01:01', 'A*03:01:01:01', 'A*02:01:01:01', 'A*01:01:01:01',\n",
       "       'A*24:02:01:01', 'B*07:02:01:01', 'B*08:01:01:01', 'B*35:01:01:01'],\n",
       "      dtype=object)"
      ]
     },
     "execution_count": 4,
     "metadata": {},
     "output_type": "execute_result"
    }
   ],
   "source": [
    "df[df['dataset']=='10X']['HLA'].unique()"
   ]
  },
  {
   "cell_type": "code",
   "execution_count": 5,
   "metadata": {},
   "outputs": [
    {
     "data": {
      "text/plain": [
       "dataset\n",
       "10X      0.979429\n",
       "VDJdb    0.009076\n",
       "IEDB     0.008791\n",
       "TBAdb    0.001735\n",
       "McPAS    0.000969\n",
       "Name: proportion, dtype: float64"
      ]
     },
     "execution_count": 5,
     "metadata": {},
     "output_type": "execute_result"
    }
   ],
   "source": [
    "df[\"dataset\"].value_counts(normalize=True)"
   ]
  },
  {
   "cell_type": "code",
   "execution_count": 6,
   "metadata": {},
   "outputs": [],
   "source": [
    "# Define a function to modify the HLA gane name\n",
    "def add_prefix(data):\n",
    "    return \"HLA-\" + data if \"HLA-\" not in data else data\n",
    "\n",
    "df['HLA'] = df['HLA'].apply(add_prefix)"
   ]
  },
  {
   "cell_type": "code",
   "execution_count": 7,
   "metadata": {},
   "outputs": [
    {
     "data": {
      "text/plain": [
       "HLA\n",
       "HLA-A*02:01:01:01    1807043\n",
       "HLA-B*07:02:01:01     322407\n",
       "HLA-A*24:02:01:01     254219\n",
       "HLA-B*08:01:01:01     254169\n",
       "HLA-A*01:01:01:01     191565\n",
       "HLA-A*03:01:01:01     189941\n",
       "HLA-A*11:01:01:01     130140\n",
       "HLA-B*35:01:01:01      63569\n",
       "HLA-B*57:01:01:01        592\n",
       "HLA-B*42:01:01:01        430\n",
       "HLA-B*27:05:02:01        365\n",
       "HLA-B*15:01:01:01        139\n",
       "HLA-A*80:01:01:01         77\n",
       "HLA-B*57:03:01:01         74\n",
       "HLA-B*44:03:08            49\n",
       "HLA-B*81:01:01:01         41\n",
       "HLA-A*30:02:01:01         32\n",
       "HLA-B*44:02:01:01         24\n",
       "HLA-B*51:01:01:01         19\n",
       "HLA-B*18:01:01:01         12\n",
       "HLA-A*29:02:01:01          9\n",
       "HLA-C*08:02:01:01          7\n",
       "HLA-B*41:02:01:01          6\n",
       "HLA-B*35:42:01             5\n",
       "HLA-A*02:01:59             5\n",
       "HLA-A*68:01:01:01          4\n",
       "HLA-C*16:01                4\n",
       "HLA-E*01:01:01:03          3\n",
       "HLA-A*24:02:84             3\n",
       "HLA-B*44:05:01:01          3\n",
       "HLA-C*01:02:01:01          2\n",
       "HLA-A*02:13                2\n",
       "HLA-A*02:14                2\n",
       "HLA-B*35:08:01:01          2\n",
       "HLA-A*02:01:98             2\n",
       "HLA-B*35:42:02             2\n",
       "HLA-A*02:06:01:03          1\n",
       "HLA-A*02:01:110            1\n",
       "HLA-C*07:01:01             1\n",
       "HLA-B*37:01:10             1\n",
       "HLA-A*02:256               1\n",
       "HLA-A*02:12                1\n",
       "HLA-A*02:266               1\n",
       "HLA-B*57:06                1\n",
       "HLA-A*02:10                1\n",
       "HLA-A*02:11:01:01          1\n",
       "HLA-A*02:09:01:01          1\n",
       "HLA-A*02:16                1\n",
       "HLA-A*02:07:01:01          1\n",
       "HLA-A*02:08:01             1\n",
       "HLA-A*02:04:01             1\n",
       "HLA-A*02:03:01:01          1\n",
       "Name: count, dtype: int64"
      ]
     },
     "execution_count": 7,
     "metadata": {},
     "output_type": "execute_result"
    }
   ],
   "source": [
    "df[\"HLA\"].value_counts()"
   ]
  },
  {
   "cell_type": "code",
   "execution_count": 8,
   "metadata": {},
   "outputs": [
    {
     "data": {
      "text/html": [
       "<div>\n",
       "<style scoped>\n",
       "    .dataframe tbody tr th:only-of-type {\n",
       "        vertical-align: middle;\n",
       "    }\n",
       "\n",
       "    .dataframe tbody tr th {\n",
       "        vertical-align: top;\n",
       "    }\n",
       "\n",
       "    .dataframe thead th {\n",
       "        text-align: right;\n",
       "    }\n",
       "</style>\n",
       "<table border=\"1\" class=\"dataframe\">\n",
       "  <thead>\n",
       "    <tr style=\"text-align: right;\">\n",
       "      <th></th>\n",
       "      <th>CDR3b</th>\n",
       "      <th>peptide</th>\n",
       "      <th>binder</th>\n",
       "      <th>HLA</th>\n",
       "    </tr>\n",
       "  </thead>\n",
       "  <tbody>\n",
       "    <tr>\n",
       "      <th>0</th>\n",
       "      <td>AAADEEIGNQPQH</td>\n",
       "      <td>ATDALMTGY</td>\n",
       "      <td>1</td>\n",
       "      <td>HLA-A*01:01:01:01</td>\n",
       "    </tr>\n",
       "    <tr>\n",
       "      <th>1</th>\n",
       "      <td>AAGAGLSYEQY</td>\n",
       "      <td>NLVPMVATV</td>\n",
       "      <td>1</td>\n",
       "      <td>HLA-A*02:01:01:01</td>\n",
       "    </tr>\n",
       "  </tbody>\n",
       "</table>\n",
       "</div>"
      ],
      "text/plain": [
       "           CDR3b    peptide  binder                HLA\n",
       "0  AAADEEIGNQPQH  ATDALMTGY       1  HLA-A*01:01:01:01\n",
       "1    AAGAGLSYEQY  NLVPMVATV       1  HLA-A*02:01:01:01"
      ]
     },
     "execution_count": 8,
     "metadata": {},
     "output_type": "execute_result"
    }
   ],
   "source": [
    "processed_df = df[[\"CDR3b\", \"epitope\", \"binder\", \"HLA\"]]\n",
    "\n",
    "processed_df = processed_df.rename(columns={\"epitope\":\"peptide\"})\n",
    "\n",
    "processed_df.head(2)"
   ]
  },
  {
   "cell_type": "markdown",
   "metadata": {},
   "source": [
    "- Save data to ``TCRdata/otherpapers/``"
   ]
  },
  {
   "cell_type": "code",
   "execution_count": 9,
   "metadata": {},
   "outputs": [
    {
     "name": "stdout",
     "output_type": "stream",
     "text": [
      "number of brief data: 3214984\n",
      "number of duplicated brief data: 3214983\n",
      "File /data/lujd/TCRdata/otherpapers/epiTCR_wHLA.csv has been successfully saved.\n"
     ]
    }
   ],
   "source": [
    "# save\n",
    "print(f\"number of brief data: {len(processed_df)}\")\n",
    "\n",
    "processed_df = processed_df.drop_duplicates(ignore_index=True)\n",
    "print(f\"number of duplicated brief data: {len(processed_df)}\")\n",
    "\n",
    "savepath = to_your_path + \"TCRdata/otherpapers/\"\n",
    "savename = \"epiTCR_wHLA.csv\"\n",
    "save_csv(processed_df, savepath, savename)"
   ]
  },
  {
   "cell_type": "markdown",
   "metadata": {},
   "source": [
    "### ¶ without HLA"
   ]
  },
  {
   "cell_type": "code",
   "execution_count": 10,
   "metadata": {},
   "outputs": [
    {
     "data": {
      "text/html": [
       "<div>\n",
       "<style scoped>\n",
       "    .dataframe tbody tr th:only-of-type {\n",
       "        vertical-align: middle;\n",
       "    }\n",
       "\n",
       "    .dataframe tbody tr th {\n",
       "        vertical-align: top;\n",
       "    }\n",
       "\n",
       "    .dataframe thead th {\n",
       "        text-align: right;\n",
       "    }\n",
       "</style>\n",
       "<table border=\"1\" class=\"dataframe\">\n",
       "  <thead>\n",
       "    <tr style=\"text-align: right;\">\n",
       "      <th></th>\n",
       "      <th>CDR3b</th>\n",
       "      <th>epitope</th>\n",
       "      <th>binder</th>\n",
       "      <th>dataset</th>\n",
       "      <th>CDR3b.length</th>\n",
       "      <th>epitope.length</th>\n",
       "    </tr>\n",
       "  </thead>\n",
       "  <tbody>\n",
       "    <tr>\n",
       "      <th>0</th>\n",
       "      <td>AAADEEIGNQPQH</td>\n",
       "      <td>ATDALMTGY</td>\n",
       "      <td>1</td>\n",
       "      <td>TBAdb</td>\n",
       "      <td>13</td>\n",
       "      <td>9</td>\n",
       "    </tr>\n",
       "    <tr>\n",
       "      <th>1</th>\n",
       "      <td>AAGAGLSYEQY</td>\n",
       "      <td>NLVPMVATV</td>\n",
       "      <td>1</td>\n",
       "      <td>TBAdb</td>\n",
       "      <td>11</td>\n",
       "      <td>9</td>\n",
       "    </tr>\n",
       "    <tr>\n",
       "      <th>2</th>\n",
       "      <td>AAGGQFYGYT</td>\n",
       "      <td>KAFSPEVIPMF</td>\n",
       "      <td>1</td>\n",
       "      <td>TBAdb</td>\n",
       "      <td>10</td>\n",
       "      <td>11</td>\n",
       "    </tr>\n",
       "  </tbody>\n",
       "</table>\n",
       "</div>"
      ],
      "text/plain": [
       "           CDR3b      epitope  binder dataset  CDR3b.length  epitope.length\n",
       "0  AAADEEIGNQPQH    ATDALMTGY       1   TBAdb            13               9\n",
       "1    AAGAGLSYEQY    NLVPMVATV       1   TBAdb            11               9\n",
       "2     AAGGQFYGYT  KAFSPEVIPMF       1   TBAdb            10              11"
      ]
     },
     "execution_count": 10,
     "metadata": {},
     "output_type": "execute_result"
    }
   ],
   "source": [
    "import pandas as pd\n",
    "\n",
    "datapath = to_your_path + \"TCRdata/raw/paper/epiTCR/\"\n",
    "filename = \"finalwithoutHLA.csv\"\n",
    "\n",
    "df = pd.read_csv(datapath+filename, sep=\",\")\n",
    "df.head(3)"
   ]
  },
  {
   "cell_type": "code",
   "execution_count": 11,
   "metadata": {},
   "outputs": [
    {
     "name": "stdout",
     "output_type": "stream",
     "text": [
      "CDR3b's number: 145913 \n",
      "epitope's number: 1658 \n",
      "binder's number: 2 \n",
      "dataset's number: 5 \n",
      "CDR3b.length's number: 12 \n",
      "epitope.length's number: 4 \n",
      "total number: 3255086 \n"
     ]
    },
    {
     "data": {
      "text/plain": [
       "dataset\n",
       "10X      0.967362\n",
       "IEDB     0.019964\n",
       "VDJdb    0.009136\n",
       "McPAS    0.001803\n",
       "TBAdb    0.001735\n",
       "Name: proportion, dtype: float64"
      ]
     },
     "execution_count": 11,
     "metadata": {},
     "output_type": "execute_result"
    }
   ],
   "source": [
    "# statistic\n",
    "for col in df.columns:\n",
    "    print(f\"{col}'s number: {df[col].nunique()} \")\n",
    "\n",
    "print(f\"total number: {len(df)} \")\n",
    "\n",
    "df[\"dataset\"].value_counts(normalize=True)"
   ]
  },
  {
   "cell_type": "code",
   "execution_count": 12,
   "metadata": {},
   "outputs": [
    {
     "data": {
      "text/html": [
       "<div>\n",
       "<style scoped>\n",
       "    .dataframe tbody tr th:only-of-type {\n",
       "        vertical-align: middle;\n",
       "    }\n",
       "\n",
       "    .dataframe tbody tr th {\n",
       "        vertical-align: top;\n",
       "    }\n",
       "\n",
       "    .dataframe thead th {\n",
       "        text-align: right;\n",
       "    }\n",
       "</style>\n",
       "<table border=\"1\" class=\"dataframe\">\n",
       "  <thead>\n",
       "    <tr style=\"text-align: right;\">\n",
       "      <th></th>\n",
       "      <th>CDR3b</th>\n",
       "      <th>peptide</th>\n",
       "      <th>binder</th>\n",
       "    </tr>\n",
       "  </thead>\n",
       "  <tbody>\n",
       "    <tr>\n",
       "      <th>0</th>\n",
       "      <td>AAADEEIGNQPQH</td>\n",
       "      <td>ATDALMTGY</td>\n",
       "      <td>1</td>\n",
       "    </tr>\n",
       "    <tr>\n",
       "      <th>1</th>\n",
       "      <td>AAGAGLSYEQY</td>\n",
       "      <td>NLVPMVATV</td>\n",
       "      <td>1</td>\n",
       "    </tr>\n",
       "  </tbody>\n",
       "</table>\n",
       "</div>"
      ],
      "text/plain": [
       "           CDR3b    peptide  binder\n",
       "0  AAADEEIGNQPQH  ATDALMTGY       1\n",
       "1    AAGAGLSYEQY  NLVPMVATV       1"
      ]
     },
     "execution_count": 12,
     "metadata": {},
     "output_type": "execute_result"
    }
   ],
   "source": [
    "processed_df = df[[\"CDR3b\", \"epitope\", \"binder\"]]\n",
    "\n",
    "processed_df = processed_df.rename(columns={\"epitope\":\"peptide\"})\n",
    "\n",
    "processed_df.head(2)"
   ]
  },
  {
   "cell_type": "markdown",
   "metadata": {},
   "source": [
    "- Save data to ``TCRdata/otherpapers/``"
   ]
  },
  {
   "cell_type": "code",
   "execution_count": 13,
   "metadata": {},
   "outputs": [
    {
     "name": "stdout",
     "output_type": "stream",
     "text": [
      "number of brief data: 3255086\n",
      "number of duplicated brief data: 3255086\n",
      "File /data/lujd/TCRdata/otherpapers/epiTCR_woHLA.csv has been successfully saved.\n"
     ]
    }
   ],
   "source": [
    "# save\n",
    "print(f\"number of brief data: {len(processed_df)}\")\n",
    "\n",
    "processed_df = processed_df.drop_duplicates(ignore_index=True)\n",
    "print(f\"number of duplicated brief data: {len(processed_df)}\")\n",
    "\n",
    "savepath = to_your_path + \"TCRdata/otherpapers/\"\n",
    "savename = \"epiTCR_woHLA.csv\"\n",
    "save_csv(processed_df, savepath, savename)"
   ]
  }
 ],
 "metadata": {
  "kernelspec": {
   "display_name": "dock",
   "language": "python",
   "name": "python3"
  },
  "language_info": {
   "codemirror_mode": {
    "name": "ipython",
    "version": 3
   },
   "file_extension": ".py",
   "mimetype": "text/x-python",
   "name": "python",
   "nbconvert_exporter": "python",
   "pygments_lexer": "ipython3",
   "version": "3.9.18"
  },
  "orig_nbformat": 4
 },
 "nbformat": 4,
 "nbformat_minor": 2
}
